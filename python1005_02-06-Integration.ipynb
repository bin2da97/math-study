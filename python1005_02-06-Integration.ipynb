{
 "cells": [
  {
   "cell_type": "markdown",
   "metadata": {},
   "source": [
    "# Introduction to Integration 적분의 소개\n",
    "\n",
    "적분은 미분읜 역함수 (inverse)\n",
    "적분을 이용하면 임의의 함수의 곡선 아래의 영역의 면적으로 계산해준다.\n",
    "적분의 사용범위는 다양하다.\n",
    "예를들어 양극 간사이의~....\n",
    "Integrals are the inverses of derivatives. More importantly, using integration provides a way to compute the area under the curve of most any function. There are many applications for integration. For example, if you need to compute a probability of some occurance between limits (which we'll discuss later in this course), then you will use an integral.\n",
    "\n",
    "Let's start with a simple function:\n",
    "\n",
    "$$f(x)=x$$\n",
    "\n",
    "We can plot this function as a line. Run the code below to plot the function for the range 0 to 10:"
   ]
  },
  {
   "cell_type": "code",
   "execution_count": 1,
   "metadata": {},
   "outputs": [
    {
     "data": {
      "image/png": "[encoded data removed]",
      "text/plain": [
       "<Figure size 640x480 with 1 Axes>"
      ]
     },
     "metadata": {},
     "output_type": "display_data"
    }
   ],
   "source": [
    "import numpy as np\n",
    "from matplotlib import pyplot as plt\n",
    "%matplotlib inline\n",
    "\n",
    "# Define function f\n",
    "def f(x):\n",
    "    return x\n",
    "\n",
    "# Create an array of x values from 0 to 10\n",
    "x = range(0, 11)\n",
    "\n",
    "# Get the corresponding y values from the function\n",
    "y = [f(a) for a in x]\n",
    "\n",
    "# Set up the plot\n",
    "plt.xlabel('x')\n",
    "plt.ylabel('f(x)')\n",
    "plt.grid()\n",
    "\n",
    "# Plot x against f(x)\n",
    "plt.plot(x,y, color='purple')\n",
    "\n",
    "plt.show()"
   ]
  },
  {
   "cell_type": "markdown",
   "metadata": {},
   "source": [
    "$$\n",
    "    \\lim_{n \\rightarrow \\infty} (\\sum_{k=1}^{n} f(a+k \\frac{b-a}{n}))\\frac{b-a}{n}\n",
    "$$"
   ]
  },
  {
   "cell_type": "markdown",
   "metadata": {},
   "source": [
    "$$\n",
    "    \\lim_{n \\rightarrow \\infty} \\sum_{k=1}^{n} f(a+k \\frac{b-a}{n})\\frac{b-a}{n}\n",
    "$$"
   ]
  },
  {
   "cell_type": "code",
   "execution_count": 2,
   "metadata": {},
   "outputs": [],
   "source": [
    "def integrate_1(f,a,b,n=10000):\n",
    "    delta_x=(b-a)/n\n",
    "    result=0.0\n",
    "    for k in range(1,n):\n",
    "        x_k = a+k*delta_x\n",
    "        result+=f(x_k) #함수값(높이)를 다 더하고 마지막으로 delta(밑변)을 곱한다\n",
    "        #곱하는 횟수는 줄지만 정확도 떨어짐. 아주 작은값이므로 무시해도된다.\n",
    "    result *= delta_x\n",
    "    return result"
   ]
  },
  {
   "cell_type": "code",
   "execution_count": 3,
   "metadata": {},
   "outputs": [],
   "source": [
    "def integrate_2(f,a,b,n=10000):\n",
    "    delta_x=(b-a)/n\n",
    "    result=0.0\n",
    "    for k in range(1,n):\n",
    "        x_k = a+k*delta_x\n",
    "        result+=f(x_k)*delta_x #밑변과 높이를 곱하면 직사각형의 면적\n",
    "    return result"
   ]
  },
  {
   "cell_type": "code",
   "execution_count": 4,
   "metadata": {},
   "outputs": [
    {
     "data": {
      "text/plain": [
       "32.66326668"
      ]
     },
     "execution_count": 4,
     "metadata": {},
     "output_type": "execute_result"
    }
   ],
   "source": [
    "integrate_1(lambda x:x**2,3,5)"
   ]
  },
  {
   "cell_type": "code",
   "execution_count": 9,
   "metadata": {
    "scrolled": true
   },
   "outputs": [
    {
     "data": {
      "text/plain": [
       "32.66326668000007"
      ]
     },
     "execution_count": 9,
     "metadata": {},
     "output_type": "execute_result"
    }
   ],
   "source": [
    "nogada=integrate_2(lambda x:x**2,3,5)\n",
    "nogada"
   ]
  },
  {
   "cell_type": "code",
   "execution_count": 7,
   "metadata": {},
   "outputs": [],
   "source": [
    "def f(x): return x**2"
   ]
  },
  {
   "cell_type": "code",
   "execution_count": 8,
   "metadata": {},
   "outputs": [
    {
     "data": {
      "text/latex": [
       "$\\displaystyle \\text{True}$"
      ],
      "text/plain": [
       "True"
      ]
     },
     "execution_count": 8,
     "metadata": {},
     "output_type": "execute_result"
    }
   ],
   "source": [
    "import sympy as sp\n",
    "x=sp.symbols('x')\n",
    "abs(sp.integrate(f(x),(x,3,5))-nogada)<0.1"
   ]
  },
  {
   "cell_type": "markdown",
   "metadata": {},
   "source": [
    "## Performing Integration 적분 수행\n",
    "\n",
    "The *integral* of a function is the area under it - in this case, the area under the purple diagonal line down to the x-axis.\n",
    "\n",
    "So how do you find the integral of a function? well, for our simple function $f(x) = x$, the formula for an integral is written as follows:\n",
    "\n",
    "$$\\int f(x)\\;dx$$\n",
    "\n",
    "The $\\int$ symbol shows that this formula is an integral.<br>\n",
    "The $dx$는 $x$ variable 로 적분 의미. <br>\n",
    "$dx$ = $\\lim_{\\Delta x \\rightarrow 0}$<br>\n",
    "Note that since $f(x) = x$, we could also write this integral formula as $\\int x\\;dx$\n",
    "\n",
    "So, what  is the integral of $x\\ dx$? <br>\n",
    "To answer this question, we need the *antiderivative* of ***f*** - in other words $f$의 출력과 일치하는 미분을 가지는 함수를 찾을 필요가 있다.<br>\n",
    "which is just $x$. Using the power rule in reverse, $x$의 미분이 $\\frac{1}{2} x^2$를 만족하는 함수\n",
    "\n",
    "So, *unbound* 는 적분구간이 있는 적분 정적분 $x$\n",
    "$$\\int f(x)\\;dx = \\frac{1}{2} x^2$$\n",
    "$$\\int x^{n} dx = \\frac {x^{n+1}}{n+1}$$"
   ]
  },
  {
   "cell_type": "markdown",
   "metadata": {},
   "source": [
    "## Integration between Limits\n",
    "\n",
    "Now that we have the unbound integral formula, we can use it to find the integral between specific start and end points. Let's suppose we want to find the area under the function between the $x$ values 0 and 2. In other words, the *integral* of $f$ for the range 0 to 2 with respect to $x$.\n",
    "\n",
    "Run the following code to re-plot the function and show the area we're interested in:"
   ]
  },
  {
   "cell_type": "code",
   "execution_count": null,
   "metadata": {},
   "outputs": [],
   "source": [
    "# Set up the plot\n",
    "plt.xlabel('x')\n",
    "plt.ylabel('f(x)')\n",
    "plt.grid()\n",
    "\n",
    "# Plot x against f(x)\n",
    "plt.plot(x,y, color='purple')\n",
    "\n",
    "# show area for integral\n",
    "section = np.arange(0, 2, 1/20)\n",
    "plt.fill_between(section,f(section), color='orange')\n",
    "\n",
    "plt.show()"
   ]
  },
  {
   "cell_type": "markdown",
   "metadata": {},
   "source": [
    "We call the start and end point the **limits** of the integral. The lower limit is placed as a subscript of the integral sign. The upper limit is placed as a superscript of the integral sign. Using this notation the integral of $f(x)$ from $0$ to $2$ is written as follows:\n",
    "\n",
    "$$\\int_0^2 f(x)\\;dx$$\n",
    "\n",
    "The integral is evaluated by subtracting the value of the integrand at the lower limit from the integrand at the upper limit; and since we know the formula based on our antiderivative function, the integral can be evaluated in the following manner.\n",
    "\n",
    "$$\\int_0^2 f(x)\\;dx\\\\ = \\frac{1}{2} x^2\\ \\big|_0^2\\\\\n",
    "= \\frac{1}{2} 2^2 - \\frac{1}{2} 0^2\\\\\n",
    "= \\frac{4}{2} - \\frac{0}{2} x^2\\\\ = 2$$"
   ]
  },
  {
   "cell_type": "markdown",
   "metadata": {},
   "source": [
    "Execute the code in the cell below and verify that the result returned by the ***scipy.integrate.quad*** function in Python is approximately the same as we computed analytically. "
   ]
  },
  {
   "cell_type": "markdown",
   "metadata": {},
   "source": [
    "$$ \\int_{2}^{4}(3x^3+6x^2+7)dx $$"
   ]
  },
  {
   "cell_type": "code",
   "execution_count": 12,
   "metadata": {},
   "outputs": [
    {
     "data": {
      "text/plain": [
       "305.9650004399995"
      ]
     },
     "execution_count": 12,
     "metadata": {},
     "output_type": "execute_result"
    }
   ],
   "source": [
    "fn=lambda x: 3*x**3+6*x**2+7\n",
    "inte1=integrate_1(fn,2,4,n=10000)\n",
    "inte1"
   ]
  },
  {
   "cell_type": "code",
   "execution_count": 16,
   "metadata": {},
   "outputs": [
    {
     "name": "stdout",
     "output_type": "stream",
     "text": [
      "306\n"
     ]
    },
    {
     "data": {
      "text/latex": [
       "$\\displaystyle \\text{True}$"
      ],
      "text/plain": [
       "True"
      ]
     },
     "execution_count": 16,
     "metadata": {},
     "output_type": "execute_result"
    }
   ],
   "source": [
    "def f(x): return 3*x**3+6*x**2+7\n",
    "print(sp.integrate(f(x),(x,2,4)))\n",
    "abs(sp.integrate(f(x),(x,2,4))-inte1)<0.1\n"
   ]
  },
  {
   "cell_type": "code",
   "execution_count": 24,
   "metadata": {},
   "outputs": [
    {
     "data": {
      "text/plain": [
       "[130.6526667600004,\n",
       " -1.6659929375342044,\n",
       " -1.3720455473658464,\n",
       " 0.03682613004631912]"
      ]
     },
     "execution_count": 24,
     "metadata": {},
     "output_type": "execute_result"
    }
   ],
   "source": [
    "import numpy as np\n",
    "fns=[lambda x:x**2+6*x**2,lambda x:np.cos(x),lambda x:np.sin(x)*x**2,lambda x:np.sin(x)*x*np.cos(x)]\n",
    "\n",
    "intg_list=[]\n",
    "for fn in fns:\n",
    "    intg_list.append(integrate_1(fn,2,4,n=10000))\n",
    "intg_list"
   ]
  },
  {
   "cell_type": "code",
   "execution_count": null,
   "metadata": {},
   "outputs": [],
   "source": [
    "import scipy.integrate as integrate\n",
    "i, e = integrate.quad(lambda x: f(x), 0, 2)\n",
    "print (i)"
   ]
  },
  {
   "cell_type": "markdown",
   "metadata": {},
   "source": [
    "## Another Integral\n",
    "\n",
    "Here is another example for a slightly more complex function. What is the area under the curve of the function $3x^2 + 2x + 1$ between $0$ and $3$?\n",
    "\n",
    "let's look at that function and the area in question:"
   ]
  },
  {
   "cell_type": "code",
   "execution_count": null,
   "metadata": {},
   "outputs": [],
   "source": [
    "import numpy as np\n",
    "from matplotlib import pyplot as plt\n",
    "from matplotlib.patches import Polygon\n",
    "%matplotlib inline\n",
    "\n",
    "# Define function g\n",
    "def g(x):\n",
    "    return 3 * x**2 + 2 * x + 1\n",
    "\n",
    "# Create an array of x values from 0 to 10\n",
    "x = range(0, 11)\n",
    "\n",
    "# Get the corresponding y values from the function\n",
    "y = [g(a) for a in x]\n",
    "\n",
    "# Set up the plot\n",
    "fig, ax = plt.subplots()\n",
    "plt.xlabel('x')\n",
    "plt.ylabel('f(x)')\n",
    "plt.grid()\n",
    "\n",
    "# Plot x against g(x)\n",
    "plt.plot(x,y, color='purple')\n",
    "\n",
    "# Make the shaded region\n",
    "ix = np.linspace(0, 3)\n",
    "iy = g(ix)\n",
    "verts = [(0, 0)] + list(zip(ix, iy)) + [(3, 0)]\n",
    "poly = Polygon(verts, facecolor='orange')\n",
    "ax.add_patch(poly)\n",
    "\n",
    "plt.show()"
   ]
  },
  {
   "cell_type": "markdown",
   "metadata": {},
   "source": [
    "We can evaluate this integral just as before, this time using function:\n",
    "\n",
    "$$\\int_0^3 3x^2 + 2x + 1\\;dx$$ \n",
    "\n",
    "We can calculate the antiderivative of $3x^2 + 2x + 1\\;dx$ as $\\frac{3}{3} x^3 + \\frac{2}{2} x^2 + x$, so:\n",
    "\n",
    "$$\\int_0^3= \\frac{3}{3} x^3 + \\frac{2}{2} x^2 + x\\ \\big|_0^3\\\\\n",
    "= \\frac{3}{3} 3^3 + \\frac{2}{2} 3^2 + 3 - \\frac{3}{3} 0^3 - \\frac{2}{2} 0^2 + 0\\\\\n",
    "= 27 + 9 + 3 + 0 + 0 + 0\\\\\n",
    "= 39$$\n",
    "\n",
    "Now, execute the code in the cell below to verify the result:"
   ]
  },
  {
   "cell_type": "code",
   "execution_count": null,
   "metadata": {},
   "outputs": [],
   "source": [
    "i, e = integrate.quad(lambda x: 3 * x**2 + 2 * x + 1, 0, 3)\n",
    "print(i)"
   ]
  },
  {
   "cell_type": "markdown",
   "metadata": {},
   "source": [
    "Note that the result from the ***scipy.integrate.quad*** function is approximate - the function actually returns an estimated integral (*i* in this case) and also a measure of absolute error (*e*). Run the following code to see what the absolute error was in this case:"
   ]
  },
  {
   "cell_type": "code",
   "execution_count": null,
   "metadata": {},
   "outputs": [],
   "source": [
    "print(e)"
   ]
  },
  {
   "cell_type": "markdown",
   "metadata": {},
   "source": [
    "The absolute error in this case is extremely small (around $4.3 \\times 10^{-13}$).\n",
    "\n",
    "## Infinite limits\n",
    "\n",
    "In many cases the limits of an integral can be $+/- \\infty$. Perhaps suprisingly, this situation is not really a problem if the function being integrated converges to $0$ at the infinite limit. \n",
    "\n",
    "Here is an example. The function $e^{-5x} \\rightarrow 0$ as $x \\rightarrow \\infty$. Therefore, the integral of this function from some limit to $\\infty$. This integral can be written as follows:\n",
    "\n",
    "$$\\int^{\\infty}_0 e^{-5x} dx$$\n",
    "\n",
    "The code in the cell below computes this integral numerically."
   ]
  },
  {
   "cell_type": "code",
   "execution_count": null,
   "metadata": {},
   "outputs": [],
   "source": [
    "import numpy as np\n",
    "i, e = integrate.quad(lambda x: np.exp(-x*5), 0, np.inf)\n",
    "\n",
    "print('Integral: ' + str(i))\n",
    "print('Absolute Error: ' + str(e))"
   ]
  },
  {
   "cell_type": "markdown",
   "metadata": {},
   "source": [
    "This integral converges to a small number with a much smaller error estimate. \n",
    "\n",
    "Here is another example that illustrates why having infinite integration limits is so useful. When computing probabilities it is often necessary to have infinite limits. Don't worry too much about the details of probability theory. This is covered in a later lesson. \n",
    "\n",
    "A Normal distribution with zero mean and a standard deviation of $1$ has the following density function:\n",
    "\n",
    "$$\\frac{1}{2 \\pi} e^{\\frac{-x^2}{\\sqrt(2 \\pi)}}$$\n",
    "\n",
    "It makes sense that the integral of this probability density function from $-\\infty$ to $\\infty$ must be $1.0$. In other words the probability of a Normally distributed event ocurring at all possible values must be $1.0$. \n",
    "\n",
    "The code in the cell below computes the following integral:\n",
    "\n",
    "$$\\int_{-\\infty}^{\\infty} \\frac{1}{2 \\pi} e^{\\frac{-x^2}{\\sqrt(2 \\pi)}} dx$$\n",
    "\n",
    "Execute this code and verify that the result is approximately $1.0$."
   ]
  },
  {
   "cell_type": "code",
   "execution_count": null,
   "metadata": {},
   "outputs": [],
   "source": [
    "import numpy as np\n",
    "norms = lambda x: np.exp(-x**2/2.0)/np.sqrt(2.0 * 3.14159)\n",
    "i, e = integrate.quad(norms, -np.inf, np.inf)\n",
    "\n",
    "print('Integral: ' + str(i))\n",
    "print('Absolute Error: ' + str(e))"
   ]
  },
  {
   "cell_type": "code",
   "execution_count": null,
   "metadata": {},
   "outputs": [],
   "source": []
  }
 ],
 "metadata": {
  "anaconda-cloud": {},
  "kernelspec": {
   "display_name": "Python 3 (ipykernel)",
   "language": "python",
   "name": "python3"
  },
  "language_info": {
   "codemirror_mode": {
    "name": "ipython",
    "version": 3
   },
   "file_extension": ".py",
   "mimetype": "text/x-python",
   "name": "python",
   "nbconvert_exporter": "python",
   "pygments_lexer": "ipython3",
   "version": "3.10.9"
  }
 },
 "nbformat": 4,
 "nbformat_minor": 1
}
