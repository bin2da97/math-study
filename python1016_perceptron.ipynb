{
 "cells": [
  {
   "cell_type": "markdown",
   "id": "21fc3dc9",
   "metadata": {},
   "source": [
    "<img src='image/and.JPG'/>"
   ]
  },
  {
   "cell_type": "markdown",
   "id": "11a43c65",
   "metadata": {},
   "source": [
    "<img src='image/or.JPG'/>"
   ]
  },
  {
   "cell_type": "code",
   "execution_count": 1,
   "id": "0e1f89c7",
   "metadata": {},
   "outputs": [],
   "source": [
    "import numpy as np"
   ]
  },
  {
   "cell_type": "code",
   "execution_count": 2,
   "id": "3bd11389",
   "metadata": {},
   "outputs": [],
   "source": [
    "def AND(x1, x2):\n",
    "    x=np.array([x1,x2])\n",
    "    w=np.array([0.5, 0.5])\n",
    "    b=-0.7\n",
    "    tmp=np.sum(w*x) +b\n",
    "    if tmp<=0:\n",
    "        return 0\n",
    "    else: return 1"
   ]
  },
  {
   "cell_type": "code",
   "execution_count": 23,
   "id": "a555d054",
   "metadata": {},
   "outputs": [],
   "source": [
    "def OR(x1, x2):\n",
    "    x=np.array([x1,x2])\n",
    "    w=np.array([100, 100])\n",
    "    b=-30\n",
    "    tmp=np.sum(w*x) +b\n",
    "    if tmp<=0:\n",
    "        return 0\n",
    "    else: return 1"
   ]
  },
  {
   "cell_type": "code",
   "execution_count": 16,
   "id": "634d9222",
   "metadata": {},
   "outputs": [
    {
     "name": "stdout",
     "output_type": "stream",
     "text": [
      "(0, 0)->0\n",
      "(1, 0)->0\n",
      "(0, 1)->0\n",
      "(1, 1)->1\n"
     ]
    }
   ],
   "source": [
    "for xs in [(0,0),(1,0),(0,1),(1,1)]:\n",
    "    y=AND(xs[0], xs[1])\n",
    "    print(str(xs)+ \"->\"+str(y))"
   ]
  },
  {
   "cell_type": "code",
   "execution_count": 6,
   "id": "e820f5e9",
   "metadata": {},
   "outputs": [],
   "source": [
    "def OR(x1, x2):\n",
    "    x=np.array([x1,x2])\n",
    "    w=np.array([0.5, 0.5])\n",
    "    b=-0.2\n",
    "    tmp=np.sum(w*x) +b\n",
    "    if tmp<=0:\n",
    "        return 0\n",
    "    else: return 1"
   ]
  },
  {
   "cell_type": "code",
   "execution_count": 24,
   "id": "721a6ea2",
   "metadata": {},
   "outputs": [
    {
     "name": "stdout",
     "output_type": "stream",
     "text": [
      "(0, 0)->0\n",
      "(1, 0)->1\n",
      "(0, 1)->1\n",
      "(1, 1)->1\n"
     ]
    }
   ],
   "source": [
    "for xs in [(0,0),(1,0),(0,1),(1,1)]:\n",
    "    y=OR(xs[0], xs[1])\n",
    "    print(str(xs)+ \"->\"+str(y))"
   ]
  },
  {
   "cell_type": "markdown",
   "id": "6f247f44",
   "metadata": {},
   "source": [
    "<img src='image/nand.JPG'/>"
   ]
  },
  {
   "cell_type": "markdown",
   "id": "6a02f00c",
   "metadata": {},
   "source": [
    "<img src='image/xor.JPG'/>"
   ]
  },
  {
   "cell_type": "markdown",
   "id": "06cb5cdb",
   "metadata": {},
   "source": [
    "## NAND = AND를 NOT 취한것"
   ]
  },
  {
   "cell_type": "code",
   "execution_count": 56,
   "id": "60b7c488",
   "metadata": {},
   "outputs": [],
   "source": [
    "def NAND(x1, x2):\n",
    "    x=np.array([x1,x2])\n",
    "    w=np.array([100,100])\n",
    "    b=-170\n",
    "    tmp=np.sum(w*x) +b\n",
    "    if not tmp<=0:\n",
    "        return 0\n",
    "    else: return 1"
   ]
  },
  {
   "cell_type": "code",
   "execution_count": 57,
   "id": "7c720bd8",
   "metadata": {},
   "outputs": [
    {
     "name": "stdout",
     "output_type": "stream",
     "text": [
      "(0, 0)->1\n",
      "(1, 0)->1\n",
      "(0, 1)->1\n",
      "(1, 1)->0\n"
     ]
    }
   ],
   "source": [
    "for xs in [(0,0),(1,0),(0,1),(1,1)]:\n",
    "    y=NAND(xs[0], xs[1])\n",
    "    print(str(xs)+ \"->\"+str(y))"
   ]
  },
  {
   "cell_type": "markdown",
   "id": "0d0f91a1",
   "metadata": {},
   "source": [
    "## eXclusive OR=> 배타적 OR 서로 다를때 1"
   ]
  },
  {
   "cell_type": "code",
   "execution_count": 58,
   "id": "c35c17b2",
   "metadata": {},
   "outputs": [],
   "source": [
    "def XOR(x1, x2):\n",
    "    s1= NAND(x1, x2)\n",
    "    s2=OR(x1,x2)\n",
    "    y=AND(s1,s2)\n",
    "    return y"
   ]
  },
  {
   "cell_type": "code",
   "execution_count": 59,
   "id": "943bd7bf",
   "metadata": {},
   "outputs": [
    {
     "name": "stdout",
     "output_type": "stream",
     "text": [
      "(0, 0)->0\n",
      "(1, 0)->1\n",
      "(0, 1)->1\n",
      "(1, 1)->0\n"
     ]
    }
   ],
   "source": [
    "for xs in [(0,0),(1,0),(0,1),(1,1)]:\n",
    "    y=XOR(xs[0], xs[1])\n",
    "    print(str(xs)+ \"->\"+str(y))"
   ]
  },
  {
   "cell_type": "markdown",
   "id": "1be2aadb",
   "metadata": {},
   "source": [
    "<img src='image/xor2.JPG'/>"
   ]
  },
  {
   "cell_type": "markdown",
   "id": "b75ba062",
   "metadata": {},
   "source": [
    "## 이번장에서 배운 내용\n",
    "- 퍼셉트론은 입출력을 갖춘 알고리즘, 입력을 주면 정해진 규칙에 따른 값을 출력\n",
    "- 퍼셉트론은 가중치(weight)와 bias를 파라미터 (매개변수, theta)로 설정\n",
    "- 퍼셉트론은 AND, OR 게이트등의 논리회로표현\n",
    "- XOR게이트는 단층 퍼셉트론으로 표현불가\n",
    "- 2층 퍼셉트론을 이용하면 XOR구현가능\n",
    "- 단층퍼셉트론은 직선형영역만 표현할 수 있고 다층퍼셉트론은 비선형영역도 표현\n"
   ]
  },
  {
   "cell_type": "markdown",
   "id": "49f2d81c",
   "metadata": {},
   "source": [
    "<img src='image/xor3.JPG'/>"
   ]
  }
 ],
 "metadata": {
  "kernelspec": {
   "display_name": "Python 3 (ipykernel)",
   "language": "python",
   "name": "python3"
  },
  "language_info": {
   "codemirror_mode": {
    "name": "ipython",
    "version": 3
   },
   "file_extension": ".py",
   "mimetype": "text/x-python",
   "name": "python",
   "nbconvert_exporter": "python",
   "pygments_lexer": "ipython3",
   "version": "3.10.9"
  }
 },
 "nbformat": 4,
 "nbformat_minor": 5
}
