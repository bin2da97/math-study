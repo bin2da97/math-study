{
 "cells": [
  {
   "cell_type": "markdown",
   "id": "9abb0ddc",
   "metadata": {},
   "source": [
    "## 선형회귀(lineare regression)"
   ]
  },
  {
   "cell_type": "markdown",
   "id": "34818809",
   "metadata": {},
   "source": [
    "## feature (특징) =>\n",
    "$$ y =ax +b $$\n",
    "$$ 우리가 구하고자 하는것는 직선의 기울기(a) 와  y 절편(b) 구하고자 한다  $$ \n",
    "$$  (2 |  3)  => feature 는 2다  $$\n",
    "\n",
    "$$ 기울기(a)가 2이고  y절편(b)가 1이라고 하자  $$\n",
    "$$  2\\times 1 + 1   $$\n",
    "$$  2\\times 2 + 1  $$\n",
    "$$  2\\times 3 + 1  $$\n",
    "$$   J =(비용/COST/오차/에러) $$ \n",
    "$$  정답(y)와 모델에서 출력된 값(\\widehat{y})의 차이(error)를 \n",
    "제곱하고 제곱한 값을 학습데이터 전체를 다  더하고 그 데이터의\n",
    "갯수로 나눈값을 말함$$\n",
    "$$ 평균(mean)  $$ \n",
    "$$  제곱(square)  $$  \n",
    "$$  J =  MSE  $$ \n",
    "$$ a \\leftarrow a- \\alpha \\frac{\\partial J}{\\partial a} $$\n",
    "training data 중 데이터 하나가 공간의 점(벡터)이다.\n",
    "<table>\n",
    "    <tr>\n",
    "        <th>x1</th>\n",
    "        <th>x2</th>\n",
    "        <th>x3</th>\n",
    "        <th>x4</th>\n",
    "        <th>y(label,정답)</th>\n",
    "    </tr>\n",
    "    <tr>\n",
    "        <td>1</td>\n",
    "        <td>3</td>\n",
    "        <td>6</td>\n",
    "        <td>7</td>\n",
    "        <td>7</td>\n",
    "    </tr>\n",
    "    <tr>\n",
    "        <td>2</td>\n",
    "        <td>5</td>\n",
    "        <td>22</td>\n",
    "        <td>15</td>\n",
    "        <td>15</td>\n",
    "    </tr>\n",
    "    <tr>\n",
    "        <td>3</td>\n",
    "        <td>7</td>\n",
    "        <td>163</td>\n",
    "        <td>37</td>\n",
    "        <td>15</td>\n",
    "    </tr>\n",
    "    <tr>\n",
    "        <td>123</td>\n",
    "        <td>32</td>\n",
    "        <td>13</td>\n",
    "        <td>37</td>\n",
    "        <td>123</td>\n",
    "    </tr>\n",
    "    <tr>\n",
    "        <td>343</td>\n",
    "        <td>765</td>\n",
    "        <td>183</td>\n",
    "        <td>372</td>\n",
    "        <td>153</td>\n",
    "    </tr>\n",
    "</table>\n",
    "###  feature가 4개다 \n",
    "$$  y = w_{1}x_{1}+w_{2}x_{2}+w_{3}x_{3}+w_{4}x_{4}+b $$  \n",
    "$$ x_{1},x_{2},x_{3},x_{4} $$가 feature가 되고 y가 정답(label) \n",
    "$$ 우리가 찾고자 하는것은 뭘까?   $$\n",
    "(3,4,6,7 | 5)\n",
    "$$ 우리가 구하고자 하는 것은 w_{1}~w_{4}과 b(bias,y 절편) $$\n",
    "training data(학습) 데이터는 5개 이므로 5개의 점들과 $\\widehat{y}$ 과 거리의 제곱의 합을 5로 나눈 평균이 코스트(비용/에러/오차/손실/LOSS)이다.\n",
    "\n"
   ]
  },
  {
   "cell_type": "code",
   "execution_count": 1,
   "id": "170f768d",
   "metadata": {},
   "outputs": [],
   "source": [
    "import numpy as np\n",
    "import pandas as pd\n",
    "import matplotlib.pyplot as plt\n",
    "from sklearn.model_selection import train_test_split"
   ]
  },
  {
   "cell_type": "code",
   "execution_count": 2,
   "id": "372b0c19",
   "metadata": {},
   "outputs": [
    {
     "data": {
      "text/html": [
       "<div>\n",
       "<style scoped>\n",
       "    .dataframe tbody tr th:only-of-type {\n",
       "        vertical-align: middle;\n",
       "    }\n",
       "\n",
       "    .dataframe tbody tr th {\n",
       "        vertical-align: top;\n",
       "    }\n",
       "\n",
       "    .dataframe thead th {\n",
       "        text-align: right;\n",
       "    }\n",
       "</style>\n",
       "<table border=\"1\" class=\"dataframe\">\n",
       "  <thead>\n",
       "    <tr style=\"text-align: right;\">\n",
       "      <th></th>\n",
       "      <th>R&amp;D Spend</th>\n",
       "      <th>Administration</th>\n",
       "      <th>Marketing Spend</th>\n",
       "      <th>State</th>\n",
       "      <th>Profit</th>\n",
       "    </tr>\n",
       "  </thead>\n",
       "  <tbody>\n",
       "    <tr>\n",
       "      <th>0</th>\n",
       "      <td>165349.20</td>\n",
       "      <td>136897.80</td>\n",
       "      <td>471784.10</td>\n",
       "      <td>New York</td>\n",
       "      <td>192261.83</td>\n",
       "    </tr>\n",
       "    <tr>\n",
       "      <th>1</th>\n",
       "      <td>162597.70</td>\n",
       "      <td>151377.59</td>\n",
       "      <td>443898.53</td>\n",
       "      <td>California</td>\n",
       "      <td>191792.06</td>\n",
       "    </tr>\n",
       "    <tr>\n",
       "      <th>2</th>\n",
       "      <td>153441.51</td>\n",
       "      <td>101145.55</td>\n",
       "      <td>407934.54</td>\n",
       "      <td>Florida</td>\n",
       "      <td>191050.39</td>\n",
       "    </tr>\n",
       "  </tbody>\n",
       "</table>\n",
       "</div>"
      ],
      "text/plain": [
       "   R&D Spend  Administration  Marketing Spend       State     Profit\n",
       "0  165349.20       136897.80        471784.10    New York  192261.83\n",
       "1  162597.70       151377.59        443898.53  California  191792.06\n",
       "2  153441.51       101145.55        407934.54     Florida  191050.39"
      ]
     },
     "execution_count": 2,
     "metadata": {},
     "output_type": "execute_result"
    }
   ],
   "source": [
    "df = pd.read_csv(\"50_Startups.csv\")\n",
    "df[:3]"
   ]
  },
  {
   "cell_type": "code",
   "execution_count": 3,
   "id": "c9c3a8c4",
   "metadata": {},
   "outputs": [],
   "source": [
    "x=df.iloc[:,:-1].values #칼럼(열) 중에서 맨 오른쪽 데이터 제외(정답 제외?)\n",
    "y=df.iloc[:,-1].values #가장 오른쪽 데이터(정답)"
   ]
  },
  {
   "cell_type": "markdown",
   "id": "f1a3bfba",
   "metadata": {},
   "source": [
    "'State'칼럼이 서로 다른 이름의 'New York','Florida','California'을 가지고 있고\n",
    "데이터 형태(text 형태)를 숫자로 변화 시키고자 함\n",
    "첫번째 행이 State가 'New York'을 가지고 있다면 'New York' 칼럼만 1이 되고 나머지는\n",
    "0 되도록 함 (one hot encoding)"
   ]
  },
  {
   "cell_type": "markdown",
   "id": "48d503a1",
   "metadata": {},
   "source": [
    "<a href=\"https://needjarvis.tistory.com/565\">원핫코딩?<a/>"
   ]
  },
  {
   "cell_type": "markdown",
   "id": "af451b7f",
   "metadata": {},
   "source": [
    "<img src=\"2/one.png\">"
   ]
  },
  {
   "cell_type": "code",
   "execution_count": 4,
   "id": "0646c4ac",
   "metadata": {},
   "outputs": [],
   "source": [
    "from sklearn.compose import ColumnTransformer\n",
    "from sklearn.preprocessing import OneHotEncoder\n",
    "ct = ColumnTransformer(transformers=[('encoder', OneHotEncoder(), [3])], remainder='passthrough')\n",
    "x = np.array(ct.fit_transform(x))"
   ]
  },
  {
   "cell_type": "markdown",
   "id": "c9ce3c5e",
   "metadata": {},
   "source": [
    "### 데이터를 최소값에 빠르게 수렴하도록 하기 위해 원형 형태로 \n",
    "### 변형함"
   ]
  },
  {
   "cell_type": "code",
   "execution_count": 5,
   "id": "2e224760",
   "metadata": {},
   "outputs": [],
   "source": [
    "from sklearn.preprocessing import StandardScaler\n",
    "sc = StandardScaler()\n",
    "x=sc.fit_transform(x)"
   ]
  },
  {
   "cell_type": "markdown",
   "id": "353c462c",
   "metadata": {},
   "source": [
    "### 제공되는 excel 데이터를 학습 data와 test 데이터로 분리함"
   ]
  },
  {
   "cell_type": "code",
   "execution_count": 6,
   "id": "82a01f0f",
   "metadata": {},
   "outputs": [],
   "source": [
    "Xtrain, Xtest, Ytrain, Ytest = train_test_split( x, y, test_size = 0.3,random_state=42)"
   ]
  },
  {
   "cell_type": "code",
   "execution_count": 7,
   "id": "b6234a51",
   "metadata": {},
   "outputs": [],
   "source": [
    "def CostFunction(x,y,w,b):\n",
    "    cost = np.sum((((x.dot(w) + b) - y) ** 2) / (2*len(y)))\n",
    "    return cost"
   ]
  },
  {
   "cell_type": "markdown",
   "id": "f33811ba",
   "metadata": {},
   "source": [
    "$$  \\widehat{y} = w_{1}x_{1}+w_{2}x_{2}+w_{3}x_{3}+w_{4}x_{4}+b $$\n",
    "$$   MSE = \\frac{1}{n}\\sum_{i=1}^{n}(y-\\widehat{y})^{2} $$ "
   ]
  },
  {
   "cell_type": "markdown",
   "id": "5319271f",
   "metadata": {},
   "source": [
    "$$ \\widehat{y}= wx+b $$\n",
    "$$ J(비용/𝐶𝑂𝑆𝑇/오차/에러)=MSE = \\frac{1}{n}\\sum_{i=0}^{n}(y-\\widehat{y})^{2} $$\n",
    "$$ \\frac{\\partial J}{\\partial w} = -\\frac{2}{n}\\sum_{i=0}^{n}(y-\\widehat{y})x$$\n",
    "$$ \\frac{\\partial J}{\\partial b} = -\\frac{2}{n}\\sum_{i=0}^{n}(y-\\widehat{y})$$\n",
    "$$ w\\leftarrow w-\\alpha \\frac{\\partial J}{\\partial w} $$\n",
    "$$ b\\leftarrow b-\\alpha \\frac{\\partial J}{\\partial b} $$"
   ]
  },
  {
   "cell_type": "code",
   "execution_count": 8,
   "id": "6a8fe47f",
   "metadata": {},
   "outputs": [],
   "source": [
    "def GradientDescent(x, y, w, b, learning_rate, epochs):\n",
    "    cost_list = [0] * epochs\n",
    "   \n",
    "    for epoch in range(epochs):\n",
    "        z = x.dot(w) + b\n",
    "        loss = z - y\n",
    "        \n",
    "        weight_gradient = x.T.dot(loss) / len(y)\n",
    "        bias_gradient = np.sum(loss) / len(y)\n",
    "        \n",
    "        w = w - learning_rate*weight_gradient\n",
    "        b = b - learning_rate*bias_gradient\n",
    "  \n",
    "        cost = CostFunction(x, y, w, b)\n",
    "        cost_list[epoch] = cost\n",
    "        \n",
    "        if (epoch%(epochs/10)==0):\n",
    "            print(\"Cost is:\",cost)\n",
    "        \n",
    "    return w, b, cost_list"
   ]
  },
  {
   "cell_type": "code",
   "execution_count": 9,
   "id": "2d4339f6",
   "metadata": {
    "scrolled": true
   },
   "outputs": [
    {
     "name": "stdout",
     "output_type": "stream",
     "text": [
      "Cost is: 6704725988.3226\n",
      "Cost is: 40778219.620256975\n",
      "Cost is: 40777706.10122941\n",
      "Cost is: 40777706.0993053\n",
      "Cost is: 40777706.09930529\n",
      "Cost is: 40777706.09930529\n",
      "Cost is: 40777706.09930529\n",
      "Cost is: 40777706.09930529\n",
      "Cost is: 40777706.09930529\n",
      "Cost is: 40777706.09930529\n"
     ]
    }
   ],
   "source": [
    "w,b,c=GradientDescent(Xtrain,Ytrain,np.zeros(Xtrain.shape[1]),0,0.02,epochs=15000)"
   ]
  },
  {
   "cell_type": "code",
   "execution_count": 10,
   "id": "d45090c8",
   "metadata": {},
   "outputs": [
    {
     "data": {
      "text/plain": [
       "[<matplotlib.lines.Line2D at 0x1e8a1f1bf10>]"
      ]
     },
     "execution_count": 10,
     "metadata": {},
     "output_type": "execute_result"
    },
    {
     "data": {
      "image/png": "[encoded data removed]",
      "text/plain": [
       "<Figure size 640x480 with 1 Axes>"
      ]
     },
     "metadata": {},
     "output_type": "display_data"
    }
   ],
   "source": [
    "plt.plot(c)"
   ]
  },
  {
   "cell_type": "code",
   "execution_count": 11,
   "id": "36aadc84",
   "metadata": {},
   "outputs": [],
   "source": [
    "def predict(X, w, b):\n",
    "    return X.dot(w) + b\n",
    "y_pred = predict(Xtest, w, b)"
   ]
  },
  {
   "cell_type": "code",
   "execution_count": 12,
   "id": "8b55ff7e",
   "metadata": {},
   "outputs": [
    {
     "data": {
      "text/plain": [
       "0.9397108063355776"
      ]
     },
     "execution_count": 12,
     "metadata": {},
     "output_type": "execute_result"
    }
   ],
   "source": [
    "def r2score(y_pred, y):\n",
    "    rss = np.sum((y_pred - y) ** 2)\n",
    "    tss = np.sum((y-y.mean()) ** 2)\n",
    "    \n",
    "    r2 = 1 - (rss / tss)\n",
    "    return r2\n",
    "r2score(y_pred, Ytest)"
   ]
  }
 ],
 "metadata": {
  "kernelspec": {
   "display_name": "Python 3 (ipykernel)",
   "language": "python",
   "name": "python3"
  },
  "language_info": {
   "codemirror_mode": {
    "name": "ipython",
    "version": 3
   },
   "file_extension": ".py",
   "mimetype": "text/x-python",
   "name": "python",
   "nbconvert_exporter": "python",
   "pygments_lexer": "ipython3",
   "version": "3.10.9"
  }
 },
 "nbformat": 4,
 "nbformat_minor": 5
}
