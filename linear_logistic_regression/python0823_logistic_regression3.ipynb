{
 "cells": [
  {
   "cell_type": "code",
   "execution_count": 1,
   "id": "2f63f643",
   "metadata": {},
   "outputs": [],
   "source": [
    "from sklearn.datasets import make_moons"
   ]
  },
  {
   "cell_type": "code",
   "execution_count": 2,
   "id": "420c8e3a",
   "metadata": {},
   "outputs": [],
   "source": [
    "import matplotlib.pyplot as plt"
   ]
  },
  {
   "cell_type": "code",
   "execution_count": 3,
   "id": "8f4c72d5",
   "metadata": {},
   "outputs": [],
   "source": [
    "import numpy as np"
   ]
  },
  {
   "cell_type": "markdown",
   "id": "bcb11b83",
   "metadata": {},
   "source": [
    "## Hypothsis(가설)\n",
    "$$ \\frac{1}{1+e^{-(w \\cdot x+b)}} $$ "
   ]
  },
  {
   "cell_type": "code",
   "execution_count": 4,
   "id": "b193a796",
   "metadata": {},
   "outputs": [],
   "source": [
    "def sigmoid (z): #-(w*x+b) wx(내적) + b\n",
    "    return 1.0/(1+ np.exp(-z))\n"
   ]
  },
  {
   "cell_type": "markdown",
   "id": "a49f8ba0",
   "metadata": {},
   "source": [
    "##  손실(Loss)/Cost(비용) 함수\n",
    "## logistic regression의 cost 함수 =  \n",
    "$$ j(W,b) = \\frac{1}{m}\\sum_{i=1}^{m}L(\\widehat{y}^{(i)},y^{(i)}) =\n",
    "   -\\frac{1}{m}\\sum_{i=1}^{m}[y^{(i)}log(\\widehat{y}^{(i)} + (l-y^{(i)})log(1-\\widehat{y}^{(i)})]\n",
    "$$"
   ]
  },
  {
   "cell_type": "code",
   "execution_count": 5,
   "id": "9df875d1",
   "metadata": {},
   "outputs": [],
   "source": [
    "def loss(y, y_hat): #Cross Entropy Loss(y, y^hat)\n",
    "    loss = -np.mean(y*(np.log(y_hat)) - (1-y)*np.log(1-y_hat))\n",
    "    return loss"
   ]
  },
  {
   "cell_type": "markdown",
   "id": "8c2aa63d",
   "metadata": {},
   "source": [
    "## 경사 하강법(Gradient Descent)\n",
    "$$ w := w-lr \\cdot dw \\rightarrow lr = learning rate(학습율) $$\n",
    "$$ b := b-lr \\cdot dw \\rightarrow b=bais $$"
   ]
  },
  {
   "cell_type": "markdown",
   "id": "691d21df",
   "metadata": {},
   "source": [
    "## 미분 결과\n",
    "$$ dw = \\frac{1}{m} \\cdot (\\widehat{y}-y) \\cdot X $$\n",
    "$$ db = \\frac{1}{m} \\cdot (\\widehat{y}-y) $$ => Linear Regression의 MSE 미분과 동일"
   ]
  },
  {
   "cell_type": "code",
   "execution_count": 6,
   "id": "f59132f4",
   "metadata": {},
   "outputs": [],
   "source": [
    "def gradients(X, y, y_hat):\n",
    "    #x --->입력\n",
    "    #y --->  정답(target /label)\n",
    "    #y_hat ---> 가설(모델의 출력 ,hypothesis/예측치(prediction/추정))\n",
    "    #  w ---> weight (파라미터, theta / 우리가 구하고자 하는 값 )\n",
    "    # b ---> bias (파라미터 ,theta 0 )\n",
    "    \n",
    "    #m --->  학습(trainging ) 데이터의 갯수 \n",
    "    \n",
    "    m = X.shape[0]\n",
    "    \n",
    "    #Cost(Loss)를 weight로 미분함 \n",
    "    dw = (1/m)*np.dot(X.T , (y_hat-y))\n",
    "    \n",
    "    #Cost(Loss)를 bias로 미분함\n",
    "    db =  (1/m)*np.sum((y_hat-y))\n",
    "    \n",
    "    return dw , db"
   ]
  },
  {
   "cell_type": "markdown",
   "id": "b128819e",
   "metadata": {},
   "source": [
    "## 미분 결과\n",
    "$$ dw = \\frac{1}{m} \\cdot (\\widehat{y}-y) \\cdot X $$\n",
    "$$ db = \\frac{1}{m} \\cdot (\\widehat{y}-y) $$ => Linear Regression의 MSE 미분과 동일"
   ]
  },
  {
   "cell_type": "code",
   "execution_count": 7,
   "id": "c422fb63",
   "metadata": {},
   "outputs": [],
   "source": [
    "def plot_decision_boundary(X, w , b):\n",
    "    #X = 입력\n",
    "    #w = 가중치 \n",
    "    # b= bais\n",
    "    \n",
    "    # 직선 은  y =mx +c\n",
    "    #그래서 직선의 방정식  mx+ c = w.X + b  \n",
    "    #m과 c를 풀어라 \n",
    "    x1= [min(X[:,0 ]) , max(X[:,0])] # X[:,0 ] X의 모든행을 가져오고 0열 선택 \n",
    "    m= -w[0]/w[1]\n",
    "    c= -b/w[1]\n",
    "    x2= m*x1 +c\n",
    "    \n",
    "    #그림 그리기 plotting \n",
    "    fig = plt.figure(figsize=(10,8))\n",
    "    plt.plot(X[:,0][y==0], X[:,1][y==0],\"g^\")\n",
    "    plt.plot(X[:,0][y==1], X[:,1][y==1],\"bs\")\n",
    "    plt.xlim([-2,2]) #x 구간 지정 \n",
    "    plt.ylim([0,2.2]) #ylimit (y 구간지정)\n",
    "    plt.xlabel(\"feature 1\")\n",
    "    plt.ylabel(\"feature 2\")\n",
    "    plt.title(\"Decision Boundary\")\n",
    "    plt.plot(x1, x2 ,'y-')"
   ]
  },
  {
   "cell_type": "code",
   "execution_count": 8,
   "id": "fb75df6d",
   "metadata": {},
   "outputs": [],
   "source": [
    "def normalize(X):\n",
    "    #X <= 입력\n",
    "    #m <= training 개수\n",
    "    #n <= feature 의 갯수 (weight와  내적하는 것)\n",
    "    m, n = X.shape # (m,n ) m행 n열 \n",
    "    #X 행렬의 모든  n개의 feature들을 정규화함 \n",
    "    for i in range(n):\n",
    "        X = (X -X.mean(axis=0))/X.std(axis=0) \n",
    "        #어제 했던 수식(데이터와 평균의 차이를) 포준편차(standard deviation)으로 나눔\n",
    "    return X\n"
   ]
  },
  {
   "cell_type": "code",
   "execution_count": 9,
   "id": "4dc7b023",
   "metadata": {},
   "outputs": [],
   "source": [
    "# Train 함수\n",
    "##  이 함수에서 gradient descent를 반복하여 학습을 하고 weight 와 bais를 구함 \n",
    "def train(X ,y , bs, epochs ,lr): \n",
    "    # X<- 입력\n",
    "    # y <-  true/ target  \n",
    "    #epoch는 반복횟수 \n",
    "    #lr = learning rate(학습율)\n",
    "    \n",
    "    #m <- 학습데이터의 수 \n",
    "    #n <-  feature의 수 \n",
    "    \n",
    "    m,n =X.shape\n",
    "    # weight와 bias 초기화 \n",
    "    w=np.zeros((n,1))\n",
    "    b =0\n",
    "    # y를 reshape함(형태를 맞춤 )\n",
    "    y = y.reshape(m,1)\n",
    "    #입력 데이터  normalize \n",
    "    x= normalize(X)\n",
    "    #LOSS를 저장하기 위한 빈 LIST 생성 \n",
    "    losses =[]\n",
    "    # 학습 \n",
    "    for epoch in range(epochs):\n",
    "        for i in range((m-1)//bs +1):\n",
    "            #batch 정의 , SGD(Stocastric(통계적0) Gradient Descent)\n",
    "            start_i = i*bs#bs (배치 사이즈 )\n",
    "            end_i = start_i +bs\n",
    "            xb = X[start_i:end_i]\n",
    "            yb= y[start_i:end_i]\n",
    "            \n",
    "            #hypothesis /예측 계산 \n",
    "            y_hat = sigmoid(np.dot(xb,w ) +b)\n",
    "            #loss를 파라미터로 미분\n",
    "            dw, db = gradients(xb, yb, y_hat)\n",
    "            #파라미터 갱신\n",
    "            w-= lr*dw\n",
    "            b -= lr*db\n",
    "        l= loss(y, sigmoid(np.dot(X,w) +b))\n",
    "        losses.append(l)\n",
    "    #weight와 bias, loss 반환 \n",
    "    return w,b, losses\n"
   ]
  },
  {
   "cell_type": "code",
   "execution_count": 10,
   "id": "939832a3",
   "metadata": {},
   "outputs": [],
   "source": [
    "# 예측 함수 \n",
    "def predict(X):\n",
    "    #X<-입력\n",
    "    #입력 데이터  normalize\n",
    "    x = normalize(X)\n",
    "    \n",
    "    #예측 /추정치/ y_hat 계산\n",
    "    preds =sigmoid(np.dot(X,w)+b)\n",
    "    #예측 데이터 저장 리스트 생성 \n",
    "    pred_class=[]\n",
    "    #y_hat>=0.5 ->  1로 결과를 출력 \n",
    "    #y_hat<0.5 ->  0 결과를 출력\n",
    "    pred_class=[1 if i >0.5 else 0 for i in preds]\n",
    "    return np.array(pred_class)"
   ]
  },
  {
   "cell_type": "markdown",
   "id": "4bb831b5",
   "metadata": {},
   "source": [
    "## 미분의 정의\n",
    "$$ \\lim_{h\\rightarrow 0} \\frac{f(x+h)-f(x)}{h} $$"
   ]
  },
  {
   "cell_type": "code",
   "execution_count": 11,
   "id": "28a0ffe4",
   "metadata": {},
   "outputs": [],
   "source": [
    "def derivative(f, x):\n",
    "    h=0.00001\n",
    "    return (f(x+h)-f(x))/h"
   ]
  },
  {
   "cell_type": "code",
   "execution_count": 12,
   "id": "96daa28b",
   "metadata": {
    "scrolled": true
   },
   "outputs": [
    {
     "data": {
      "image/png": "[encoded data removed]",
      "text/plain": [
       "<Figure size 1000x800 with 1 Axes>"
      ]
     },
     "metadata": {},
     "output_type": "display_data"
    }
   ],
   "source": [
    "# 학습\n",
    "X, y =make_moons(n_samples=100, noise=0.24)\n",
    "w, b, l = train(X,y, bs =100, epochs= 1000, lr= 0.01)\n",
    "#그림 그리기\n",
    "plot_decision_boundary(X,w,b)"
   ]
  },
  {
   "cell_type": "code",
   "execution_count": 16,
   "id": "3e888776",
   "metadata": {},
   "outputs": [
    {
     "data": {
      "text/plain": [
       "(10,)"
      ]
     },
     "execution_count": 16,
     "metadata": {},
     "output_type": "execute_result"
    }
   ],
   "source": [
    "y_hat=np.array(X[:10][:,0])\n",
    "np.shape(X_)"
   ]
  },
  {
   "cell_type": "code",
   "execution_count": 17,
   "id": "951696c5",
   "metadata": {},
   "outputs": [
    {
     "data": {
      "text/plain": [
       "[8, 2, 2, 8, 7, 7, 4, 5, 7, 3]"
      ]
     },
     "execution_count": 17,
     "metadata": {},
     "output_type": "execute_result"
    }
   ],
   "source": [
    "y_true=[np.random.randint(10) for i in range(10)]\n",
    "y_true"
   ]
  },
  {
   "cell_type": "markdown",
   "id": "57f24f0e",
   "metadata": {},
   "source": [
    "##  손실(Loss)/Cost(비용) 함수\n",
    "## logistic regression의 cost 함수 =  \n",
    "$$ j(W,b) = \\frac{1}{m}\\sum_{i=1}^{m}L(\\widehat{y}^{(i)},y^{(i)}) =\n",
    "   -\\frac{1}{m}\\sum_{i=1}^{m}[y^{(i)}log(\\widehat{y}^{(i)}) + (1-y^{(i)})log(1-\\widehat{y}^{(i)})]\n",
    "$$"
   ]
  },
  {
   "cell_type": "code",
   "execution_count": 18,
   "id": "41e6a796",
   "metadata": {},
   "outputs": [
    {
     "data": {
      "text/plain": [
       "-4.113704605776726"
      ]
     },
     "execution_count": 18,
     "metadata": {},
     "output_type": "execute_result"
    }
   ],
   "source": [
    "y_true[0]*np.log(np.abs(y_hat[0])) + (1-y_true[0])*np.log(np.abs(1-y_hat[0])) "
   ]
  },
  {
   "cell_type": "code",
   "execution_count": 23,
   "id": "24fff580",
   "metadata": {},
   "outputs": [
    {
     "data": {
      "text/plain": [
       "1.7263032795647297"
      ]
     },
     "execution_count": 23,
     "metadata": {},
     "output_type": "execute_result"
    }
   ],
   "source": [
    "result=0\n",
    "for idx,i in enumerate (y_true):\n",
    "    result+=i*np.log(np.abs(y_hat[idx]))+ (1-i)*np.log(np.abs(1-y_hat[idx]))\n",
    "-result/10"
   ]
  },
  {
   "cell_type": "code",
   "execution_count": 25,
   "id": "a3d9db9c",
   "metadata": {},
   "outputs": [
    {
     "name": "stdout",
     "output_type": "stream",
     "text": [
      "8 -1.1849052871748125\n",
      "2 -0.10525898507370823\n",
      "2 0.01665465497140399\n",
      "8 -1.2481697205390998\n",
      "7 0.8267769276097579\n",
      "7 0.2898574235198267\n",
      "4 0.6894265559676123\n",
      "5 0.6232529179769674\n",
      "7 2.1460851078250966\n",
      "3 0.0871752107607511\n"
     ]
    },
    {
     "data": {
      "text/plain": [
       "1.7263032795647297"
      ]
     },
     "execution_count": 25,
     "metadata": {},
     "output_type": "execute_result"
    }
   ],
   "source": [
    "cross_entropy=0\n",
    "for i,j in zip(y_true,y_hat):\n",
    "    print(i,j)\n",
    "    cross_entropy += i*np.log(np.abs(j))+(1-i)*np.log(np.abs(1-j))\n",
    "count = len(y_true)\n",
    "-cross_entropy/count"
   ]
  },
  {
   "cell_type": "code",
   "execution_count": 15,
   "id": "6c04d4e1",
   "metadata": {},
   "outputs": [
    {
     "name": "stdout",
     "output_type": "stream",
     "text": [
      "X (300, 2)\n",
      "X (300,)\n",
      "start:  0 , end 15 , epoch :  0\n",
      "start:  15 , end 30 , epoch :  0\n",
      "start:  0 , end 15 , epoch :  1\n",
      "start:  15 , end 30 , epoch :  1\n",
      "start:  0 , end 15 , epoch :  2\n",
      "start:  15 , end 30 , epoch :  2\n",
      "start:  0 , end 15 , epoch :  3\n",
      "start:  15 , end 30 , epoch :  3\n",
      "start:  0 , end 15 , epoch :  4\n",
      "start:  15 , end 30 , epoch :  4\n",
      "start:  0 , end 15 , epoch :  5\n",
      "start:  15 , end 30 , epoch :  5\n",
      "start:  0 , end 15 , epoch :  6\n",
      "start:  15 , end 30 , epoch :  6\n",
      "start:  0 , end 15 , epoch :  7\n",
      "start:  15 , end 30 , epoch :  7\n",
      "start:  0 , end 15 , epoch :  8\n",
      "start:  15 , end 30 , epoch :  8\n",
      "start:  0 , end 15 , epoch :  9\n",
      "start:  15 , end 30 , epoch :  9\n"
     ]
    }
   ],
   "source": [
    "X,y = make_moons(n_samples=300,noise=0.24)\n",
    "print('X',np.shape(X)) # 데이터 (100행 2열 행렬)\n",
    "print('X',np.shape(y)) # 데이터 (100행 벡터)\n",
    "# 학습 \n",
    "bs=15\n",
    "m=20\n",
    "for epoch in range(10):\n",
    "    for i in range((m-1)//bs +1):\n",
    "        #batch 정의 , SGD(Stocastric(통계적0) Gradient Descent)\n",
    "        start_i = i*bs#bs (배치 사이즈 )\n",
    "        end_i = start_i +bs\n",
    "        xb = X[start_i:end_i]\n",
    "        yb= y[start_i:end_i]\n",
    "        print('start: ',start_i,', end',end_i,', epoch : ',epoch)"
   ]
  },
  {
   "cell_type": "code",
   "execution_count": null,
   "id": "b9b49863",
   "metadata": {},
   "outputs": [],
   "source": []
  }
 ],
 "metadata": {
  "kernelspec": {
   "display_name": "Python 3 (ipykernel)",
   "language": "python",
   "name": "python3"
  },
  "language_info": {
   "codemirror_mode": {
    "name": "ipython",
    "version": 3
   },
   "file_extension": ".py",
   "mimetype": "text/x-python",
   "name": "python",
   "nbconvert_exporter": "python",
   "pygments_lexer": "ipython3",
   "version": "3.10.9"
  }
 },
 "nbformat": 4,
 "nbformat_minor": 5
}
