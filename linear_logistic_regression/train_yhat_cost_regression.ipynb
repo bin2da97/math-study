{
 "cells": [
  {
   "cell_type": "code",
   "execution_count": 1,
   "id": "a342f607",
   "metadata": {},
   "outputs": [],
   "source": [
    "import numpy as np"
   ]
  },
  {
   "cell_type": "code",
   "execution_count": 2,
   "id": "83d8223c",
   "metadata": {},
   "outputs": [],
   "source": [
    "x_train=np.array([[2,3],[3,2],[1,2],[-1,-2],[2,3],[3,4]])\n",
    "x_train.shape\n",
    "y_train = np.array([\n",
    "    [4],\n",
    "    [-12],\n",
    "    [3],\n",
    "    [-11],\n",
    "    [-5],\n",
    "    [-17]\n",
    "])"
   ]
  },
  {
   "cell_type": "code",
   "execution_count": 3,
   "id": "bfbbb252",
   "metadata": {
    "scrolled": true
   },
   "outputs": [
    {
     "name": "stdout",
     "output_type": "stream",
     "text": [
      "[361.         396.66666667 212.66666667  63.33333333 361.\n",
      " 559.33333333]\n",
      "[ 92.00521956 289.41193956 116.98569956 116.98569956  92.00521956\n",
      "  74.27517156]\n",
      "[ 92.00521956 289.41193956 116.98569956 116.98569956  92.00521956\n",
      "  74.27517156]\n",
      "[ 92.00521956 289.41193956 116.98569956 116.98569956  92.00521956\n",
      "  74.27517156]\n",
      "[ 92.00521956 289.41193955 116.98569956 116.98569956  92.00521956\n",
      "  74.27517156]\n"
     ]
    }
   ],
   "source": [
    "w_1=3\n",
    "w_2=2\n",
    "b_=-1\n",
    "\n",
    "for i in range(50000):\n",
    "    #print('a:',w_1,x_train.T[0],w_2,x_train.T[1],b_) 정상\n",
    "    y_hat = w_1*x_train.T[0]+w_2*x_train.T[1]+b_\n",
    "    n=len(x_train)\n",
    "    Dj_dw1 = -1/(2*n)*sum(np.dot(x_train.T[0],(y_train - y_hat)))  \n",
    "    Dj_dw2 = -1/(2*n)*sum(np.dot(x_train.T[1],(y_train - y_hat)))  \n",
    "    D_b = -1/(2*n)*sum(y_train - y_hat)  \n",
    "    \n",
    "    w_1 = w_1 - 0.01 * Dj_dw1\n",
    "    w_2 = w_2 - 0.01 * Dj_dw2\n",
    "    b_ = b_ - 0.01 * D_b\n",
    "    \n",
    "    c_ = (1/n)*sum((y_train - y_hat)**2)\n",
    "    if i %10000==0:\n",
    "        print(c_)"
   ]
  }
 ],
 "metadata": {
  "kernelspec": {
   "display_name": "Python 3 (ipykernel)",
   "language": "python",
   "name": "python3"
  },
  "language_info": {
   "codemirror_mode": {
    "name": "ipython",
    "version": 3
   },
   "file_extension": ".py",
   "mimetype": "text/x-python",
   "name": "python",
   "nbconvert_exporter": "python",
   "pygments_lexer": "ipython3",
   "version": "3.10.9"
  }
 },
 "nbformat": 4,
 "nbformat_minor": 5
}
