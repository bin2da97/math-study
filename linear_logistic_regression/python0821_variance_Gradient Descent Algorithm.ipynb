{
 "cells": [
  {
   "cell_type": "markdown",
   "id": "42331a1c",
   "metadata": {},
   "source": [
    "$$  y = b_{1} x  + b_{0}  $$\n",
    "\n",
    "$$  b_{1} = 기울기 $$  \n",
    "\n",
    "$$  b_{0} = y절편  $$"
   ]
  },
  {
   "cell_type": "markdown",
   "id": "84e621b9",
   "metadata": {},
   "source": [
    "평균 (mean)은 총합을 갯수로 나눈 값"
   ]
  },
  {
   "cell_type": "code",
   "execution_count": 1,
   "id": "70e8432e",
   "metadata": {},
   "outputs": [],
   "source": [
    "def mean(values):\n",
    "    return sum(values) / float(len(values))"
   ]
  },
  {
   "cell_type": "code",
   "execution_count": 9,
   "id": "248d02ab",
   "metadata": {},
   "outputs": [],
   "source": [
    "def mean(x):\n",
    "    return sum(x)/len(x)"
   ]
  },
  {
   "cell_type": "markdown",
   "id": "e896a18e",
   "metadata": {},
   "source": [
    "$$  \\sum_{i=0}^{n} $$"
   ]
  },
  {
   "cell_type": "markdown",
   "id": "67732da9",
   "metadata": {},
   "source": [
    "분산은 $$  \\frac{\\sum_{i=0}^{n}({x_{i} - \\overline{x}})^2}{n}  $$\n",
    "\n",
    "$$  \\overline{x} = \\frac{\\sum_{i=0}^n{x_{i}}}{n} 는 전체 데이터의 평균   $$"
   ]
  },
  {
   "cell_type": "code",
   "execution_count": 2,
   "id": "f1a5e322",
   "metadata": {},
   "outputs": [],
   "source": [
    "def variance(values, mean):\n",
    "    return sum([(x-mean)**2 for x in values])"
   ]
  },
  {
   "cell_type": "code",
   "execution_count": 5,
   "id": "48fce127",
   "metadata": {},
   "outputs": [],
   "source": [
    "dataset = [[1,1], [2,3], [3,4], [4,5]]\n",
    "x = [row[0] for row in dataset]\n",
    "y = [row[1] for row in dataset]"
   ]
  },
  {
   "cell_type": "code",
   "execution_count": 10,
   "id": "4ddef4e5",
   "metadata": {
    "scrolled": true
   },
   "outputs": [
    {
     "data": {
      "text/plain": [
       "5.0"
      ]
     },
     "execution_count": 10,
     "metadata": {},
     "output_type": "execute_result"
    }
   ],
   "source": [
    "variance(x, mean(x))"
   ]
  },
  {
   "cell_type": "code",
   "execution_count": 13,
   "id": "3df93a91",
   "metadata": {
    "scrolled": true
   },
   "outputs": [
    {
     "data": {
      "text/plain": [
       "[<matplotlib.lines.Line2D at 0x2132aa2b4c0>]"
      ]
     },
     "execution_count": 13,
     "metadata": {},
     "output_type": "execute_result"
    },
    {
     "data": {
      "image/png": "[encoded data removed]",
      "text/plain": [
       "<Figure size 640x480 with 1 Axes>"
      ]
     },
     "metadata": {},
     "output_type": "display_data"
    }
   ],
   "source": [
    "import matplotlib.pyplot as plt\n",
    "plt.plot(x,y)"
   ]
  },
  {
   "cell_type": "markdown",
   "id": "0547acc7",
   "metadata": {},
   "source": [
    "$$  \\frac{\\partial J}{\\partial y}  $$\n",
    "\n",
    "J(cost) 함수를 y로 편미분\n",
    "\n",
    "<a href = \"https://www.youtube.com/watch?v=GkB4vW16QHI&t=84s\"> 편미분 영상 참고자료 </a>"
   ]
  },
  {
   "cell_type": "markdown",
   "id": "152de7fc",
   "metadata": {},
   "source": [
    "$$   MSE (Mean Squre Error) = \\frac{1}{n} \\sum_{i=1}^{n}(y_{i} - y_{predicted})^2   $$\n",
    "\n",
    "$$  y_{predicted} = 추정값(모델에서 출력된 값) = \\widehat{y}  $$"
   ]
  },
  {
   "cell_type": "markdown",
   "id": "d3606506",
   "metadata": {},
   "source": [
    "<img src = \"22.gif\">"
   ]
  },
  {
   "cell_type": "markdown",
   "id": "a88e3266",
   "metadata": {},
   "source": [
    "$$   MSE (Mean Squre Error) = \\frac{1}{n} \\sum_{i=1}^{n}(y_{i} - (mx_{i}+b)^2   $$\n",
    "\n",
    "$$  y_{predicted} = 추정값(모델에서 출력된 값) = \\widehat{y}  $$"
   ]
  },
  {
   "cell_type": "markdown",
   "id": "edeec64d",
   "metadata": {},
   "source": [
    "<img src = \"111.JPG\">"
   ]
  },
  {
   "cell_type": "markdown",
   "id": "3f546b8e",
   "metadata": {},
   "source": [
    "## 경사 하강 알고리즘 (Gradient Descent Algorithm)\n",
    "\n",
    "기울기를 계속 굴려 0 에 근사치에 가깝게"
   ]
  },
  {
   "cell_type": "markdown",
   "id": "151afc14",
   "metadata": {},
   "source": [
    "$$   MSE (Mean Squre Error) = \\frac{1}{n} \\sum_{i=1}^{n}(y_{i} - (mx_{i}+b)^2)   $$\n",
    "\n",
    "$$  \\frac{\\partial{J}}{\\partial{m}} = \\frac{2}{n} \\sum_{i=1}^{n}-x_{i}(y_{i} - (mx_{i}+b))  $$\n",
    "\n",
    "\n",
    "$$  ▼ b를 편미분  $$\n",
    "$$  \\frac{\\partial{J}}{\\partial{b}} = \\frac{2}{n} \\sum_{i=1}^{n}-(y_{i} - (mx_{i}+b))  $$\n",
    "\n",
    "$$ 기울기 m , 데이터 갯수 n  $$"
   ]
  },
  {
   "cell_type": "markdown",
   "id": "65f116a0",
   "metadata": {},
   "source": [
    "$$  m = m - \\alpha \\frac{\\partial{J}}{\\partial{m}} $$ \n",
    "\n",
    "$$ \\alpha 는 $$ <br>\n",
    "\n",
    "<div style= \"text-align:center\"><b> earing_rate(학습율)</b> "
   ]
  },
  {
   "cell_type": "markdown",
   "id": "6a1e6609",
   "metadata": {},
   "source": [
    "<img src = \"77.gif\"/>"
   ]
  },
  {
   "cell_type": "code",
   "execution_count": 21,
   "id": "033b8038",
   "metadata": {},
   "outputs": [],
   "source": [
    "import numpy as np"
   ]
  },
  {
   "cell_type": "code",
   "execution_count": null,
   "id": "1d2c1cc5",
   "metadata": {},
   "outputs": [],
   "source": [
    "def gradient_descent(x, y):\n",
    "    m_curr=2 \n",
    "    b_curr=4   #m과 b의 초기값\n",
    "    iterations = 10000   #반복의 횟수 초기화\n",
    "    n = len(x)   #데이터의 갯수 (n)의 수\n",
    "    learing_rate = 0.001   #학습율(learing_rate 알파) 초기화\n",
    "    for i in range(iterations):\n",
    "        y_pred = m_curr * x + b_curr\n",
    "        cost = (1/n) * sum([val**2 for val in (y-y_pred)])\n",
    "        md = -(2/n)*sum(x*(y-y_pred))\n",
    "        bd = -(2/n)*sum((y-y_pred))\n",
    "        m_curr = m_curr - learing_rate * md\n",
    "        b_curr = b_curr - learing_rate * bd\n",
    "        if i%100==0: #여기 부분 수정 #마지막 데이터를 딕셔너리의 리스트 형태로\n",
    "            print(\"m{} , b{} , cost{} , 반복횟수\" .format(m_curr, b_curr, cost, i))"
   ]
  },
  {
   "cell_type": "code",
   "execution_count": 44,
   "id": "aa65144b",
   "metadata": {
    "scrolled": true
   },
   "outputs": [
    {
     "name": "stdout",
     "output_type": "stream",
     "text": [
      "m1.994 , b3.998 , cost1.0 , 반복횟수\n",
      "m1.7742970834047544 , b3.903907067112513 , cost0.15374822694502707 , 반복횟수\n",
      "m1.7617452763354746 , b3.868296857909376 , cost0.1371983579348287 , 반복횟수\n",
      "m1.7678379763436258 , b3.838919318735085 , cost0.1281723173881267 , 반복횟수\n",
      "m1.7753905210324523 , b3.810979048026004 , cost0.11979011387566972 , 반복횟수\n",
      "m1.782843567048046 , b3.7840097882676202 , cost0.11195650542265319 , 반복횟수\n",
      "m1.7900626283257566 , b3.757941086518152 , cost0.10463517493894298 , 반복횟수\n",
      "m1.7970429171758242 , b3.7327395181873375 , cost0.09779261862806748 , 반복횟수\n",
      "m1.803791226530786 , b3.7083759336056255 , cost0.09139752730131324 , 반복횟수\n",
      "m1.8103151651617013 , b3.6848224408648247 , cost0.08542063924645746 , 반복횟수\n",
      "m1.816622183857706 , b3.6620521017785497 , cost0.07983460630415304 , 반복횟수\n",
      "m1.8227194943347262 , b3.640038876255024 , cost0.07461386873200457 , 반복횟수\n",
      "m1.8286140693095534 , b3.6187575902541638 , cost0.06973453825208153 , 반복횟수\n",
      "m1.8343126497282984 , b3.5981839067924235 , cost0.06517428874647137 , 반복횟수\n",
      "m1.8398217524072595 , b3.578294298092532 , cost0.06091225410073845 , 반복횟수\n",
      "m1.8451476774792603 , b3.559066018675734 , cost0.056928932727843565 , 반복횟수\n",
      "m1.8502965155978275 , b3.5404770793502163 , cost0.053206098335672226 , 반복횟수\n",
      "m1.8552741549023273 , b3.522506222064574 , cost0.04972671652986507 , 반복횟수\n",
      "m1.860086287751552 , b3.505132895597386 , cost0.04647486687035751 , 반복횟수\n",
      "m1.8647384172334251 , b3.488337232055138 , cost0.04343567002499112 , 반복횟수\n",
      "m1.8692358634582504 , b3.4721000241515583 , cost0.0405952196868634 , 반복횟수\n",
      "m1.873583769642722 , b3.456402703242454 , cost0.03794051894391263 , 반복횟수\n",
      "m1.877787107991632 , b3.441227318090853 , cost0.03545942080956882 , 반복횟수\n",
      "m1.8818506853840136 , b3.4265565143382313 , cost0.03314057264237358 , 반복횟수\n",
      "m1.885779148870223 , b3.412373514658302 , cost0.030973364200242704 , 반복횟수\n",
      "m1.8895769909862388 , b3.3986620995707058 , cost0.02894787909169258 , 반복횟수\n",
      "m1.8932485548912665 , b3.385406588892635 , cost0.02705484940188327 , 반복횟수\n",
      "m1.8967980393345136 , b3.3725918238072 , cost0.025285613285867405 , 반복횟수\n",
      "m1.9002295034568175 , b3.360203149528011 , cost0.023632075335001633 , 반복횟수\n",
      "m1.9035468714326267 , b3.348226398540182 , cost0.02208666953517527 , 반복횟수\n",
      "m1.9067539369576292 , b3.336647874398543 , cost0.020642324647362868 , 반복횟수\n",
      "m1.9098543675871702 , b3.3254543360645883 , cost0.019292431852095795 , 반복횟수\n",
      "m1.9128517089304196 , b3.314632982764201 , cost0.018030814509803986 , 반복횟수\n",
      "m1.915749388705077 , b3.304171439348876 , cost0.016851699898665116 , 반복횟수\n",
      "m1.9185507206572652 , b3.2940577421436594 , cost0.01574969280063581 , 반복횟수\n",
      "m1.9212589083510818 , b3.2842803252656805 , cost0.014719750814816121 , 반복횟수\n",
      "m1.9238770488321537 , b3.2748280073975335 , cost0.013757161285172754 , 반복횟수\n",
      "m1.92640813616937 , b3.265689979000517 , cost0.012857519737070453 , 반복횟수\n",
      "m1.928855064878863 , b3.2568557899529758 , cost0.012016709723926296 , 반복횟수\n",
      "m1.9312206332341306 , b3.248315337599686 , cost0.011230883991783354 , 반복횟수\n",
      "m1.9335075464661073 , b3.2400588551986114 , cost0.010496446875616612 , 반복횟수\n",
      "m1.9357184198568271 , b3.232076900751784 , cost0.009810037846820219 , 반복횟수\n",
      "m1.9378557817302249 , b3.2243603462075687 , cost0.00916851613659886 , 반복횟수\n",
      "m1.939922076343488 , b3.216900367021956 , cost0.008568946364903202 , 반복횟수\n",
      "m1.9419196666822804 , b3.2096884320669328 , cost0.008008585109152384 , 반복횟수\n",
      "m1.943850837163016 , b3.202716293874403 , cost0.007484868351286657 , 반복횟수\n",
      "m1.9457177962452858 , b3.1959759792045 , cost0.006995399745713948 , 반복횟수\n",
      "m1.947522678957424 , b3.189459779927499 , cost0.006537939654466022 , 반복횟수\n",
      "m1.9492675493380929 , b3.183160244208908 , cost0.006110394899394904 , 반복횟수\n",
      "m1.950954402796693 , b3.17707016798766 , cost0.0057108091845184915 , 반복횟수\n",
      "m1.9525851683952808 , b3.1711825867376358 , cost0.0053373541446903585 , 반복횟수\n",
      "m1.9541617110546206 , b3.1654907675031403 , cost0.004988320979638008 , 반복횟수\n",
      "m1.9556858336868805 , b3.1599882011991896 , cost0.004662112635087319 , 반복횟수\n",
      "m1.9571592792574175 , b3.1546685951678044 , cost0.004357236495198118 , 반복횟수\n",
      "m1.9585837327780076 , b3.149525865981819 , cost0.00407229755287348 , 반복횟수\n",
      "m1.959960823233805 , b3.1445541324879565 , cost0.003805992026692895 , 반복횟수\n",
      "m1.9612921254462221 , b3.139747709081225 , cost0.003557101395262295 , 반복횟수\n",
      "m1.9625791618738775 , b3.1351010992029456 , cost0.003324486821684725 , 반복횟수\n",
      "m1.9638234043536544 , b3.130608989054946 , cost0.003107083942637984 , 반복횟수\n",
      "m1.9650262757838775 , b3.1262662415228024 , cost0.0029038979982200248 , 반복횟수\n",
      "m1.966189151751515 , b3.1220678903010843 , cost0.0027139992802726245 , 반복횟수\n",
      "m1.9673133621052836 , b3.118009134213967 , cost0.0025365188783612012 , 반복횟수\n",
      "m1.968400192476443 , b3.114085331724671 , cost0.0023706447039426575 , 반복횟수\n",
      "m1.9694508857490287 , b3.1102919956274673 , cost0.0022156177745313622 , 반복횟수\n",
      "m1.9704666434811928 , b3.106624787916174 , cost0.002070728740859059 , 반복횟수\n",
      "m1.9714486272792906 , b3.1030795148232677 , cost0.001935314641139674 , 반복횟수\n",
      "m1.9723979601262815 , b3.0996521220239495 , cost0.001808755867586872 , 반복횟수\n",
      "m1.9733157276659508 , b3.096338689999678 , cost0.0016904733313046168 , 반복횟수\n",
      "m1.974202979444441 , b3.093135429555866 , cost0.0015799258125777788 , 반복횟수\n",
      "m1.975060730110493 , b3.090038677488605 , cost0.0014766074844394343 , 반복횟수\n",
      "m1.9758899605757914 , b3.087044892395478 , cost0.001380045598182245 , 반복횟수\n",
      "m1.9766916191367134 , b3.084150650625662 , cost0.001289798320225374 , 반복횟수\n",
      "m1.9774666225587965 , b3.0813526423646906 , cost0.0012054527104375348 , 반복횟수\n",
      "m1.9782158571251278 , b3.078647667849393 , cost0.0011266228326668654 , 반복횟수\n",
      "m1.978940179649896 , b3.076032633708687 , cost0.0010529479888311832 , 반복횟수\n",
      "m1.9796404184582244 , b3.073504549426051 , cost0.0009840910684893488 , 반복횟수\n",
      "m1.980317374333435 , b3.071060523919604 , cost0.0009197370063410157 , 반복횟수\n",
      "m1.9809718214328118 , b3.068697762235914 , cost0.0008595913405979966 , 반복횟수\n",
      "m1.9816045081729186 , b3.0664135623537128 , cost0.0008033788656287412 , 반복횟수\n",
      "m1.9822161580854754 , b3.0642053120939163 , cost0.0007508423727139077 , 반복횟수\n",
      "m1.9828074706447798 , b3.0620704861323675 , cost0.0007017414731485002 , 반복횟수\n",
      "m1.9833791220676176 , b3.0600066431119095 , cost0.0006558514983067477 , 반복횟수\n",
      "m1.9839317660865718 , b3.058011422850487 , cost0.0006129624716368795 , 반복횟수\n",
      "m1.9844660346976248 , b3.0560825436420718 , cost0.0005728781478813184 , 반복횟수\n",
      "m1.9849825388828994 , b3.054217799647343 , cost0.0005354151151269158 , 반복횟수\n",
      "m1.9854818693093672 , b3.0524150583711065 , cost0.0005004019555756584 , 반복횟수\n",
      "m1.9859645970043314 , b3.0506722582236176 , cost0.00046767846119656923 , 반복횟수\n",
      "m1.9864312740084413 , b3.0489874061629703 , cost0.0004370949006696161 , 반복횟수\n",
      "m1.9868824340070033 , b3.0473585754158705 , cost0.0004085113342670252 , 반복횟수\n",
      "m1.987318592940289 , b3.0457839032742298 , cost0.0003817969735382168 , 반복횟수\n",
      "m1.9877402495935645 , b3.0442615889649716 , cost0.0003568295828669323 , 반복횟수\n",
      "m1.98814788616749 , b3.042789891590715 , cost0.000333494920164014 , 반복횟수\n",
      "m1.9885419688295578 , b3.0413671281388974 , cost0.00031168621413510747 , 반복횟수\n",
      "m1.9889229482471982 , b3.039991671557103 , cost0.00029130367573244214 , 반복횟수\n",
      "m1.9892912601031505 , b3.0386619488923965 , cost0.0002722540415549237 , 반복횟수\n",
      "m1.989647325593711 , b3.037376439492503 , cost0.0002544501471071668 , 반복횟수\n",
      "m1.9899915519104012 , b3.036133673266834 , cost0.00023781052796531164 , 반복횟수\n",
      "m1.9903243327056297 , b3.0349322290052845 , cost0.00022225904702393936 , 반복횟수\n",
      "m1.9906460485428665 , b3.0337707327529775 , cost0.0002077245461193154 , 반복횟수\n",
      "m1.9909570673318506 , b3.0326478562390173 , cost0.00019414052043436496 , 반복횟수\n"
     ]
    }
   ],
   "source": [
    "x = np.array([1,2,3,4,5])\n",
    "y = np.array([5,7,9,11,13])\n",
    "gradient_descent(x, y)"
   ]
  },
  {
   "cell_type": "code",
   "execution_count": 73,
   "id": "4c9b36fd",
   "metadata": {
    "scrolled": false
   },
   "outputs": [
    {
     "data": {
      "text/plain": [
       "[{'m': 3, 'b': 5},\n",
       " {'m': 2, 'b': 7},\n",
       " {'m': 8, 'b': 4},\n",
       " {'m': -3, 'b': 5},\n",
       " {'m': -7, 'b': 15}]"
      ]
     },
     "execution_count": 73,
     "metadata": {},
     "output_type": "execute_result"
    }
   ],
   "source": [
    "#문제) 마지막 줄처럼 리스트로 출력\n",
    "\n",
    "x = np.array([\n",
    "    [1,2,3,4,5]\n",
    "])\n",
    "y = np.array([\n",
    "    [3*i +5 for i in x],  #m=3 , b=5\n",
    "    [2*i +7 for i in x],  #m=2 , b=7\n",
    "    [8*i +4 for i in x],  #m=8 , b=4\n",
    "    [-3*i +5 for i in x],  #m=-3 , b=5\n",
    "    [-7*i +15 for i in x]  #m=-7 , b=15\n",
    "])\n",
    "\n",
    "[{\"m\":3, \"b\":5}, {\"m\":2, \"b\":7}, {\"m\":8, \"b\":4}, {\"m\":-3, \"b\":5}, {\"m\":-7, \"b\":15}]"
   ]
  },
  {
   "cell_type": "code",
   "execution_count": 85,
   "id": "0a9ce3fd",
   "metadata": {},
   "outputs": [],
   "source": [
    "def gradient_descent(x, y):\n",
    "    dict1={}\n",
    "    m_curr=2 \n",
    "    b_curr=4   #m과 b의 초기값\n",
    "    iterations = 10000   #반복의 횟수 초기화\n",
    "    n = len(x)   #데이터의 갯수 (n)의 수\n",
    "    learing_rate = 0.001   #학습율(learing_rate 알파) 초기화\n",
    "    for i in range(iterations):\n",
    "        y_pred = m_curr * x + b_curr\n",
    "        #cost = (1/n) * sum([val**2 for val in (y-y_pred)])\n",
    "        md = -(2/n) * sum(x * (y-y_pred))\n",
    "        bd = -(2/n) * sum((y-y_pred))\n",
    "        m_curr = m_curr - learing_rate * md\n",
    "        b_curr = b_curr - learing_rate * bd\n",
    "    dict1['m'] = m_curr\n",
    "    dict1['b'] = b_curr\n",
    "    return dict1"
   ]
  },
  {
   "cell_type": "code",
   "execution_count": 88,
   "id": "4c162b10",
   "metadata": {},
   "outputs": [],
   "source": [
    "#gradient_descent(x, y)\n",
    "result=[{\"m\":3, \"b\":5}, {\"m\":2, \"b\":7}, {\"m\":8, \"b\":4}, {\"m\":-3, \"b\":5}, {\"m\":-7, \"b\":15}]"
   ]
  },
  {
   "cell_type": "code",
   "execution_count": 89,
   "id": "0f424a80",
   "metadata": {},
   "outputs": [
    {
     "data": {
      "text/plain": [
       "[array([ True,  True,  True,  True,  True]),\n",
       " array([ True,  True,  True,  True,  True]),\n",
       " array([False, False, False,  True,  True]),\n",
       " array([ True,  True,  True,  True,  True]),\n",
       " array([ True,  True,  True,  True,  True])]"
      ]
     },
     "execution_count": 89,
     "metadata": {},
     "output_type": "execute_result"
    }
   ],
   "source": [
    "[(i[1]['m']-i[0]['m'])<0.5 for i in zip([ gradient_descent(x, i) for i in y] , result)]"
   ]
  },
  {
   "cell_type": "code",
   "execution_count": 90,
   "id": "6f03a53a",
   "metadata": {},
   "outputs": [
    {
     "data": {
      "text/plain": [
       "[array([ True,  True, False, False, False]),\n",
       " array([False, False, False, False, False]),\n",
       " array([ True,  True,  True,  True,  True]),\n",
       " array([False, False, False, False, False]),\n",
       " array([False, False, False, False, False])]"
      ]
     },
     "execution_count": 90,
     "metadata": {},
     "output_type": "execute_result"
    }
   ],
   "source": [
    "[(i[1]['b']-i[0]['b'])<0.5 for i in zip([ gradient_descent(x, i) for i in y] , result)]"
   ]
  }
 ],
 "metadata": {
  "kernelspec": {
   "display_name": "Python 3 (ipykernel)",
   "language": "python",
   "name": "python3"
  },
  "language_info": {
   "codemirror_mode": {
    "name": "ipython",
    "version": 3
   },
   "file_extension": ".py",
   "mimetype": "text/x-python",
   "name": "python",
   "nbconvert_exporter": "python",
   "pygments_lexer": "ipython3",
   "version": "3.10.9"
  }
 },
 "nbformat": 4,
 "nbformat_minor": 5
}
