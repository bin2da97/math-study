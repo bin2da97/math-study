{
 "cells": [
  {
   "cell_type": "markdown",
   "id": "84c641ec",
   "metadata": {},
   "source": [
    "## 선형회귀(linear regression)"
   ]
  },
  {
   "cell_type": "markdown",
   "id": "ccbad8e6",
   "metadata": {},
   "source": [
    "## feature(특징) => \n",
    "$$ y = ax+b $$\n",
    "$$ 우리가 구하고자 하는것은 직선의 기울기(a)와 y절편(b) 구하고자 한다. $$\n",
    "$$(2 | 3) => feature는 2다 $$\n",
    "$$ 기울기(a)가 2이고 y절편(b)가 1이라고 하자 $$\n",
    "$$ 2\\times1 + 1 $$\n",
    "$$ 2\\times2 + 1 $$\n",
    "$$ 2\\times3 + 1 $$\n",
    "$$ J = (비용/COST/오차/에러) $$\n",
    "$$ 정답(y)와 모델에서 출력된 값(\\widehat{y})의 차이(error)를 제곱한 값을 학습 데이터로 더하고 그데이터의 갯수로 나눈 값을 말함 $$\n",
    "$$ 평균(mean) $$\n",
    "$$ 제곱(square) $$\n",
    "$$ J=MSE $$\n",
    "\n",
    "$$ a\\leftarrow a-\\alpha \\frac{\\partial J}{\\partial a} $$\n",
    "\n",
    "<table>\n",
    "    <tr>\n",
    "        <th>x</th>\n",
    "        <th>y</th>\n",
    "    </tr>\n",
    "    <tr>\n",
    "        <td>1</td>\n",
    "        <td>3</td>\n",
    "    </tr>\n",
    "    <tr>\n",
    "        <td>2</td>\n",
    "        <td>5</td>\n",
    "    </tr>\n",
    "    <tr>\n",
    "        <td>3</td>\n",
    "        <td>7</td>\n",
    "    </tr>\n",
    "</table>\n",
    "traning 데이터,feature\n",
    "\n",
    "\n",
    "### feature가 두개다\n",
    "$$ z=ax+by+d $$ x,y가 feature가 되고 z가 정답(label)\n",
    "우리가 찾고자 하는 것은 뭘까?\n",
    "(3,4| 5)\n",
    "$$ y=w_{1}x_{1}+w_{2}x_{2}+w_{3}x_{3}+w_{4}x_{4}+w_{5}x_{5}+w_{6}x_{6}+ \\cdot \\cdot \\cdot + w_{10}x_{10} + b $$\n",
    "$$feature는 x_{1}~x_{10}$$\n",
    "정답(label)은 y\n",
    "우리가 구하고자 하는것은 w_{1} ~ w_{10}과 b(bias,y절편)"
   ]
  },
  {
   "cell_type": "markdown",
   "id": "61f81ca6",
   "metadata": {},
   "source": [
    "$$ \\widehat{y}= ax+b $$\n",
    "$$ MSE = \\frac{1}{n}\\sum_{i=0}^{n}(y-\\widehat{y})^{2} $$"
   ]
  },
  {
   "cell_type": "code",
   "execution_count": 1,
   "id": "0bbe7465",
   "metadata": {},
   "outputs": [],
   "source": [
    "import numpy as np"
   ]
  },
  {
   "cell_type": "code",
   "execution_count": 2,
   "id": "ed3594d6",
   "metadata": {},
   "outputs": [],
   "source": [
    "x=np.array([1,2,3]) #feature\n",
    "y=np.array([3,5,7]) #label 정답"
   ]
  },
  {
   "cell_type": "markdown",
   "id": "0379326b",
   "metadata": {},
   "source": [
    "$$ \\lim_{h\\rightarrow0}\\frac{f(x+h)-f(x)}{h} $$"
   ]
  },
  {
   "cell_type": "code",
   "execution_count": 3,
   "id": "81bc8f17",
   "metadata": {},
   "outputs": [],
   "source": [
    "def derivate(f,x):\n",
    "    h=0.000001\n",
    "    return f(x+h)-f(x)/h"
   ]
  },
  {
   "cell_type": "code",
   "execution_count": 4,
   "id": "00dfc7e4",
   "metadata": {},
   "outputs": [],
   "source": [
    "def cost_a(x,y,a):\n",
    "    sum_=0\n",
    "    for i,j in zip(x,y):\n",
    "        sum_+=(j-i) * x\n",
    "    return sum_/len(x)"
   ]
  },
  {
   "cell_type": "code",
   "execution_count": 5,
   "id": "0549868b",
   "metadata": {},
   "outputs": [],
   "source": [
    "def cost_b(x,y):\n",
    "    sum_=0\n",
    "    for i,j in zip(x,y):\n",
    "        sum_+=(j-i)\n",
    "    return sum_/len(x)"
   ]
  },
  {
   "cell_type": "code",
   "execution_count": 11,
   "id": "1193e864",
   "metadata": {},
   "outputs": [
    {
     "name": "stdout",
     "output_type": "stream",
     "text": [
      "a: [99.97 99.94 99.91] b: 19.97\n",
      "a: [69.97 39.94  9.91] b: -10.02999999999998\n",
      "a: [ 39.97 -20.06 -80.09] b: -40.03000000000076\n",
      "a: [   9.97  -80.06 -170.09] b: -70.03000000000189\n",
      "a: [ -20.03 -140.06 -260.09] b: -100.03000000000303\n",
      "a: [ -50.03 -200.06 -350.09] b: -130.03000000000415\n",
      "a: [ -80.03 -260.06 -440.09] b: -160.0300000000053\n",
      "a: [-110.03 -320.06 -530.09] b: -190.03000000000642\n",
      "a: [-140.03 -380.06 -620.09] b: -220.03000000000756\n",
      "a: [-170.03 -440.06 -710.09] b: -250.0300000000087\n"
     ]
    }
   ],
   "source": [
    "a=100 #초기값\n",
    "b=20 #초기값\n",
    "alpha=0.01\n",
    "for i in range(10000):\n",
    "    a=a-alpha*cost_a(x,y,a)\n",
    "    b=b-alpha*cost_b(x,y)\n",
    "    if i%1000==0:\n",
    "        print('a:',a,'b:',b)\n",
    "#         print('a:',a,'b:',b,'cost_a:',cost_a,'cost_b:',cost_b)\n",
    "        "
   ]
  },
  {
   "cell_type": "code",
   "execution_count": null,
   "id": "0eccfb75",
   "metadata": {},
   "outputs": [],
   "source": [
    "import numpy as np\n",
    "\n",
    "x = np.array([1, 2, 3])  # feature\n",
    "y = np.array([3, 5, 7])  # label 정답\n",
    "\n",
    "def derivative(f, x):\n",
    "    h = 0.000001\n",
    "    return (f(x + h) - f(x)) / h\n",
    "\n",
    "def cost_a(x, y, a):\n",
    "    sum_ = 0\n",
    "    for i, j in zip(x, y):\n",
    "        sum_ += (j - (a * i + b)) * i\n",
    "    return sum_ / len(x)\n",
    "\n",
    "def cost_b(x, y, b):\n",
    "    sum_ = 0\n",
    "    for i, j in zip(x, y):\n",
    "        sum_ += (j - (a * i + b))\n",
    "    return sum_ / len(x)\n",
    "\n",
    "a = 100  # 초기값\n",
    "b = 20  # 초기값\n",
    "alpha = 0.01\n",
    "\n",
    "for i in range(10000):\n",
    "    a = a - alpha * cost_a(x, y, a)\n",
    "    b = b - alpha * cost_b(x, y, b)\n",
    "    if i % 1000 == 0:\n",
    "        print('a:', a, 'b:', b)\n"
   ]
  },
  {
   "cell_type": "code",
   "execution_count": null,
   "id": "b682e431",
   "metadata": {},
   "outputs": [],
   "source": [
    "import numpy as np\n",
    "\n",
    "def calculate_gradient(x, y, a, b):\n",
    "    y_pred = a * x + b\n",
    "    error = y_pred - y\n",
    "    gradient_a = np.mean(error * x)\n",
    "    gradient_b = np.mean(error)\n",
    "    return gradient_a, gradient_b\n",
    "\n",
    "# 주어진 데이터\n",
    "x = np.array([1, 2, 3])  # feature\n",
    "y = np.array([3, 5, 7])  # label (정답)\n",
    "\n",
    "# 초기 파라미터 설정\n",
    "a = 0.0\n",
    "b = 0.0\n",
    "learning_rate = 0.01\n",
    "epochs = 1000\n",
    "\n",
    "# 모델 학습 (경사 하강법)\n",
    "for epoch in range(epochs):\n",
    "    gradient_a, gradient_b = calculate_gradient(x, y, a, b)\n",
    "    \n",
    "    # 파라미터 업데이트\n",
    "    a -= learning_rate * gradient_a\n",
    "    b -= learning_rate * gradient_b\n",
    "    \n",
    "    y_pred = a * x + b\n",
    "    loss = np.mean((y_pred - y)**2)\n",
    "    \n",
    "    if epoch % 100 == 0:\n",
    "        print(f'Epoch {epoch}, Loss: {loss:.4f}')\n",
    "\n",
    "# 훈련된 모델로 예측\n",
    "new_x = np.array([4, 5])\n",
    "predicted_y = a * new_x + b\n",
    "print(f'Predicted values for new_x: {predicted_y}')\n"
   ]
  }
 ],
 "metadata": {
  "kernelspec": {
   "display_name": "Python 3 (ipykernel)",
   "language": "python",
   "name": "python3"
  },
  "language_info": {
   "codemirror_mode": {
    "name": "ipython",
    "version": 3
   },
   "file_extension": ".py",
   "mimetype": "text/x-python",
   "name": "python",
   "nbconvert_exporter": "python",
   "pygments_lexer": "ipython3",
   "version": "3.10.9"
  }
 },
 "nbformat": 4,
 "nbformat_minor": 5
}
