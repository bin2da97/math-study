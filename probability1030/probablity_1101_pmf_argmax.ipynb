{
 "cells": [
  {
   "cell_type": "code",
   "execution_count": 1,
   "id": "3889f28f",
   "metadata": {},
   "outputs": [],
   "source": [
    "# If we're running on Colab, install empiricaldist\n",
    "# https://pypi.org/project/empiricaldist/\n",
    "\n",
    "import sys\n",
    "IN_COLAB = 'google.colab' in sys.modules\n",
    "\n",
    "if IN_COLAB:\n",
    "    !pip install empiricaldist"
   ]
  },
  {
   "cell_type": "code",
   "execution_count": 1,
   "id": "3de4481b",
   "metadata": {},
   "outputs": [
    {
     "name": "stdout",
     "output_type": "stream",
     "text": [
      "Downloaded utils.py\n"
     ]
    }
   ],
   "source": [
    "# Get utils.py\n",
    "\n",
    "from os.path import basename, exists\n",
    "\n",
    "def download(url):\n",
    "    filename = basename(url)\n",
    "    if not exists(filename):\n",
    "        from urllib.request import urlretrieve\n",
    "        local, _ = urlretrieve(url, filename)\n",
    "        print('Downloaded ' + local)\n",
    "    \n",
    "download('https://github.com/AllenDowney/ThinkBayes2/raw/master/soln/utils.py')"
   ]
  },
  {
   "cell_type": "code",
   "execution_count": 7,
   "id": "618b97cf",
   "metadata": {},
   "outputs": [],
   "source": [
    "# from utils import set_pyplot_params\n",
    "# set_pyplot_params()"
   ]
  },
  {
   "cell_type": "markdown",
   "id": "23af49de",
   "metadata": {},
   "source": [
    "이전 장에서는 베이즈 정리를 사용하여 쿠키 문제를 해결하고, 그런 다음 베이즈 테이블을 사용하여 다시 해결했습니다. 이번 장에서는 \"확률 질량 함수\"를 나타내는 Pmf 객체를 사용하여 한 번 더 문제를 해결할 것입니다. 이것이 무엇을 의미하며, 왜 베이지안 통계에 유용한지 설명하겠습니다.\n",
    "PMF = Probability Mass Fucntion \n",
    "\n",
    "우리는 Pmf 객체를 사용하여 좀 더 어려운 문제를 해결하고 베이지안 통계로 한 단계 더 나아갈 것입니다. 그러나 우리는 분포부터 시작하겠습니다."
   ]
  },
  {
   "cell_type": "markdown",
   "id": "d00f178c",
   "metadata": {},
   "source": [
    "## 분포(Distrubution)\n",
    "통계학에서 **분포(Distribution)**는 가능한 결과(outcome)들과 그에 해당하는 확률들의 집합입니다. 예를 들어, 동전을 던질 경우, 거의 동등한 확률로 두 가지 가능한 결과가 있습니다. 여섯 면 주사위를 굴릴 경우, 가능한 결과 집합은 1부터 6까지의 숫자이며, 각 결과와 관련된 확률은 1/6입니다.\n",
    "\n",
    "분포를 나타내기 위해 empiricaldist라는 라이브러리를 사용할 것입니다. \"경험적\" 분포는 이론적인 분포 대신 데이터에 기반한 분포를 의미합니다. 이 라이브러리는 이 책 전체에서 사용될 것이며, 이 장에서 기본 기능을 소개하고 나중에 추가 기능을 살펴볼 것입니다."
   ]
  },
  {
   "cell_type": "markdown",
   "id": "2d546ac8",
   "metadata": {},
   "source": [
    "## Probability Mass Functions\n",
    "만약 분포의 결과가 이산적인 경우, 확률 질량 함수(Probability Mass Function, PMF)를 사용하여 분포를 설명할 수 있습니다. PMF는 각 가능한 결과에서 해당하는 확률로 매핑하는 함수입니다.\n",
    "\n",
    "empiricaldist는 확률 질량 함수를 나타내는 Pmf 클래스를 제공합니다. Pmf를 사용하려면 다음과 같이 가져와서 사용할 수 있습니다:"
   ]
  },
  {
   "cell_type": "code",
   "execution_count": 2,
   "id": "4282fc3d",
   "metadata": {},
   "outputs": [
    {
     "name": "stdout",
     "output_type": "stream",
     "text": [
      "Collecting empiricaldist\n",
      "  Downloading empiricaldist-0.6.8.tar.gz (12 kB)\n",
      "  Installing build dependencies: started\n",
      "  Installing build dependencies: finished with status 'done'\n",
      "  Getting requirements to build wheel: started\n",
      "  Getting requirements to build wheel: finished with status 'done'\n",
      "  Preparing metadata (pyproject.toml): started\n",
      "  Preparing metadata (pyproject.toml): finished with status 'done'\n",
      "Building wheels for collected packages: empiricaldist\n",
      "  Building wheel for empiricaldist (pyproject.toml): started\n",
      "  Building wheel for empiricaldist (pyproject.toml): finished with status 'done'\n",
      "  Created wheel for empiricaldist: filename=empiricaldist-0.6.8-py3-none-any.whl size=12122 sha256=c633859452d9d8ea766377d15a84ff123b14bcdc48e9513f5765f2e8d24e71e0\n",
      "  Stored in directory: c:\\users\\tj\\appdata\\local\\pip\\cache\\wheels\\9e\\6c\\a4\\6d002e4f35dbe60786322ff8e3032ddab20898164bd3d1c37f\n",
      "Successfully built empiricaldist\n",
      "Installing collected packages: empiricaldist\n",
      "Successfully installed empiricaldist-0.6.8\n"
     ]
    }
   ],
   "source": [
    "!pip install empiricaldist"
   ]
  },
  {
   "cell_type": "code",
   "execution_count": 3,
   "id": "864c2d70",
   "metadata": {
    "scrolled": true
   },
   "outputs": [],
   "source": [
    "from empiricaldist import Pmf"
   ]
  },
  {
   "cell_type": "markdown",
   "id": "32388b7b",
   "metadata": {},
   "source": [
    "다음 예제는 동전 던지기의 결과를 나타내는 Pmf를 생성합니다. 코드는 다음과 같습니다:"
   ]
  },
  {
   "cell_type": "code",
   "execution_count": 4,
   "id": "9a354473",
   "metadata": {},
   "outputs": [
    {
     "data": {
      "text/html": [
       "<div>\n",
       "<style scoped>\n",
       "    .dataframe tbody tr th:only-of-type {\n",
       "        vertical-align: middle;\n",
       "    }\n",
       "\n",
       "    .dataframe tbody tr th {\n",
       "        vertical-align: top;\n",
       "    }\n",
       "\n",
       "    .dataframe thead th {\n",
       "        text-align: right;\n",
       "    }\n",
       "</style>\n",
       "<table border=\"1\" class=\"dataframe\">\n",
       "  <thead>\n",
       "    <tr style=\"text-align: right;\">\n",
       "      <th></th>\n",
       "      <th>probs</th>\n",
       "    </tr>\n",
       "  </thead>\n",
       "  <tbody>\n",
       "    <tr>\n",
       "      <th>heads</th>\n",
       "      <td>0.5</td>\n",
       "    </tr>\n",
       "    <tr>\n",
       "      <th>tails</th>\n",
       "      <td>0.5</td>\n",
       "    </tr>\n",
       "  </tbody>\n",
       "</table>\n",
       "</div>"
      ],
      "text/plain": [
       "heads    0.5\n",
       "tails    0.5\n",
       "Name: , dtype: float64"
      ]
     },
     "execution_count": 4,
     "metadata": {},
     "output_type": "execute_result"
    }
   ],
   "source": [
    "coin=Pmf()\n",
    "coin['heads']=1/2\n",
    "coin['tails']=1/2\n",
    "coin"
   ]
  },
  {
   "cell_type": "markdown",
   "id": "0adeef82",
   "metadata": {},
   "source": [
    "`Pmf`는 아무 결과도 가지지 않은 빈 `Pmf`를 생성하며, 이후에 대괄호 연산자를 사용하여 새로운 결과를 추가할 수 있습니다. 이 예제에서는 두 가지 결과가 문자열로 표시되며, 두 결과 모두 0.5의 확률을 가집니다.\n",
    "\n",
    "`Pmf`를 가능한 결과의 시퀀스에서 만들 수도 있습니다.\n",
    "\n",
    "다음 예제에서는 `Pmf.from_seq`를 사용하여 6면 주사위를 나타내는 Pmf를 만듭니다. 코드는 다음과 같습니다:"
   ]
  },
  {
   "cell_type": "code",
   "execution_count": 7,
   "id": "915006fc",
   "metadata": {},
   "outputs": [
    {
     "data": {
      "text/html": [
       "<div>\n",
       "<style scoped>\n",
       "    .dataframe tbody tr th:only-of-type {\n",
       "        vertical-align: middle;\n",
       "    }\n",
       "\n",
       "    .dataframe tbody tr th {\n",
       "        vertical-align: top;\n",
       "    }\n",
       "\n",
       "    .dataframe thead th {\n",
       "        text-align: right;\n",
       "    }\n",
       "</style>\n",
       "<table border=\"1\" class=\"dataframe\">\n",
       "  <thead>\n",
       "    <tr style=\"text-align: right;\">\n",
       "      <th></th>\n",
       "      <th>probs</th>\n",
       "    </tr>\n",
       "  </thead>\n",
       "  <tbody>\n",
       "    <tr>\n",
       "      <th>1</th>\n",
       "      <td>0.166667</td>\n",
       "    </tr>\n",
       "    <tr>\n",
       "      <th>2</th>\n",
       "      <td>0.166667</td>\n",
       "    </tr>\n",
       "    <tr>\n",
       "      <th>3</th>\n",
       "      <td>0.166667</td>\n",
       "    </tr>\n",
       "    <tr>\n",
       "      <th>4</th>\n",
       "      <td>0.166667</td>\n",
       "    </tr>\n",
       "    <tr>\n",
       "      <th>5</th>\n",
       "      <td>0.166667</td>\n",
       "    </tr>\n",
       "    <tr>\n",
       "      <th>6</th>\n",
       "      <td>0.166667</td>\n",
       "    </tr>\n",
       "  </tbody>\n",
       "</table>\n",
       "</div>"
      ],
      "text/plain": [
       "1    0.166667\n",
       "2    0.166667\n",
       "3    0.166667\n",
       "4    0.166667\n",
       "5    0.166667\n",
       "6    0.166667\n",
       "Name: , dtype: float64"
      ]
     },
     "execution_count": 7,
     "metadata": {},
     "output_type": "execute_result"
    }
   ],
   "source": [
    "die = Pmf.from_seq([1,2,3,4,5,6])\n",
    "die"
   ]
  },
  {
   "cell_type": "code",
   "execution_count": 8,
   "id": "6b930c4c",
   "metadata": {},
   "outputs": [
    {
     "data": {
      "text/plain": [
       "0.9999999999999999"
      ]
     },
     "execution_count": 8,
     "metadata": {},
     "output_type": "execute_result"
    }
   ],
   "source": [
    "sum(die)"
   ]
  },
  {
   "cell_type": "markdown",
   "id": "904279f0",
   "metadata": {},
   "source": [
    "이 예제에서는 시퀀스 내의 모든 결과가 한 번씩 나타나므로 모든 결과는 동일한 확률인 $1/6$을 가집니다.\n",
    "\n",
    "보다 일반적으로, 결과는 다음 예제와 같이 한 번 이상 나타날 수 있습니다:"
   ]
  },
  {
   "cell_type": "code",
   "execution_count": 10,
   "id": "22e4a75d",
   "metadata": {
    "scrolled": true
   },
   "outputs": [
    {
     "data": {
      "text/html": [
       "<div>\n",
       "<style scoped>\n",
       "    .dataframe tbody tr th:only-of-type {\n",
       "        vertical-align: middle;\n",
       "    }\n",
       "\n",
       "    .dataframe tbody tr th {\n",
       "        vertical-align: top;\n",
       "    }\n",
       "\n",
       "    .dataframe thead th {\n",
       "        text-align: right;\n",
       "    }\n",
       "</style>\n",
       "<table border=\"1\" class=\"dataframe\">\n",
       "  <thead>\n",
       "    <tr style=\"text-align: right;\">\n",
       "      <th></th>\n",
       "      <th>probs</th>\n",
       "    </tr>\n",
       "  </thead>\n",
       "  <tbody>\n",
       "    <tr>\n",
       "      <th>M</th>\n",
       "      <td>0.090909</td>\n",
       "    </tr>\n",
       "    <tr>\n",
       "      <th>i</th>\n",
       "      <td>0.363636</td>\n",
       "    </tr>\n",
       "    <tr>\n",
       "      <th>p</th>\n",
       "      <td>0.181818</td>\n",
       "    </tr>\n",
       "    <tr>\n",
       "      <th>s</th>\n",
       "      <td>0.363636</td>\n",
       "    </tr>\n",
       "  </tbody>\n",
       "</table>\n",
       "</div>"
      ],
      "text/plain": [
       "M    0.090909\n",
       "i    0.363636\n",
       "p    0.181818\n",
       "s    0.363636\n",
       "Name: , dtype: float64"
      ]
     },
     "execution_count": 10,
     "metadata": {},
     "output_type": "execute_result"
    }
   ],
   "source": [
    "letters = Pmf.from_seq(list('Mississippi')) # 빈도(frequensist)\n",
    "letters"
   ]
  },
  {
   "cell_type": "code",
   "execution_count": 13,
   "id": "85c3f590",
   "metadata": {},
   "outputs": [
    {
     "data": {
      "text/plain": [
       "['M', 'i', 's', 's', 'i', 's', 's', 'i', 'p', 'p', 'i']"
      ]
     },
     "execution_count": 13,
     "metadata": {},
     "output_type": "execute_result"
    }
   ],
   "source": [
    "list_str=list('Mississippi')\n",
    "list_str"
   ]
  },
  {
   "cell_type": "code",
   "execution_count": 14,
   "id": "d353db3d",
   "metadata": {},
   "outputs": [
    {
     "data": {
      "text/plain": [
       "11"
      ]
     },
     "execution_count": 14,
     "metadata": {},
     "output_type": "execute_result"
    }
   ],
   "source": [
    "len(list_str)"
   ]
  },
  {
   "cell_type": "code",
   "execution_count": 31,
   "id": "60d16903",
   "metadata": {
    "scrolled": true
   },
   "outputs": [
    {
     "data": {
      "text/plain": [
       "{'M': 0.09090909090909091,\n",
       " 'i': 0.36363636363636365,\n",
       " 's': 0.36363636363636365,\n",
       " 'p': 0.18181818181818182}"
      ]
     },
     "execution_count": 31,
     "metadata": {},
     "output_type": "execute_result"
    }
   ],
   "source": [
    "str_dict={}\n",
    "for i in list_str:\n",
    "    if i not in str_dict.keys(): \n",
    "        str_dict[i]=0\n",
    "        str_dict[i]+=1\n",
    "    else:\n",
    "        str_dict[i]+=1\n",
    "        \n",
    "for i,v in str_dict.items():\n",
    "    str_dict[i]=v/len(list_str)       \n",
    "    \n",
    "str_dict"
   ]
  },
  {
   "cell_type": "code",
   "execution_count": 32,
   "id": "9e5f1da0",
   "metadata": {
    "scrolled": true
   },
   "outputs": [
    {
     "data": {
      "text/plain": [
       "1.0"
      ]
     },
     "execution_count": 32,
     "metadata": {},
     "output_type": "execute_result"
    }
   ],
   "source": [
    "sum(str_dict.values())"
   ]
  },
  {
   "cell_type": "code",
   "execution_count": 37,
   "id": "cfef3caf",
   "metadata": {
    "scrolled": true
   },
   "outputs": [
    {
     "data": {
      "text/plain": [
       "Counter({'i': 0.36363636363636365,\n",
       "         's': 0.36363636363636365,\n",
       "         'p': 0.18181818181818182,\n",
       "         'M': 0.09090909090909091})"
      ]
     },
     "execution_count": 37,
     "metadata": {},
     "output_type": "execute_result"
    }
   ],
   "source": [
    "from collections import Counter\n",
    "\n",
    "list_str = list(\"Mississippi\")  # 입력 문자열을 여기에 넣으세요.\n",
    "str_dict = Counter(list_str)\n",
    "\n",
    "total_chars = len(list_str)\n",
    "for char, count in str_dict.items():\n",
    "    str_dict[char] = count / total_chars\n",
    "str_dict"
   ]
  },
  {
   "cell_type": "code",
   "execution_count": 38,
   "id": "924550ac",
   "metadata": {},
   "outputs": [],
   "source": [
    "def pmf1(x):\n",
    "    str_dict={}\n",
    "    for i in x:\n",
    "        if i not in str_dict.keys(): \n",
    "            str_dict[i]=0\n",
    "            str_dict[i]+=1\n",
    "        else:\n",
    "            str_dict[i]+=1\n",
    "    for i,v in str_dict.items():\n",
    "        str_dict[i]=v/len(x)   \n",
    "    return str_dict"
   ]
  },
  {
   "cell_type": "code",
   "execution_count": 39,
   "id": "4b4fd0d7",
   "metadata": {},
   "outputs": [],
   "source": [
    "import pandas as pd"
   ]
  },
  {
   "cell_type": "code",
   "execution_count": 40,
   "id": "a1d331dc",
   "metadata": {},
   "outputs": [
    {
     "data": {
      "text/plain": [
       "{'M': 0.09090909090909091,\n",
       " 'i': 0.36363636363636365,\n",
       " 's': 0.36363636363636365,\n",
       " 'p': 0.18181818181818182}"
      ]
     },
     "execution_count": 40,
     "metadata": {},
     "output_type": "execute_result"
    }
   ],
   "source": [
    "pmf1(list_str)"
   ]
  },
  {
   "cell_type": "code",
   "execution_count": 41,
   "id": "d9b847e2",
   "metadata": {},
   "outputs": [
    {
     "data": {
      "text/plain": [
       "M    0.090909\n",
       "i    0.363636\n",
       "s    0.363636\n",
       "p    0.181818\n",
       "dtype: float64"
      ]
     },
     "execution_count": 41,
     "metadata": {},
     "output_type": "execute_result"
    }
   ],
   "source": [
    "pd.Series(pmf1(list_str))"
   ]
  },
  {
   "cell_type": "markdown",
   "id": "d9d2dbd5",
   "metadata": {},
   "source": [
    "문자 `M`은 11자 중 한 번 나타나므로 확률은 $1/11$입니다.\n",
    "문자 'i'가 4번 나타나므로 확률은 $4/11$입니다.\n",
    "\n",
    "문자열의 문자는 무작위 프로세스의 결과가 아니므로 `Pmf`의 문자에 대해 보다 일반적인 용어인 \"수량\"을 사용하겠습니다.\n",
    "\n",
    "`Pmf` 클래스는 Pandas `Series`에서 상속되므로 `Series`로 수행할 수 있는 모든 작업은 `Pmf`로도 수행할 수 있습니다.\n",
    "\n",
    "예를 들어 대괄호 연산자를 사용하여 수량을 조회하고 해당 확률을 얻을 수 있습니다."
   ]
  },
  {
   "cell_type": "code",
   "execution_count": 43,
   "id": "846abaf8",
   "metadata": {},
   "outputs": [
    {
     "name": "stdout",
     "output_type": "stream",
     "text": [
      "<class 'KeyError'>\n"
     ]
    }
   ],
   "source": [
    "try:\n",
    "    letters['t']\n",
    "except KeyError as e:\n",
    "    print(type(e))"
   ]
  },
  {
   "cell_type": "markdown",
   "id": "d977568a",
   "metadata": {},
   "source": [
    "\"Mississippi\"라는 단어에서는 글자의 약 36%가 \"s\"입니다.\n",
    "\n",
    "그러나 분포에 없는 수량의 확률을 묻는 경우 'KeyError'가 발생합니다."
   ]
  },
  {
   "cell_type": "code",
   "execution_count": 45,
   "id": "8b1f4fd7",
   "metadata": {},
   "outputs": [
    {
     "data": {
      "text/plain": [
       "0.36363636363636365"
      ]
     },
     "execution_count": 45,
     "metadata": {},
     "output_type": "execute_result"
    }
   ],
   "source": [
    "letters('s')"
   ]
  },
  {
   "cell_type": "markdown",
   "id": "c36b58ba",
   "metadata": {},
   "source": [
    "수량이 분포에 포함되어 있으면 결과는 동일합니다.\n",
    "하지만 분포에 없으면 결과는 오류가 아닌 '0'입니다."
   ]
  },
  {
   "cell_type": "code",
   "execution_count": 46,
   "id": "d5972aca",
   "metadata": {},
   "outputs": [
    {
     "data": {
      "text/plain": [
       "0"
      ]
     },
     "execution_count": 46,
     "metadata": {},
     "output_type": "execute_result"
    }
   ],
   "source": [
    "letters('t')"
   ]
  },
  {
   "cell_type": "markdown",
   "id": "51f8ec6f",
   "metadata": {},
   "source": [
    "괄호를 사용하면 연속된 갯수를 제공하고 연속된 확률을 얻을 수도 있습니다."
   ]
  },
  {
   "cell_type": "code",
   "execution_count": 50,
   "id": "2ac637df",
   "metadata": {},
   "outputs": [
    {
     "data": {
      "text/plain": [
       "array([0.16666667, 0.16666667, 0.16666667, 0.16666667, 0.        ,\n",
       "       0.        ])"
      ]
     },
     "execution_count": 50,
     "metadata": {},
     "output_type": "execute_result"
    }
   ],
   "source": [
    "die([1,2,4,7,6,11])"
   ]
  },
  {
   "cell_type": "code",
   "execution_count": 51,
   "id": "61e1f339",
   "metadata": {},
   "outputs": [],
   "source": [
    "die2 = Pmf.from_seq([7,9,11,12,13])"
   ]
  },
  {
   "cell_type": "code",
   "execution_count": 52,
   "id": "d6f7644b",
   "metadata": {},
   "outputs": [
    {
     "data": {
      "text/plain": [
       "array([0. , 0. , 0. , 0.2, 0. , 0.2])"
      ]
     },
     "execution_count": 52,
     "metadata": {},
     "output_type": "execute_result"
    }
   ],
   "source": [
    "die2([1,2,4,7,6,11])"
   ]
  },
  {
   "cell_type": "code",
   "execution_count": 53,
   "id": "328743e3",
   "metadata": {},
   "outputs": [],
   "source": [
    "import random"
   ]
  },
  {
   "cell_type": "code",
   "execution_count": 67,
   "id": "d8d01cba",
   "metadata": {
    "scrolled": true
   },
   "outputs": [],
   "source": [
    "list_rand = []\n",
    "for _ in range(0,100):\n",
    "    list_rand.append(random.randint(0,100))\n",
    "# list_rand\n",
    "# pmf1(list_rand)\n",
    "# cnt = Counter(list_rand)\n",
    "# cnt"
   ]
  },
  {
   "cell_type": "code",
   "execution_count": 66,
   "id": "b1193204",
   "metadata": {},
   "outputs": [],
   "source": [
    "list1=random.choices(range(0,100),k=100)\n",
    "# pmf1(list1)"
   ]
  },
  {
   "cell_type": "markdown",
   "id": "f19519cd",
   "metadata": {},
   "source": [
    "$$ P(3 \\lt X \\lt 4)=> F_{X}(4) - F_{X}(3) $$"
   ]
  },
  {
   "cell_type": "code",
   "execution_count": 68,
   "id": "931d41cb",
   "metadata": {
    "scrolled": true
   },
   "outputs": [
    {
     "name": "stdout",
     "output_type": "stream",
     "text": [
      "0.14\n",
      "0.13\n",
      "0.06\n",
      "0.11\n",
      "0.08\n",
      "0.06\n",
      "0.17\n",
      "0.09\n",
      "0.09\n",
      "0.07\n"
     ]
    },
    {
     "data": {
      "text/plain": [
       "1.0"
      ]
     },
     "execution_count": 68,
     "metadata": {},
     "output_type": "execute_result"
    }
   ],
   "source": [
    "import numpy as np\n",
    "random_data = [np.random.randint(1,11) for i in range(100)]\n",
    "die3 = Pmf.from_seq(random_data)\n",
    "cdf= 0 #  누적(cumulative) 분포(distribution) 함수(function)\n",
    "for i in die3:\n",
    "    cdf+=i\n",
    "    print(i)\n",
    "cdf"
   ]
  },
  {
   "cell_type": "markdown",
   "id": "bb650981",
   "metadata": {},
   "source": [
    "## 쿠키 문제 재검토\n",
    "\n",
    "이 섹션에서는 `Pmf`를 사용하여 <<_TheCookieProblem>>의 쿠키 문제를 해결하겠습니다.\n",
    "문제의 진술은 다음과 같습니다.\n",
    "\n",
    "> 쿠키 두 그릇이 있다고 가정해 보세요.\n",
    ">\n",
    "> * 그릇 1에는 바닐라 쿠키 30개, 초코 쿠키 10개가 들어있습니다.\n",
    ">\n",
    "> * 그릇 2에는 바닐라 쿠키 20개, 초코 쿠키 20개가 들어있습니다.\n",
    ">\n",
    "> 이제 그릇 중 하나를 무작위로 선택하고 보지 않고 무작위로 쿠키를 선택한다고 가정해 보겠습니다. 쿠키가 바닐라라면 그릇 1에서 나왔을 확률은 얼마입니까?\n",
    "\n",
    "다음은 두 가지 가설과 사전 확률을 나타내는 `Pmf`입니다."
   ]
  },
  {
   "cell_type": "code",
   "execution_count": 69,
   "id": "a471275f",
   "metadata": {},
   "outputs": [
    {
     "data": {
      "text/html": [
       "<div>\n",
       "<style scoped>\n",
       "    .dataframe tbody tr th:only-of-type {\n",
       "        vertical-align: middle;\n",
       "    }\n",
       "\n",
       "    .dataframe tbody tr th {\n",
       "        vertical-align: top;\n",
       "    }\n",
       "\n",
       "    .dataframe thead th {\n",
       "        text-align: right;\n",
       "    }\n",
       "</style>\n",
       "<table border=\"1\" class=\"dataframe\">\n",
       "  <thead>\n",
       "    <tr style=\"text-align: right;\">\n",
       "      <th></th>\n",
       "      <th>probs</th>\n",
       "    </tr>\n",
       "  </thead>\n",
       "  <tbody>\n",
       "    <tr>\n",
       "      <th>Bowl 1</th>\n",
       "      <td>0.5</td>\n",
       "    </tr>\n",
       "    <tr>\n",
       "      <th>Bowl 2</th>\n",
       "      <td>0.5</td>\n",
       "    </tr>\n",
       "  </tbody>\n",
       "</table>\n",
       "</div>"
      ],
      "text/plain": [
       "Bowl 1    0.5\n",
       "Bowl 2    0.5\n",
       "Name: , dtype: float64"
      ]
     },
     "execution_count": 69,
     "metadata": {},
     "output_type": "execute_result"
    }
   ],
   "source": [
    "prior = Pmf.from_seq(['Bowl 1','Bowl 2'])\n",
    "prior"
   ]
  },
  {
   "cell_type": "markdown",
   "id": "c686f3f3",
   "metadata": {},
   "source": [
    "각 가설에 대한 사전 확률을 포함하는 이 분포를 **사전(prior) 분포**라고 합니다.\n",
    "\n",
    "새로운 데이터(바닐라 쿠키)를 기반으로 분포를 업데이트하려면,\n",
    "사전에 가능성(likelihood)을 곱합니다. 가능성\n",
    "그릇 1에서 바닐라 쿠키를 선택하는 가능성은 '3/4'입니다. 가능성\n",
    "Bowl 2의 likelihood '1/2'입니다."
   ]
  },
  {
   "cell_type": "code",
   "execution_count": 70,
   "id": "f13d32f2",
   "metadata": {},
   "outputs": [
    {
     "data": {
      "text/html": [
       "<div>\n",
       "<style scoped>\n",
       "    .dataframe tbody tr th:only-of-type {\n",
       "        vertical-align: middle;\n",
       "    }\n",
       "\n",
       "    .dataframe tbody tr th {\n",
       "        vertical-align: top;\n",
       "    }\n",
       "\n",
       "    .dataframe thead th {\n",
       "        text-align: right;\n",
       "    }\n",
       "</style>\n",
       "<table border=\"1\" class=\"dataframe\">\n",
       "  <thead>\n",
       "    <tr style=\"text-align: right;\">\n",
       "      <th></th>\n",
       "      <th>probs</th>\n",
       "    </tr>\n",
       "  </thead>\n",
       "  <tbody>\n",
       "    <tr>\n",
       "      <th>Bowl 1</th>\n",
       "      <td>0.375</td>\n",
       "    </tr>\n",
       "    <tr>\n",
       "      <th>Bowl 2</th>\n",
       "      <td>0.250</td>\n",
       "    </tr>\n",
       "  </tbody>\n",
       "</table>\n",
       "</div>"
      ],
      "text/plain": [
       "Bowl 1    0.375\n",
       "Bowl 2    0.250\n",
       "Name: , dtype: float64"
      ]
     },
     "execution_count": 70,
     "metadata": {},
     "output_type": "execute_result"
    }
   ],
   "source": [
    "likelihood_vanilla=[0.75,0.5]\n",
    "posterior = prior * likelihood_vanilla\n",
    "posterior"
   ]
  },
  {
   "cell_type": "markdown",
   "id": "9d6f021b",
   "metadata": {},
   "source": [
    "데이터의 likelihood는 각 그릇에 담긴 바닐라 쿠키의 비율이며, `hypos`를 사용하여 계산할 수 있습니다."
   ]
  },
  {
   "cell_type": "markdown",
   "id": "eee77e53",
   "metadata": {},
   "source": [
    "결과는 정규화되지 않은 후방입니다. 즉, 합이 1이 되지 않습니다.\n",
    "이를 1이 되도록 하려면 `Pmf`에서 제공하는 방법인 `normalize`를 사용하면 됩니다."
   ]
  },
  {
   "cell_type": "code",
   "execution_count": 71,
   "id": "8b398044",
   "metadata": {},
   "outputs": [
    {
     "data": {
      "text/plain": [
       "0.625"
      ]
     },
     "execution_count": 71,
     "metadata": {},
     "output_type": "execute_result"
    }
   ],
   "source": [
    "posterior.normalize()"
   ]
  },
  {
   "cell_type": "markdown",
   "id": "94566f32",
   "metadata": {},
   "source": [
    "'normalize'의 반환 값은 데이터의 총 확률이며 $5/8$입니다.\n",
    "\n",
    "각 가설에 대한 사후 확률을 포함하는 'posterior'를  **사후 분포**라고 합니다."
   ]
  },
  {
   "cell_type": "code",
   "execution_count": 72,
   "id": "042f5e74",
   "metadata": {},
   "outputs": [
    {
     "data": {
      "text/html": [
       "<div>\n",
       "<style scoped>\n",
       "    .dataframe tbody tr th:only-of-type {\n",
       "        vertical-align: middle;\n",
       "    }\n",
       "\n",
       "    .dataframe tbody tr th {\n",
       "        vertical-align: top;\n",
       "    }\n",
       "\n",
       "    .dataframe thead th {\n",
       "        text-align: right;\n",
       "    }\n",
       "</style>\n",
       "<table border=\"1\" class=\"dataframe\">\n",
       "  <thead>\n",
       "    <tr style=\"text-align: right;\">\n",
       "      <th></th>\n",
       "      <th>probs</th>\n",
       "    </tr>\n",
       "  </thead>\n",
       "  <tbody>\n",
       "    <tr>\n",
       "      <th>Bowl 1</th>\n",
       "      <td>0.6</td>\n",
       "    </tr>\n",
       "    <tr>\n",
       "      <th>Bowl 2</th>\n",
       "      <td>0.4</td>\n",
       "    </tr>\n",
       "  </tbody>\n",
       "</table>\n",
       "</div>"
      ],
      "text/plain": [
       "Bowl 1    0.6\n",
       "Bowl 2    0.4\n",
       "Name: , dtype: float64"
      ]
     },
     "execution_count": 72,
     "metadata": {},
     "output_type": "execute_result"
    }
   ],
   "source": [
    "posterior"
   ]
  },
  {
   "cell_type": "markdown",
   "id": "09863039",
   "metadata": {},
   "source": [
    "사후 분포에서 Bowl 1에 대한 사후 확률을 선택할 수 있습니다."
   ]
  },
  {
   "cell_type": "code",
   "execution_count": 73,
   "id": "7ea5cd79",
   "metadata": {},
   "outputs": [
    {
     "data": {
      "text/plain": [
       "0.6"
      ]
     },
     "execution_count": 73,
     "metadata": {},
     "output_type": "execute_result"
    }
   ],
   "source": [
    "posterior('Bowl 1')"
   ]
  },
  {
   "cell_type": "markdown",
   "id": "3f2f3065",
   "metadata": {},
   "source": [
    "그리고 답은 0.6입니다.\n",
    "\n",
    "`Pmf`개체를 사용하면 더 많은 데이터로 연속적인 업데이트를 쉽게 수행할 수 있다는 이점이 있습니다.\n",
    "예를 들어, 첫 번째 쿠키를 다시 넣고(그릇의 내용물이 변하지 않도록) 동일한 그릇에서 다시 선택합니다.\n",
    "두 번째 쿠키도 바닐라인 경우 다음과 같이 두 번째 업데이트를 수행할 수 있습니다."
   ]
  },
  {
   "cell_type": "markdown",
   "id": "f5412156",
   "metadata": {},
   "source": [
    "$$ P(\\theta | X) = \\frac{P(X|\\theta)P(\\theta)}{P(X)} $$"
   ]
  },
  {
   "cell_type": "code",
   "execution_count": 74,
   "id": "e072dce4",
   "metadata": {},
   "outputs": [
    {
     "data": {
      "text/html": [
       "<div>\n",
       "<style scoped>\n",
       "    .dataframe tbody tr th:only-of-type {\n",
       "        vertical-align: middle;\n",
       "    }\n",
       "\n",
       "    .dataframe tbody tr th {\n",
       "        vertical-align: top;\n",
       "    }\n",
       "\n",
       "    .dataframe thead th {\n",
       "        text-align: right;\n",
       "    }\n",
       "</style>\n",
       "<table border=\"1\" class=\"dataframe\">\n",
       "  <thead>\n",
       "    <tr style=\"text-align: right;\">\n",
       "      <th></th>\n",
       "      <th>probs</th>\n",
       "    </tr>\n",
       "  </thead>\n",
       "  <tbody>\n",
       "    <tr>\n",
       "      <th>Bowl 1</th>\n",
       "      <td>0.692308</td>\n",
       "    </tr>\n",
       "    <tr>\n",
       "      <th>Bowl 2</th>\n",
       "      <td>0.307692</td>\n",
       "    </tr>\n",
       "  </tbody>\n",
       "</table>\n",
       "</div>"
      ],
      "text/plain": [
       "Bowl 1    0.692308\n",
       "Bowl 2    0.307692\n",
       "Name: , dtype: float64"
      ]
     },
     "execution_count": 74,
     "metadata": {},
     "output_type": "execute_result"
    }
   ],
   "source": [
    "posterior*=likelihood_vanilla # 사후 확률은 이전의 사후확률이 다시 사전확률이 되어 \n",
    "#likelihood와 곱한다. 갱신\n",
    "posterior.normalize() #정규화\n",
    "posterior #더한 결과 1"
   ]
  },
  {
   "cell_type": "markdown",
   "id": "17d578c4",
   "metadata": {},
   "source": [
    "이제 그릇 1의 사후 확률은 거의 70%입니다.\n",
    "하지만 같은 일을 다시 해서 초콜릿 쿠키를 얻었다고 가정해 보세요.\n",
    "\n",
    "새 데이터의 가능성은 다음과 같습니다."
   ]
  },
  {
   "cell_type": "code",
   "execution_count": 76,
   "id": "69f5c142",
   "metadata": {},
   "outputs": [],
   "source": [
    "likelihood_chocolate=[0.25,0.5]"
   ]
  },
  {
   "cell_type": "code",
   "execution_count": 77,
   "id": "bd21f27a",
   "metadata": {},
   "outputs": [
    {
     "data": {
      "text/html": [
       "<div>\n",
       "<style scoped>\n",
       "    .dataframe tbody tr th:only-of-type {\n",
       "        vertical-align: middle;\n",
       "    }\n",
       "\n",
       "    .dataframe tbody tr th {\n",
       "        vertical-align: top;\n",
       "    }\n",
       "\n",
       "    .dataframe thead th {\n",
       "        text-align: right;\n",
       "    }\n",
       "</style>\n",
       "<table border=\"1\" class=\"dataframe\">\n",
       "  <thead>\n",
       "    <tr style=\"text-align: right;\">\n",
       "      <th></th>\n",
       "      <th>probs</th>\n",
       "    </tr>\n",
       "  </thead>\n",
       "  <tbody>\n",
       "    <tr>\n",
       "      <th>Bowl 1</th>\n",
       "      <td>0.529412</td>\n",
       "    </tr>\n",
       "    <tr>\n",
       "      <th>Bowl 2</th>\n",
       "      <td>0.470588</td>\n",
       "    </tr>\n",
       "  </tbody>\n",
       "</table>\n",
       "</div>"
      ],
      "text/plain": [
       "Bowl 1    0.529412\n",
       "Bowl 2    0.470588\n",
       "Name: , dtype: float64"
      ]
     },
     "execution_count": 77,
     "metadata": {},
     "output_type": "execute_result"
    }
   ],
   "source": [
    "posterior *= likelihood_chocolate\n",
    "posterior.normalize()\n",
    "posterior"
   ]
  },
  {
   "cell_type": "markdown",
   "id": "1e716142",
   "metadata": {},
   "source": [
    "이제 그릇 1의 사후 확률은 약 53%입니다.\n",
    "바닐라 쿠키 2개와 초콜릿 1개 이후의 사후 확률은 50/50에 가깝습니다."
   ]
  },
  {
   "cell_type": "markdown",
   "id": "50931251",
   "metadata": {},
   "source": [
    "## 101그릇\n",
    "\n",
    "다음으로 101개의 그릇으로 쿠키 문제를 해결해 보겠습니다.\n",
    "\n",
    "* 그릇 0에는 바닐라 쿠키 0%가 들어 있으며,\n",
    "\n",
    "* 그릇 1에는 바닐라 쿠키 1%가 들어있고,\n",
    "\n",
    "* 그릇 2에는 바닐라 쿠키 2%가 들어있고,\n",
    "\n",
    "등등, 최대\n",
    "\n",
    "* 그릇 99에는 바닐라 쿠키가 99% 함유되어 있으며,\n",
    "\n",
    "* 100그릇에는 바닐라 쿠키가 모두 들어있습니다.\n",
    "\n",
    "이전 버전과 마찬가지로 쿠키는 바닐라와 초콜렛 두 종류만 존재합니다. 따라서 그릇 0은 모두 초콜릿 쿠키이고 그릇 1은 99% 초콜릿입니다.\n",
    "\n",
    "그릇을 무작위로 선택하고, 쿠키도 무작위로 선택했는데, 결과적으로 바닐라가 나왔다고 가정해 보겠습니다. $x$의 각 값에 대해 쿠키가 Bowl $x$에서 나올 확률은 얼마입니까?\n",
    "\n",
    "이 문제를 해결하기 위해 'np.arange'를 사용하여 0부터 100까지 번호가 매겨진 101개의 가설을 나타내는 배열을 만듭니다."
   ]
  },
  {
   "cell_type": "code",
   "execution_count": 78,
   "id": "945d2de3",
   "metadata": {},
   "outputs": [],
   "source": [
    "import numpy as np"
   ]
  },
  {
   "cell_type": "code",
   "execution_count": 82,
   "id": "812212ff",
   "metadata": {},
   "outputs": [
    {
     "data": {
      "text/plain": [
       "array([  0,   1,   2,   3,   4,   5,   6,   7,   8,   9,  10,  11,  12,\n",
       "        13,  14,  15,  16,  17,  18,  19,  20,  21,  22,  23,  24,  25,\n",
       "        26,  27,  28,  29,  30,  31,  32,  33,  34,  35,  36,  37,  38,\n",
       "        39,  40,  41,  42,  43,  44,  45,  46,  47,  48,  49,  50,  51,\n",
       "        52,  53,  54,  55,  56,  57,  58,  59,  60,  61,  62,  63,  64,\n",
       "        65,  66,  67,  68,  69,  70,  71,  72,  73,  74,  75,  76,  77,\n",
       "        78,  79,  80,  81,  82,  83,  84,  85,  86,  87,  88,  89,  90,\n",
       "        91,  92,  93,  94,  95,  96,  97,  98,  99, 100])"
      ]
     },
     "execution_count": 82,
     "metadata": {},
     "output_type": "execute_result"
    }
   ],
   "source": [
    "hypos = np.arange(101)\n",
    "hypos"
   ]
  },
  {
   "cell_type": "markdown",
   "id": "eee06c91",
   "metadata": {},
   "source": [
    "사전 확률을 생성하기 위해 배열 사용"
   ]
  },
  {
   "cell_type": "code",
   "execution_count": 85,
   "id": "29e87678",
   "metadata": {
    "scrolled": true
   },
   "outputs": [
    {
     "data": {
      "text/plain": [
       "101"
      ]
     },
     "execution_count": 85,
     "metadata": {},
     "output_type": "execute_result"
    }
   ],
   "source": [
    "prior = Pmf(1,hypos)\n",
    "prior.normalize()\n",
    "# prior"
   ]
  },
  {
   "cell_type": "markdown",
   "id": "9eb95fbb",
   "metadata": {},
   "source": [
    "이 예에서 볼 수 있듯이 두 개의 매개변수를 사용하여 `Pmf`를 초기화할 수 있습니다.\n",
    "첫 번째 매개변수는 사전 확률입니다. 두 번째 매개변수는 일련의 수량입니다.\n",
    "\n",
    "이 예에서는 확률이 모두 동일하므로 그 중 하나만 제공하면 됩니다. 그것은 가설 전반에 걸쳐 \"broadcast(차원을 맞추기위해 복제)\"됩니다.\n",
    "모든 가설은 동일한 사전 확률을 가지므로 이 분포는 **균일**합니다.\n",
    "\n",
    "처음 몇 가지 가설과 확률은 다음과 같습니다."
   ]
  },
  {
   "cell_type": "code",
   "execution_count": 88,
   "id": "5ac5dd82",
   "metadata": {},
   "outputs": [
    {
     "data": {
      "text/plain": [
       "(50, 2)"
      ]
     },
     "execution_count": 88,
     "metadata": {},
     "output_type": "execute_result"
    }
   ],
   "source": [
    "x_broadcast=np.arange(1,101).reshape(50,2)\n",
    "x_broadcast.shape"
   ]
  },
  {
   "cell_type": "code",
   "execution_count": 91,
   "id": "b8da24f9",
   "metadata": {},
   "outputs": [],
   "source": [
    "y_broadcast=np.arange(1,51)\n",
    "y_broadcast.shape\n",
    "z_=y_broadcast.reshape(50,1)"
   ]
  },
  {
   "cell_type": "code",
   "execution_count": 95,
   "id": "024b0734",
   "metadata": {},
   "outputs": [
    {
     "data": {
      "text/plain": [
       "180.0"
      ]
     },
     "execution_count": 95,
     "metadata": {},
     "output_type": "execute_result"
    }
   ],
   "source": [
    "np.rad2deg(np.pi)"
   ]
  },
  {
   "cell_type": "code",
   "execution_count": 96,
   "id": "ab27c22b",
   "metadata": {
    "scrolled": true
   },
   "outputs": [
    {
     "data": {
      "text/plain": [
       "180.0"
      ]
     },
     "execution_count": 96,
     "metadata": {},
     "output_type": "execute_result"
    }
   ],
   "source": [
    "np.degrees(np.pi)"
   ]
  },
  {
   "cell_type": "code",
   "execution_count": 100,
   "id": "3af938ba",
   "metadata": {},
   "outputs": [],
   "source": [
    "d90 = np.deg2rad(90)"
   ]
  },
  {
   "cell_type": "code",
   "execution_count": 101,
   "id": "813d2b12",
   "metadata": {},
   "outputs": [
    {
     "data": {
      "text/plain": [
       "6.123233995736766e-17"
      ]
     },
     "execution_count": 101,
     "metadata": {},
     "output_type": "execute_result"
    }
   ],
   "source": [
    "np.cos(d90)"
   ]
  },
  {
   "cell_type": "code",
   "execution_count": 103,
   "id": "f3af314c",
   "metadata": {},
   "outputs": [
    {
     "data": {
      "text/plain": [
       "array([[ 6.123234e-17, -1.000000e+00],\n",
       "       [ 1.000000e+00,  6.123234e-17]])"
      ]
     },
     "execution_count": 103,
     "metadata": {},
     "output_type": "execute_result"
    }
   ],
   "source": [
    "rotate_matrix_90d=np.array([[np.cos(d90),-np.sin(d90)],[np.sin(d90),np.cos(d90)]])\n",
    "rotate_matrix_90d"
   ]
  },
  {
   "cell_type": "code",
   "execution_count": 105,
   "id": "9ad434d9",
   "metadata": {},
   "outputs": [
    {
     "data": {
      "text/plain": [
       "array([-3.,  4.])"
      ]
     },
     "execution_count": 105,
     "metadata": {},
     "output_type": "execute_result"
    }
   ],
   "source": [
    "np.dot(rotate_matrix_90d,np.array([4,3]))"
   ]
  },
  {
   "cell_type": "markdown",
   "id": "27286f08",
   "metadata": {},
   "source": [
    "$$ 회전 행렬 = \\begin{pmatrix}\n",
    " cos\\theta&-sin\\theta  \\\\\n",
    " sin\\theta&cos\\theta \n",
    "\\end{pmatrix} $$"
   ]
  },
  {
   "cell_type": "code",
   "execution_count": 137,
   "id": "fc66739b",
   "metadata": {
    "scrolled": true
   },
   "outputs": [
    {
     "data": {
      "text/plain": [
       "(2, 1)"
      ]
     },
     "execution_count": 137,
     "metadata": {},
     "output_type": "execute_result"
    }
   ],
   "source": [
    "x_ = np.array([[1,2]]).T\n",
    "x_.shape"
   ]
  },
  {
   "cell_type": "code",
   "execution_count": 155,
   "id": "d5fa7504",
   "metadata": {},
   "outputs": [
    {
     "name": "stdout",
     "output_type": "stream",
     "text": [
      "(2, 3)\n",
      "(1, 3)\n"
     ]
    },
    {
     "data": {
      "text/plain": [
       "array([14, 20])"
      ]
     },
     "execution_count": 155,
     "metadata": {},
     "output_type": "execute_result"
    }
   ],
   "source": [
    "a_matrix=np.array([[1,2,3],\n",
    "                   [1,2,5]]) \n",
    "print(a_matrix.shape)\n",
    "b_vecotr = np.array([1,2,3])\n",
    "# print(b_vecotr.shape)\n",
    "b_vecotr_2 = np.array([[1,2,3]])\n",
    "print(b_vecotr_2.shape)\n",
    "np.dot(a_matrix,b_vecotr)"
   ]
  },
  {
   "cell_type": "code",
   "execution_count": 159,
   "id": "35e6cc81",
   "metadata": {
    "scrolled": true
   },
   "outputs": [
    {
     "data": {
      "text/plain": [
       "array([[10, 40, 90],\n",
       "       [10, 40, 90]])"
      ]
     },
     "execution_count": 159,
     "metadata": {},
     "output_type": "execute_result"
    }
   ],
   "source": [
    "a = np.array([[1,2,3],[1,2,3]])\n",
    "b2 = np.array([[10,20,30]])\n",
    "a*b2  #broadcasting 발생하여 자동으로 계산 , 아다마르곱 됨"
   ]
  },
  {
   "cell_type": "code",
   "execution_count": 135,
   "id": "32174ef5",
   "metadata": {
    "scrolled": true
   },
   "outputs": [
    {
     "data": {
      "text/plain": [
       "array([[-3.],\n",
       "       [ 4.]])"
      ]
     },
     "execution_count": 135,
     "metadata": {},
     "output_type": "execute_result"
    }
   ],
   "source": [
    "vector_org1 = np.array([4, 3]).reshape(2,1)\n",
    "rotate_mat(vector_org1)"
   ]
  },
  {
   "cell_type": "code",
   "execution_count": 115,
   "id": "33ea7f78",
   "metadata": {},
   "outputs": [],
   "source": [
    "def rotate_mat(x):\n",
    "    rotate_matrix_90d=np.array([[np.cos(d90),-np.sin(d90)],[np.sin(d90),np.cos(d90)]])\n",
    "    return np.dot(rotate_matrix_90d,x)"
   ]
  },
  {
   "cell_type": "code",
   "execution_count": 133,
   "id": "b4524555",
   "metadata": {},
   "outputs": [
    {
     "data": {
      "text/plain": [
       "5.0"
      ]
     },
     "execution_count": 133,
     "metadata": {},
     "output_type": "execute_result"
    }
   ],
   "source": [
    "vector_org = np.array([4, 3])\n",
    "sum1=0\n",
    "for i in vector_org:\n",
    "    sum1+=i*i\n",
    "np.sqrt(sum1)"
   ]
  },
  {
   "cell_type": "code",
   "execution_count": 122,
   "id": "4403f1c6",
   "metadata": {},
   "outputs": [
    {
     "data": {
      "text/plain": [
       "array([-12.,  12.])"
      ]
     },
     "execution_count": 122,
     "metadata": {},
     "output_type": "execute_result"
    }
   ],
   "source": [
    "vector_org = [4, 3]\n",
    "rotate_vector=rotate_mat(vector_org)\n"
   ]
  },
  {
   "cell_type": "code",
   "execution_count": 129,
   "id": "7bc63c2e",
   "metadata": {},
   "outputs": [
    {
     "data": {
      "image/png": "[encoded data removed]",
      "text/plain": [
       "<Figure size 640x480 with 1 Axes>"
      ]
     },
     "metadata": {},
     "output_type": "display_data"
    }
   ],
   "source": [
    "import matplotlib.pyplot as plt\n",
    "\n",
    "# 2차원 벡터를 정의합니다.\n",
    "vector_org = [4, 3]\n",
    "\n",
    "# 원점에서 벡터의 끝점까지 화살표를 그립니다.\n",
    "plt.quiver(0, 0, vector_org[0], vector_org[1], angles='xy', scale_units='xy', scale=1)\n",
    "plt.quiver(0, 0, rotate_vector[0], rotate_vector[1], angles='xy', scale_units='xy', scale=1)\n",
    "\n",
    "# x, y 축 범위를 설정합니다.\n",
    "plt.xlim(-4, 10)\n",
    "plt.ylim(0, 10)\n",
    "\n",
    "# x, y 축 레이블을 설정합니다.\n",
    "plt.xlabel('X-Axis')\n",
    "plt.ylabel('Y-Axis')\n",
    "\n",
    "# 그리드를 표시합니다.\n",
    "plt.grid()\n",
    "\n",
    "# 그래프를 보여줍니다.\n",
    "plt.show()"
   ]
  },
  {
   "cell_type": "code",
   "execution_count": 94,
   "id": "332427dc",
   "metadata": {},
   "outputs": [],
   "source": [
    "# x_broadcast * z_"
   ]
  },
  {
   "cell_type": "code",
   "execution_count": 86,
   "id": "05a86234",
   "metadata": {
    "scrolled": true
   },
   "outputs": [
    {
     "data": {
      "text/html": [
       "<div>\n",
       "<style scoped>\n",
       "    .dataframe tbody tr th:only-of-type {\n",
       "        vertical-align: middle;\n",
       "    }\n",
       "\n",
       "    .dataframe tbody tr th {\n",
       "        vertical-align: top;\n",
       "    }\n",
       "\n",
       "    .dataframe thead th {\n",
       "        text-align: right;\n",
       "    }\n",
       "</style>\n",
       "<table border=\"1\" class=\"dataframe\">\n",
       "  <thead>\n",
       "    <tr style=\"text-align: right;\">\n",
       "      <th></th>\n",
       "      <th>probs</th>\n",
       "    </tr>\n",
       "  </thead>\n",
       "  <tbody>\n",
       "    <tr>\n",
       "      <th>0</th>\n",
       "      <td>0.009901</td>\n",
       "    </tr>\n",
       "    <tr>\n",
       "      <th>1</th>\n",
       "      <td>0.009901</td>\n",
       "    </tr>\n",
       "    <tr>\n",
       "      <th>2</th>\n",
       "      <td>0.009901</td>\n",
       "    </tr>\n",
       "  </tbody>\n",
       "</table>\n",
       "</div>"
      ],
      "text/plain": [
       "0    0.009901\n",
       "1    0.009901\n",
       "2    0.009901\n",
       "Name: , dtype: float64"
      ]
     },
     "execution_count": 86,
     "metadata": {},
     "output_type": "execute_result"
    }
   ],
   "source": [
    "prior.head()"
   ]
  },
  {
   "cell_type": "code",
   "execution_count": 224,
   "id": "8c2b4993",
   "metadata": {},
   "outputs": [
    {
     "data": {
      "text/plain": [
       "array([0.  , 0.01, 0.02, 0.03, 0.04])"
      ]
     },
     "execution_count": 224,
     "metadata": {},
     "output_type": "execute_result"
    }
   ],
   "source": [
    "likelihood_vanilla = hypos/100\n",
    "likelihood_vanilla[:5]"
   ]
  },
  {
   "cell_type": "markdown",
   "id": "e3381c76",
   "metadata": {},
   "source": [
    "하나의 바닐라 쿠키 후에 사전분포와 사후 분포의 그림그리기"
   ]
  },
  {
   "cell_type": "code",
   "execution_count": 228,
   "id": "395d7d08",
   "metadata": {
    "scrolled": true
   },
   "outputs": [],
   "source": [
    "from utils import decorate"
   ]
  },
  {
   "cell_type": "code",
   "execution_count": 229,
   "id": "29a078fe",
   "metadata": {},
   "outputs": [],
   "source": [
    "def decorate_bowls(title):\n",
    "    decorate(xlabel='Bowl #',ylabel = 'PMF', title=title)"
   ]
  },
  {
   "cell_type": "code",
   "execution_count": 225,
   "id": "945b0761",
   "metadata": {
    "scrolled": false
   },
   "outputs": [
    {
     "data": {
      "text/html": [
       "<div>\n",
       "<style scoped>\n",
       "    .dataframe tbody tr th:only-of-type {\n",
       "        vertical-align: middle;\n",
       "    }\n",
       "\n",
       "    .dataframe tbody tr th {\n",
       "        vertical-align: top;\n",
       "    }\n",
       "\n",
       "    .dataframe thead th {\n",
       "        text-align: right;\n",
       "    }\n",
       "</style>\n",
       "<table border=\"1\" class=\"dataframe\">\n",
       "  <thead>\n",
       "    <tr style=\"text-align: right;\">\n",
       "      <th></th>\n",
       "      <th>probs</th>\n",
       "    </tr>\n",
       "  </thead>\n",
       "  <tbody>\n",
       "    <tr>\n",
       "      <th>0</th>\n",
       "      <td>0.000000</td>\n",
       "    </tr>\n",
       "    <tr>\n",
       "      <th>1</th>\n",
       "      <td>0.000198</td>\n",
       "    </tr>\n",
       "    <tr>\n",
       "      <th>2</th>\n",
       "      <td>0.000396</td>\n",
       "    </tr>\n",
       "  </tbody>\n",
       "</table>\n",
       "</div>"
      ],
      "text/plain": [
       "0    0.000000\n",
       "1    0.000198\n",
       "2    0.000396\n",
       "Name: , dtype: float64"
      ]
     },
     "execution_count": 225,
     "metadata": {},
     "output_type": "execute_result"
    }
   ],
   "source": [
    "posterior1 = prior*likelihood_vanilla\n",
    "posterior1.normalize()\n",
    "posterior1.head()"
   ]
  },
  {
   "cell_type": "code",
   "execution_count": 230,
   "id": "a37d1844",
   "metadata": {
    "scrolled": true
   },
   "outputs": [
    {
     "data": {
      "image/png": "[encoded data removed]",
      "text/plain": [
       "<Figure size 640x480 with 1 Axes>"
      ]
     },
     "metadata": {},
     "output_type": "display_data"
    }
   ],
   "source": [
    "prior.plot(label='prior',color='C5')\n",
    "posterior1.plot(label='posterior', color='C4')\n",
    "decorate_bowls('Posterior after one vanilla cookie')"
   ]
  },
  {
   "cell_type": "code",
   "execution_count": 231,
   "id": "7272ed44",
   "metadata": {
    "scrolled": true
   },
   "outputs": [
    {
     "data": {
      "text/html": [
       "<div>\n",
       "<style scoped>\n",
       "    .dataframe tbody tr th:only-of-type {\n",
       "        vertical-align: middle;\n",
       "    }\n",
       "\n",
       "    .dataframe tbody tr th {\n",
       "        vertical-align: top;\n",
       "    }\n",
       "\n",
       "    .dataframe thead th {\n",
       "        text-align: right;\n",
       "    }\n",
       "</style>\n",
       "<table border=\"1\" class=\"dataframe\">\n",
       "  <thead>\n",
       "    <tr style=\"text-align: right;\">\n",
       "      <th></th>\n",
       "      <th>probs</th>\n",
       "    </tr>\n",
       "  </thead>\n",
       "  <tbody>\n",
       "    <tr>\n",
       "      <th>0</th>\n",
       "      <td>0.000000</td>\n",
       "    </tr>\n",
       "    <tr>\n",
       "      <th>1</th>\n",
       "      <td>0.000003</td>\n",
       "    </tr>\n",
       "    <tr>\n",
       "      <th>2</th>\n",
       "      <td>0.000012</td>\n",
       "    </tr>\n",
       "  </tbody>\n",
       "</table>\n",
       "</div>"
      ],
      "text/plain": [
       "0    0.000000\n",
       "1    0.000003\n",
       "2    0.000012\n",
       "Name: , dtype: float64"
      ]
     },
     "execution_count": 231,
     "metadata": {},
     "output_type": "execute_result"
    }
   ],
   "source": [
    "posterior2 = posterior1*likelihood_vanilla\n",
    "posterior2.normalize()\n",
    "posterior2.head()"
   ]
  },
  {
   "cell_type": "code",
   "execution_count": 232,
   "id": "126e5206",
   "metadata": {
    "scrolled": true
   },
   "outputs": [
    {
     "data": {
      "image/png": "[encoded data removed]",
      "text/plain": [
       "<Figure size 640x480 with 1 Axes>"
      ]
     },
     "metadata": {},
     "output_type": "display_data"
    }
   ],
   "source": [
    "prior.plot(label='prior',color='C5')\n",
    "posterior2.plot(label='posterior', color='C4')\n",
    "decorate_bowls('Posterior after one vanilla cookie')"
   ]
  },
  {
   "cell_type": "markdown",
   "id": "c77f67f9",
   "metadata": {},
   "source": [
    "두 개의 바닐라 쿠키 다음에는 숫자가 높은 그릇에 바닐라 쿠키가 가장 많이 포함되어 있으므로 사후 확률이 가장 높습니다. 낮은 번호의 그릇은 확률이 가장 낮습니다.\n",
    "\n",
    "하지만 다시 그림을 그려 초콜릿 쿠키를 얻었다고 가정해 보겠습니다.\n",
    "업데이트는 다음과 같습니다."
   ]
  },
  {
   "cell_type": "code",
   "execution_count": 245,
   "id": "e76daf0c",
   "metadata": {},
   "outputs": [
    {
     "data": {
      "text/plain": [
       "0.2462686567164179"
      ]
     },
     "execution_count": 245,
     "metadata": {},
     "output_type": "execute_result"
    }
   ],
   "source": [
    "likelihood_chocolate= 1-hypos/100\n",
    "posterior3 = posterior2*likelihood_chocolate\n",
    "posterior3.normalize()"
   ]
  },
  {
   "cell_type": "code",
   "execution_count": 252,
   "id": "49358b3b",
   "metadata": {
    "scrolled": false
   },
   "outputs": [
    {
     "data": {
      "image/png": "[encoded data removed]",
      "text/plain": [
       "<Figure size 640x480 with 1 Axes>"
      ]
     },
     "metadata": {},
     "output_type": "display_data"
    }
   ],
   "source": [
    "prior.plot(label='prior',color='C5')\n",
    "posterior3.plot(label='posterior', color='C4')\n",
    "decorate_bowls('Posterior after one vanilla cookie')\n"
   ]
  },
  {
   "cell_type": "markdown",
   "id": "4cc8fdbe",
   "metadata": {},
   "source": [
    "이제 Bowl 100에는 초콜릿 쿠키가 포함되어 있지 않기 때문에 제거되었습니다.\n",
    "그러나 숫자가 높은 그릇이 낮은 그릇보다 더 가능성이 높습니다. 왜냐하면 우리가 초콜릿보다 바닐라 쿠키를 더 많이 봤기 때문입니다.\n",
    "\n",
    "실제로 사후 분포의 정점은 Bowl 67에 있으며, 이는 우리가 관찰한 데이터에서 바닐라 쿠키의 비율인 $2/3$에 해당합니다.\n",
    "\n",
    "사후 확률이 가장 높은 수량을 **MAP**이라고 하며 이는 \"최대 사후 확률\"을 의미합니다. 여기서 \"사후\"는 \"사후\"를 뜻하는 불필요한 라틴어입니다.\n",
    "\n",
    "MAP을 계산하려면 `Series` 메서드 `idxmax`를 사용할 수 있습니다."
   ]
  },
  {
   "cell_type": "markdown",
   "id": "4d4d65a8",
   "metadata": {},
   "source": [
    "최대 우도 추정(MLE / Maximum Likelihood Estimation)에서는 데이터 세트를 생성할 확률을 최대화하는 분포를 추정하는 것을 의미합니다. 이 글에서는 이를 데이터로부터의 분포(distribution) 추론(inference)을 위한 일반적인 프레임워크로 정의하고 이를 여러 종류의 데이터 분포에 적용할 것입니다. 이 방법은 실험 데이터에 대해 신경망을 훈련할 때 사용할 최적의 손실 함수를 결정하는 데 사용할 수 있습니다."
   ]
  },
  {
   "cell_type": "markdown",
   "id": "4edd4744",
   "metadata": {},
   "source": [
    "<img src='./images/4.jpg'>"
   ]
  },
  {
   "cell_type": "markdown",
   "id": "54a0973a",
   "metadata": {},
   "source": [
    "$$ \\hat{\\theta} = \\underset{{ \\overrightarrow{ \\theta} } } {argmax} \\prod_{i=1}^{N}p(x_{i}| \\overrightarrow{\\theta}) $$"
   ]
  },
  {
   "cell_type": "code",
   "execution_count": 253,
   "id": "cb01ec37",
   "metadata": {},
   "outputs": [
    {
     "data": {
      "text/plain": [
       "67"
      ]
     },
     "execution_count": 253,
     "metadata": {},
     "output_type": "execute_result"
    }
   ],
   "source": [
    "posterior3.idxmax() # posterior가 가장 큰 index"
   ]
  },
  {
   "cell_type": "code",
   "execution_count": 243,
   "id": "eed71d52",
   "metadata": {
    "scrolled": true
   },
   "outputs": [
    {
     "name": "stdout",
     "output_type": "stream",
     "text": [
      "C 3\n",
      "C 10\n",
      "C -1\n",
      "C 17\n",
      "================\n",
      "C 7\n",
      "C 24\n",
      "C -3\n",
      "C 39\n",
      "================\n",
      "C 14\n",
      "C 48\n",
      "C -6\n",
      "C 78\n",
      "================\n"
     ]
    },
    {
     "data": {
      "text/plain": [
       "[[14, 48, -6, 78], [14, 48, -6, 78], [14, 48, -6, 78]]"
      ]
     },
     "execution_count": 243,
     "metadata": {},
     "output_type": "execute_result"
    }
   ],
   "source": [
    "A=[[1,2],\n",
    "   [1,3],\n",
    "   [2,5]]\n",
    "B=[[1,2,1,7],\n",
    "   [1,4,-1,5]]\n",
    "C=[[0,0,0,0]]*3\n",
    "for i in range(len(A)):\n",
    "    for j in range(len(B[0])):\n",
    "        for k in range(len(B)):\n",
    "#             print(A[i][k],'x',B[k][j],'=',A[i][k]*B[k][j])\n",
    "#             print('행렬',i,j)\n",
    "            C[i][j]+=A[i][k]*B[k][j]\n",
    "#         print('C' , C[i][j])\n",
    "#     print('================')\n",
    "C"
   ]
  },
  {
   "cell_type": "code",
   "execution_count": 244,
   "id": "ffbb0ece",
   "metadata": {},
   "outputs": [
    {
     "data": {
      "text/plain": [
       "[[3, 10, -1, 17], [4, 14, -2, 22], [7, 24, -3, 39]]"
      ]
     },
     "execution_count": 244,
     "metadata": {},
     "output_type": "execute_result"
    }
   ],
   "source": [
    "A = [[1, 2], [1, 3], [2, 5]]\n",
    "B = [[1, 2, 1, 7], [1, 4, -1, 5]]\n",
    "C = [[0, 0, 0, 0] for _ in range(len(A))]  # 각 행을 별도의 리스트로 초기화\n",
    "\n",
    "for i in range(len(A)):\n",
    "    for j in range(len(B[0])):\n",
    "        for k in range(len(B)):\n",
    "            C[i][j] += A[i][k] * B[k][j]\n",
    "\n",
    "C"
   ]
  },
  {
   "cell_type": "code",
   "execution_count": 216,
   "id": "ecb251be",
   "metadata": {},
   "outputs": [
    {
     "data": {
      "text/plain": [
       "[[3, 10, -1, 17], [4, 14, -2, 22], [7, 24, -3, 39]]"
      ]
     },
     "execution_count": 216,
     "metadata": {},
     "output_type": "execute_result"
    }
   ],
   "source": [
    "A=[[1,2],\n",
    "   [1,3],\n",
    "   [2,5]]\n",
    "B=[[1,2,1,7],\n",
    "   [1,4,-1,5]]\n",
    "transposed_B=list(zip(*B))\n",
    "\n",
    "outer_list=[]\n",
    "for i in A:\n",
    "    inner_list=[]\n",
    "    for j in transposed_B:\n",
    "        sum1=0\n",
    "        for i_1,j_1 in zip(i,j):\n",
    "            sum1+=i_1*j_1\n",
    "        inner_list.append(sum1)\n",
    "    outer_list.append(inner_list)\n",
    "outer_list"
   ]
  }
 ],
 "metadata": {
  "kernelspec": {
   "display_name": "Python 3 (ipykernel)",
   "language": "python",
   "name": "python3"
  },
  "language_info": {
   "codemirror_mode": {
    "name": "ipython",
    "version": 3
   },
   "file_extension": ".py",
   "mimetype": "text/x-python",
   "name": "python",
   "nbconvert_exporter": "python",
   "pygments_lexer": "ipython3",
   "version": "3.11.5"
  }
 },
 "nbformat": 4,
 "nbformat_minor": 5
}
