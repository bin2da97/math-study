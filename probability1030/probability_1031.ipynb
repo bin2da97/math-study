{
 "cells": [
  {
   "cell_type": "markdown",
   "id": "7fb27b33",
   "metadata": {},
   "source": [
    "이전 장에서 베이즈 정리를 유도했습니다:\n",
    "\n",
    "$$\n",
    "P(A∣B)= \\frac{P(A)P(B∣A)}{P(B)}\n",
    "$$ \n",
    "\n",
    "예를 들어, 우리는 General Social Survey에서 얻은 데이터를 사용하여 베이즈 정리를 사용하여 조건부 확률을 계산하는 예제를 살펴 보았습니다. 그러나 우리는 완전한 데이터 집합을 가지고 있었기 때문에 실제로는 베이즈 정리가 필요하지 않았습니다. 왼쪽 항을 직접 계산하는 것은 충분히 쉽고, 오른쪽 항을 계산하는 데는 큰 도움이 되지 않았습니다.\n",
    "\n",
    "그러나 종종 우리는 완전한 데이터 집합을 가지고 있지 않으며, 이 경우 베이즈 정리가 더 유용합니다. 이 장에서는 조건부 확률과 관련된 여러 어려운 문제를 해결하는 데 베이즈 정리를 사용할 것입니다."
   ]
  },
  {
   "cell_type": "markdown",
   "id": "b43d0b22",
   "metadata": {},
   "source": [
    "쿠키 문제로 시작하겠습니다. 이것은 굴 문제의 변형입니다:\n",
    "\n",
    "두 개의 그릇에 쿠키가 있다고 가정해 보겠습니다.\n",
    "\n",
    "* 그릇 1에는 바닐라 쿠키 30개와 초콜릿 쿠키 10개가 들어 있습니다.\n",
    "\n",
    "* 그릇 2에는 바닐라 쿠키 20개와 초콜릿 쿠키 20개가 들어 있습니다.\n",
    "\n",
    "이제 무작위로 두 그릇 중 하나를 선택하고, 보지 않고 쿠키 하나를 무작위로 선택한다고 가정해 보겠습니다. 만약 선택한 쿠키가 바닐라 쿠키라면, 이 쿠키가 그릇 1에서 나온 확률은 얼마일까요?\n",
    "\n",
    "우리가 원하는 것은 바닐라 쿠키를 선택한 경우, 즉 $P(B_1 | V)$인 조건부 확률입니다.\n",
    "\n",
    "그러나 문제의 진술에서 얻는 것은 다음과 같습니다:\n",
    "\n",
    "* 그릇 1에서 선택했을 때 바닐라 쿠키를 얻을 조건부 확률, $P(V | B_1)$ 및\n",
    "\n",
    "* 그릇 2에서 선택했을 때 바닐라 쿠키를 얻을 조건부 확률, $P(V | B_2)$.\n"
   ]
  },
  {
   "cell_type": "markdown",
   "id": "fafd8f03",
   "metadata": {},
   "source": [
    "베이즈 정리는 이들이 어떻게 관련되어 있는지를 알려줍니다:\n",
    "\n",
    "\n",
    "$$ P(B_{1}|V)=\\frac{P(V|B_{1})}{P(V)} $$\n",
    " \n",
    "\n",
    "왼쪽 항은 우리가 원하는 것입니다. 오른쪽 항들은 다음과 같습니다:\n",
    "\n",
    "$P(B_1)$: 우리가 어떤 종류의 쿠키를 얻었는지와 관계없이 Bowl 1을 선택할 확률입니다. 문제에서 우리는 무작위로 그릇을 선택했다고 가정하므로 $P(B_1) = 1/2$로 가정합니다.\n",
    "\n",
    "$P(V|B_1)$: Bowl 1에서 바닐라 쿠키를 얻을 확률로, 3/4입니다.\n",
    "\n",
    "$P(V)$: 어느 그릇에서든 바닐라 쿠키를 뽑을 확률입니다. 5/8"
   ]
  },
  {
   "cell_type": "markdown",
   "id": "ba755f7d",
   "metadata": {},
   "source": [
    "<img src='images/b1.jpg'>"
   ]
  },
  {
   "cell_type": "markdown",
   "id": "8a35429c",
   "metadata": {},
   "source": [
    "<img src='images/b2.jpg'>"
   ]
  },
  {
   "cell_type": "markdown",
   "id": "78aeca89",
   "metadata": {},
   "source": [
    "<a href='https://m.blog.naver.com/PostView.nhn?isHttpsRedirect=true&blogId=sw4r&logNo=221919933999'>marginal</a>"
   ]
  },
  {
   "cell_type": "markdown",
   "id": "4555cbfe",
   "metadata": {},
   "source": [
    "$P(V)$를 계산하기 위해 전체 확률의 법칙을 사용할 수 있습니다:\n",
    "$$P(V)=(B_{1})P(V|B_{1})+(B_{2})P(V|B_{2})$$\n",
    "$$ P(V)=\\sum_{i=1}^{2} P(B_{i})p(V|B_{i})  $$\n",
    "$$P(V)=(1/2) (3/4) + (1/2) (1/2)=5/8$$\n",
    "\n",
    "또한 이 결과를 직접 계산할 수도 있습니다.\n",
    "\n",
    "어떤 그릇을 선택할 확률은 같았고, 두 그릇에는 동일한 수의 쿠키가 들어 있으므로 어떤 쿠키를 선택할 확률도 동일합니다.\n",
    "\n",
    "두 그릇에는 모두 50개의 바닐라 쿠키와 30개의 초콜릿 쿠키가 있으므로 $P(V) = 5/8$입니다."
   ]
  },
  {
   "cell_type": "markdown",
   "id": "dbc260b9",
   "metadata": {},
   "source": [
    "마지막으로, 베이즈 정리를 적용하여 Bowl 1의 사후 확률을 계산할 수 있습니다:\n",
    " \n",
    "$$P(B_1|V) = (1/2)~(3/4)~/~(5/8) = 3/5$$\n",
    "\n",
    "이 예제는 베이즈 정리의 한 가지 사용법을 보여줍니다: 이것은 $P(B|A)$에서 $P(A|B)$로 넘어가는 방법을 제공합니다. 이 전략은 왼쪽 항보다 오른쪽 항을 계산하기 쉬운 경우와 같이 사용하기 유용합니다."
   ]
  },
  {
   "cell_type": "markdown",
   "id": "6f564ee6",
   "metadata": {},
   "source": [
    "려하여 업데이트하는 방법을 제공합니다.\n",
    "\n",
    "이 해석은 \"다이크로닉(diachronic)\"이라고도 하며, 시간이 지남에 따른 변화와 관련이 있습니다. 이 경우, 가설의 확률은 새로운 데이터를 관찰함에 따라 변화합니다.\n",
    "\n",
    "$H$와 $D$로 베이즈 정리를 다시 작성하면 다음과 같습니다:\n",
    "$$P(H|D) = \\frac{P(H)~P(D|H)}{P(D)}$$\n",
    " \n",
    "\n",
    "이 해석에서 각 항은 이름이 있습니다:\n",
    "\n",
    "$P(H)$는 데이터를 보기 전 가설의 확률으로, 사전 확률(prior probability) 또는 간단히 **사전(prior)**이라고 합니다.\n",
    "\n",
    "$P(H|D)$는 데이터를 보고 난 후의 가설의 확률로, **사후 확률(posterior)**이라고 합니다.\n",
    "\n",
    "$P(D|H)$는 가설 하에서 데이터의 확률로, **우도(likelihood)**라고 합니다.\n",
    "\n",
    "$P(D)$는 **데이터의 총 확률(total probability of the data)**입니다.\n",
    "\n",
    "가끔은 사전 확률을 백그라운드 정보를 기반으로 계산할 수 있습니다. 예를 들어, 쿠키 문제에서는 그릇을 무작위로 선택한다는 정보를 밝히므로 사전 확률을 계산할 수 있습니다.\n",
    "\n",
    "다른 경우 사전은 주관적일 수 있습니다. 즉, 합리적인 사람들은 다른 백그라운드 정보를 사용하거나 동일한 정보를 다르게 해석하기 때문에 의견이 분분할 수 있습니다.\n",
    "\n",
    "우도는 일반적으로 계산하기 가장 쉬운 부분입니다. 쿠키 문제에서는 각 그릇에 들어 있는 쿠키의 수가 주어지므로 각 가설 하에서 데이터의 확률을 계산할 수 있습니다.\n",
    "\n"
   ]
  },
  {
   "cell_type": "markdown",
   "id": "837c1c29",
   "metadata": {},
   "source": [
    "<a href='https://drhongdatanote.tistory.com/57'>중심극한정리</a>"
   ]
  },
  {
   "cell_type": "markdown",
   "id": "868777fb",
   "metadata": {},
   "source": [
    "<a href='https://heeya-stupidbutstudying.tistory.com/entry/%ED%86%B5%EA%B3%84-%EC%B5%9C%EB%8C%80%EC%9A%B0%EB%8F%84%EB%B2%95Maximum-Likelihood-Estimation'>MLE</a>"
   ]
  },
  {
   "cell_type": "code",
   "execution_count": 1,
   "id": "d6a0504d",
   "metadata": {},
   "outputs": [],
   "source": [
    "import numpy as np\n",
    "import pandas as pd \n",
    "import matplotlib.pyplot as plt"
   ]
  },
  {
   "cell_type": "code",
   "execution_count": 2,
   "id": "a4371ba8",
   "metadata": {},
   "outputs": [],
   "source": [
    "table = pd.DataFrame(index=['Bowl 1','Bowl 2'])"
   ]
  },
  {
   "cell_type": "code",
   "execution_count": 3,
   "id": "4c2d02d4",
   "metadata": {},
   "outputs": [
    {
     "data": {
      "text/html": [
       "<div>\n",
       "<style scoped>\n",
       "    .dataframe tbody tr th:only-of-type {\n",
       "        vertical-align: middle;\n",
       "    }\n",
       "\n",
       "    .dataframe tbody tr th {\n",
       "        vertical-align: top;\n",
       "    }\n",
       "\n",
       "    .dataframe thead th {\n",
       "        text-align: right;\n",
       "    }\n",
       "</style>\n",
       "<table border=\"1\" class=\"dataframe\">\n",
       "  <thead>\n",
       "    <tr style=\"text-align: right;\">\n",
       "      <th></th>\n",
       "      <th>prior</th>\n",
       "      <th>likelihood</th>\n",
       "    </tr>\n",
       "  </thead>\n",
       "  <tbody>\n",
       "    <tr>\n",
       "      <th>Bowl 1</th>\n",
       "      <td>0.5</td>\n",
       "      <td>0.75</td>\n",
       "    </tr>\n",
       "    <tr>\n",
       "      <th>Bowl 2</th>\n",
       "      <td>0.5</td>\n",
       "      <td>0.50</td>\n",
       "    </tr>\n",
       "  </tbody>\n",
       "</table>\n",
       "</div>"
      ],
      "text/plain": [
       "        prior  likelihood\n",
       "Bowl 1    0.5        0.75\n",
       "Bowl 2    0.5        0.50"
      ]
     },
     "execution_count": 3,
     "metadata": {},
     "output_type": "execute_result"
    }
   ],
   "source": [
    "table['prior']=1/2, 1/2\n",
    "table['likelihood']=3/4, 1/2\n",
    "table"
   ]
  },
  {
   "cell_type": "markdown",
   "id": "e3293164",
   "metadata": {},
   "source": [
    "여기서 이전 방법과 다른 점을 볼 수 있습니다: 우리는 Bowl 1뿐만 아니라 두 가설에 대한 우도를 계산합니다.\n",
    "\n",
    "Bowl 1에서 바닐라 쿠키를 얻을 확률은 3/4입니다.\n",
    "\n",
    "Bowl 2에서 바닐라 쿠키를 얻을 확률은 1/2입니다.\n",
    "\n",
    "우리는 우도를 계산할 때 이들이 1이 되지 않는다는 것을 알 수 있습니다. 그것은 괜찮습니다. 각각은 다른 가설에 조건을 둔 확률이기 때문에 합쳐지지 않아도 괜찮으며, 그렇지 않아도 됩니다.\n",
    "\n",
    "다음 단계는 베이즈 정리와 유사합니다. 사전 확률에 우도를 곱합니다:"
   ]
  },
  {
   "cell_type": "code",
   "execution_count": 4,
   "id": "76708d27",
   "metadata": {
    "scrolled": true
   },
   "outputs": [
    {
     "data": {
      "text/html": [
       "<div>\n",
       "<style scoped>\n",
       "    .dataframe tbody tr th:only-of-type {\n",
       "        vertical-align: middle;\n",
       "    }\n",
       "\n",
       "    .dataframe tbody tr th {\n",
       "        vertical-align: top;\n",
       "    }\n",
       "\n",
       "    .dataframe thead th {\n",
       "        text-align: right;\n",
       "    }\n",
       "</style>\n",
       "<table border=\"1\" class=\"dataframe\">\n",
       "  <thead>\n",
       "    <tr style=\"text-align: right;\">\n",
       "      <th></th>\n",
       "      <th>prior</th>\n",
       "      <th>likelihood</th>\n",
       "      <th>unnorm</th>\n",
       "    </tr>\n",
       "  </thead>\n",
       "  <tbody>\n",
       "    <tr>\n",
       "      <th>Bowl 1</th>\n",
       "      <td>0.5</td>\n",
       "      <td>0.75</td>\n",
       "      <td>0.375</td>\n",
       "    </tr>\n",
       "    <tr>\n",
       "      <th>Bowl 2</th>\n",
       "      <td>0.5</td>\n",
       "      <td>0.50</td>\n",
       "      <td>0.250</td>\n",
       "    </tr>\n",
       "  </tbody>\n",
       "</table>\n",
       "</div>"
      ],
      "text/plain": [
       "        prior  likelihood  unnorm\n",
       "Bowl 1    0.5        0.75   0.375\n",
       "Bowl 2    0.5        0.50   0.250"
      ]
     },
     "execution_count": 4,
     "metadata": {},
     "output_type": "execute_result"
    }
   ],
   "source": [
    "table['unnorm']=table['prior']*table['likelihood']\n",
    "table"
   ]
  },
  {
   "cell_type": "markdown",
   "id": "871d40b3",
   "metadata": {},
   "source": [
    "이 결과를 \"정규화되지 않은 사후 확률(unnormalized posteriors)\"이라고 부르는데, 이 값들은 사전과 우도의 곱으로 나타납니다:\n",
    " \n",
    "이는 베이즈 정리의 분자 부분입니다. 이들을 모두 더하면 다음과 같습니다:\n",
    "\n",
    "$$P(B_i)~P(D|B_i)$$\n",
    "\n",
    "\n",
    "$$P(B_1)~P(D|B_1) + P(B_2)~P(D|B_2)$$\n",
    "\n",
    "이것은 베이즈 정리의 분모인 $P(D)$입니다.\n",
    "\n",
    "따라서 데이터의 총 확률을 다음과 같이 계산할 수 있습니다:\n",
    "\n"
   ]
  },
  {
   "cell_type": "code",
   "execution_count": 5,
   "id": "14b69142",
   "metadata": {},
   "outputs": [
    {
     "data": {
      "text/plain": [
       "0.625"
      ]
     },
     "execution_count": 5,
     "metadata": {},
     "output_type": "execute_result"
    }
   ],
   "source": [
    "prob_data = table['unnorm'].sum()\n",
    "prob_data"
   ]
  },
  {
   "cell_type": "markdown",
   "id": "9e1ffb3e",
   "metadata": {},
   "source": [
    "우리가 얻은 데이터는 0.625,P(D)를 직접 계산함으로써 우리가 얻게되는 것이다\n",
    "그리고 우리가 이처럼 사후확률을 계산할 수 있다."
   ]
  },
  {
   "cell_type": "code",
   "execution_count": 6,
   "id": "24515914",
   "metadata": {},
   "outputs": [
    {
     "data": {
      "text/html": [
       "<div>\n",
       "<style scoped>\n",
       "    .dataframe tbody tr th:only-of-type {\n",
       "        vertical-align: middle;\n",
       "    }\n",
       "\n",
       "    .dataframe tbody tr th {\n",
       "        vertical-align: top;\n",
       "    }\n",
       "\n",
       "    .dataframe thead th {\n",
       "        text-align: right;\n",
       "    }\n",
       "</style>\n",
       "<table border=\"1\" class=\"dataframe\">\n",
       "  <thead>\n",
       "    <tr style=\"text-align: right;\">\n",
       "      <th></th>\n",
       "      <th>prior</th>\n",
       "      <th>likelihood</th>\n",
       "      <th>unnorm</th>\n",
       "      <th>posterior</th>\n",
       "    </tr>\n",
       "  </thead>\n",
       "  <tbody>\n",
       "    <tr>\n",
       "      <th>Bowl 1</th>\n",
       "      <td>0.5</td>\n",
       "      <td>0.75</td>\n",
       "      <td>0.375</td>\n",
       "      <td>0.6</td>\n",
       "    </tr>\n",
       "    <tr>\n",
       "      <th>Bowl 2</th>\n",
       "      <td>0.5</td>\n",
       "      <td>0.50</td>\n",
       "      <td>0.250</td>\n",
       "      <td>0.4</td>\n",
       "    </tr>\n",
       "  </tbody>\n",
       "</table>\n",
       "</div>"
      ],
      "text/plain": [
       "        prior  likelihood  unnorm  posterior\n",
       "Bowl 1    0.5        0.75   0.375        0.6\n",
       "Bowl 2    0.5        0.50   0.250        0.4"
      ]
     },
     "execution_count": 6,
     "metadata": {},
     "output_type": "execute_result"
    }
   ],
   "source": [
    "table['posterior'] = table['unnorm']/prob_data\n",
    "table"
   ]
  },
  {
   "cell_type": "markdown",
   "id": "22a67520",
   "metadata": {},
   "source": [
    "Bowl 1의 사후 확률은 0.6으로, 베이즈 정리를 명시적으로 사용하여 얻은 결과와 일치합니다. 추가로, Bowl 2의 사후 확률도 0.4로 얻습니다.\n",
    "\n",
    "정규화되지 않은 사후 확률을 더하고 나눔으로써, 사후 확률을 1로 만듭니다. 이 과정을 \"정규화(normalization)\"라고 하며, 데이터의 총 확률은 \"정규화 상수(normalizing constant)\"로도 불립니다."
   ]
  },
  {
   "cell_type": "markdown",
   "id": "7b4ef89a",
   "metadata": {},
   "source": [
    "## 주사위 문제\n",
    "\n",
    "베이스 테이블을 사용하면 두 개 이상의 가설이 있는 문제도 해결할 수 있습니다. 예를 들어 다음과 같은 문제를 생각해 봅시다:\n",
    "\n",
    "> 6면 주사위, 8면 주사위, 12면 주사위가 들어 있는 상자가 있다고 가정해 보겠습니다. 무작위로 주사위를 선택하고 굴린 다음, 굴린 결과를 1이라고 보고했다고 가정합니다. 6면 주사위를 선택한 확률은 얼마일까요?\n",
    "\n",
    "이 예에서는 세 개의 가설이 동일한 사전 확률을 가지고 있습니다. 데이터는 결과가 1이라고 보고한 것입니다.\n",
    "\n",
    "6면 주사위를 선택한 경우, 데이터의 확률은 1/6입니다. 8면 주사위를 선택한 경우, 확률은 1/8이고, 12면 주사위를 선택한 경우, 확률은 1/12입니다.\n",
    "\n",
    "다음은 가설을 정수로 나타내는 베이스 테이블입니다:\n"
   ]
  },
  {
   "cell_type": "code",
   "execution_count": 7,
   "id": "d1567678",
   "metadata": {},
   "outputs": [],
   "source": [
    "table2=pd.DataFrame(index=[6,8,12]) # 주사위의 숫자"
   ]
  },
  {
   "cell_type": "markdown",
   "id": "ba104d78",
   "metadata": {},
   "source": [
    "사전 확률과 우도를 나타내기 위해 분수를 사용하겠습니다. 이렇게 하면 실수로 반올림되지 않습니다."
   ]
  },
  {
   "cell_type": "code",
   "execution_count": 8,
   "id": "038da907",
   "metadata": {},
   "outputs": [
    {
     "data": {
      "text/html": [
       "<div>\n",
       "<style scoped>\n",
       "    .dataframe tbody tr th:only-of-type {\n",
       "        vertical-align: middle;\n",
       "    }\n",
       "\n",
       "    .dataframe tbody tr th {\n",
       "        vertical-align: top;\n",
       "    }\n",
       "\n",
       "    .dataframe thead th {\n",
       "        text-align: right;\n",
       "    }\n",
       "</style>\n",
       "<table border=\"1\" class=\"dataframe\">\n",
       "  <thead>\n",
       "    <tr style=\"text-align: right;\">\n",
       "      <th></th>\n",
       "      <th>prior</th>\n",
       "      <th>likelihood</th>\n",
       "    </tr>\n",
       "  </thead>\n",
       "  <tbody>\n",
       "    <tr>\n",
       "      <th>6</th>\n",
       "      <td>1/3</td>\n",
       "      <td>1/6</td>\n",
       "    </tr>\n",
       "    <tr>\n",
       "      <th>8</th>\n",
       "      <td>1/3</td>\n",
       "      <td>1/8</td>\n",
       "    </tr>\n",
       "    <tr>\n",
       "      <th>12</th>\n",
       "      <td>1/3</td>\n",
       "      <td>1/12</td>\n",
       "    </tr>\n",
       "  </tbody>\n",
       "</table>\n",
       "</div>"
      ],
      "text/plain": [
       "   prior likelihood\n",
       "6    1/3        1/6\n",
       "8    1/3        1/8\n",
       "12   1/3       1/12"
      ]
     },
     "execution_count": 8,
     "metadata": {},
     "output_type": "execute_result"
    }
   ],
   "source": [
    "from fractions import Fraction\n",
    "table2['prior'] = Fraction(1,3)\n",
    "table2['likelihood'] = Fraction(1,6), Fraction(1,8), Fraction(1,12)\n",
    "table2"
   ]
  },
  {
   "cell_type": "markdown",
   "id": "162d8424",
   "metadata": {},
   "source": [
    "사전 확률과 우도를 얻은 후, 나머지 단계는 항상 동일하므로 이를 함수로 정리하겠습니다:"
   ]
  },
  {
   "cell_type": "code",
   "execution_count": 13,
   "id": "b8d8e45a",
   "metadata": {},
   "outputs": [],
   "source": [
    "table2['unnorm']=table2['prior']*table2['likelihood']"
   ]
  },
  {
   "cell_type": "code",
   "execution_count": 29,
   "id": "1b70ebbd",
   "metadata": {},
   "outputs": [],
   "source": [
    "def update(table):\n",
    "    \"\"\"\n",
    "        posterior(사후) 확률 계산\n",
    "    \"\"\"\n",
    "#     table['unnorm']=table['prior']*table['likelihood']\n",
    "    prob_data = table['unnorm'].sum()\n",
    "    posterior = table['unnorm']/prob_data\n",
    "    return posterior"
   ]
  },
  {
   "cell_type": "code",
   "execution_count": 15,
   "id": "6f7a7ae5",
   "metadata": {},
   "outputs": [
    {
     "data": {
      "text/html": [
       "<div>\n",
       "<style scoped>\n",
       "    .dataframe tbody tr th:only-of-type {\n",
       "        vertical-align: middle;\n",
       "    }\n",
       "\n",
       "    .dataframe tbody tr th {\n",
       "        vertical-align: top;\n",
       "    }\n",
       "\n",
       "    .dataframe thead th {\n",
       "        text-align: right;\n",
       "    }\n",
       "</style>\n",
       "<table border=\"1\" class=\"dataframe\">\n",
       "  <thead>\n",
       "    <tr style=\"text-align: right;\">\n",
       "      <th></th>\n",
       "      <th>prior</th>\n",
       "      <th>likelihood</th>\n",
       "      <th>unnorm</th>\n",
       "      <th>posterior</th>\n",
       "    </tr>\n",
       "  </thead>\n",
       "  <tbody>\n",
       "    <tr>\n",
       "      <th>6</th>\n",
       "      <td>1/3</td>\n",
       "      <td>1/6</td>\n",
       "      <td>1/18</td>\n",
       "      <td>4/9</td>\n",
       "    </tr>\n",
       "    <tr>\n",
       "      <th>8</th>\n",
       "      <td>1/3</td>\n",
       "      <td>1/8</td>\n",
       "      <td>1/24</td>\n",
       "      <td>1/3</td>\n",
       "    </tr>\n",
       "    <tr>\n",
       "      <th>12</th>\n",
       "      <td>1/3</td>\n",
       "      <td>1/12</td>\n",
       "      <td>1/36</td>\n",
       "      <td>2/9</td>\n",
       "    </tr>\n",
       "  </tbody>\n",
       "</table>\n",
       "</div>"
      ],
      "text/plain": [
       "   prior likelihood unnorm posterior\n",
       "6    1/3        1/6   1/18       4/9\n",
       "8    1/3        1/8   1/24       1/3\n",
       "12   1/3       1/12   1/36       2/9"
      ]
     },
     "execution_count": 15,
     "metadata": {},
     "output_type": "execute_result"
    }
   ],
   "source": [
    "table2['posterior'] = update(table2)\n",
    "table2"
   ]
  },
  {
   "cell_type": "markdown",
   "id": "b4304114",
   "metadata": {},
   "source": [
    "6면 주사위의 사후 확률은 4/9로, 다른 주사위의 확률(3/9 및 2/9)보다 조금 높습니다. 직관적으로, 6면 주사위가 가장 가능성이 높은 이유는 우리가 관측한 결과를 생성할 가능성이 가장 높았기 때문입니다."
   ]
  },
  {
   "cell_type": "markdown",
   "id": "7452501d",
   "metadata": {},
   "source": [
    "## Monty hall 문제\n",
    "다음으로 베이스 테이블을 사용하여 확률 이론에서 가장 논란이 많은 문제 중 하나를 해결해 보겠습니다.\n",
    "\n",
    "Monty Hall 문제는 \"Let's Make a Deal\"라는 게임 쇼를 기반으로 합니다. 만약 이 게임 쇼의 참가자라면 게임이 어떻게 진행되는지 살펴보겠습니다.\n",
    "\n",
    "진행자 Monty Hall은 여러분에게 1, 2, 3으로 번호가 매겨진 세 개의 닫힌 문을 보여주고, 각 문 뒤에는 상품이 있다고 말합니다.\n",
    "\n",
    "상품 중 하나는 가치가 있는 것(전통적으로 자동차)이고, 나머지 두 개는 가치가 적은 것(전통적으로 염소)입니다.\n",
    "\n",
    "게임의 목적은 자동차가 있는 문을 추측하는 것입니다. 만약 올바르게 추측하면 자동차를 얻을 수 있습니다.\n",
    "\n",
    "예를 들어, 당신이 문 1을 선택했다고 가정해 봅시다. 당신이 선택한 문을 열기 전에 Monty는 문 3을 열고 염소를 보여줍니다. 그런 다음 Monty는 당신에게 원래 선택을 유지하거나 남은 두 개의 닫힌 문 중 하나로 변경할 옵션을 제공합니다."
   ]
  },
  {
   "cell_type": "markdown",
   "id": "996d5253",
   "metadata": {},
   "source": [
    "\n",
    "이 질문에 답하기 위해 진행자의 행동에 대한 몇 가지 가정을 해야 합니다:\n",
    "\n",
    "1. Monty는 항상 문을 열고 당신에게 바꾸는 옵션을 제공합니다.\n",
    "\n",
    "2. 그는 당신이 선택한 문이나 자동차가 있는 문을 열지 않습니다.\n",
    "\n",
    "3. 만약 당신이 자동차가 있는 문을 선택한 경우, 그는 나머지 두 개의 문 중 하나를 무작위로 선택합니다.\n",
    "\n",
    "이러한 가정 하에서는 문을 바꾸는 것이 더 좋습니다. 만약 원래 선택을 유지한다면 자동차를 얻는 확률은 1/3입니다. 그러나 문을 바꾸면 자동차를 얻는 확률은 2/3입니다.\n",
    "\n",
    "이 문제를 이전에 접하지 않았다면, 이 답변이 놀라울 수 있습니다. 혼자가 아닙니다. 많은 사람들은 문을 바꿀지 유지할지는 중요하지 않다고 생각합니다. 두 개의 문이 남아 있으므로 자동차가 문 A 뒤에 있을 확률은 50%라고 이유할 것입니다. 그러나 이것은 틀린 주장입니다.\n",
    "\n",
    "왜 그런지 이해하기 위해 베이스 테이블을 사용하는 것이 도움이 될 수 있습니다. 먼저 세 가지 가설로 시작합니다. 자동차는 문 1, 2 또는 3 뒤에 있을 수 있습니다. 문제의 진술에 따르면 각 문의 사전 확률은 1/3입니다."
   ]
  },
  {
   "cell_type": "code",
   "execution_count": 21,
   "id": "0e2508f5",
   "metadata": {
    "scrolled": true
   },
   "outputs": [
    {
     "data": {
      "text/html": [
       "<div>\n",
       "<style scoped>\n",
       "    .dataframe tbody tr th:only-of-type {\n",
       "        vertical-align: middle;\n",
       "    }\n",
       "\n",
       "    .dataframe tbody tr th {\n",
       "        vertical-align: top;\n",
       "    }\n",
       "\n",
       "    .dataframe thead th {\n",
       "        text-align: right;\n",
       "    }\n",
       "</style>\n",
       "<table border=\"1\" class=\"dataframe\">\n",
       "  <thead>\n",
       "    <tr style=\"text-align: right;\">\n",
       "      <th></th>\n",
       "      <th>prior</th>\n",
       "    </tr>\n",
       "  </thead>\n",
       "  <tbody>\n",
       "    <tr>\n",
       "      <th>Door 1</th>\n",
       "      <td>1/3</td>\n",
       "    </tr>\n",
       "    <tr>\n",
       "      <th>Door 2</th>\n",
       "      <td>1/3</td>\n",
       "    </tr>\n",
       "    <tr>\n",
       "      <th>Door 3</th>\n",
       "      <td>1/3</td>\n",
       "    </tr>\n",
       "  </tbody>\n",
       "</table>\n",
       "</div>"
      ],
      "text/plain": [
       "       prior\n",
       "Door 1   1/3\n",
       "Door 2   1/3\n",
       "Door 3   1/3"
      ]
     },
     "execution_count": 21,
     "metadata": {},
     "output_type": "execute_result"
    }
   ],
   "source": [
    "table3=pd.DataFrame(index=['Door 1','Door 2','Door 3'])\n",
    "table3['prior']=Fraction(1,3)\n",
    "table3"
   ]
  },
  {
   "cell_type": "markdown",
   "id": "4e499f41",
   "metadata": {},
   "source": [
    "데이터는 Monty가 문 3을 열고 염소를 보여준 사실입니다. 따라서 각 가설 하에서 데이터의 확률을 고려해 보겠습니다:\n",
    "\n",
    "* 자동차가 문 1 뒤에 있다면, Monty는 문 2 또는 3 중 하나를 무작위로 선택하므로 문 3을 열 확률은 $1/2$입니다.\n",
    "\n",
    "* 자동차가 문 2 뒤에 있다면, Monty는 문 3을 열어야 하므로 이 가설 하에서 데이터의 확률은 1입니다.\n",
    "\n",
    "* 자동차가 문 3 뒤에 있다면, Monty는 이를 열지 않으므로 이 가설 하에서 데이터의 확률은 0입니다.\n",
    "\n",
    "여기에 우도(likelihood)가 있습니다."
   ]
  },
  {
   "cell_type": "code",
   "execution_count": 22,
   "id": "a6e03425",
   "metadata": {
    "scrolled": true
   },
   "outputs": [
    {
     "data": {
      "text/html": [
       "<div>\n",
       "<style scoped>\n",
       "    .dataframe tbody tr th:only-of-type {\n",
       "        vertical-align: middle;\n",
       "    }\n",
       "\n",
       "    .dataframe tbody tr th {\n",
       "        vertical-align: top;\n",
       "    }\n",
       "\n",
       "    .dataframe thead th {\n",
       "        text-align: right;\n",
       "    }\n",
       "</style>\n",
       "<table border=\"1\" class=\"dataframe\">\n",
       "  <thead>\n",
       "    <tr style=\"text-align: right;\">\n",
       "      <th></th>\n",
       "      <th>prior</th>\n",
       "      <th>likelihood</th>\n",
       "    </tr>\n",
       "  </thead>\n",
       "  <tbody>\n",
       "    <tr>\n",
       "      <th>Door 1</th>\n",
       "      <td>1/3</td>\n",
       "      <td>1/2</td>\n",
       "    </tr>\n",
       "    <tr>\n",
       "      <th>Door 2</th>\n",
       "      <td>1/3</td>\n",
       "      <td>1</td>\n",
       "    </tr>\n",
       "    <tr>\n",
       "      <th>Door 3</th>\n",
       "      <td>1/3</td>\n",
       "      <td>0</td>\n",
       "    </tr>\n",
       "  </tbody>\n",
       "</table>\n",
       "</div>"
      ],
      "text/plain": [
       "       prior likelihood\n",
       "Door 1   1/3        1/2\n",
       "Door 2   1/3          1\n",
       "Door 3   1/3          0"
      ]
     },
     "execution_count": 22,
     "metadata": {},
     "output_type": "execute_result"
    }
   ],
   "source": [
    "table3['likelihood']=Fraction(1,2),1,0\n",
    "table3"
   ]
  },
  {
   "cell_type": "markdown",
   "id": "4c1568cd",
   "metadata": {},
   "source": [
    "이제 사전 확률과 우도를 가지고 있으므로 update를 사용하여 사후 확률을 계산할 수 있습니다."
   ]
  },
  {
   "cell_type": "markdown",
   "id": "7b16f7a6",
   "metadata": {},
   "source": [
    "Monty가 문 3을 열고 나서, 문 1의 사후 확률은 $1/3$이며, 문 2의 사후 확률은 $2/3$입니다. 따라서 Door 1에서 Door 2로 바꾸는 것이 유리합니다."
   ]
  },
  {
   "cell_type": "code",
   "execution_count": 24,
   "id": "083bcec9",
   "metadata": {},
   "outputs": [],
   "source": [
    "def update1(table7):\n",
    "    \"\"\"\n",
    "        posterior(사후) 확률 계산\n",
    "    \"\"\"\n",
    "    table7['unnorm']=table7['prior']*table7['likelihood']\n",
    "    prob_data = table7['unnorm'].sum()\n",
    "    table7['posterior'] = table7['unnorm']/prob_data\n",
    "    return table7"
   ]
  },
  {
   "cell_type": "code",
   "execution_count": 25,
   "id": "e9f11b29",
   "metadata": {
    "scrolled": true
   },
   "outputs": [
    {
     "data": {
      "text/html": [
       "<div>\n",
       "<style scoped>\n",
       "    .dataframe tbody tr th:only-of-type {\n",
       "        vertical-align: middle;\n",
       "    }\n",
       "\n",
       "    .dataframe tbody tr th {\n",
       "        vertical-align: top;\n",
       "    }\n",
       "\n",
       "    .dataframe thead th {\n",
       "        text-align: right;\n",
       "    }\n",
       "</style>\n",
       "<table border=\"1\" class=\"dataframe\">\n",
       "  <thead>\n",
       "    <tr style=\"text-align: right;\">\n",
       "      <th></th>\n",
       "      <th>prior</th>\n",
       "      <th>likelihood</th>\n",
       "      <th>unnorm</th>\n",
       "      <th>posterior</th>\n",
       "    </tr>\n",
       "  </thead>\n",
       "  <tbody>\n",
       "    <tr>\n",
       "      <th>Door 1</th>\n",
       "      <td>1/3</td>\n",
       "      <td>1/2</td>\n",
       "      <td>1/6</td>\n",
       "      <td>1/3</td>\n",
       "    </tr>\n",
       "    <tr>\n",
       "      <th>Door 2</th>\n",
       "      <td>1/3</td>\n",
       "      <td>1</td>\n",
       "      <td>1/3</td>\n",
       "      <td>2/3</td>\n",
       "    </tr>\n",
       "    <tr>\n",
       "      <th>Door 3</th>\n",
       "      <td>1/3</td>\n",
       "      <td>0</td>\n",
       "      <td>0</td>\n",
       "      <td>0</td>\n",
       "    </tr>\n",
       "  </tbody>\n",
       "</table>\n",
       "</div>"
      ],
      "text/plain": [
       "       prior likelihood unnorm posterior\n",
       "Door 1   1/3        1/2    1/6       1/3\n",
       "Door 2   1/3          1    1/3       2/3\n",
       "Door 3   1/3          0      0         0"
      ]
     },
     "execution_count": 25,
     "metadata": {},
     "output_type": "execute_result"
    }
   ],
   "source": [
    "update1(table3)"
   ]
  },
  {
   "cell_type": "markdown",
   "id": "ab9680e1",
   "metadata": {},
   "source": [
    "이 장에서는 베이즈 정리를 명시적으로 사용하고 베이스 테이블을 사용하여 쿠키 문제를 해결했습니다. 이 두 방법 사이에 실제로 큰 차이는 없지만, 베이스 테이블은 특히 두 개 이상의 가설이 있는 문제의 총 데이터 확률을 계산하기 쉽게 만들어 줄 수 있습니다.\n",
    "\n",
    "그런 다음 우리는 주사위 문제와 몬티 홀 문제를 해결했습니다. 몬티 홀 문제가 머리 아프게 만든다면, 혼자가 아닙니다. 그러나 이 문제는 까다로운 문제를 해결하기 위한 분할-정복 전략으로서 베이즈 정리의 힘을 보여주며, 왜 답이 그렇게 나오는지에 대한 통찰력을 제공할 것으로 기대합니다.\n",
    "\n",
    "몬티가 문을 열면 자동차의 위치에 대한 우리의 믿음을 업데이트하는 데 사용할 수 있는 정보를 제공합니다. 이 정보의 일부는 명백합니다. 만약 그가 문 3을 열면, 자동차가 문 3 뒤에 없다는 것을 알게됩니다. 그러나 정보의 일부는 미묘합니다. 문 3을 열 확률은 자동차가 문 2 뒤에 있을 경우 더 높고, 문 1 뒤에 있을 경우 더 낮습니다. 따라서 데이터는 문 2를 지지하는 증거입니다. 이러한 증거의 개념에 대해 향후 장에서 논의하겠습니다.\n",
    "\n",
    "다음 장에서는 쿠키 문제와 주사위 문제를 확장하고, 기본 확률에서 베이지안 통계로 나아가는 다음 단계를 살펴보겠습니다.\n",
    "\n",
    "하지만 먼저 연습 문제를 해결해보는 것이 좋을 것입니다."
   ]
  },
  {
   "cell_type": "markdown",
   "id": "c952c1d1",
   "metadata": {},
   "source": [
    "## 연습문제\n",
    "\n",
    "상자안에 두개의 동전이 있다고 가정해봅시다. 하나는 앞면과 뒷면이 있는 보통 동전이고, 다른 하나는 양면이 앞면인 특별한 동전입니다. 여러분은 무작위로 동전을 선택하고 한 쪽면이 앞면인 것을 본다고 가정합니다. 여러분이 특별한 동전을 선택한 확률은 얼마일까요?"
   ]
  },
  {
   "cell_type": "code",
   "execution_count": 32,
   "id": "03336307",
   "metadata": {},
   "outputs": [
    {
     "data": {
      "text/html": [
       "<div>\n",
       "<style scoped>\n",
       "    .dataframe tbody tr th:only-of-type {\n",
       "        vertical-align: middle;\n",
       "    }\n",
       "\n",
       "    .dataframe tbody tr th {\n",
       "        vertical-align: top;\n",
       "    }\n",
       "\n",
       "    .dataframe thead th {\n",
       "        text-align: right;\n",
       "    }\n",
       "</style>\n",
       "<table border=\"1\" class=\"dataframe\">\n",
       "  <thead>\n",
       "    <tr style=\"text-align: right;\">\n",
       "      <th></th>\n",
       "      <th>prior</th>\n",
       "      <th>likelihood</th>\n",
       "      <th>unnorm</th>\n",
       "      <th>posterior</th>\n",
       "    </tr>\n",
       "  </thead>\n",
       "  <tbody>\n",
       "    <tr>\n",
       "      <th>Normal</th>\n",
       "      <td>0.5</td>\n",
       "      <td>0.5</td>\n",
       "      <td>0.25</td>\n",
       "      <td>0.333333</td>\n",
       "    </tr>\n",
       "    <tr>\n",
       "      <th>trick</th>\n",
       "      <td>0.5</td>\n",
       "      <td>1.0</td>\n",
       "      <td>0.50</td>\n",
       "      <td>0.666667</td>\n",
       "    </tr>\n",
       "  </tbody>\n",
       "</table>\n",
       "</div>"
      ],
      "text/plain": [
       "        prior  likelihood  unnorm  posterior\n",
       "Normal    0.5         0.5    0.25   0.333333\n",
       "trick     0.5         1.0    0.50   0.666667"
      ]
     },
     "execution_count": 32,
     "metadata": {},
     "output_type": "execute_result"
    }
   ],
   "source": [
    "table4 = pd.DataFrame(index=['Normal','trick'])\n",
    "table4['prior'] = 1/2\n",
    "table4['likelihood']=1/2,1\n",
    "update1(table4)"
   ]
  },
  {
   "cell_type": "code",
   "execution_count": 16,
   "id": "b7992f4e",
   "metadata": {},
   "outputs": [
    {
     "data": {
      "text/html": [
       "<div>\n",
       "<style scoped>\n",
       "    .dataframe tbody tr th:only-of-type {\n",
       "        vertical-align: middle;\n",
       "    }\n",
       "\n",
       "    .dataframe tbody tr th {\n",
       "        vertical-align: top;\n",
       "    }\n",
       "\n",
       "    .dataframe thead th {\n",
       "        text-align: right;\n",
       "    }\n",
       "</style>\n",
       "<table border=\"1\" class=\"dataframe\">\n",
       "  <thead>\n",
       "    <tr style=\"text-align: right;\">\n",
       "      <th></th>\n",
       "      <th>name</th>\n",
       "      <th>ban</th>\n",
       "      <th>math</th>\n",
       "      <th>eng</th>\n",
       "    </tr>\n",
       "  </thead>\n",
       "  <tbody>\n",
       "    <tr>\n",
       "      <th>0</th>\n",
       "      <td>홍길동</td>\n",
       "      <td>1</td>\n",
       "      <td>98</td>\n",
       "      <td>22</td>\n",
       "    </tr>\n",
       "    <tr>\n",
       "      <th>1</th>\n",
       "      <td>김개똥</td>\n",
       "      <td>3</td>\n",
       "      <td>23</td>\n",
       "      <td>44</td>\n",
       "    </tr>\n",
       "    <tr>\n",
       "      <th>2</th>\n",
       "      <td>김말자</td>\n",
       "      <td>1</td>\n",
       "      <td>56</td>\n",
       "      <td>77</td>\n",
       "    </tr>\n",
       "    <tr>\n",
       "      <th>3</th>\n",
       "      <td>국제</td>\n",
       "      <td>1</td>\n",
       "      <td>11</td>\n",
       "      <td>88</td>\n",
       "    </tr>\n",
       "    <tr>\n",
       "      <th>4</th>\n",
       "      <td>아카데미</td>\n",
       "      <td>3</td>\n",
       "      <td>78</td>\n",
       "      <td>44</td>\n",
       "    </tr>\n",
       "    <tr>\n",
       "      <th>5</th>\n",
       "      <td>홍1</td>\n",
       "      <td>2</td>\n",
       "      <td>88</td>\n",
       "      <td>66</td>\n",
       "    </tr>\n",
       "    <tr>\n",
       "      <th>6</th>\n",
       "      <td>홍2</td>\n",
       "      <td>4</td>\n",
       "      <td>99</td>\n",
       "      <td>99</td>\n",
       "    </tr>\n",
       "    <tr>\n",
       "      <th>7</th>\n",
       "      <td>홍3</td>\n",
       "      <td>2</td>\n",
       "      <td>100</td>\n",
       "      <td>100</td>\n",
       "    </tr>\n",
       "    <tr>\n",
       "      <th>8</th>\n",
       "      <td>홍4</td>\n",
       "      <td>3</td>\n",
       "      <td>11</td>\n",
       "      <td>77</td>\n",
       "    </tr>\n",
       "  </tbody>\n",
       "</table>\n",
       "</div>"
      ],
      "text/plain": [
       "   name  ban  math  eng\n",
       "0   홍길동    1    98   22\n",
       "1   김개똥    3    23   44\n",
       "2   김말자    1    56   77\n",
       "3    국제    1    11   88\n",
       "4  아카데미    3    78   44\n",
       "5    홍1    2    88   66\n",
       "6    홍2    4    99   99\n",
       "7    홍3    2   100  100\n",
       "8    홍4    3    11   77"
      ]
     },
     "execution_count": 16,
     "metadata": {},
     "output_type": "execute_result"
    }
   ],
   "source": [
    "df = pd.DataFrame({\n",
    "    'name':['홍길동','김개똥','김말자','국제','아카데미','홍1','홍2','홍3','홍4'],\n",
    "    'ban':[1,3,1,1,3,2,4,2,3],\n",
    "    'math':[98,23,56,11,78,88,99,100,11],\n",
    "    'eng':[22,44,77,88,44,66,99,100,77]\n",
    "})\n",
    "df"
   ]
  },
  {
   "cell_type": "code",
   "execution_count": 18,
   "id": "f958140c",
   "metadata": {},
   "outputs": [],
   "source": [
    "def user_fn(x):\n",
    "    result_dict={}\n",
    "    try:\n",
    "        result_dict['str_merge']= x.str.cat(sep=' ')\n",
    "    except:\n",
    "        result_dict = {i : ((1-i*0.2)*x.max()-(i*0.2)*x.min())/2 for i in range(7)}\n",
    "        result_dict['sum']=sum(x)\n",
    "    return result_dict"
   ]
  },
  {
   "cell_type": "code",
   "execution_count": 19,
   "id": "885494d6",
   "metadata": {},
   "outputs": [
    {
     "name": "stdout",
     "output_type": "stream",
     "text": [
      "str_merge 홍길동 김말자 국제\n",
      "str_merge 홍1 홍3\n",
      "str_merge 김개똥 아카데미 홍4\n",
      "str_merge 홍2\n"
     ]
    }
   ],
   "source": [
    "df_math_sum_and_cont = df.groupby('ban')['name'].agg([user_fn])\n",
    "for i in df_math_sum_and_cont['user_fn']:\n",
    "    for k,v in i.items():\n",
    "        print(k,v)"
   ]
  },
  {
   "cell_type": "code",
   "execution_count": 20,
   "id": "a314e013",
   "metadata": {
    "scrolled": true
   },
   "outputs": [
    {
     "data": {
      "text/plain": [
       "ban\n",
       "1    True\n",
       "2    True\n",
       "3    True\n",
       "4    True\n",
       "dtype: bool"
      ]
     },
     "execution_count": 20,
     "metadata": {},
     "output_type": "execute_result"
    }
   ],
   "source": [
    "df_math_mean=df.groupby('ban')['math'].mean()\n",
    "df_math_sum_and_cont= df.groupby('ban')['math'].agg(['mean','sum','count'])\n",
    "df_math_sum_and_cont['mean']==df_math_sum_and_cont['sum']/df_math_sum_and_cont['count']"
   ]
  }
 ],
 "metadata": {
  "kernelspec": {
   "display_name": "Python 3 (ipykernel)",
   "language": "python",
   "name": "python3"
  },
  "language_info": {
   "codemirror_mode": {
    "name": "ipython",
    "version": 3
   },
   "file_extension": ".py",
   "mimetype": "text/x-python",
   "name": "python",
   "nbconvert_exporter": "python",
   "pygments_lexer": "ipython3",
   "version": "3.10.13"
  }
 },
 "nbformat": 4,
 "nbformat_minor": 5
}
