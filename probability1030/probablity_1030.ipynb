{
 "cells": [
  {
   "cell_type": "markdown",
   "id": "fd13b709",
   "metadata": {},
   "source": [
    "## 확률(Prpbability)"
   ]
  },
  {
   "cell_type": "markdown",
   "id": "e21acd74",
   "metadata": {},
   "source": [
    "베이지안 통계의 설립은 베이지안 이론이다.\n",
    "베이지안이론의 구축은 조건부 확률\n",
    "\n",
    "In this chapter, we'll start with conditional probability, derive Bayes's Theorem, and demonstrate it using a real dataset.<br>\n",
    "In the next chapter, we'll use Bayes's Theorem to solve problems related to conditional probability.<br>\n",
    "In the chapters that follow, 베이지안 이론으로부터 통계학까지 전환하고 차이를 설명"
   ]
  },
  {
   "cell_type": "markdown",
   "id": "08aaec62",
   "metadata": {},
   "source": [
    "## Linda the Banker\n",
    "\n",
    "To introduce conditional probability, I'll use an example from a [famous experiment by Tversky and Kahneman](https://en.wikipedia.org/wiki/Conjunction_fallacy), who posed the following question:\n",
    "\n",
    "> Linda is 31 years old, single, outspoken, and very bright. She majored in philosophy. As a student, she was deeply concerned with issues of discrimination and social justice, and also participated in anti-nuclear demonstrations.  Which is more probable?\n",
    "> 1. Linda is a bank teller.\n",
    "> 2. Linda is a bank teller and is active in the feminist movement.\n",
    "\n",
    "Many people choose the second answer, presumably because it seems more consistent with the description. <br> \n",
    "It seems uncharacteristic if Linda is *just* a bank teller; it seems more consistent if she is also a feminist."
   ]
  },
  {
   "cell_type": "markdown",
   "id": "7b91bb4d",
   "metadata": {},
   "source": [
    "그러나 두 번째 대답은 질문에서 묻는 것처럼 \"더 가능성이\" 있을 수 없습니다. Linda의 설명에 맞는 사람 1000명을 찾고 그 중 10명이 은행원으로 일하고 있다고 가정해 보겠습니다. 그 중 페미니스트도 몇 명이나 되나요? 많아야 10개 모두입니다. 이 경우 두 가지 옵션의 가능성은 동일합니다. 10개 미만이면 두 번째 옵션의 가능성이 낮습니다. 그러나 두 번째 옵션이 더 가능성이 높을 수는 없습니다.\n",
    "\n",
    "두 번째 옵션을 선택하고 싶다면 좋은 친구가 있는 것입니다. 생물학자 스티븐 J. 굴드(Stephen J. Gould)는 다음과 같이 썼습니다.\n",
    "\n",
    "나는 이 예를 특히 좋아하는데, 그 이유는 [두 번째] 진술이 개연성이 가장 낮음에도 불구하고 내 머릿속의 작은 호문쿨루스가 계속해서 위아래로 뛰어오르며 나에게 이렇게 소리치기 때문입니다. \"하지만 그녀는 단지 은행원이 될 수 없어요. 설명을 읽어보세요.\"\n",
    "\n",
    "당신 머릿속의 작은 사람이 여전히 불행하다면 아마도 이 장이 도움이 될 것입니다."
   ]
  },
  {
   "cell_type": "markdown",
   "id": "47ac68fd",
   "metadata": {},
   "source": [
    "확률은 통계 및 수학에서 중요한 개념 중 하나입니다. 여러분이 제시한 정의처럼 확률은 유한한 집합의 분수로 정의할 수 있습니다.\n",
    "\n",
    "예를 들어, 1000명의 사람을 조사했을 때 그 중 20명이 은행 직원이라면, 은행 직원으로 일하는 비율은 0.02 또는 2%입니다. 이 인구 중에서 임의로 한 명을 선택한다면 그 사람이 은행 직원일 확률은 2%입니다. \"임의로\" 선택한다는 말은 데이터 집합 내의 모든 사람이 선택될 가능성이 동일하다는 것을 의미합니다.\n",
    "\n",
    "이 정의와 적절한 데이터 집합을 사용하여 카운팅을 통해 확률을 계산할 수 있습니다. 이를 보여주기 위해 General Social Survey (GSS) 데이터를 사용해보겠습니다. 여기서 확률 계산이나 GSS 데이터와 관련된 특정 질문 또는 도움이 필요한 내용이 있다면 언제든지 물어보세요. 도움을 드릴 준비가 되어 있습니다."
   ]
  },
  {
   "cell_type": "code",
   "execution_count": 1,
   "id": "aabaedda",
   "metadata": {},
   "outputs": [],
   "source": [
    "from os.path import basename,exists"
   ]
  },
  {
   "cell_type": "code",
   "execution_count": 2,
   "id": "cf4a06b8",
   "metadata": {},
   "outputs": [],
   "source": [
    "def download(url):\n",
    "    filename = basename(url)\n",
    "    if not exists(filename):\n",
    "        from urllib.request import urlretrieve\n",
    "        local, _ = urlretrieve(url, filename)\n",
    "        print(local + ' 에서 다운로드됨')\n",
    "        \n",
    "download('https://github.com/AllenDowney/ThinkBayes2/raw/master/data/gss_bayes.csv')"
   ]
  },
  {
   "cell_type": "markdown",
   "id": "b2380740",
   "metadata": {},
   "source": [
    "데이터를 pandas를 이용해서 읽어서 DataFrame으로 저장"
   ]
  },
  {
   "cell_type": "code",
   "execution_count": 3,
   "id": "7a77f584",
   "metadata": {
    "scrolled": true
   },
   "outputs": [
    {
     "data": {
      "text/html": [
       "<div>\n",
       "<style scoped>\n",
       "    .dataframe tbody tr th:only-of-type {\n",
       "        vertical-align: middle;\n",
       "    }\n",
       "\n",
       "    .dataframe tbody tr th {\n",
       "        vertical-align: top;\n",
       "    }\n",
       "\n",
       "    .dataframe thead th {\n",
       "        text-align: right;\n",
       "    }\n",
       "</style>\n",
       "<table border=\"1\" class=\"dataframe\">\n",
       "  <thead>\n",
       "    <tr style=\"text-align: right;\">\n",
       "      <th></th>\n",
       "      <th>year</th>\n",
       "      <th>age</th>\n",
       "      <th>sex</th>\n",
       "      <th>polviews</th>\n",
       "      <th>partyid</th>\n",
       "      <th>indus10</th>\n",
       "    </tr>\n",
       "    <tr>\n",
       "      <th>caseid</th>\n",
       "      <th></th>\n",
       "      <th></th>\n",
       "      <th></th>\n",
       "      <th></th>\n",
       "      <th></th>\n",
       "      <th></th>\n",
       "    </tr>\n",
       "  </thead>\n",
       "  <tbody>\n",
       "    <tr>\n",
       "      <th>1</th>\n",
       "      <td>1974</td>\n",
       "      <td>21.0</td>\n",
       "      <td>1</td>\n",
       "      <td>4.0</td>\n",
       "      <td>2.0</td>\n",
       "      <td>4970.0</td>\n",
       "    </tr>\n",
       "    <tr>\n",
       "      <th>2</th>\n",
       "      <td>1974</td>\n",
       "      <td>41.0</td>\n",
       "      <td>1</td>\n",
       "      <td>5.0</td>\n",
       "      <td>0.0</td>\n",
       "      <td>9160.0</td>\n",
       "    </tr>\n",
       "    <tr>\n",
       "      <th>5</th>\n",
       "      <td>1974</td>\n",
       "      <td>58.0</td>\n",
       "      <td>2</td>\n",
       "      <td>6.0</td>\n",
       "      <td>1.0</td>\n",
       "      <td>2670.0</td>\n",
       "    </tr>\n",
       "    <tr>\n",
       "      <th>6</th>\n",
       "      <td>1974</td>\n",
       "      <td>30.0</td>\n",
       "      <td>1</td>\n",
       "      <td>5.0</td>\n",
       "      <td>4.0</td>\n",
       "      <td>6870.0</td>\n",
       "    </tr>\n",
       "    <tr>\n",
       "      <th>7</th>\n",
       "      <td>1974</td>\n",
       "      <td>48.0</td>\n",
       "      <td>1</td>\n",
       "      <td>5.0</td>\n",
       "      <td>4.0</td>\n",
       "      <td>7860.0</td>\n",
       "    </tr>\n",
       "  </tbody>\n",
       "</table>\n",
       "</div>"
      ],
      "text/plain": [
       "        year   age  sex  polviews  partyid  indus10\n",
       "caseid                                             \n",
       "1       1974  21.0    1       4.0      2.0   4970.0\n",
       "2       1974  41.0    1       5.0      0.0   9160.0\n",
       "5       1974  58.0    2       6.0      1.0   2670.0\n",
       "6       1974  30.0    1       5.0      4.0   6870.0\n",
       "7       1974  48.0    1       5.0      4.0   7860.0"
      ]
     },
     "execution_count": 3,
     "metadata": {},
     "output_type": "execute_result"
    }
   ],
   "source": [
    "import pandas as pd\n",
    "gss = pd.read_csv('gss_bayes.csv',index_col=0)\n",
    "gss.head()"
   ]
  },
  {
   "cell_type": "markdown",
   "id": "2830e867",
   "metadata": {},
   "source": [
    "The `DataFrame` 내가 선택한 각 변수에 대한 하나의\n",
    "\n",
    "The columns are\n",
    "\n",
    "* `caseid`: Respondent id (which is the index of the table).\n",
    "\n",
    "* `year`: Year when the respondent was surveyed.\n",
    "\n",
    "* `age`: Respondent's age when surveyed.\n",
    "\n",
    "* `sex`: Male or female.\n",
    "\n",
    "* `polviews`: Political views on a range from liberal to conservative.\n",
    "\n",
    "* `partyid`: Political party affiliation, Democrat, Independent, or Republican.\n",
    "\n",
    "* `indus10`: [Code](https://www.census.gov/cgi-bin/sssd/naics/naicsrch?chart=2007) for the industry the respondent works in.\n",
    "\n",
    "Let's look at these variables in more detail, starting with `indus10`."
   ]
  },
  {
   "cell_type": "code",
   "execution_count": 4,
   "id": "7b1f3ddb",
   "metadata": {
    "scrolled": false
   },
   "outputs": [
    {
     "name": "stdout",
     "output_type": "stream",
     "text": [
      "sum :  728 , mean :  0.014769730168391155\n"
     ]
    }
   ],
   "source": [
    "banker = (gss['indus10']==6870)\n",
    "# banker.head()\n",
    "print('sum : ' , banker.sum(),', mean : ', banker.mean())"
   ]
  },
  {
   "cell_type": "code",
   "execution_count": 71,
   "id": "15ed742b",
   "metadata": {},
   "outputs": [
    {
     "data": {
      "text/plain": [
       "0.014769730168391155"
      ]
     },
     "execution_count": 71,
     "metadata": {},
     "output_type": "execute_result"
    }
   ],
   "source": [
    "prob(gss['indus10']==6870)"
   ]
  },
  {
   "cell_type": "code",
   "execution_count": 5,
   "id": "e4546bea",
   "metadata": {},
   "outputs": [],
   "source": [
    "def prob(A):\n",
    "    \"\"\"\n",
    "        A의 확률 구하기\n",
    "    \"\"\"\n",
    "    return A.mean()"
   ]
  },
  {
   "cell_type": "code",
   "execution_count": 6,
   "id": "174725de",
   "metadata": {},
   "outputs": [],
   "source": [
    "def prob_m(A):\n",
    "    return A.sum()/A.count()"
   ]
  },
  {
   "cell_type": "code",
   "execution_count": 7,
   "id": "44b8c14e",
   "metadata": {
    "scrolled": true
   },
   "outputs": [
    {
     "data": {
      "text/plain": [
       "0.014769730168391155"
      ]
     },
     "execution_count": 7,
     "metadata": {},
     "output_type": "execute_result"
    }
   ],
   "source": [
    "prob(banker)"
   ]
  },
  {
   "cell_type": "code",
   "execution_count": 8,
   "id": "355cf3d3",
   "metadata": {},
   "outputs": [
    {
     "data": {
      "text/plain": [
       "0.014769730168391155"
      ]
     },
     "execution_count": 8,
     "metadata": {},
     "output_type": "execute_result"
    }
   ],
   "source": [
    "prob_m(banker)"
   ]
  },
  {
   "cell_type": "code",
   "execution_count": 9,
   "id": "75000c1f",
   "metadata": {},
   "outputs": [
    {
     "data": {
      "text/plain": [
       "0.5378575776019476"
      ]
     },
     "execution_count": 9,
     "metadata": {},
     "output_type": "execute_result"
    }
   ],
   "source": [
    "female = (gss['sex']==2)\n",
    "prob(female)"
   ]
  },
  {
   "cell_type": "markdown",
   "id": "2cf6fbb3",
   "metadata": {},
   "source": [
    "이 데이터 집합에 있는 여성의 비율이 성인 미국 인구보다 높은 이유는 GSS가 감옥이나 군사 주택과 같은 기관에 거주하는 사람들을 포함하지 않기 때문입니다. 이러한 인구는 일반적으로 남성이 많기 때문에 여성의 비율이 상대적으로 높게 나타납니다."
   ]
  },
  {
   "cell_type": "markdown",
   "id": "ab6b4cba",
   "metadata": {},
   "source": [
    "1\t극도로 진보적 <br>\n",
    "2\t진보적 <br>\n",
    "3\t약간 진보적 <br>\n",
    "4\t중도 <br>\n",
    "5\t약간 보수적 <br>\n",
    "6\t보수적 <br>\n",
    "7\t극도로 보수적<br>"
   ]
  },
  {
   "cell_type": "markdown",
   "id": "b4c69c80",
   "metadata": {},
   "source": [
    "만약 이 데이터 집합에서 무작위로 한 명의 사람을 선택한다면, 그 사람이 진보적인 확률은 약 27% 정도입니다."
   ]
  },
  {
   "cell_type": "code",
   "execution_count": 10,
   "id": "c7eca030",
   "metadata": {},
   "outputs": [
    {
     "data": {
      "text/plain": [
       "caseid\n",
       "1       False\n",
       "2       False\n",
       "5       False\n",
       "6       False\n",
       "7       False\n",
       "        ...  \n",
       "2863     True\n",
       "2864    False\n",
       "2865    False\n",
       "2866    False\n",
       "2867    False\n",
       "Name: polviews, Length: 49290, dtype: bool"
      ]
     },
     "execution_count": 10,
     "metadata": {},
     "output_type": "execute_result"
    }
   ],
   "source": [
    "liberal = (gss['polviews']<=3)\n",
    "liberal\n",
    "#진보적인 사람"
   ]
  },
  {
   "cell_type": "markdown",
   "id": "706a3264",
   "metadata": {},
   "source": [
    "partyid 변수의 값은 다음과 같이 인코딩되어 있습니다:"
   ]
  },
  {
   "cell_type": "code",
   "execution_count": 11,
   "id": "385c807b",
   "metadata": {},
   "outputs": [
    {
     "data": {
      "text/plain": [
       "0.4915804422803814"
      ]
     },
     "execution_count": 11,
     "metadata": {},
     "output_type": "execute_result"
    }
   ],
   "source": [
    "liberal2 = (gss['partyid']<3)\n",
    "prob(liberal2)"
   ]
  },
  {
   "cell_type": "code",
   "execution_count": 12,
   "id": "82e036da",
   "metadata": {},
   "outputs": [
    {
     "data": {
      "text/plain": [
       "0.004686548995739501"
      ]
     },
     "execution_count": 12,
     "metadata": {},
     "output_type": "execute_result"
    }
   ],
   "source": [
    "democrat = gss['partyid']<=1\n",
    "prob(banker & democrat)"
   ]
  },
  {
   "cell_type": "code",
   "execution_count": 13,
   "id": "cbaeaafd",
   "metadata": {},
   "outputs": [
    {
     "data": {
      "text/plain": [
       "0.004686548995739501"
      ]
     },
     "execution_count": 13,
     "metadata": {},
     "output_type": "execute_result"
    }
   ],
   "source": [
    "prob(democrat & banker) # 교환 법칙"
   ]
  },
  {
   "cell_type": "markdown",
   "id": "dcd3ec2f",
   "metadata": {},
   "source": [
    "0\t강력한 민주당 지지자<br>\n",
    "1\t강한 민주당 지지자가 아닌 민주당 지지자<br>\n",
    "2\t독립형, 민주당 쪽 가까움<br>\n",
    "3\t독립형<br>\n",
    "4\t독립형, 공화당 쪽 가까움<br>\n",
    "5\t강한 공화당 지지자가 아닌 공화당 지지자<br>\n",
    "6\t강한 공화당 지지자<br>\n",
    "7\t다른 정당<br>"
   ]
  },
  {
   "cell_type": "markdown",
   "id": "ad131748",
   "metadata": {},
   "source": [
    "이제 확률의 정의와 확률을 계산하는 함수가 준비되었으니, \"Conjunction(연역)\"에 대해 이야기해 봅시다.\n",
    "\n",
    "\"Conjunction(연역)\"은 논리적 and 연산을 나타내는 다른 용어입니다. 두 개의 proposition(명제)인 A와 B가 있다면, A and B의 연역은 A와 B 모두 True일 때 True이고, 그렇지 않으면 False입니다.\n",
    "\n",
    "두 개의 불리언 시리즈가 있다면 & 연산자를 사용하여 그들의 연역을 계산할 수 있습니다. 예를 들어, 우리는 이미 응답자가 은행원인 확률을 계산했습니다."
   ]
  },
  {
   "cell_type": "markdown",
   "id": "eab5534d",
   "metadata": {},
   "source": [
    "이제 응답자가 은행원이면서 민주당 지지자인 확률을 계산할 수 있습니다:\n",
    "\n",
    "응답자가 은행원인 확률을 계산하고 저장합니다.\n",
    "응답자가 민주당 지지자인 확률을 계산하고 저장합니다.\n",
    "두 확률을 연역하여 (둘 다 True일 때) 응답자가 은행원이면서 민주당 지지자인 확률을 계산합니다.\n",
    "여기서 계산을 위해 필요한 데이터와 정보를 제공해 주세요. 계산을 도와드리겠습니다."
   ]
  },
  {
   "cell_type": "markdown",
   "id": "7d7da2c4",
   "metadata": {},
   "source": [
    "## 조건부 확률\n",
    "조건부 확률은 어떤 조건에 따라 발생하는 확률을 의미하는데, 이것이 가장 도움이 되는 정의는 아닐 수 있습니다. 몇 가지 예시를 살펴보겠습니다.\n",
    "\n",
    "* 응답자가 진보적일 때, 민주당 지지자일 확률은 얼마인가요?\n",
    "* 응답자가 은행원일 때, 여성일 확률은 얼마인가요?\n",
    "* 여성일 때, 응답자가 진보적일 확률은 얼마인가요?\n",
    "첫 번째 예시를 시작하겠습니다. 이를 다음과 같이 해석할 수 있습니다. \"진보적인 응답자 중에서 민주당 지지자의 비율은 얼마인가요?\"\n",
    "\n",
    "이 확률을 계산하기 위해 두 단계로 나눌 수 있습니다.\n",
    "\n",
    "* 진보적인 응답자를 선택합니다.\n",
    "* 선택한 응답자 중에서 민주당 지지자의 비율을 계산합니다.\n"
   ]
  },
  {
   "cell_type": "code",
   "execution_count": 14,
   "id": "ff0157e5",
   "metadata": {},
   "outputs": [],
   "source": [
    "def conditional(proposition, given):\n",
    "    \"\"\"\n",
    "        특정 조건이 주어질때 의 조건부 확률\n",
    "    \"\"\"\n",
    "    return prob(proposition[given])"
   ]
  },
  {
   "cell_type": "code",
   "execution_count": 15,
   "id": "0e128fe0",
   "metadata": {},
   "outputs": [],
   "source": [
    "### 여성의 응답자 중 진보적인(liberal) 성형의 조건부 확률"
   ]
  },
  {
   "cell_type": "code",
   "execution_count": 16,
   "id": "7348ea68",
   "metadata": {},
   "outputs": [
    {
     "data": {
      "text/plain": [
       "0.004686548995739501"
      ]
     },
     "execution_count": 16,
     "metadata": {},
     "output_type": "execute_result"
    }
   ],
   "source": [
    "prob(banker & democrat) #P(banker, democrat)"
   ]
  },
  {
   "cell_type": "code",
   "execution_count": 17,
   "id": "b7f1e7c3",
   "metadata": {},
   "outputs": [
    {
     "data": {
      "text/plain": [
       "0.5206403320240125"
      ]
     },
     "execution_count": 17,
     "metadata": {},
     "output_type": "execute_result"
    }
   ],
   "source": [
    "selected = democrat[liberal] #민주당 지지자 중 진보\n",
    "prob_liberal=prob(selected) #진보적인 확률\n",
    "prob_liberal"
   ]
  },
  {
   "cell_type": "code",
   "execution_count": 18,
   "id": "4a1a6bb5",
   "metadata": {},
   "outputs": [
    {
     "data": {
      "text/plain": [
       "0.27581004111500884"
      ]
     },
     "execution_count": 18,
     "metadata": {},
     "output_type": "execute_result"
    }
   ],
   "source": [
    "cond_female = conditional(liberal,given=female)\n",
    "cond_female"
   ]
  },
  {
   "cell_type": "code",
   "execution_count": 19,
   "id": "ba6dba6e",
   "metadata": {},
   "outputs": [
    {
     "data": {
      "text/plain": [
       "0.5297515850199024"
      ]
     },
     "execution_count": 19,
     "metadata": {},
     "output_type": "execute_result"
    }
   ],
   "source": [
    "intersection = cond_female / prob_liberal\n",
    "intersection"
   ]
  },
  {
   "cell_type": "code",
   "execution_count": 20,
   "id": "dcdd88a6",
   "metadata": {},
   "outputs": [],
   "source": [
    "#위의 코드 분석 후 여성이면서 liberal에 대한 조건부 확률\n",
    "# 과 두개의 조건을 만족하는것과 진보적인 확률의 관계로 코딩으로 \n",
    "# 구현 하여 조건은 만족하는지 확인"
   ]
  },
  {
   "cell_type": "markdown",
   "id": "49db875c",
   "metadata": {},
   "source": [
    "$$ P(A,B) = P(B|A)P(A), P(A,B) = P(A|B)P(B),P(A|B) = \\frac{P(A,B)}{P(B)}  $$"
   ]
  },
  {
   "cell_type": "code",
   "execution_count": 21,
   "id": "368e6edc",
   "metadata": {},
   "outputs": [
    {
     "data": {
      "text/plain": [
       "0.14834652059241227"
      ]
     },
     "execution_count": 21,
     "metadata": {},
     "output_type": "execute_result"
    }
   ],
   "source": [
    "prob(female & liberal) #P(여성,진보)"
   ]
  },
  {
   "cell_type": "code",
   "execution_count": 22,
   "id": "b5809c6c",
   "metadata": {},
   "outputs": [
    {
     "data": {
      "text/plain": [
       "0.14834652059241224"
      ]
     },
     "execution_count": 22,
     "metadata": {},
     "output_type": "execute_result"
    }
   ],
   "source": [
    "conditional(liberal,given=female) * prob(female) "
   ]
  },
  {
   "cell_type": "code",
   "execution_count": 23,
   "id": "423ae0c0",
   "metadata": {},
   "outputs": [
    {
     "data": {
      "text/plain": [
       "0.14834652059241227"
      ]
     },
     "execution_count": 23,
     "metadata": {},
     "output_type": "execute_result"
    }
   ],
   "source": [
    "conditional(female,given=liberal) * prob(liberal)"
   ]
  },
  {
   "cell_type": "code",
   "execution_count": 24,
   "id": "b4a7fc80",
   "metadata": {},
   "outputs": [
    {
     "data": {
      "text/plain": [
       "0.5419106203216483"
      ]
     },
     "execution_count": 24,
     "metadata": {},
     "output_type": "execute_result"
    }
   ],
   "source": [
    "conditional(female,given=liberal)"
   ]
  },
  {
   "cell_type": "code",
   "execution_count": 25,
   "id": "2fa33dce",
   "metadata": {},
   "outputs": [
    {
     "data": {
      "text/plain": [
       "0.5419106203216483"
      ]
     },
     "execution_count": 25,
     "metadata": {},
     "output_type": "execute_result"
    }
   ],
   "source": [
    "prob(female & liberal)/prob(liberal)"
   ]
  },
  {
   "cell_type": "code",
   "execution_count": 26,
   "id": "4d76c0d9",
   "metadata": {
    "scrolled": true
   },
   "outputs": [
    {
     "data": {
      "text/html": [
       "<div>\n",
       "<style scoped>\n",
       "    .dataframe tbody tr th:only-of-type {\n",
       "        vertical-align: middle;\n",
       "    }\n",
       "\n",
       "    .dataframe tbody tr th {\n",
       "        vertical-align: top;\n",
       "    }\n",
       "\n",
       "    .dataframe thead th {\n",
       "        text-align: right;\n",
       "    }\n",
       "</style>\n",
       "<table border=\"1\" class=\"dataframe\">\n",
       "  <thead>\n",
       "    <tr style=\"text-align: right;\">\n",
       "      <th></th>\n",
       "      <th>year</th>\n",
       "      <th>age</th>\n",
       "      <th>sex</th>\n",
       "      <th>polviews</th>\n",
       "      <th>partyid</th>\n",
       "      <th>indus10</th>\n",
       "    </tr>\n",
       "    <tr>\n",
       "      <th>caseid</th>\n",
       "      <th></th>\n",
       "      <th></th>\n",
       "      <th></th>\n",
       "      <th></th>\n",
       "      <th></th>\n",
       "      <th></th>\n",
       "    </tr>\n",
       "  </thead>\n",
       "  <tbody>\n",
       "    <tr>\n",
       "      <th>5</th>\n",
       "      <td>1974</td>\n",
       "      <td>58.0</td>\n",
       "      <td>2</td>\n",
       "      <td>6.0</td>\n",
       "      <td>1.0</td>\n",
       "      <td>2670.0</td>\n",
       "    </tr>\n",
       "    <tr>\n",
       "      <th>10</th>\n",
       "      <td>1974</td>\n",
       "      <td>54.0</td>\n",
       "      <td>2</td>\n",
       "      <td>6.0</td>\n",
       "      <td>0.0</td>\n",
       "      <td>9470.0</td>\n",
       "    </tr>\n",
       "    <tr>\n",
       "      <th>14</th>\n",
       "      <td>1974</td>\n",
       "      <td>30.0</td>\n",
       "      <td>2</td>\n",
       "      <td>4.0</td>\n",
       "      <td>0.0</td>\n",
       "      <td>4970.0</td>\n",
       "    </tr>\n",
       "    <tr>\n",
       "      <th>15</th>\n",
       "      <td>1974</td>\n",
       "      <td>22.0</td>\n",
       "      <td>2</td>\n",
       "      <td>6.0</td>\n",
       "      <td>0.0</td>\n",
       "      <td>8680.0</td>\n",
       "    </tr>\n",
       "    <tr>\n",
       "      <th>19</th>\n",
       "      <td>1974</td>\n",
       "      <td>71.0</td>\n",
       "      <td>2</td>\n",
       "      <td>7.0</td>\n",
       "      <td>5.0</td>\n",
       "      <td>9290.0</td>\n",
       "    </tr>\n",
       "  </tbody>\n",
       "</table>\n",
       "</div>"
      ],
      "text/plain": [
       "        year   age  sex  polviews  partyid  indus10\n",
       "caseid                                             \n",
       "5       1974  58.0    2       6.0      1.0   2670.0\n",
       "10      1974  54.0    2       6.0      0.0   9470.0\n",
       "14      1974  30.0    2       4.0      0.0   4970.0\n",
       "15      1974  22.0    2       6.0      0.0   8680.0\n",
       "19      1974  71.0    2       7.0      5.0   9290.0"
      ]
     },
     "execution_count": 26,
     "metadata": {},
     "output_type": "execute_result"
    }
   ],
   "source": [
    "fm = gss['sex']==2\n",
    "m = gss['sex']==1\n",
    "gss[fm].head()"
   ]
  },
  {
   "cell_type": "code",
   "execution_count": 27,
   "id": "46f5a18a",
   "metadata": {},
   "outputs": [
    {
     "data": {
      "text/html": [
       "<div>\n",
       "<style scoped>\n",
       "    .dataframe tbody tr th:only-of-type {\n",
       "        vertical-align: middle;\n",
       "    }\n",
       "\n",
       "    .dataframe tbody tr th {\n",
       "        vertical-align: top;\n",
       "    }\n",
       "\n",
       "    .dataframe thead th {\n",
       "        text-align: right;\n",
       "    }\n",
       "</style>\n",
       "<table border=\"1\" class=\"dataframe\">\n",
       "  <thead>\n",
       "    <tr style=\"text-align: right;\">\n",
       "      <th></th>\n",
       "      <th>year</th>\n",
       "      <th>age</th>\n",
       "      <th>sex</th>\n",
       "      <th>polviews</th>\n",
       "      <th>partyid</th>\n",
       "      <th>indus10</th>\n",
       "    </tr>\n",
       "    <tr>\n",
       "      <th>caseid</th>\n",
       "      <th></th>\n",
       "      <th></th>\n",
       "      <th></th>\n",
       "      <th></th>\n",
       "      <th></th>\n",
       "      <th></th>\n",
       "    </tr>\n",
       "  </thead>\n",
       "  <tbody>\n",
       "    <tr>\n",
       "      <th>1</th>\n",
       "      <td>1974</td>\n",
       "      <td>21.0</td>\n",
       "      <td>1</td>\n",
       "      <td>4.0</td>\n",
       "      <td>2.0</td>\n",
       "      <td>4970.0</td>\n",
       "    </tr>\n",
       "    <tr>\n",
       "      <th>2</th>\n",
       "      <td>1974</td>\n",
       "      <td>41.0</td>\n",
       "      <td>1</td>\n",
       "      <td>5.0</td>\n",
       "      <td>0.0</td>\n",
       "      <td>9160.0</td>\n",
       "    </tr>\n",
       "    <tr>\n",
       "      <th>6</th>\n",
       "      <td>1974</td>\n",
       "      <td>30.0</td>\n",
       "      <td>1</td>\n",
       "      <td>5.0</td>\n",
       "      <td>4.0</td>\n",
       "      <td>6870.0</td>\n",
       "    </tr>\n",
       "    <tr>\n",
       "      <th>7</th>\n",
       "      <td>1974</td>\n",
       "      <td>48.0</td>\n",
       "      <td>1</td>\n",
       "      <td>5.0</td>\n",
       "      <td>4.0</td>\n",
       "      <td>7860.0</td>\n",
       "    </tr>\n",
       "    <tr>\n",
       "      <th>8</th>\n",
       "      <td>1974</td>\n",
       "      <td>67.0</td>\n",
       "      <td>1</td>\n",
       "      <td>5.0</td>\n",
       "      <td>0.0</td>\n",
       "      <td>2870.0</td>\n",
       "    </tr>\n",
       "  </tbody>\n",
       "</table>\n",
       "</div>"
      ],
      "text/plain": [
       "        year   age  sex  polviews  partyid  indus10\n",
       "caseid                                             \n",
       "1       1974  21.0    1       4.0      2.0   4970.0\n",
       "2       1974  41.0    1       5.0      0.0   9160.0\n",
       "6       1974  30.0    1       5.0      4.0   6870.0\n",
       "7       1974  48.0    1       5.0      4.0   7860.0\n",
       "8       1974  67.0    1       5.0      0.0   2870.0"
      ]
     },
     "execution_count": 27,
     "metadata": {},
     "output_type": "execute_result"
    }
   ],
   "source": [
    "gss[m].head()"
   ]
  },
  {
   "cell_type": "code",
   "execution_count": 28,
   "id": "21234751",
   "metadata": {
    "scrolled": true
   },
   "outputs": [
    {
     "data": {
      "text/html": [
       "<div>\n",
       "<style scoped>\n",
       "    .dataframe tbody tr th:only-of-type {\n",
       "        vertical-align: middle;\n",
       "    }\n",
       "\n",
       "    .dataframe tbody tr th {\n",
       "        vertical-align: top;\n",
       "    }\n",
       "\n",
       "    .dataframe thead th {\n",
       "        text-align: right;\n",
       "    }\n",
       "</style>\n",
       "<table border=\"1\" class=\"dataframe\">\n",
       "  <thead>\n",
       "    <tr style=\"text-align: right;\">\n",
       "      <th></th>\n",
       "      <th>year</th>\n",
       "      <th>age</th>\n",
       "      <th>sex</th>\n",
       "      <th>polviews</th>\n",
       "      <th>partyid</th>\n",
       "      <th>indus10</th>\n",
       "    </tr>\n",
       "    <tr>\n",
       "      <th>caseid</th>\n",
       "      <th></th>\n",
       "      <th></th>\n",
       "      <th></th>\n",
       "      <th></th>\n",
       "      <th></th>\n",
       "      <th></th>\n",
       "    </tr>\n",
       "  </thead>\n",
       "  <tbody>\n",
       "    <tr>\n",
       "      <th>1</th>\n",
       "      <td>1974</td>\n",
       "      <td>21.0</td>\n",
       "      <td>1</td>\n",
       "      <td>4.0</td>\n",
       "      <td>2.0</td>\n",
       "      <td>4970.0</td>\n",
       "    </tr>\n",
       "    <tr>\n",
       "      <th>2</th>\n",
       "      <td>1974</td>\n",
       "      <td>41.0</td>\n",
       "      <td>1</td>\n",
       "      <td>5.0</td>\n",
       "      <td>0.0</td>\n",
       "      <td>9160.0</td>\n",
       "    </tr>\n",
       "    <tr>\n",
       "      <th>5</th>\n",
       "      <td>1974</td>\n",
       "      <td>58.0</td>\n",
       "      <td>2</td>\n",
       "      <td>6.0</td>\n",
       "      <td>1.0</td>\n",
       "      <td>2670.0</td>\n",
       "    </tr>\n",
       "    <tr>\n",
       "      <th>6</th>\n",
       "      <td>1974</td>\n",
       "      <td>30.0</td>\n",
       "      <td>1</td>\n",
       "      <td>5.0</td>\n",
       "      <td>4.0</td>\n",
       "      <td>6870.0</td>\n",
       "    </tr>\n",
       "    <tr>\n",
       "      <th>7</th>\n",
       "      <td>1974</td>\n",
       "      <td>48.0</td>\n",
       "      <td>1</td>\n",
       "      <td>5.0</td>\n",
       "      <td>4.0</td>\n",
       "      <td>7860.0</td>\n",
       "    </tr>\n",
       "  </tbody>\n",
       "</table>\n",
       "</div>"
      ],
      "text/plain": [
       "        year   age  sex  polviews  partyid  indus10\n",
       "caseid                                             \n",
       "1       1974  21.0    1       4.0      2.0   4970.0\n",
       "2       1974  41.0    1       5.0      0.0   9160.0\n",
       "5       1974  58.0    2       6.0      1.0   2670.0\n",
       "6       1974  30.0    1       5.0      4.0   6870.0\n",
       "7       1974  48.0    1       5.0      4.0   7860.0"
      ]
     },
     "execution_count": 28,
     "metadata": {},
     "output_type": "execute_result"
    }
   ],
   "source": [
    "a60 = gss['age']>=60\n",
    "b50 = gss['age']<50\n",
    "banker_age_less60 = [not i for i in a60]\n",
    "gss[banker_age_less60].head()\n",
    "# gss[a60].head()"
   ]
  },
  {
   "cell_type": "code",
   "execution_count": 29,
   "id": "bcd1a66d",
   "metadata": {
    "scrolled": false
   },
   "outputs": [
    {
     "data": {
      "text/html": [
       "<div>\n",
       "<style scoped>\n",
       "    .dataframe tbody tr th:only-of-type {\n",
       "        vertical-align: middle;\n",
       "    }\n",
       "\n",
       "    .dataframe tbody tr th {\n",
       "        vertical-align: top;\n",
       "    }\n",
       "\n",
       "    .dataframe thead th {\n",
       "        text-align: right;\n",
       "    }\n",
       "</style>\n",
       "<table border=\"1\" class=\"dataframe\">\n",
       "  <thead>\n",
       "    <tr style=\"text-align: right;\">\n",
       "      <th></th>\n",
       "      <th>year</th>\n",
       "      <th>age</th>\n",
       "      <th>sex</th>\n",
       "      <th>polviews</th>\n",
       "      <th>partyid</th>\n",
       "      <th>indus10</th>\n",
       "    </tr>\n",
       "    <tr>\n",
       "      <th>caseid</th>\n",
       "      <th></th>\n",
       "      <th></th>\n",
       "      <th></th>\n",
       "      <th></th>\n",
       "      <th></th>\n",
       "      <th></th>\n",
       "    </tr>\n",
       "  </thead>\n",
       "  <tbody>\n",
       "    <tr>\n",
       "      <th>1</th>\n",
       "      <td>1974</td>\n",
       "      <td>21.0</td>\n",
       "      <td>1</td>\n",
       "      <td>4.0</td>\n",
       "      <td>2.0</td>\n",
       "      <td>4970.0</td>\n",
       "    </tr>\n",
       "    <tr>\n",
       "      <th>2</th>\n",
       "      <td>1974</td>\n",
       "      <td>41.0</td>\n",
       "      <td>1</td>\n",
       "      <td>5.0</td>\n",
       "      <td>0.0</td>\n",
       "      <td>9160.0</td>\n",
       "    </tr>\n",
       "    <tr>\n",
       "      <th>6</th>\n",
       "      <td>1974</td>\n",
       "      <td>30.0</td>\n",
       "      <td>1</td>\n",
       "      <td>5.0</td>\n",
       "      <td>4.0</td>\n",
       "      <td>6870.0</td>\n",
       "    </tr>\n",
       "    <tr>\n",
       "      <th>7</th>\n",
       "      <td>1974</td>\n",
       "      <td>48.0</td>\n",
       "      <td>1</td>\n",
       "      <td>5.0</td>\n",
       "      <td>4.0</td>\n",
       "      <td>7860.0</td>\n",
       "    </tr>\n",
       "    <tr>\n",
       "      <th>14</th>\n",
       "      <td>1974</td>\n",
       "      <td>30.0</td>\n",
       "      <td>2</td>\n",
       "      <td>4.0</td>\n",
       "      <td>0.0</td>\n",
       "      <td>4970.0</td>\n",
       "    </tr>\n",
       "  </tbody>\n",
       "</table>\n",
       "</div>"
      ],
      "text/plain": [
       "        year   age  sex  polviews  partyid  indus10\n",
       "caseid                                             \n",
       "1       1974  21.0    1       4.0      2.0   4970.0\n",
       "2       1974  41.0    1       5.0      0.0   9160.0\n",
       "6       1974  30.0    1       5.0      4.0   6870.0\n",
       "7       1974  48.0    1       5.0      4.0   7860.0\n",
       "14      1974  30.0    2       4.0      0.0   4970.0"
      ]
     },
     "execution_count": 29,
     "metadata": {},
     "output_type": "execute_result"
    }
   ],
   "source": [
    "gss[b50].head()"
   ]
  },
  {
   "cell_type": "markdown",
   "id": "aac0d653",
   "metadata": {},
   "source": [
    "확률 이론에서 중요한 개념 중 하나는 \"<b style='color:red'>전체 확률의 법칙(Law of Total Probability)</b>\"입니다. 다음은 수학적 표기법으로 표현된 이 법칙의 한 형태입니다:\n",
    "\n",
    "$$ P(A)=P(B_{1},A)+P(B_{2},A) $$ \n",
    "\n",
    "간단히 말하면, $A$의 전체 확률은 두 가지 가능성의 합입니다: $B_1$과 $A$가 동시에 참이거나, $B_2$와 $A$가 동시에 참일 때입니다. 이 법칙은 $B_1$과 $B_2$가 다음과 같을 때만 적용됩니다:\n",
    "\n",
    "상호 배제적(Mutually exclusive): 즉, 둘 중 하나만 참일 수 있으며\n",
    "전체적으로 완전한(Collectively exhaustive): 그 중 하나는 반드시 참이어야 합니다.\n",
    "예를 들어, 이 법칙을 사용하여 응답자가 은행원인 확률을 계산해보겠습니다. 이를 다음과 같이 직접 계산할 수 있습니다:"
   ]
  },
  {
   "cell_type": "markdown",
   "id": "f13be5c9",
   "metadata": {},
   "source": [
    "<img src=\"images/1.jpg\"/>"
   ]
  },
  {
   "cell_type": "markdown",
   "id": "efa3e4ed",
   "metadata": {},
   "source": [
    "$$ P(A) = \\sum_{}^{} P(A|B_{i})P(B_{i}) $$"
   ]
  },
  {
   "cell_type": "code",
   "execution_count": 30,
   "id": "bb32f844",
   "metadata": {},
   "outputs": [],
   "source": [
    "# 문제 2 \n",
    "# 남자가 banker일 확률과 여자가 banker일 확률의 합을 구하세요"
   ]
  },
  {
   "cell_type": "code",
   "execution_count": 31,
   "id": "524c5c1e",
   "metadata": {},
   "outputs": [
    {
     "data": {
      "text/plain": [
       "0.014769730168391153"
      ]
     },
     "execution_count": 31,
     "metadata": {},
     "output_type": "execute_result"
    }
   ],
   "source": [
    "female = (gss['sex']==2)\n",
    "male = (gss['sex']==1)\n",
    "banker = (gss['indus10']==6870)\n",
    "c_fm_b = conditional(banker,female)\n",
    "c_m_b = conditional(banker,male)\n",
    "\n",
    "c_fm_b*prob(female) + c_m_b*prob(male)"
   ]
  },
  {
   "cell_type": "code",
   "execution_count": 32,
   "id": "ccba0ce4",
   "metadata": {},
   "outputs": [
    {
     "data": {
      "text/plain": [
       "0.014769730168391155"
      ]
     },
     "execution_count": 32,
     "metadata": {},
     "output_type": "execute_result"
    }
   ],
   "source": [
    "prob(male&banker) + prob(female & banker)"
   ]
  },
  {
   "cell_type": "code",
   "execution_count": 33,
   "id": "d3c9dcd6",
   "metadata": {
    "scrolled": true
   },
   "outputs": [
    {
     "data": {
      "text/plain": [
       "polviews\n",
       "1.0     1442\n",
       "2.0     5808\n",
       "3.0     6243\n",
       "4.0    18943\n",
       "5.0     7940\n",
       "6.0     7319\n",
       "7.0     1595\n",
       "Name: count, dtype: int64"
      ]
     },
     "execution_count": 33,
     "metadata": {},
     "output_type": "execute_result"
    }
   ],
   "source": [
    "B=gss['polviews']\n",
    "B.value_counts().sort_index() #4는 중도\n",
    "#1:'강진보',2:'진보',3:'약진보',4:'중도',5:'약보수',6:'보수',7:'강보수'"
   ]
  },
  {
   "cell_type": "markdown",
   "id": "dde94a2c",
   "metadata": {},
   "source": [
    "$$ P(A) = \\sum_{}^{} P(A|B_{i})P(B_{i}) $$"
   ]
  },
  {
   "cell_type": "code",
   "execution_count": 53,
   "id": "11d687fa",
   "metadata": {},
   "outputs": [
    {
     "data": {
      "text/plain": [
       "0.014769730168391155"
      ]
     },
     "execution_count": 53,
     "metadata": {},
     "output_type": "execute_result"
    }
   ],
   "source": [
    "prob(banker)"
   ]
  },
  {
   "cell_type": "code",
   "execution_count": 55,
   "id": "2c9fe7a2",
   "metadata": {
    "scrolled": true
   },
   "outputs": [
    {
     "name": "stdout",
     "output_type": "stream",
     "text": [
      "{'강진보': 0.0002231689997971191, '진보': 0.0014404544532359506, '약진보': 0.0016433353621424225, '중도': 0.005822682085615744, '약보수': 0.002860620815581254, '보수': 0.002333130452424427, '강보수': 0.0004463379995942382}\n"
     ]
    },
    {
     "data": {
      "text/plain": [
       "True"
      ]
     },
     "execution_count": 55,
     "metadata": {},
     "output_type": "execute_result"
    }
   ],
   "source": [
    "# pol_dict={'강진보':0,'진보':0,'약진보':0,'중도':0,'약보수':0,'보수':0,'강보수':0}\n",
    "pol_dict={}\n",
    "pol_list=['강진보','진보','약진보','중도','약보수','보수','강보수']\n",
    "\n",
    "for i,__ in B.value_counts().sort_index().items():\n",
    "#     print(i)\n",
    "#     print(prob(B==i) * conditional(banker,B==i))\n",
    "    pol_dict[pol_list[int(i)-1]]=conditional(banker,B==i)*prob(B==i) \n",
    "print(pol_dict)\n",
    "abs(prob(banker)-sum(pol_dict.values()))<0.00001"
   ]
  },
  {
   "cell_type": "code",
   "execution_count": 62,
   "id": "d74d681e",
   "metadata": {},
   "outputs": [
    {
     "data": {
      "text/plain": [
       "True"
      ]
     },
     "execution_count": 62,
     "metadata": {},
     "output_type": "execute_result"
    }
   ],
   "source": [
    "pol_dict2={pol_list[i]:prob(B==i+1) * conditional(banker,B==i+1) for i,__ in enumerate(pol_list)}\n",
    "abs(prob(banker)-sum(pol_dict2.values()))<0.00001"
   ]
  },
  {
   "cell_type": "code",
   "execution_count": 73,
   "id": "b3703de6",
   "metadata": {},
   "outputs": [
    {
     "data": {
      "text/plain": [
       "caseid\n",
       "1       4970.0\n",
       "2       9160.0\n",
       "5       2670.0\n",
       "6       6870.0\n",
       "7       7860.0\n",
       "         ...  \n",
       "2863    7490.0\n",
       "2864    3590.0\n",
       "2865     770.0\n",
       "2866    8680.0\n",
       "2867    5170.0\n",
       "Name: indus10, Length: 49290, dtype: float64"
      ]
     },
     "execution_count": 73,
     "metadata": {},
     "output_type": "execute_result"
    }
   ],
   "source": [
    "gss['indus10']"
   ]
  },
  {
   "cell_type": "code",
   "execution_count": 82,
   "id": "8af68cce",
   "metadata": {},
   "outputs": [
    {
     "ename": "KeyboardInterrupt",
     "evalue": "",
     "output_type": "error",
     "traceback": [
      "\u001b[1;31m---------------------------------------------------------------------------\u001b[0m",
      "\u001b[1;31mKeyboardInterrupt\u001b[0m                         Traceback (most recent call last)",
      "Cell \u001b[1;32mIn[82], line 5\u001b[0m\n\u001b[0;32m      3\u001b[0m Ind\n\u001b[0;32m      4\u001b[0m \u001b[38;5;28;01mfor\u001b[39;00m i \u001b[38;5;129;01min\u001b[39;00m Ind:\n\u001b[1;32m----> 5\u001b[0m     indus_dict[i]\u001b[38;5;241m=\u001b[39m\u001b[43mconditional\u001b[49m\u001b[43m(\u001b[49m\u001b[43mInd\u001b[49m\u001b[43m,\u001b[49m\u001b[43mB\u001b[49m\u001b[38;5;241;43m==\u001b[39;49m\u001b[43mi\u001b[49m\u001b[43m)\u001b[49m\u001b[38;5;241m*\u001b[39mprob(B\u001b[38;5;241m==\u001b[39mi)\n",
      "Cell \u001b[1;32mIn[14], line 5\u001b[0m, in \u001b[0;36mconditional\u001b[1;34m(proposition, given)\u001b[0m\n\u001b[0;32m      1\u001b[0m \u001b[38;5;28;01mdef\u001b[39;00m \u001b[38;5;21mconditional\u001b[39m(proposition, given):\n\u001b[0;32m      2\u001b[0m \u001b[38;5;250m    \u001b[39m\u001b[38;5;124;03m\"\"\"\u001b[39;00m\n\u001b[0;32m      3\u001b[0m \u001b[38;5;124;03m        특정 조건이 주어질때 의 조건부 확률\u001b[39;00m\n\u001b[0;32m      4\u001b[0m \u001b[38;5;124;03m    \"\"\"\u001b[39;00m\n\u001b[1;32m----> 5\u001b[0m     \u001b[38;5;28;01mreturn\u001b[39;00m prob(\u001b[43mproposition\u001b[49m\u001b[43m[\u001b[49m\u001b[43mgiven\u001b[49m\u001b[43m]\u001b[49m)\n",
      "File \u001b[1;32m~\\anaconda3\\lib\\site-packages\\pandas\\core\\series.py:1070\u001b[0m, in \u001b[0;36mSeries.__getitem__\u001b[1;34m(self, key)\u001b[0m\n\u001b[0;32m   1068\u001b[0m     key \u001b[38;5;241m=\u001b[39m check_bool_indexer(\u001b[38;5;28mself\u001b[39m\u001b[38;5;241m.\u001b[39mindex, key)\n\u001b[0;32m   1069\u001b[0m     key \u001b[38;5;241m=\u001b[39m np\u001b[38;5;241m.\u001b[39masarray(key, dtype\u001b[38;5;241m=\u001b[39m\u001b[38;5;28mbool\u001b[39m)\n\u001b[1;32m-> 1070\u001b[0m     \u001b[38;5;28;01mreturn\u001b[39;00m \u001b[38;5;28;43mself\u001b[39;49m\u001b[38;5;241;43m.\u001b[39;49m\u001b[43m_get_rows_with_mask\u001b[49m\u001b[43m(\u001b[49m\u001b[43mkey\u001b[49m\u001b[43m)\u001b[49m\n\u001b[0;32m   1072\u001b[0m \u001b[38;5;28;01mreturn\u001b[39;00m \u001b[38;5;28mself\u001b[39m\u001b[38;5;241m.\u001b[39m_get_with(key)\n",
      "File \u001b[1;32m~\\anaconda3\\lib\\site-packages\\pandas\\core\\series.py:1136\u001b[0m, in \u001b[0;36mSeries._get_rows_with_mask\u001b[1;34m(self, indexer)\u001b[0m\n\u001b[0;32m   1135\u001b[0m \u001b[38;5;28;01mdef\u001b[39;00m \u001b[38;5;21m_get_rows_with_mask\u001b[39m(\u001b[38;5;28mself\u001b[39m, indexer: npt\u001b[38;5;241m.\u001b[39mNDArray[np\u001b[38;5;241m.\u001b[39mbool_]) \u001b[38;5;241m-\u001b[39m\u001b[38;5;241m>\u001b[39m Series:\n\u001b[1;32m-> 1136\u001b[0m     new_mgr \u001b[38;5;241m=\u001b[39m \u001b[38;5;28;43mself\u001b[39;49m\u001b[38;5;241;43m.\u001b[39;49m\u001b[43m_mgr\u001b[49m\u001b[38;5;241;43m.\u001b[39;49m\u001b[43mget_rows_with_mask\u001b[49m\u001b[43m(\u001b[49m\u001b[43mindexer\u001b[49m\u001b[43m)\u001b[49m\n\u001b[0;32m   1137\u001b[0m     \u001b[38;5;28;01mreturn\u001b[39;00m \u001b[38;5;28mself\u001b[39m\u001b[38;5;241m.\u001b[39m_constructor_from_mgr(new_mgr, axes\u001b[38;5;241m=\u001b[39mnew_mgr\u001b[38;5;241m.\u001b[39maxes)\u001b[38;5;241m.\u001b[39m__finalize__(\u001b[38;5;28mself\u001b[39m)\n",
      "File \u001b[1;32m~\\anaconda3\\lib\\site-packages\\pandas\\core\\internals\\managers.py:1923\u001b[0m, in \u001b[0;36mSingleBlockManager.get_rows_with_mask\u001b[1;34m(self, indexer)\u001b[0m\n\u001b[0;32m   1920\u001b[0m     \u001b[38;5;28;01mreturn\u001b[39;00m \u001b[38;5;28mtype\u001b[39m(\u001b[38;5;28mself\u001b[39m)(blk\u001b[38;5;241m.\u001b[39mcopy(deep\u001b[38;5;241m=\u001b[39m\u001b[38;5;28;01mFalse\u001b[39;00m), \u001b[38;5;28mself\u001b[39m\u001b[38;5;241m.\u001b[39mindex)\n\u001b[0;32m   1921\u001b[0m array \u001b[38;5;241m=\u001b[39m blk\u001b[38;5;241m.\u001b[39mvalues[indexer]\n\u001b[1;32m-> 1923\u001b[0m bp \u001b[38;5;241m=\u001b[39m BlockPlacement(\u001b[38;5;28mslice\u001b[39m(\u001b[38;5;241m0\u001b[39m, \u001b[38;5;28;43mlen\u001b[39;49m\u001b[43m(\u001b[49m\u001b[43marray\u001b[49m\u001b[43m)\u001b[49m))\n\u001b[0;32m   1924\u001b[0m \u001b[38;5;66;03m# TODO(CoW) in theory only need to track reference if new_array is a view\u001b[39;00m\n\u001b[0;32m   1925\u001b[0m block \u001b[38;5;241m=\u001b[39m \u001b[38;5;28mtype\u001b[39m(blk)(array, placement\u001b[38;5;241m=\u001b[39mbp, ndim\u001b[38;5;241m=\u001b[39m\u001b[38;5;241m1\u001b[39m, refs\u001b[38;5;241m=\u001b[39mblk\u001b[38;5;241m.\u001b[39mrefs)\n",
      "\u001b[1;31mKeyboardInterrupt\u001b[0m: "
     ]
    }
   ],
   "source": [
    "indus_dict = {}\n",
    "Ind = gss['indus10']\n",
    "for i in Ind:\n",
    "    indus_dict[i]=conditional(Ind,B==i)*prob(B==i) \n",
    "# print(indus_dict)\n",
    "# abs(prob(banker)-sum(pol_dict.values()))<0.00001"
   ]
  },
  {
   "cell_type": "code",
   "execution_count": 36,
   "id": "d837349e",
   "metadata": {
    "scrolled": false
   },
   "outputs": [
    {
     "data": {
      "text/plain": [
       "0.005822682085615744"
      ]
     },
     "execution_count": 36,
     "metadata": {},
     "output_type": "execute_result"
    }
   ],
   "source": [
    "i=4\n",
    "prob(B==i) * conditional(banker,B==i)\n",
    "prob(banker) * conditional(B==i,banker)\n",
    "# prob(banker & B==i)"
   ]
  },
  {
   "cell_type": "code",
   "execution_count": 37,
   "id": "dcc48139",
   "metadata": {},
   "outputs": [],
   "source": [
    "import sympy as sp"
   ]
  },
  {
   "cell_type": "code",
   "execution_count": 38,
   "id": "ecf89fe9",
   "metadata": {},
   "outputs": [],
   "source": [
    "import numpy as np\n",
    "import matplotlib.pyplot as plt\n",
    "from sympy.plotting import plot"
   ]
  },
  {
   "cell_type": "code",
   "execution_count": 39,
   "id": "ca1ab433",
   "metadata": {},
   "outputs": [
    {
     "data": {
      "image/png": "[encoded data removed]",
      "text/plain": [
       "<Figure size 640x480 with 1 Axes>"
      ]
     },
     "metadata": {},
     "output_type": "display_data"
    },
    {
     "data": {
      "text/plain": [
       "<sympy.plotting.plot.Plot at 0x2055396db40>"
      ]
     },
     "execution_count": 39,
     "metadata": {},
     "output_type": "execute_result"
    }
   ],
   "source": [
    "x,y = sp.symbols('x y')\n",
    "sympy_variable = sp.integrate(x**2+5*y,(x,-1,1),(y,2*x,3*x))\n",
    "plot(x,sympy_variable,ylim=(-10,10),xlim=(-10,10))"
   ]
  },
  {
   "cell_type": "code",
   "execution_count": 46,
   "id": "76fa913c",
   "metadata": {},
   "outputs": [
    {
     "data": {
      "text/plain": [
       "[-1/75]"
      ]
     },
     "execution_count": 46,
     "metadata": {},
     "output_type": "execute_result"
    }
   ],
   "source": [
    "diff_solve=sp.diff(sympy_variable)\n",
    "sp.solve(diff_solve)"
   ]
  },
  {
   "cell_type": "code",
   "execution_count": 42,
   "id": "d657ab64",
   "metadata": {},
   "outputs": [
    {
     "name": "stdout",
     "output_type": "stream",
     "text": [
      "217.\n"
     ]
    }
   ],
   "source": [
    "x,y,z=sp.symbols('x y z')\n",
    "expression = 4*x**2+6*y+7*z**3\n",
    "print(expression.evalf(3,subs={x:2,y:2,z:3}))"
   ]
  },
  {
   "cell_type": "code",
   "execution_count": 47,
   "id": "d3744230",
   "metadata": {},
   "outputs": [
    {
     "name": "stderr",
     "output_type": "stream",
     "text": [
      "C:\\Users\\tj\\AppData\\Local\\Temp\\ipykernel_3388\\4081933025.py:5: SymPyDeprecationWarning: \n",
      "\n",
      "Eq(expr) with a single argument with the right-hand side\n",
      "defaulting to 0 is deprecated. Use Eq(expr, 0) instead.\n",
      "\n",
      "See https://docs.sympy.org/latest/explanation/active-deprecations.html#deprecated-eq-expr\n",
      "for details.\n",
      "\n",
      "This has been deprecated since SymPy version 1.5. It\n",
      "will be removed in a future version of SymPy.\n",
      "\n",
      "  plot(x,sp.Eq(sympy_variable))\n"
     ]
    },
    {
     "ename": "TypeError",
     "evalue": "'NoneType' object is not iterable",
     "output_type": "error",
     "traceback": [
      "\u001b[1;31m---------------------------------------------------------------------------\u001b[0m",
      "\u001b[1;31mTypeError\u001b[0m                                 Traceback (most recent call last)",
      "Cell \u001b[1;32mIn[47], line 5\u001b[0m\n\u001b[0;32m      3\u001b[0m plt\u001b[38;5;241m.\u001b[39mylabel(\u001b[38;5;124m'\u001b[39m\u001b[38;5;124my\u001b[39m\u001b[38;5;124m'\u001b[39m)\n\u001b[0;32m      4\u001b[0m plt\u001b[38;5;241m.\u001b[39mtitle(\u001b[38;5;124m'\u001b[39m\u001b[38;5;124mdouble intefrated graph\u001b[39m\u001b[38;5;124m'\u001b[39m)\n\u001b[1;32m----> 5\u001b[0m \u001b[43mplot\u001b[49m\u001b[43m(\u001b[49m\u001b[43mx\u001b[49m\u001b[43m,\u001b[49m\u001b[43msp\u001b[49m\u001b[38;5;241;43m.\u001b[39;49m\u001b[43mEq\u001b[49m\u001b[43m(\u001b[49m\u001b[43msympy_variable\u001b[49m\u001b[43m)\u001b[49m\u001b[43m)\u001b[49m\n\u001b[0;32m      6\u001b[0m plt\u001b[38;5;241m.\u001b[39mshow()\n",
      "File \u001b[1;32m~\\anaconda3\\lib\\site-packages\\sympy\\plotting\\plot.py:1869\u001b[0m, in \u001b[0;36mplot\u001b[1;34m(show, *args, **kwargs)\u001b[0m\n\u001b[0;32m   1867\u001b[0m series \u001b[38;5;241m=\u001b[39m []\n\u001b[0;32m   1868\u001b[0m plot_expr \u001b[38;5;241m=\u001b[39m check_arguments(args, \u001b[38;5;241m1\u001b[39m, \u001b[38;5;241m1\u001b[39m)\n\u001b[1;32m-> 1869\u001b[0m series \u001b[38;5;241m=\u001b[39m [LineOver1DRangeSeries(\u001b[38;5;241m*\u001b[39marg, \u001b[38;5;241m*\u001b[39m\u001b[38;5;241m*\u001b[39mkwargs) \u001b[38;5;28;01mfor\u001b[39;00m arg \u001b[38;5;129;01min\u001b[39;00m plot_expr]\n\u001b[0;32m   1871\u001b[0m plots \u001b[38;5;241m=\u001b[39m Plot(\u001b[38;5;241m*\u001b[39mseries, \u001b[38;5;241m*\u001b[39m\u001b[38;5;241m*\u001b[39mkwargs)\n\u001b[0;32m   1872\u001b[0m \u001b[38;5;28;01mif\u001b[39;00m show:\n",
      "\u001b[1;31mTypeError\u001b[0m: 'NoneType' object is not iterable"
     ]
    },
    {
     "data": {
      "image/png": "[encoded data removed]",
      "text/plain": [
       "<Figure size 640x480 with 1 Axes>"
      ]
     },
     "metadata": {},
     "output_type": "display_data"
    }
   ],
   "source": [
    "integrand = x**2+5*y\n",
    "x=np.arange(-10,10,0.01)\n",
    "sympy_variable = sp.integrate(x**2+5*y,(x,-1,1),(y,2*x,3*x))\n",
    "numpy_fn\n",
    "plt.plot\n",
    "plt.xlabel('x')\n",
    "plt.ylabel('y')\n",
    "plt.ylim(-0.0001,0.7)\n",
    "plt.xlim(-1/75,0)\n",
    "plt.title('double intefrated graph')\n",
    "plt.show()"
   ]
  },
  {
   "cell_type": "code",
   "execution_count": null,
   "id": "54f05f37",
   "metadata": {},
   "outputs": [],
   "source": []
  },
  {
   "cell_type": "code",
   "execution_count": null,
   "id": "3b4c60cf",
   "metadata": {},
   "outputs": [],
   "source": []
  },
  {
   "cell_type": "code",
   "execution_count": null,
   "id": "3408539c",
   "metadata": {},
   "outputs": [],
   "source": []
  },
  {
   "cell_type": "code",
   "execution_count": null,
   "id": "6ba3a0aa",
   "metadata": {},
   "outputs": [],
   "source": []
  }
 ],
 "metadata": {
  "kernelspec": {
   "display_name": "Python 3 (ipykernel)",
   "language": "python",
   "name": "python3"
  },
  "language_info": {
   "codemirror_mode": {
    "name": "ipython",
    "version": 3
   },
   "file_extension": ".py",
   "mimetype": "text/x-python",
   "name": "python",
   "nbconvert_exporter": "python",
   "pygments_lexer": "ipython3",
   "version": "3.11.5"
  }
 },
 "nbformat": 4,
 "nbformat_minor": 5
}
