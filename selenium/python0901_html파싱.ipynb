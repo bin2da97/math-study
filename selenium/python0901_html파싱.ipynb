{
 "cells": [
  {
   "cell_type": "code",
   "execution_count": 1,
   "id": "c481ae2b",
   "metadata": {},
   "outputs": [],
   "source": [
    "import pandas as pd"
   ]
  },
  {
   "cell_type": "code",
   "execution_count": 2,
   "id": "6d343dfb",
   "metadata": {},
   "outputs": [],
   "source": [
    "import requests\n",
    "from bs4 import BeautifulSoup\n",
    "import urllib"
   ]
  },
  {
   "cell_type": "code",
   "execution_count": 3,
   "id": "93b1a1b4",
   "metadata": {},
   "outputs": [],
   "source": [
    "load_url=\"https://python.cyber.co.kr/pds/books/python2nd/test2.html\"\n",
    "html =requests.get(load_url)\n",
    "soup = BeautifulSoup(html.content, \"html.parser\")"
   ]
  },
  {
   "cell_type": "code",
   "execution_count": 4,
   "id": "c04dfae5",
   "metadata": {},
   "outputs": [
    {
     "data": {
      "text/plain": [
       "1"
      ]
     },
     "execution_count": 4,
     "metadata": {},
     "output_type": "execute_result"
    }
   ],
   "source": [
    "str_1=\"<a href='ab'></a>\"\n",
    "str_1.find(\"a\")"
   ]
  },
  {
   "cell_type": "code",
   "execution_count": 5,
   "id": "9ef7eec0",
   "metadata": {
    "scrolled": true
   },
   "outputs": [],
   "source": [
    "from html.parser import HTMLParser"
   ]
  },
  {
   "cell_type": "code",
   "execution_count": 6,
   "id": "0ea48ae1",
   "metadata": {},
   "outputs": [],
   "source": [
    "class StrongHTMLParser(HTMLParser): # HTMLParser를 상속받아 클래스 설계\n",
    "    def __init__(self): #자식 생성자\n",
    "        HTMLParser.__init__(self)#부모 생성자\n",
    "        self.is_strong=False\n",
    "    def handle_starttag(self,tag,attrs):\n",
    "        if tag == 'strong': #<strong>태그 시작\n",
    "            self.is_strong=True\n",
    "    def handle_endtag(self,tag): #부모클래스 오버라이딩\n",
    "        if tag == 'strong':#<storng/>태그 닫힘\n",
    "            self.is_strong=False\n",
    "    def handle_data(self,data):\n",
    "        if self.is_strong:# <storng> ~~~~ </storng> 구간인 경우\n",
    "            print(data)#데이터 출력"
   ]
  },
  {
   "cell_type": "code",
   "execution_count": 7,
   "id": "74d1c306",
   "metadata": {},
   "outputs": [],
   "source": [
    "class LiHTMLParser(HTMLParser): # HTMLParser를 상속받아 클래스 설계\n",
    "    def __init__(self): #자식 생성자\n",
    "        HTMLParser.__init__(self)#부모 생성자\n",
    "        self.is_li=False\n",
    "    def handle_starttag(self,tag,attrs):\n",
    "        if tag == 'li': #<strong>태그 시작\n",
    "            self.is_li=True\n",
    "    def handle_endtag(self,tag): #부모클래스 오버라이딩\n",
    "        if tag == 'li':#<storng/>태그 닫힘\n",
    "            self.is_li=False\n",
    "    def handle_data(self,data):\n",
    "        if self.is_li:# <storng> ~~~~ </storng> 구간인 경우\n",
    "            print(data)#데이터 출력"
   ]
  },
  {
   "cell_type": "code",
   "execution_count": 8,
   "id": "22490733",
   "metadata": {},
   "outputs": [
    {
     "name": "stdout",
     "output_type": "stream",
     "text": [
      "practicality\n",
      "never\n",
      "Now\n",
      "right\n"
     ]
    }
   ],
   "source": [
    "with open('11.html') as f:\n",
    "    parser = StrongHTMLParser()\n",
    "    parser.feed(f.read())"
   ]
  },
  {
   "cell_type": "code",
   "execution_count": 9,
   "id": "b5e2f5cc",
   "metadata": {
    "scrolled": false
   },
   "outputs": [
    {
     "name": "stdout",
     "output_type": "stream",
     "text": [
      "Beautiful is better than ugly.\n",
      "Explicit is better than implicit.\n",
      "Simple is better than complex.\n",
      "Complex is better than complicated.\n",
      "Flat is better than nested.\n",
      "Sparse is better than dense.\n",
      "Readability counts.\n",
      "Special cases aren't special enough to break the rules.\n",
      "Although \n",
      "practicality\n",
      " beats purity.\n",
      "Errors should \n",
      "never\n",
      " pass silently.\n",
      "Unless explicitly silenced.\n",
      "In the face of ambiguity, refuse the temptation to guess.\n",
      "There should be one-- and preferably only one --obvious way to do it.\n",
      "Although that way may not be obvious at first unless you're Dutch.\n",
      "Now\n",
      " is better than never.\n",
      "Although never is often better than \n",
      "right\n",
      " now.\n",
      "If the implementation is hard to explain, it's a bad idea.\n",
      "If the implementation is easy to explain, it may be a good idea.\n",
      "Namespaces are one honking great idea -- let's do more of those!\n"
     ]
    }
   ],
   "source": [
    "with open('11.html') as f:\n",
    "    parser = LiHTMLParser()\n",
    "    parser.feed(f.read())"
   ]
  },
  {
   "cell_type": "markdown",
   "id": "194fd911",
   "metadata": {},
   "source": [
    "load_url=\"https://www.naver,com\"\n",
    "<a href=\"asdfasdf\">ㅇㅇㅇ</a>"
   ]
  },
  {
   "cell_type": "code",
   "execution_count": 1,
   "id": "8c47f0d5",
   "metadata": {},
   "outputs": [
    {
     "ename": "NameError",
     "evalue": "name 'soup' is not defined",
     "output_type": "error",
     "traceback": [
      "\u001b[1;31m---------------------------------------------------------------------------\u001b[0m",
      "\u001b[1;31mNameError\u001b[0m                                 Traceback (most recent call last)",
      "Cell \u001b[1;32mIn[1], line 1\u001b[0m\n\u001b[1;32m----> 1\u001b[0m \u001b[38;5;28;01mfor\u001b[39;00m i \u001b[38;5;129;01min\u001b[39;00m \u001b[43msoup\u001b[49m\u001b[38;5;241m.\u001b[39mfind_all(\u001b[38;5;124m\"\u001b[39m\u001b[38;5;124ma\u001b[39m\u001b[38;5;124m\"\u001b[39m):\n\u001b[0;32m      2\u001b[0m     \u001b[38;5;28mprint\u001b[39m(i\u001b[38;5;241m.\u001b[39mtext)\n\u001b[0;32m      3\u001b[0m     url \u001b[38;5;241m=\u001b[39m i\u001b[38;5;241m.\u001b[39mget(\u001b[38;5;124m\"\u001b[39m\u001b[38;5;124mhref\u001b[39m\u001b[38;5;124m\"\u001b[39m)\n",
      "\u001b[1;31mNameError\u001b[0m: name 'soup' is not defined"
     ]
    }
   ],
   "source": [
    "for i in soup.find_all(\"a\"):\n",
    "    print(i.text)\n",
    "    url = i.get(\"href\")\n",
    "    link_url = urllib.parse.urljoin(load_url, url)\n",
    "    print(link_url)"
   ]
  },
  {
   "cell_type": "code",
   "execution_count": 11,
   "id": "330bfd27",
   "metadata": {},
   "outputs": [],
   "source": [
    "#문제1\n",
    "#네이버에서 a태그 찾아서 \n",
    "#딕셔너리 생성\n",
    "#add:[href의 주소와 naver urljoin]\n",
    "#text:[a태그의 텍스트 저장\n",
    "load_url=\"https://www.naver.com\"\n",
    "html_naver =requests.get(load_url)\n",
    "soup = BeautifulSoup(html_naver.content, \"html.parser\")"
   ]
  },
  {
   "cell_type": "code",
   "execution_count": 12,
   "id": "65b0d5a4",
   "metadata": {},
   "outputs": [],
   "source": [
    "obj={\"href\":[],\"text\":[]}\n",
    "for i in soup.find_all(\"a\"):\n",
    "    url = i.get(\"href\")\n",
    "    link_url = urllib.parse.urljoin(load_url, url)\n",
    "    obj[\"href\"].append(link_url)\n",
    "    obj[\"text\"].append(i.text)\n",
    "# obj"
   ]
  },
  {
   "cell_type": "code",
   "execution_count": 13,
   "id": "6040dd34",
   "metadata": {},
   "outputs": [],
   "source": [
    "obj1={}\n",
    "obj1['add']=[urllib.parse.urljoin(load_url, i.get(\"href\")) for i in soup.find_all(\"a\")]\n",
    "obj1['text']=[i.text for i in soup.find_all(\"a\")]\n",
    "pd.DataFrame(obj1).to_csv('naver.csv')"
   ]
  },
  {
   "cell_type": "code",
   "execution_count": 14,
   "id": "8d0e2ac8",
   "metadata": {},
   "outputs": [],
   "source": [
    "aa = pd.DataFrame(obj)\n",
    "aa.to_csv('1.csv')\n",
    "# aa"
   ]
  },
  {
   "cell_type": "code",
   "execution_count": 23,
   "id": "ad37bd9a",
   "metadata": {},
   "outputs": [
    {
     "name": "stdout",
     "output_type": "stream",
     "text": [
      "['http:', '', 'python.cyber.co.kr', 'pds', 'books', 'python2nd', 'sample1.png']\n"
     ]
    }
   ],
   "source": [
    "#이미지 파일 취득 = \n",
    "image_url=\"http://python.cyber.co.kr/pds/books/python2nd/sample1.png\"\n",
    "imgdata=requests.get(image_url)\n",
    "\n",
    "#url에서 마지막에 있는 파일명 추출\n",
    "filename = image_url.split(\"/\")\n",
    "print(filename)\n",
    "filename=filename[-1]\n",
    "#이미지 데이터를 파일에 쓴다. (w=>write,b=>binary)\n",
    "with open(filename,mode=\"wb\") as f:\n",
    "    f.write(imgdata.content) #binary는 content로 저장"
   ]
  },
  {
   "cell_type": "code",
   "execution_count": 24,
   "id": "4d2dd278",
   "metadata": {},
   "outputs": [],
   "source": [
    "load_url=\"https://python.cyber.co.kr/pds/books/python2nd/test2.html\"\n",
    "html =requests.get(load_url)\n",
    "soup = BeautifulSoup(html.content, \"html.parser\")"
   ]
  },
  {
   "cell_type": "code",
   "execution_count": 29,
   "id": "4af23050",
   "metadata": {},
   "outputs": [],
   "source": [
    "filename=\"linklist.txt\"\n",
    "with open(filename,\"w\") as f:\n",
    "    for i in soup.find_all(\"a\"):\n",
    "        url = i.get(\"href\")\n",
    "        link_url = urllib.parse.urljoin(load_url,url)\n",
    "        f.write(i.text+\"\\n\")\n",
    "        f.write(link_url+\"\\n\")        \n",
    "        f.write(\"\\n\")"
   ]
  },
  {
   "cell_type": "code",
   "execution_count": 27,
   "id": "afd476d3",
   "metadata": {},
   "outputs": [],
   "source": [
    "#문제 2 naver에서 a 태그의 href의 url주소를 txt파일로 저장\n",
    "load_url=\"https://www.naver.com\"\n",
    "html_naver =requests.get(load_url)\n",
    "soup = BeautifulSoup(html_naver.content, \"html.parser\")"
   ]
  },
  {
   "cell_type": "code",
   "execution_count": 28,
   "id": "88434aed",
   "metadata": {},
   "outputs": [],
   "source": [
    "filename=\"naver_linklist.txt\"\n",
    "with open(filename,\"w\") as f:\n",
    "    for i in soup.find_all(\"a\"):\n",
    "        url = i.get(\"href\")\n",
    "        link_url = urllib.parse.urljoin(load_url,url)\n",
    "        f.write(i.text+\"\\n\")\n",
    "        f.write(link_url+\"\\n\")        \n",
    "        f.write(\"\\n\")"
   ]
  }
 ],
 "metadata": {
  "kernelspec": {
   "display_name": "Python 3 (ipykernel)",
   "language": "python",
   "name": "python3"
  },
  "language_info": {
   "codemirror_mode": {
    "name": "ipython",
    "version": 3
   },
   "file_extension": ".py",
   "mimetype": "text/x-python",
   "name": "python",
   "nbconvert_exporter": "python",
   "pygments_lexer": "ipython3",
   "version": "3.10.9"
  }
 },
 "nbformat": 4,
 "nbformat_minor": 5
}
