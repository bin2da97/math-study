{
 "cells": [
  {
   "cell_type": "code",
   "execution_count": 1,
   "id": "e211c179",
   "metadata": {},
   "outputs": [],
   "source": [
    "import requests"
   ]
  },
  {
   "cell_type": "code",
   "execution_count": 2,
   "id": "62119ad7",
   "metadata": {},
   "outputs": [
    {
     "data": {
      "text/plain": [
       "<Response [200]>"
      ]
     },
     "execution_count": 2,
     "metadata": {},
     "output_type": "execute_result"
    }
   ],
   "source": [
    "url='http://python.cyber.co.kr/pds/books/python2nd/test1.html'\n",
    "response = requests.get(url)\n",
    "response #<Response [200]> url이 있다는뜻"
   ]
  },
  {
   "cell_type": "code",
   "execution_count": 3,
   "id": "51842981",
   "metadata": {},
   "outputs": [],
   "source": [
    "response.encoding=response.apparent_encoding # 글자가 깨지지 않도록 한다."
   ]
  },
  {
   "cell_type": "code",
   "execution_count": 4,
   "id": "a18796d7",
   "metadata": {},
   "outputs": [
    {
     "data": {
      "text/plain": [
       "'<!DOCTYPE html>\\r\\n<html>\\r\\n\\t<head>\\r\\n\\t\\t<meta charset=\"UTF-8\">\\r\\n\\t\\t<title>파이썬 2학년</title>\\r\\n\\t</head>\\r\\n\\t<body>\\r\\n\\t\\t<h2>제1장 파이썬으로 데이터를 다운로드</h2>\\r\\n\\t\\t<ol>\\r\\n\\t\\t\\t<li>스크래핑이 뭐지?</li>\\r\\n\\t\\t\\t<li>파이썬을 설치해 보자</li>\\r\\n\\t\\t\\t<li>requests로 액세스해 보자</li>\\r\\n\\t\\t</ol>\\r\\n\\t</body>\\r\\n</html>'"
      ]
     },
     "execution_count": 4,
     "metadata": {},
     "output_type": "execute_result"
    }
   ],
   "source": [
    "response.text"
   ]
  },
  {
   "cell_type": "code",
   "execution_count": 5,
   "id": "d3251d87",
   "metadata": {},
   "outputs": [
    {
     "data": {
      "text/plain": [
       "'<!DOCTYPE html>\\r\\n<html>\\r\\n\\t<head>\\r\\n\\t\\t<meta charset=\"UTF-8\">\\r\\n\\t\\t<title>파이썬 2학년</title>\\r\\n\\t</head>\\r\\n\\t<body>\\r\\n\\t\\t<h2>제1장 파이썬으로 데이터를 다운로드</h2>\\r\\n\\t\\t<ol>\\r\\n\\t\\t\\t<li>스크래핑이 뭐지?</li>\\r\\n\\t\\t\\t<li>파이썬을 설치해 보자</li>\\r\\n\\t\\t\\t<li>requests로 액세스해 보자</li>\\r\\n\\t\\t</ol>\\r\\n\\t</body>\\r\\n</html>'"
      ]
     },
     "execution_count": 5,
     "metadata": {},
     "output_type": "execute_result"
    }
   ],
   "source": [
    "list_data=response.text\n",
    "list_data"
   ]
  },
  {
   "cell_type": "code",
   "execution_count": 6,
   "id": "7c9525e5",
   "metadata": {},
   "outputs": [
    {
     "data": {
      "text/plain": [
       "'스크래핑이 뭐지?</li>\\r\\n\\t\\t\\t'"
      ]
     },
     "execution_count": 6,
     "metadata": {},
     "output_type": "execute_result"
    }
   ],
   "source": [
    "list_data.split(\"<li>\")[1]"
   ]
  },
  {
   "cell_type": "code",
   "execution_count": 7,
   "id": "5e108373",
   "metadata": {},
   "outputs": [],
   "source": [
    "#파일 쓰기모드로 열고\n",
    "filename = \"c:\\\\1\\\\d.txt\"\n",
    "with open(filename, mode='w') as f:\n",
    "    #인터넷에서 취득한 데이터 저장\n",
    "    f.write(list_data)\n",
    "#with 구문을 지나치면 바로 닫힌다."
   ]
  },
  {
   "cell_type": "code",
   "execution_count": 8,
   "id": "66eda58f",
   "metadata": {},
   "outputs": [],
   "source": [
    "from bs4 import BeautifulSoup"
   ]
  },
  {
   "cell_type": "code",
   "execution_count": 9,
   "id": "2af06f3d",
   "metadata": {
    "scrolled": true
   },
   "outputs": [
    {
     "data": {
      "text/plain": [
       "<!DOCTYPE html>\n",
       "\n",
       "<html>\n",
       "<head>\n",
       "<meta charset=\"utf-8\"/>\n",
       "<title>파이썬 2학년</title>\n",
       "</head>\n",
       "<body>\n",
       "<h2>제1장 파이썬으로 데이터를 다운로드</h2>\n",
       "<ol>\n",
       "<li>스크래핑이 뭐지?</li>\n",
       "<li>파이썬을 설치해 보자</li>\n",
       "<li>requests로 액세스해 보자</li>\n",
       "</ol>\n",
       "</body>\n",
       "</html>"
      ]
     },
     "execution_count": 9,
     "metadata": {},
     "output_type": "execute_result"
    }
   ],
   "source": [
    "html= requests.get(url)\n",
    "soup = BeautifulSoup(html.content,\"html.parser\") #html\n",
    "soup"
   ]
  },
  {
   "cell_type": "code",
   "execution_count": 38,
   "id": "58a0f4b7",
   "metadata": {},
   "outputs": [
    {
     "data": {
      "text/plain": [
       "<title>파이썬 2학년</title>"
      ]
     },
     "execution_count": 38,
     "metadata": {},
     "output_type": "execute_result"
    }
   ],
   "source": [
    "soup.find(\"title\")"
   ]
  },
  {
   "cell_type": "code",
   "execution_count": 39,
   "id": "3abc737b",
   "metadata": {},
   "outputs": [
    {
     "data": {
      "text/plain": [
       "<h2>제1장 파이썬으로 데이터를 다운로드</h2>"
      ]
     },
     "execution_count": 39,
     "metadata": {},
     "output_type": "execute_result"
    }
   ],
   "source": [
    "soup.find(\"h2\")"
   ]
  },
  {
   "cell_type": "code",
   "execution_count": 40,
   "id": "f699245a",
   "metadata": {},
   "outputs": [
    {
     "data": {
      "text/plain": [
       "'스크래핑이 뭐지?'"
      ]
     },
     "execution_count": 40,
     "metadata": {},
     "output_type": "execute_result"
    }
   ],
   "source": [
    "soup.find(\"li\").text"
   ]
  },
  {
   "cell_type": "code",
   "execution_count": 44,
   "id": "e7094de3",
   "metadata": {},
   "outputs": [
    {
     "data": {
      "text/plain": [
       "<ol>\n",
       "<li>스크래핑이 뭐지?</li>\n",
       "<li>파이썬을 설치해 보자</li>\n",
       "<li>requests로 액세스해 보자</li>\n",
       "</ol>"
      ]
     },
     "execution_count": 44,
     "metadata": {},
     "output_type": "execute_result"
    }
   ],
   "source": [
    "#문1 ol태그 찾기\n",
    "soup.find(\"ol\")"
   ]
  },
  {
   "cell_type": "code",
   "execution_count": 70,
   "id": "fbbab9b8",
   "metadata": {},
   "outputs": [
    {
     "data": {
      "text/plain": [
       "{'li': ['스크래핑이 뭐지?', '파이썬을 설치해 보자', 'requests로 액세스해 보자'],\n",
       " 'h2': ['제1장', '파이썬으로', '데이터를', '다운로드'],\n",
       " 'title': '파이썬 2학년'}"
      ]
     },
     "execution_count": 70,
     "metadata": {},
     "output_type": "execute_result"
    }
   ],
   "source": [
    "#문2 {\"li\":[텍스트],\"h2\":[여러개면 list],\"title\":\"제목\"}\n",
    "obj={}\n",
    "obj[\"li\"]=[soup.find_all(\"li\")[0].text,soup.find_all(\"li\")[1].text,soup.find_all(\"li\")[2].text]\n",
    "obj[\"h2\"]=soup.find_all(\"h2\")[0].text.split(\" \")\n",
    "obj[\"title\"]=soup.find(\"title\").text\n",
    "\n",
    "obj"
   ]
  },
  {
   "cell_type": "code",
   "execution_count": 10,
   "id": "bb2fcbcb",
   "metadata": {},
   "outputs": [],
   "source": [
    "class Calculator:\n",
    "    def __init__(self):#생성자\n",
    "        self.result = 0\n",
    "\n",
    "    def add(self, num):\n",
    "        self.result += num\n",
    "        return self.result\n",
    "\n",
    "    def sub(self, num):\n",
    "        self.result -= num\n",
    "        return self.result\n",
    "    \n",
    "    def mul(self, num):\n",
    "        self.result *= num\n",
    "        return self.result\n",
    "    \n",
    "    def div(self, num):\n",
    "        self.result /= num\n",
    "        return self.result"
   ]
  },
  {
   "cell_type": "code",
   "execution_count": 11,
   "id": "4d13c013",
   "metadata": {},
   "outputs": [],
   "source": [
    "class Calculator1:\n",
    "    def __init__(self):#생성자\n",
    "        self.result = 0\n",
    "\n",
    "    def add(self, num1,num2):\n",
    "        return num1 + num2\n",
    "\n",
    "    def sub(self, num1,num2):\n",
    "        return num1 - num2\n",
    "    \n",
    "    def mul(self, num1,num2):\n",
    "        return num1 * num2\n",
    "    \n",
    "    def div(self, num1,num2):\n",
    "        return num1 / num2"
   ]
  },
  {
   "cell_type": "code",
   "execution_count": 12,
   "id": "4c4daa4e",
   "metadata": {},
   "outputs": [],
   "source": [
    "cal1= Calculator()\n",
    "cal2= Calculator1()"
   ]
  },
  {
   "cell_type": "code",
   "execution_count": 32,
   "id": "7e056915",
   "metadata": {},
   "outputs": [
    {
     "name": "stdout",
     "output_type": "stream",
     "text": [
      "연상하고자 하는 것은 1)add, 2)sub, 3)곱 4)나누기4\n",
      "첫 번째 숫자를 입력하세요: 20\n",
      "두 번째 숫자를 입력하세요: 4\n",
      "5.0\n"
     ]
    }
   ],
   "source": [
    "input_data=int(input(\"연상하고자 하는 것은 1)add, 2)sub, 3)곱 4)나누기\"))\n",
    "num1 = int(input(\"첫 번째 숫자를 입력하세요: \"))\n",
    "num2 = int(input(\"두 번째 숫자를 입력하세요: \"))\n",
    "\n",
    "# 사용자의 선택에 따라 계산 함수 호출\n",
    "if input_data == 1:\n",
    "    result = cal2.add(num1, num2)\n",
    "    print(result)\n",
    "elif input_data == 2:\n",
    "    result = cal2.sub(num1, num2)\n",
    "    print(result)\n",
    "elif input_data == 3:\n",
    "    result = cal2.mul(num1, num2)\n",
    "    print(result)\n",
    "elif input_data == 4:\n",
    "    result = cal2.div(num1, num2)\n",
    "    print(result)"
   ]
  },
  {
   "cell_type": "code",
   "execution_count": 14,
   "id": "b09ef674",
   "metadata": {
    "scrolled": true
   },
   "outputs": [
    {
     "data": {
      "text/plain": [
       "10"
      ]
     },
     "execution_count": 14,
     "metadata": {},
     "output_type": "execute_result"
    }
   ],
   "source": [
    "cal1.add(10)"
   ]
  },
  {
   "cell_type": "code",
   "execution_count": 15,
   "id": "df63946d",
   "metadata": {
    "scrolled": true
   },
   "outputs": [
    {
     "data": {
      "text/plain": [
       "5"
      ]
     },
     "execution_count": 15,
     "metadata": {},
     "output_type": "execute_result"
    }
   ],
   "source": [
    "cal1.sub(5)"
   ]
  },
  {
   "cell_type": "code",
   "execution_count": 16,
   "id": "af2deee5",
   "metadata": {},
   "outputs": [
    {
     "data": {
      "text/plain": [
       "25"
      ]
     },
     "execution_count": 16,
     "metadata": {},
     "output_type": "execute_result"
    }
   ],
   "source": [
    "cal1.mul(5)"
   ]
  },
  {
   "cell_type": "code",
   "execution_count": 17,
   "id": "d416ae57",
   "metadata": {},
   "outputs": [
    {
     "data": {
      "text/plain": [
       "5.0"
      ]
     },
     "execution_count": 17,
     "metadata": {},
     "output_type": "execute_result"
    }
   ],
   "source": [
    "cal1.div(5)"
   ]
  },
  {
   "cell_type": "code",
   "execution_count": 18,
   "id": "2a06ed12",
   "metadata": {},
   "outputs": [],
   "source": [
    "class A:\n",
    "    def __init__(self,num1,num2):\n",
    "        self.first = num1\n",
    "        self.second = num2\n",
    "    def print_A(self):\n",
    "        print(self.first+self.second)"
   ]
  },
  {
   "cell_type": "code",
   "execution_count": 19,
   "id": "75552e13",
   "metadata": {
    "scrolled": true
   },
   "outputs": [
    {
     "name": "stdout",
     "output_type": "stream",
     "text": [
      "3\n"
     ]
    }
   ],
   "source": [
    "a = A(1,2)\n",
    "a.print_A()"
   ]
  },
  {
   "cell_type": "code",
   "execution_count": 20,
   "id": "5565c3f2",
   "metadata": {},
   "outputs": [],
   "source": [
    "class Person:\n",
    "    def __init__(self):\n",
    "        self.__age=0 ##__ 는 안에서만 접근할수있다. getter setter를 통해 접근해라\n",
    "    def get_age(self): #getter\n",
    "        return self.__age\n",
    "    def set_age(self,value): #setter\n",
    "        self.__age=value"
   ]
  },
  {
   "cell_type": "code",
   "execution_count": 21,
   "id": "a78fa7e8",
   "metadata": {},
   "outputs": [
    {
     "data": {
      "text/plain": [
       "20"
      ]
     },
     "execution_count": 21,
     "metadata": {},
     "output_type": "execute_result"
    }
   ],
   "source": [
    "james=Person()\n",
    "james.set_age(20)\n",
    "james.get_age()"
   ]
  },
  {
   "cell_type": "code",
   "execution_count": 22,
   "id": "80bdbda2",
   "metadata": {},
   "outputs": [],
   "source": [
    "class P:\n",
    "    def __init__(self):\n",
    "        self.__age=0\n",
    "        self.__name=''\n",
    "    @property\n",
    "    def age(self): #getter\n",
    "        return self.__age\n",
    "    @property\n",
    "    def name(self):\n",
    "        return self.__name\n",
    "    @age.setter\n",
    "    def age(self,value): #setter\n",
    "        self.__age=value\n",
    "    @name.setter\n",
    "    def name(self,v):\n",
    "        self.__name=v"
   ]
  },
  {
   "cell_type": "code",
   "execution_count": 23,
   "id": "74a90122",
   "metadata": {},
   "outputs": [
    {
     "data": {
      "text/plain": [
       "'김말자'"
      ]
     },
     "execution_count": 23,
     "metadata": {},
     "output_type": "execute_result"
    }
   ],
   "source": [
    "james=P()\n",
    "james.age=20\n",
    "james.name='김말자'\n",
    "james.age\n",
    "james.name"
   ]
  },
  {
   "cell_type": "code",
   "execution_count": 24,
   "id": "d112a265",
   "metadata": {},
   "outputs": [],
   "source": [
    "def hello():\n",
    "    print(\"hello 함수 시작\") # 반복되고 있음\n",
    "    print(\"hello\") # 기능\n",
    "    print(\"hello 함수 끝\")\n",
    "def world():\n",
    "    print(\"world 함수 시작\")\n",
    "    print(\"world\") # 기능\n",
    "    print(\"world 함수 끝\")"
   ]
  },
  {
   "cell_type": "code",
   "execution_count": 25,
   "id": "525fd49e",
   "metadata": {},
   "outputs": [],
   "source": [
    "def trace(func):\n",
    "    def wrapper():\n",
    "        print(func.__name__,'함수 시작')\n",
    "        func()\n",
    "        print(func.__name__,'함수 끝')\n",
    "    return wrapper"
   ]
  },
  {
   "cell_type": "code",
   "execution_count": 37,
   "id": "15655555",
   "metadata": {},
   "outputs": [],
   "source": [
    "@trace #Decorator(장식자), \n",
    "def hello():\n",
    "    print(\"hello\")"
   ]
  },
  {
   "cell_type": "code",
   "execution_count": 34,
   "id": "1c875e48",
   "metadata": {},
   "outputs": [],
   "source": [
    "@trace\n",
    "def world():\n",
    "    print(\"world\")"
   ]
  },
  {
   "cell_type": "code",
   "execution_count": 35,
   "id": "88132be1",
   "metadata": {},
   "outputs": [
    {
     "name": "stdout",
     "output_type": "stream",
     "text": [
      "hello 함수 시작\n",
      "hello\n",
      "hello 함수 끝\n",
      "world 함수 시작\n",
      "world\n",
      "world 함수 끝\n"
     ]
    }
   ],
   "source": [
    "# trace_hello=trace(hello)\n",
    "# trace_hello()\n",
    "# trace_world=trace(world)\n",
    "# trace_world()\n",
    "hello()\n",
    "world()\n",
    "\n",
    "#중첩\n",
    "#외부함수 내부함수 반환\n",
    "#내부 함수에서 외부함수의 지역변수 참조"
   ]
  },
  {
   "cell_type": "code",
   "execution_count": 30,
   "id": "1e0f28c2",
   "metadata": {
    "scrolled": true
   },
   "outputs": [
    {
     "data": {
      "text/plain": [
       "<method-wrapper '__str__' of str object at 0x000001CEA3E92C70>"
      ]
     },
     "execution_count": 30,
     "metadata": {},
     "output_type": "execute_result"
    }
   ],
   "source": [
    "\"홍길동\".__str__"
   ]
  },
  {
   "cell_type": "code",
   "execution_count": 82,
   "id": "f31b61eb",
   "metadata": {
    "scrolled": true
   },
   "outputs": [
    {
     "name": "stdout",
     "output_type": "stream",
     "text": [
      "상단영역 바로가기\n",
      "서비스 메뉴 바로가기\n",
      "새소식 블록 바로가기\n",
      "쇼핑 블록 바로가기\n",
      "관심사 블록 바로가기\n",
      "MY 영역 바로가기\n",
      "위젯 보드 바로가기\n",
      "보기 설정 바로가기\n",
      "@txt@\n",
      "\n",
      "@14@\n",
      "\n",
      "\n",
      "@txt@\n",
      "@txt@\n",
      "@query@ @intend@\n"
     ]
    },
    {
     "data": {
      "text/plain": [
       "['전체삭제',\n",
       " '삭제',\n",
       " '도움말',\n",
       " '도움말',\n",
       " '도움말',\n",
       " '자동저장 끄기',\n",
       " '추가',\n",
       " '추가',\n",
       " '추가',\n",
       " '자세히보기',\n",
       " '관심사를 반영한 컨텍스트 자동완성도움말',\n",
       " '컨텍스트 자동완성',\n",
       " '자세히',\n",
       " '로그인',\n",
       " '자세히',\n",
       " '컨텍스트 자동완성 레이어 닫기',\n",
       " '도움말',\n",
       " '신고',\n",
       " '자동완성 끄기']"
      ]
     },
     "execution_count": 82,
     "metadata": {},
     "output_type": "execute_result"
    }
   ],
   "source": [
    "url2=\"https://www.naver.com\"\n",
    "html=requests.get(url2)\n",
    "soup=BeautifulSoup(html.content,\"html.parser\")\n",
    "none_list=[]\n",
    "for i in soup.find_all(\"a\"):\n",
    "    try:\n",
    "        print(i.find(\"span\").text)\n",
    "    except:\n",
    "        none_list.append(i.text)\n",
    "    #None타입은 try except 구문 처리하여 \n",
    "    #a태그의 text를 리스트에 담아주세요\n",
    "none_list"
   ]
  },
  {
   "cell_type": "code",
   "execution_count": 90,
   "id": "43002783",
   "metadata": {},
   "outputs": [],
   "source": [
    "url=\"http://python.cyber.co.kr/pds/books/python2nd/test2.html\"\n",
    "html=requests.get(url)\n",
    "soup=BeautifulSoup(html.content,\"html.parser\")"
   ]
  },
  {
   "cell_type": "code",
   "execution_count": 91,
   "id": "71df2a52",
   "metadata": {},
   "outputs": [
    {
     "name": "stdout",
     "output_type": "stream",
     "text": [
      "<div id=\"chap2\">\n",
      "<h2>제2장 HTML을 해석해 보자</h2>\n",
      "<ol>\n",
      "<li>HTML을 해석해 보자</li>\n",
      "<li>최신 뉴스 목록을 구해 보자</li>\n",
      "<li>링크 목록을 파일로 출력해 보자</li>\n",
      "<li>이미지를 한꺼번에 다운로드해 보자</li>\n",
      "</ol>\n",
      "</div>\n"
     ]
    }
   ],
   "source": [
    "#ID로 검색하여 그 태그의 내용 표시\n",
    "chap2=soup.find(id=\"chap2\")\n",
    "print(chap2)"
   ]
  },
  {
   "cell_type": "code",
   "execution_count": 92,
   "id": "1cb2eb41",
   "metadata": {},
   "outputs": [
    {
     "name": "stdout",
     "output_type": "stream",
     "text": [
      "링크1\n",
      "http://python.cyber.co.kr/pds/books/python2nd/test1.html\n",
      "링크2\n",
      "./test3.html\n"
     ]
    }
   ],
   "source": [
    "for i in soup.find_all(\"a\"):\n",
    "    print(i.text)\n",
    "    url=i.get(\"href\")\n",
    "    print(url)"
   ]
  },
  {
   "cell_type": "code",
   "execution_count": 119,
   "id": "d4f845bf",
   "metadata": {},
   "outputs": [
    {
     "data": {
      "text/plain": [
       "[]"
      ]
     },
     "execution_count": 119,
     "metadata": {},
     "output_type": "execute_result"
    }
   ],
   "source": [
    "#문제3 naver의 a 태그의 href의 내용을 list에 담기\n",
    "#문제4 nvaer의 img 태그의 src의 내용을 list에 담기\n",
    "url2=\"https://www.naver.com\"\n",
    "html=requests.get(url2)\n",
    "soup=BeautifulSoup(html.content,\"html.parser\")\n",
    "href_list=[]\n",
    "img_list=[]\n",
    "for i in soup.find_all(\"a\"):\n",
    "    url=i.get(\"href\")\n",
    "    if url==\"#\":\n",
    "        continue\n",
    "    href_list.append(url)\n",
    "\n",
    "for i in soup.find_all(\"img\"):\n",
    "    img_list.append(i.get(\"src\"))\n",
    "    \n",
    "img_list"
   ]
  },
  {
   "cell_type": "code",
   "execution_count": 121,
   "id": "ba2ecf7b",
   "metadata": {},
   "outputs": [
    {
     "name": "stdout",
     "output_type": "stream",
     "text": [
      "\n",
      "\n",
      "\n",
      "\n",
      "                                    중국 경제 뇌관…‘빚더미 지방정부’ 시한폭탄 터졌다\n",
      "                                \n",
      "\n",
      "\n",
      "\n",
      "\n",
      "                                    니제르 이어 가봉서 ‘쿠데타’…국민들 환호하는 이유는\n",
      "                                \n",
      "\n",
      "\n",
      "\n",
      "\n",
      "                                    인권위, 박정훈 대령 구속영장 청구 관련 수사인권조정회의 회의 소집\n",
      "                                \n",
      "\n",
      "\n",
      "\n",
      "\n",
      "                                    양평 망미리 주민들 “편가르기 여현정 의원 제명 촉구”\n",
      "                                \n",
      "\n",
      "\n",
      "\n",
      "\n",
      "                                    코로나19 오늘부터 ‘독감'...“완전 해방\" vs \"남은 숙제”\n",
      "                                \n",
      "\n",
      "\n",
      "\n",
      "\n",
      "                                    페퍼 등 시중은행 '지역재투자평가' 절반 이상 미흡… 대책 시급\n",
      "                                \n",
      "\n",
      "\n",
      "\n",
      "\n",
      "                                    오산의 고교 실험실서 이황화탄소 누출... 학생 5명 병원 이송\n",
      "                                \n",
      "\n",
      "\n",
      "\n",
      "\n",
      "                                    美, 중국에 이어 중동까지 AI칩 수출 통제… 반도체 패권 전쟁 심화되나\n",
      "                                \n",
      "\n",
      "\n",
      "\n",
      "\n",
      "                                    16년째 표류 '청라시티타워'… LH, 사업자와 공사비 분쟁 끝에 피소\n",
      "                                \n",
      "\n",
      "\n",
      "\n",
      "\n",
      "                                    흉악범죄에 … 매칭 플랫폼 안전성 높인다\n",
      "                                \n",
      "\n",
      "\n",
      "\n",
      "\n",
      "                                    [정승조의 아트홀릭] \"10년에 한 번 올까 말까 한, 청주에서 열리는 전시 4가지\"\n",
      "                                \n",
      "\n",
      "\n",
      "\n",
      "\n",
      "                                    [충북·세종 날씨] 내일 아침 '선선'...낮 기온 크게 올라 무더위 예상\n",
      "                                \n",
      "\n",
      "\n",
      "\n",
      "\n",
      "                                    ‘이재명 단식’ 시작한 野, ‘尹탄핵’ 카드도 만지작?\n",
      "                                \n",
      "\n",
      "\n",
      "\n",
      "\n",
      "                                    동절기 에너지바우처 2배로 늘린다…에너지캐시백도 확대\n",
      "                                \n",
      "\n",
      "\n",
      "\n",
      "\n",
      "                                    日, IBM·TSMC와 손잡고 반도체 강국 부활 꿈꾼다\n",
      "                                \n",
      "\n",
      "\n",
      "\n",
      "\n",
      "                                    전세사기 특별법 시행 2개월‥피해자 \"보완 대책 필요\"\n",
      "                                \n",
      "\n",
      "\n",
      "\n",
      "\n",
      "                                    KTX 이용객 10억명 돌파‥개통 19년 만\n",
      "                                \n",
      "\n",
      "\n",
      "\n",
      "\n",
      "                                    Fed 긴축 우려 완화에도 코스피 하락 마감‥코스닥 '6거래일' 연속 상승세\n",
      "                                \n",
      "\n",
      "\n",
      "\n",
      "\n",
      "                                    의약품 불법거래 온상된 해외직구 플랫폼 '큐텐'…\"보건당국 나서야\"\n",
      "                                \n",
      "\n",
      "\n",
      "\n",
      "\n",
      "                                    [IFA 2023]K-중기·스타트업, 유럽 넘어 글로벌 진출 교두보 만든다\n",
      "                                \n"
     ]
    }
   ],
   "source": [
    "#class로 검색하고 그안에 있는 a태그 검색 표시\n",
    "load_url=\"https://news.daum.net\"\n",
    "html=requests.get(load_url)\n",
    "soup=BeautifulSoup(html.content,\"html.parser\")\n",
    "topic=soup.find(class_=\"list_newsissue\")\n",
    "for i in topic.find_all(\"a\"):\n",
    "    print(i.text)"
   ]
  }
 ],
 "metadata": {
  "kernelspec": {
   "display_name": "Python 3 (ipykernel)",
   "language": "python",
   "name": "python3"
  },
  "language_info": {
   "codemirror_mode": {
    "name": "ipython",
    "version": 3
   },
   "file_extension": ".py",
   "mimetype": "text/x-python",
   "name": "python",
   "nbconvert_exporter": "python",
   "pygments_lexer": "ipython3",
   "version": "3.10.9"
  }
 },
 "nbformat": 4,
 "nbformat_minor": 5
}
