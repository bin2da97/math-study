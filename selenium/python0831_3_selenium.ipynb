{
 "cells": [
  {
   "cell_type": "code",
   "execution_count": 1,
   "id": "e54c0f1f",
   "metadata": {},
   "outputs": [
    {
     "name": "stdout",
     "output_type": "stream",
     "text": [
      "Collecting dload\n",
      "  Downloading dload-0.6-py3-none-any.whl (8.1 kB)\n",
      "Requirement already satisfied: requests>=2.11.1 in c:\\users\\tj\\anaconda3\\lib\\site-packages (from dload) (2.28.1)\n",
      "Requirement already satisfied: idna<4,>=2.5 in c:\\users\\tj\\anaconda3\\lib\\site-packages (from requests>=2.11.1->dload) (3.4)\n",
      "Requirement already satisfied: charset-normalizer<3,>=2 in c:\\users\\tj\\anaconda3\\lib\\site-packages (from requests>=2.11.1->dload) (2.0.4)\n",
      "Requirement already satisfied: certifi>=2017.4.17 in c:\\users\\tj\\anaconda3\\lib\\site-packages (from requests>=2.11.1->dload) (2022.12.7)\n",
      "Requirement already satisfied: urllib3<1.27,>=1.21.1 in c:\\users\\tj\\anaconda3\\lib\\site-packages (from requests>=2.11.1->dload) (1.26.14)\n",
      "Installing collected packages: dload\n",
      "Successfully installed dload-0.6\n"
     ]
    }
   ],
   "source": [
    "!pip install dload"
   ]
  },
  {
   "cell_type": "code",
   "execution_count": 2,
   "id": "b36e1cfc",
   "metadata": {},
   "outputs": [
    {
     "name": "stdout",
     "output_type": "stream",
     "text": [
      "Collecting selenium\n",
      "  Using cached selenium-4.11.2-py3-none-any.whl (7.2 MB)\n",
      "Requirement already satisfied: certifi>=2021.10.8 in c:\\users\\tj\\anaconda3\\lib\\site-packages (from selenium) (2022.12.7)\n",
      "Collecting trio-websocket~=0.9\n",
      "  Using cached trio_websocket-0.10.3-py3-none-any.whl (17 kB)\n",
      "Requirement already satisfied: urllib3[socks]<3,>=1.26 in c:\\users\\tj\\anaconda3\\lib\\site-packages (from selenium) (1.26.14)\n",
      "Collecting trio~=0.17\n",
      "  Using cached trio-0.22.2-py3-none-any.whl (400 kB)\n",
      "Collecting exceptiongroup>=1.0.0rc9\n",
      "  Using cached exceptiongroup-1.1.3-py3-none-any.whl (14 kB)\n",
      "Requirement already satisfied: sortedcontainers in c:\\users\\tj\\anaconda3\\lib\\site-packages (from trio~=0.17->selenium) (2.4.0)\n",
      "Collecting outcome\n",
      "  Using cached outcome-1.2.0-py2.py3-none-any.whl (9.7 kB)\n",
      "Requirement already satisfied: attrs>=20.1.0 in c:\\users\\tj\\anaconda3\\lib\\site-packages (from trio~=0.17->selenium) (22.1.0)\n",
      "Requirement already satisfied: sniffio in c:\\users\\tj\\anaconda3\\lib\\site-packages (from trio~=0.17->selenium) (1.2.0)\n",
      "Requirement already satisfied: cffi>=1.14 in c:\\users\\tj\\anaconda3\\lib\\site-packages (from trio~=0.17->selenium) (1.15.1)\n",
      "Requirement already satisfied: idna in c:\\users\\tj\\anaconda3\\lib\\site-packages (from trio~=0.17->selenium) (3.4)\n",
      "Collecting wsproto>=0.14\n",
      "  Using cached wsproto-1.2.0-py3-none-any.whl (24 kB)\n",
      "Requirement already satisfied: PySocks!=1.5.7,<2.0,>=1.5.6 in c:\\users\\tj\\anaconda3\\lib\\site-packages (from urllib3[socks]<3,>=1.26->selenium) (1.7.1)\n",
      "Requirement already satisfied: pycparser in c:\\users\\tj\\anaconda3\\lib\\site-packages (from cffi>=1.14->trio~=0.17->selenium) (2.21)\n",
      "Collecting h11<1,>=0.9.0\n",
      "  Using cached h11-0.14.0-py3-none-any.whl (58 kB)\n",
      "Installing collected packages: outcome, h11, exceptiongroup, wsproto, trio, trio-websocket, selenium\n",
      "Successfully installed exceptiongroup-1.1.3 h11-0.14.0 outcome-1.2.0 selenium-4.11.2 trio-0.22.2 trio-websocket-0.10.3 wsproto-1.2.0\n"
     ]
    }
   ],
   "source": [
    "!pip install selenium "
   ]
  },
  {
   "cell_type": "code",
   "execution_count": 3,
   "id": "09b52a23",
   "metadata": {},
   "outputs": [],
   "source": [
    "from selenium import webdriver\n",
    "driver = webdriver.Chrome()\n",
    " \n",
    "driver.get(\"http://www.naver.com\")"
   ]
  },
  {
   "cell_type": "code",
   "execution_count": 4,
   "id": "572fb0ea",
   "metadata": {},
   "outputs": [
    {
     "ename": "NoSuchWindowException",
     "evalue": "Message: no such window: target window already closed\nfrom unknown error: web view not found\n  (Session info: chrome=116.0.5845.111)\nStacktrace:\n\tGetHandleVerifier [0x00007FF62E5952A2+57122]\n\t(No symbol) [0x00007FF62E50EA92]\n\t(No symbol) [0x00007FF62E3DE3AB]\n\t(No symbol) [0x00007FF62E3BE1B9]\n\t(No symbol) [0x00007FF62E43B417]\n\t(No symbol) [0x00007FF62E44E24F]\n\t(No symbol) [0x00007FF62E436DB3]\n\t(No symbol) [0x00007FF62E40D2B1]\n\t(No symbol) [0x00007FF62E40E494]\n\tGetHandleVerifier [0x00007FF62E83EF82+2849794]\n\tGetHandleVerifier [0x00007FF62E891D24+3189156]\n\tGetHandleVerifier [0x00007FF62E88ACAF+3160367]\n\tGetHandleVerifier [0x00007FF62E626D06+653702]\n\t(No symbol) [0x00007FF62E51A208]\n\t(No symbol) [0x00007FF62E5162C4]\n\t(No symbol) [0x00007FF62E5163F6]\n\t(No symbol) [0x00007FF62E5067A3]\n\tBaseThreadInitThunk [0x00007FFB39057614+20]\n\tRtlUserThreadStart [0x00007FFB394A26B1+33]\n",
     "output_type": "error",
     "traceback": [
      "\u001b[1;31m---------------------------------------------------------------------------\u001b[0m",
      "\u001b[1;31mNoSuchWindowException\u001b[0m                     Traceback (most recent call last)",
      "Cell \u001b[1;32mIn[4], line 5\u001b[0m\n\u001b[0;32m      2\u001b[0m \u001b[38;5;28;01mfrom\u001b[39;00m \u001b[38;5;21;01mselenium\u001b[39;00m \u001b[38;5;28;01mimport\u001b[39;00m webdriver\n\u001b[0;32m      3\u001b[0m \u001b[38;5;28;01mimport\u001b[39;00m \u001b[38;5;21;01mtime\u001b[39;00m\n\u001b[1;32m----> 5\u001b[0m \u001b[43mdriver\u001b[49m\u001b[38;5;241;43m.\u001b[39;49m\u001b[43mget\u001b[49m\u001b[43m(\u001b[49m\u001b[38;5;124;43m\"\u001b[39;49m\u001b[38;5;124;43mhttps://search.daum.net/search?nil_suggest=sugsch&w=img&DA=GIQ&sq=\u001b[39;49m\u001b[38;5;132;43;01m%E\u001b[39;49;00m\u001b[38;5;124;43mB\u001b[39;49m\u001b[38;5;124;43m%\u001b[39;49m\u001b[38;5;124;43mB0\u001b[39;49m\u001b[38;5;124;43m%\u001b[39;49m\u001b[38;5;124;43mA9&o=1&sugo=15&q=\u001b[39;49m\u001b[38;5;132;43;01m%E\u001b[39;49;00m\u001b[38;5;124;43mB\u001b[39;49m\u001b[38;5;124;43m%\u001b[39;49m\u001b[38;5;124;43mB0\u001b[39;49m\u001b[38;5;124;43m%\u001b[39;49m\u001b[38;5;124;43mA9\u001b[39;49m\u001b[38;5;132;43;01m%E\u001b[39;49;00m\u001b[38;5;124;43mD\u001b[39;49m\u001b[38;5;132;43;01m%83%\u001b[39;49;00m\u001b[38;5;124;43m84\u001b[39;49m\u001b[38;5;132;43;01m%E\u001b[39;49;00m\u001b[38;5;124;43mC\u001b[39;49m\u001b[38;5;132;43;01m%86%\u001b[39;49;00m\u001b[38;5;124;43m8C\u001b[39;49m\u001b[38;5;132;43;01m%E\u001b[39;49;00m\u001b[38;5;124;43mB\u001b[39;49m\u001b[38;5;132;43;01m%85%\u001b[39;49;00m\u001b[38;5;124;43m84\u001b[39;49m\u001b[38;5;132;43;01m%E\u001b[39;49;00m\u001b[38;5;124;43mB\u001b[39;49m\u001b[38;5;124;43m%\u001b[39;49m\u001b[38;5;124;43m8B\u001b[39;49m\u001b[38;5;124;43m%\u001b[39;49m\u001b[38;5;124;43mA8\u001b[39;49m\u001b[38;5;124;43m\"\u001b[39;49m\u001b[43m)\u001b[49m\n\u001b[0;32m      6\u001b[0m time\u001b[38;5;241m.\u001b[39msleep(\u001b[38;5;241m5\u001b[39m)\n\u001b[0;32m      8\u001b[0m req \u001b[38;5;241m=\u001b[39m driver\u001b[38;5;241m.\u001b[39mpage_source     \u001b[38;5;66;03m# 해당 url에서 가져온 모든 정보를 req에 저장\u001b[39;00m\n",
      "File \u001b[1;32m~\\anaconda3\\lib\\site-packages\\selenium\\webdriver\\remote\\webdriver.py:354\u001b[0m, in \u001b[0;36mWebDriver.get\u001b[1;34m(self, url)\u001b[0m\n\u001b[0;32m    352\u001b[0m \u001b[38;5;28;01mdef\u001b[39;00m \u001b[38;5;21mget\u001b[39m(\u001b[38;5;28mself\u001b[39m, url: \u001b[38;5;28mstr\u001b[39m) \u001b[38;5;241m-\u001b[39m\u001b[38;5;241m>\u001b[39m \u001b[38;5;28;01mNone\u001b[39;00m:\n\u001b[0;32m    353\u001b[0m     \u001b[38;5;124;03m\"\"\"Loads a web page in the current browser session.\"\"\"\u001b[39;00m\n\u001b[1;32m--> 354\u001b[0m     \u001b[38;5;28;43mself\u001b[39;49m\u001b[38;5;241;43m.\u001b[39;49m\u001b[43mexecute\u001b[49m\u001b[43m(\u001b[49m\u001b[43mCommand\u001b[49m\u001b[38;5;241;43m.\u001b[39;49m\u001b[43mGET\u001b[49m\u001b[43m,\u001b[49m\u001b[43m \u001b[49m\u001b[43m{\u001b[49m\u001b[38;5;124;43m\"\u001b[39;49m\u001b[38;5;124;43murl\u001b[39;49m\u001b[38;5;124;43m\"\u001b[39;49m\u001b[43m:\u001b[49m\u001b[43m \u001b[49m\u001b[43murl\u001b[49m\u001b[43m}\u001b[49m\u001b[43m)\u001b[49m\n",
      "File \u001b[1;32m~\\anaconda3\\lib\\site-packages\\selenium\\webdriver\\remote\\webdriver.py:345\u001b[0m, in \u001b[0;36mWebDriver.execute\u001b[1;34m(self, driver_command, params)\u001b[0m\n\u001b[0;32m    343\u001b[0m response \u001b[38;5;241m=\u001b[39m \u001b[38;5;28mself\u001b[39m\u001b[38;5;241m.\u001b[39mcommand_executor\u001b[38;5;241m.\u001b[39mexecute(driver_command, params)\n\u001b[0;32m    344\u001b[0m \u001b[38;5;28;01mif\u001b[39;00m response:\n\u001b[1;32m--> 345\u001b[0m     \u001b[38;5;28;43mself\u001b[39;49m\u001b[38;5;241;43m.\u001b[39;49m\u001b[43merror_handler\u001b[49m\u001b[38;5;241;43m.\u001b[39;49m\u001b[43mcheck_response\u001b[49m\u001b[43m(\u001b[49m\u001b[43mresponse\u001b[49m\u001b[43m)\u001b[49m\n\u001b[0;32m    346\u001b[0m     response[\u001b[38;5;124m\"\u001b[39m\u001b[38;5;124mvalue\u001b[39m\u001b[38;5;124m\"\u001b[39m] \u001b[38;5;241m=\u001b[39m \u001b[38;5;28mself\u001b[39m\u001b[38;5;241m.\u001b[39m_unwrap_value(response\u001b[38;5;241m.\u001b[39mget(\u001b[38;5;124m\"\u001b[39m\u001b[38;5;124mvalue\u001b[39m\u001b[38;5;124m\"\u001b[39m, \u001b[38;5;28;01mNone\u001b[39;00m))\n\u001b[0;32m    347\u001b[0m     \u001b[38;5;28;01mreturn\u001b[39;00m response\n",
      "File \u001b[1;32m~\\anaconda3\\lib\\site-packages\\selenium\\webdriver\\remote\\errorhandler.py:229\u001b[0m, in \u001b[0;36mErrorHandler.check_response\u001b[1;34m(self, response)\u001b[0m\n\u001b[0;32m    227\u001b[0m         alert_text \u001b[38;5;241m=\u001b[39m value[\u001b[38;5;124m\"\u001b[39m\u001b[38;5;124malert\u001b[39m\u001b[38;5;124m\"\u001b[39m]\u001b[38;5;241m.\u001b[39mget(\u001b[38;5;124m\"\u001b[39m\u001b[38;5;124mtext\u001b[39m\u001b[38;5;124m\"\u001b[39m)\n\u001b[0;32m    228\u001b[0m     \u001b[38;5;28;01mraise\u001b[39;00m exception_class(message, screen, stacktrace, alert_text)  \u001b[38;5;66;03m# type: ignore[call-arg]  # mypy is not smart enough here\u001b[39;00m\n\u001b[1;32m--> 229\u001b[0m \u001b[38;5;28;01mraise\u001b[39;00m exception_class(message, screen, stacktrace)\n",
      "\u001b[1;31mNoSuchWindowException\u001b[0m: Message: no such window: target window already closed\nfrom unknown error: web view not found\n  (Session info: chrome=116.0.5845.111)\nStacktrace:\n\tGetHandleVerifier [0x00007FF62E5952A2+57122]\n\t(No symbol) [0x00007FF62E50EA92]\n\t(No symbol) [0x00007FF62E3DE3AB]\n\t(No symbol) [0x00007FF62E3BE1B9]\n\t(No symbol) [0x00007FF62E43B417]\n\t(No symbol) [0x00007FF62E44E24F]\n\t(No symbol) [0x00007FF62E436DB3]\n\t(No symbol) [0x00007FF62E40D2B1]\n\t(No symbol) [0x00007FF62E40E494]\n\tGetHandleVerifier [0x00007FF62E83EF82+2849794]\n\tGetHandleVerifier [0x00007FF62E891D24+3189156]\n\tGetHandleVerifier [0x00007FF62E88ACAF+3160367]\n\tGetHandleVerifier [0x00007FF62E626D06+653702]\n\t(No symbol) [0x00007FF62E51A208]\n\t(No symbol) [0x00007FF62E5162C4]\n\t(No symbol) [0x00007FF62E5163F6]\n\t(No symbol) [0x00007FF62E5067A3]\n\tBaseThreadInitThunk [0x00007FFB39057614+20]\n\tRtlUserThreadStart [0x00007FFB394A26B1+33]\n"
     ]
    }
   ],
   "source": [
    "from bs4 import BeautifulSoup\n",
    "from selenium import webdriver\n",
    "import time\n",
    " \n",
    "driver.get(\"https://search.daum.net/search?nil_suggest=sugsch&w=img&DA=GIQ&sq=%EB%B0%A9&o=1&sugo=15&q=%EB%B0%A9%ED%83%84%EC%86%8C%EB%85%84%EB%8B%A8\")\n",
    "time.sleep(5)\n",
    " \n",
    "req = driver.page_source     # 해당 url에서 가져온 모든 정보를 req에 저장\n",
    "soup = BeautifulSoup(req, 'html.parser')    # 내가 필요한 부분만 가져옴\n",
    " \n",
    "print(soup)\n",
    " \n",
    "driver.quit()"
   ]
  },
  {
   "cell_type": "code",
   "execution_count": null,
   "id": "06050a3d",
   "metadata": {},
   "outputs": [],
   "source": []
  },
  {
   "cell_type": "code",
   "execution_count": null,
   "id": "b316737e",
   "metadata": {},
   "outputs": [],
   "source": []
  }
 ],
 "metadata": {
  "kernelspec": {
   "display_name": "Python 3 (ipykernel)",
   "language": "python",
   "name": "python3"
  },
  "language_info": {
   "codemirror_mode": {
    "name": "ipython",
    "version": 3
   },
   "file_extension": ".py",
   "mimetype": "text/x-python",
   "name": "python",
   "nbconvert_exporter": "python",
   "pygments_lexer": "ipython3",
   "version": "3.10.9"
  }
 },
 "nbformat": 4,
 "nbformat_minor": 5
}
