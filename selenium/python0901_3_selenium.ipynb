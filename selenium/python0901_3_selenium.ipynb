{
 "cells": [
  {
   "cell_type": "code",
   "execution_count": 1,
   "id": "a33253e6",
   "metadata": {},
   "outputs": [],
   "source": [
    "from selenium import webdriver"
   ]
  },
  {
   "cell_type": "code",
   "execution_count": 2,
   "id": "7de45f5a",
   "metadata": {},
   "outputs": [],
   "source": [
    "import time #페이지 로딩을 기다리는데 사용할 time 모듈"
   ]
  },
  {
   "cell_type": "code",
   "execution_count": 3,
   "id": "257280c1",
   "metadata": {},
   "outputs": [],
   "source": [
    "from selenium.webdriver.common.by import By"
   ]
  },
  {
   "cell_type": "markdown",
   "id": "e4bfcd4e",
   "metadata": {},
   "source": [
    "## 크롬 드라이버 실행\n",
    "### 크롬 드라이버는 컴퓨터가 크롬 웹 브라우저를 다룰수 있도록 해주는 프로그램"
   ]
  },
  {
   "cell_type": "code",
   "execution_count": 6,
   "id": "a9bb7ab7",
   "metadata": {},
   "outputs": [],
   "source": [
    "driver = webdriver.Chrome()\n",
    "driver.get(url=\"https://www.naver.com/\")\n",
    "search_box= driver.find_element(By.XPATH,'//*[@id=\"query\"]')\n",
    "search_button= driver.find_element(By.XPATH,'//*[@id=\"sform\"]/fieldset/button')\n",
    "search_word='셀레니움'\n",
    "search_box.send_keys(search_word)\n",
    "search_button.click()\n",
    "#페이지가 완전히 로딩되도록 3초 기다림\n",
    "time.sleep(3)"
   ]
  },
  {
   "cell_type": "code",
   "execution_count": 7,
   "id": "8cb2dce3",
   "metadata": {},
   "outputs": [],
   "source": [
    "# {'정치':['src'],'경제':['img'],'사회':}"
   ]
  },
  {
   "cell_type": "code",
   "execution_count": 8,
   "id": "5d77eb5e",
   "metadata": {},
   "outputs": [],
   "source": [
    "from bs4 import BeautifulSoup"
   ]
  },
  {
   "cell_type": "code",
   "execution_count": 9,
   "id": "6d95a6eb",
   "metadata": {},
   "outputs": [],
   "source": [
    "import requests"
   ]
  },
  {
   "cell_type": "code",
   "execution_count": 17,
   "id": "80158f6f",
   "metadata": {},
   "outputs": [
    {
     "name": "stdout",
     "output_type": "stream",
     "text": [
      "[<ul class=\"Nlnb_menu_list\" role=\"menu\">\n",
      "<li class=\"Nlist_item is_active\"><a aria-selected=\"true\" class=\"Nitem_link\" href=\"https://news.naver.com/?viewType=pc\" onclick=\"nclk(event,'lnb.pcmedia','','');\" role=\"menuitem\"><span class=\"Nitem_link_menu\">언론사별</span></a></li>\n",
      "<li class=\"Nlist_item\"><a aria-selected=\"false\" class=\"Nitem_link\" href=\"https://news.naver.com/main/main.naver?mode=LSD&amp;mid=shm&amp;sid1=100\" onclick=\"nclk(event,'lnb.pol','','');\" role=\"menuitem\"><span class=\"Nitem_link_menu\">정치</span></a></li>\n",
      "<li class=\"Nlist_item\"><a aria-selected=\"false\" class=\"Nitem_link\" href=\"https://news.naver.com/main/main.naver?mode=LSD&amp;mid=shm&amp;sid1=101\" onclick=\"nclk(event,'lnb.eco','','');\" role=\"menuitem\"><span class=\"Nitem_link_menu\">경제</span></a></li>\n",
      "<li class=\"Nlist_item\"><a aria-selected=\"false\" class=\"Nitem_link\" href=\"https://news.naver.com/main/main.naver?mode=LSD&amp;mid=shm&amp;sid1=102\" onclick=\"nclk(event,'lnb.soc','','');\" role=\"menuitem\"><span class=\"Nitem_link_menu\">사회</span></a></li>\n",
      "<li class=\"Nlist_item\"><a aria-selected=\"false\" class=\"Nitem_link\" href=\"https://news.naver.com/main/main.naver?mode=LSD&amp;mid=shm&amp;sid1=103\" onclick=\"nclk(event,'lnb.lif','','');\" role=\"menuitem\"><span class=\"Nitem_link_menu\">생활/문화</span></a></li>\n",
      "<li class=\"Nlist_item\"><a aria-selected=\"false\" class=\"Nitem_link\" href=\"https://news.naver.com/main/main.naver?mode=LSD&amp;mid=shm&amp;sid1=105\" onclick=\"nclk(event,'lnb.sci','','');\" role=\"menuitem\"><span class=\"Nitem_link_menu\">IT/과학</span></a></li>\n",
      "<li class=\"Nlist_item\"><a aria-selected=\"false\" class=\"Nitem_link\" href=\"https://news.naver.com/main/main.naver?mode=LSD&amp;mid=shm&amp;sid1=104\" onclick=\"nclk(event,'lnb.wor','','');\" role=\"menuitem\"><span class=\"Nitem_link_menu\">세계</span></a></li>\n",
      "<li class=\"Nlist_item _isNew\"><a aria-selected=\"false\" class=\"Nitem_link\" href=\"https://news.naver.com/main/ranking/popularDay.naver\" onclick=\"nclk(event,'lnb.rank','','');\" role=\"menuitem\"><span class=\"Nitem_link_menu\">랭킹</span></a></li>\n",
      "<li class=\"Nlist_item _isNew\"><a aria-selected=\"false\" class=\"Nitem_link\" href=\"https://news.naver.com/newspaper/home?viewType=pc\" onclick=\"nclk(event,'lnb.paper','','');\" role=\"menuitem\"><span class=\"Nitem_link_menu\">신문보기</span></a></li>\n",
      "<li class=\"Nlist_item\"><a aria-selected=\"false\" class=\"Nitem_link\" href=\"https://news.naver.com/opinion/home\" onclick=\"nclk(event,'lnb.opi','','');\" role=\"menuitem\"><span class=\"Nitem_link_menu\">오피니언</span></a></li>\n",
      "<li class=\"Nlist_item\"><a aria-selected=\"false\" class=\"Nitem_link\" href=\"https://news.naver.com/main/tv/index.naver?mid=tvh\" onclick=\"nclk(event,'lnb.tv','','');\" role=\"menuitem\"><span class=\"Nitem_link_menu\">TV</span></a></li>\n",
      "<li class=\"Nlist_item\"><a aria-selected=\"false\" class=\"Nitem_link\" href=\"https://news.naver.com/main/factcheck/main.naver\" onclick=\"nclk(event,'lnb.fact','','');\" role=\"menuitem\"><span class=\"Nitem_link_menu\">팩트체크</span></a></li>\n",
      "<li class=\"Nlist_item\"><a aria-selected=\"false\" class=\"Nitem_link\" href=\"https://media.naver.com/algorithm\" onclick=\"nclk(event,'lnb.algo','','');\" role=\"menuitem\"><span class=\"Nitem_link_menu\">알고리즘 안내</span></a></li>\n",
      "</ul>]\n"
     ]
    }
   ],
   "source": [
    "driver = webdriver.Chrome()\n",
    "driver.get(url=\"https://news.naver.com/\")\n",
    "html = requests.get(\"https://news.naver.com/\")\n",
    "soup=BeautifulSoup(html.content,\"html.parser\")\n",
    "v= soup.select(\"body > section > header > div.Nlnb._float_lnb > div > div > div.Nlnb_left._lnb_scroll > div > div > ul\")\n",
    "print(v)\n",
    "obj={}\n",
    "for i in v:\n",
    "    for j in i:\n",
    "        \n",
    "    url = i.get(\"href\")\n",
    "    key= i.get(\"cla\")\n",
    "    link_url = urllib.parse.urljoin(load_url, url)\n",
    "    obj[\"href\"].append(link_url)\n",
    "    obj[\"text\"].append(i.text)\n",
    "# obj"
   ]
  },
  {
   "cell_type": "code",
   "execution_count": null,
   "id": "a795785d",
   "metadata": {},
   "outputs": [],
   "source": []
  }
 ],
 "metadata": {
  "kernelspec": {
   "display_name": "Python 3 (ipykernel)",
   "language": "python",
   "name": "python3"
  },
  "language_info": {
   "codemirror_mode": {
    "name": "ipython",
    "version": 3
   },
   "file_extension": ".py",
   "mimetype": "text/x-python",
   "name": "python",
   "nbconvert_exporter": "python",
   "pygments_lexer": "ipython3",
   "version": "3.10.9"
  }
 },
 "nbformat": 4,
 "nbformat_minor": 5
}
