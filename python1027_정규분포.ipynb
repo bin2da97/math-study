{
 "cells": [
  {
   "cell_type": "markdown",
   "id": "3b2c755a",
   "metadata": {},
   "source": [
    "### [확률과 통계] 파이썬으로 정규 분포 그리기"
   ]
  },
  {
   "cell_type": "markdown",
   "id": "240932ec",
   "metadata": {},
   "source": [
    "1. 정규 분포란\n",
    "- 정규 분포(Normal Distribution) 은 통계학에서 연속 확률 분포의 한 종류로서 데이터의\n",
    "   분포를 근사하는데 가장 흔하게 사용됨\n",
    "- 가우스 분포라고도 함\n",
    "- 정규 분포의 모양은 2개의 매개변수(parameter) 인 평균 $ \\mu $ 과 표준편차 $ \\sigma $\n",
    "    에 의해 결정되며 , 이태의 분포를 $ N( \\mu $, $\\sigma $) 로 나타냅니다\n",
    "- 정규 분포  N($ \\mu $, $\\sigma $)를 갖는 확률 변수 X는 기대값, 최빈값, 중앙값이 \n",
    "    모두 $ \\mu $ 이면 , 분산은 $ \\sigma^2 $ 로 주어집니다\n",
    "- 정규 분포 N($ \\mu $, $ \\sigma $)를 갖는 확률 변수 X에 대한 확률 밀도함수 \n",
    "    (probability Density Function , PDF) 는 아래와 같이 주어집니다.\n",
    "$$  N(x | \\mu, \\sigma^2 ) = \\frac{1}{\\sqrt{2\\pi\\sigma^2}} exp \\left [ \n",
    "    -\\frac{(x-\\mu)^2}{e\\sigma ^2} \\right] $$\n",
    "- 또한 정규 분포 N($ \\mu $ , $ \\sigma $) 의 확률 밀도 함수에 대한 누적 분포 함수\n",
    "    (cumulative Distribution Function, CDF )는 아래와 같이 주어집니다\n",
    "$$ \\phi( x | \\mu, \\sigma^2 ) = \\frac{1}{2} \\left [ 1+ +erf \\left ( \\frac{(x\n",
    "-\\mu)}{\\sqrt{2\\sigma ^2}} \\right) \\right ] $$"
   ]
  },
  {
   "cell_type": "markdown",
   "id": "76350473",
   "metadata": {},
   "source": [
    "$$  \\phi (x |  \\mu  ,  \\sigma^2   )  = \\frac{1}{2}  \\left [ 1+  +erf \\left ( \\frac{(x-\\mu)}{\\sqrt{2\\sigma ^2}} \\right)  \\right ]  $$"
   ]
  },
  {
   "cell_type": "code",
   "execution_count": 1,
   "id": "07bf06bf",
   "metadata": {},
   "outputs": [],
   "source": [
    "# (1/np.sqrt(2*np.pi*sigma**2)* np.exp(-(x-mu)**2)/(2*sigma**2))"
   ]
  },
  {
   "cell_type": "markdown",
   "id": "07ee3503",
   "metadata": {},
   "source": [
    "## 2.정규 분포 그리기"
   ]
  },
  {
   "cell_type": "code",
   "execution_count": 2,
   "id": "2f71b6fe",
   "metadata": {},
   "outputs": [],
   "source": [
    "import numpy as np\n",
    "import matplotlib.pyplot as plt\n",
    "from scipy.special import erf"
   ]
  },
  {
   "cell_type": "code",
   "execution_count": 3,
   "id": "71304e0a",
   "metadata": {},
   "outputs": [],
   "source": [
    "def deri_fn(f,x,h=0.0001):\n",
    "    return (f(x+h)-f(x))/h"
   ]
  },
  {
   "cell_type": "code",
   "execution_count": 8,
   "id": "f18c2980",
   "metadata": {},
   "outputs": [
    {
     "data": {
      "text/plain": [
       "<Figure size 600x300 with 0 Axes>"
      ]
     },
     "metadata": {},
     "output_type": "display_data"
    }
   ],
   "source": [
    "np.random.seed(0)\n",
    "\n",
    "plt.style.use('default')\n",
    "plt.rcParams['figure.figsize']=(6,3)\n",
    "plt.rcParams['font.size'] =12\n",
    "plt.rcParams['lines.linewidth']=5\n",
    "\n",
    "data=[(np.random.randint(1,10),np.random.rand()*10) for _ in range(50)] #하나는 평균이고 하나는 sigma(표준편차)\n",
    "#이것을 하나씩 꺼내어 파일로 저장\n",
    "\n",
    "mu=7.0\n",
    "sigma=0.7\n",
    "\n",
    "x=np.linspace(-8,8,1000)\n",
    "y=1/np.sqrt(2*np.pi*sigma**2)* np.exp(-(x-mu)**2)/(2*sigma**2)\n",
    "y_cum=0.5*(1+erf((x-mu)/(np.sqrt(2*sigma**2))))\n",
    "y_cum_f=lambda x_1:0.5*(1+erf((x_1-mu)/(np.sqrt(2*sigma**2))))\n",
    "y_derive = deri_fn(y_cum_f,y_cum)\n",
    "# y2=(1/np.sqrt(2*np.pi*sigma2**2)* np.exp(-(x-mu2)**2)/(2*sigma2**2))\n",
    "# y3=(1/np.sqrt(2*np.pi*sigma3**2)* np.exp(-(x-mu3)**2)/(2*sigma3**2))\n",
    "\n",
    "plt.plot(x,y_cum,alpha=0.7,label='CDF of N(0,1)')\n",
    "plt.plot(x,y_derive,alpha=0.7,label='CDF of N(0,1)')\n",
    "plt.xlabel('x')\n",
    "plt.ylabel('f(x)')\n",
    "plt.legend(loc='upper left')\n",
    "plt.savefig('savefig'+'.png')\n",
    "plt.clf()"
   ]
  },
  {
   "cell_type": "code",
   "execution_count": 7,
   "id": "99fa969a",
   "metadata": {
    "scrolled": true
   },
   "outputs": [
    {
     "data": {
      "text/plain": [
       "<Figure size 600x300 with 0 Axes>"
      ]
     },
     "metadata": {},
     "output_type": "display_data"
    }
   ],
   "source": [
    "np.random.seed(0)\n",
    "\n",
    "plt.style.use('default')\n",
    "plt.rcParams['figure.figsize']=(6,3)\n",
    "plt.rcParams['font.size'] =12\n",
    "plt.rcParams['lines.linewidth']=5\n",
    "\n",
    "data=[(np.random.randint(1,10),np.random.rand()*10) for _ in range(50)] #하나는 평균이고 하나는 sigma(표준편차)\n",
    "#이것을 하나씩 꺼내어 파일로 저장\n",
    "\n",
    "x=np.linspace(-8,8,1000)\n",
    "\n",
    "# y2=(1/np.sqrt(2*np.pi*sigma2**2)* np.exp(-(x-mu2)**2)/(2*sigma2**2))\n",
    "# y3=(1/np.sqrt(2*np.pi*sigma3**2)* np.exp(-(x-mu3)**2)/(2*sigma3**2))\n",
    "\n",
    "cnt=0\n",
    "for i,j in data:\n",
    "    y1=1/np.sqrt(2*np.pi*j**2)* np.exp(-(x-i)**2)/(2*j**2)\n",
    "    plt.plot(x,y1,alpha=0.7,label='CDF of N(0,1)')\n",
    "    plt.xlabel('x')\n",
    "    plt.ylabel('f(x)')\n",
    "    plt.legend(loc='upper left')\n",
    "    cnt+=1\n",
    "    plt.savefig('savefig'+str(cnt)+'.png')\n",
    "    plt.clf()"
   ]
  },
  {
   "cell_type": "code",
   "execution_count": null,
   "id": "c6585547",
   "metadata": {},
   "outputs": [],
   "source": []
  },
  {
   "cell_type": "code",
   "execution_count": null,
   "id": "e8ee7b8c",
   "metadata": {},
   "outputs": [],
   "source": []
  },
  {
   "cell_type": "code",
   "execution_count": null,
   "id": "a2af394b",
   "metadata": {},
   "outputs": [],
   "source": []
  },
  {
   "cell_type": "code",
   "execution_count": null,
   "id": "fc056e70",
   "metadata": {},
   "outputs": [],
   "source": []
  },
  {
   "cell_type": "code",
   "execution_count": null,
   "id": "cd0226d0",
   "metadata": {},
   "outputs": [],
   "source": []
  },
  {
   "cell_type": "code",
   "execution_count": null,
   "id": "c04c81e8",
   "metadata": {},
   "outputs": [],
   "source": []
  },
  {
   "cell_type": "code",
   "execution_count": null,
   "id": "a20ac960",
   "metadata": {},
   "outputs": [],
   "source": []
  },
  {
   "cell_type": "code",
   "execution_count": null,
   "id": "a1bdc010",
   "metadata": {},
   "outputs": [],
   "source": []
  }
 ],
 "metadata": {
  "kernelspec": {
   "display_name": "Python 3 (ipykernel)",
   "language": "python",
   "name": "python3"
  },
  "language_info": {
   "codemirror_mode": {
    "name": "ipython",
    "version": 3
   },
   "file_extension": ".py",
   "mimetype": "text/x-python",
   "name": "python",
   "nbconvert_exporter": "python",
   "pygments_lexer": "ipython3",
   "version": "3.11.5"
  }
 },
 "nbformat": 4,
 "nbformat_minor": 5
}
