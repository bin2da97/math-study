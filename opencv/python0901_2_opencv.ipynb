{
 "cells": [
  {
   "cell_type": "code",
   "execution_count": 1,
   "id": "7cee220f",
   "metadata": {},
   "outputs": [
    {
     "name": "stdout",
     "output_type": "stream",
     "text": [
      "Requirement already satisfied: opencv-python in c:\\users\\tj\\anaconda3\\lib\\site-packages (4.8.0.76)\n",
      "Requirement already satisfied: numpy>=1.17.0 in c:\\users\\tj\\anaconda3\\lib\\site-packages (from opencv-python) (1.23.5)\n"
     ]
    }
   ],
   "source": [
    "!pip install opencv-python"
   ]
  },
  {
   "cell_type": "code",
   "execution_count": 2,
   "id": "57dfe70d",
   "metadata": {},
   "outputs": [],
   "source": [
    "import sys"
   ]
  },
  {
   "cell_type": "code",
   "execution_count": 3,
   "id": "ff8feefb",
   "metadata": {},
   "outputs": [],
   "source": [
    "import cv2"
   ]
  },
  {
   "cell_type": "code",
   "execution_count": 4,
   "id": "e4975f3d",
   "metadata": {},
   "outputs": [
    {
     "data": {
      "text/plain": [
       "'4.8.0'"
      ]
     },
     "execution_count": 4,
     "metadata": {},
     "output_type": "execute_result"
    }
   ],
   "source": [
    "cv2.__version__"
   ]
  },
  {
   "cell_type": "code",
   "execution_count": 5,
   "id": "ac13adb8",
   "metadata": {},
   "outputs": [
    {
     "name": "stdout",
     "output_type": "stream",
     "text": [
      "(512, 512, 3)\n"
     ]
    }
   ],
   "source": [
    "img = cv2.imread('images/lenna.bmp')\n",
    "print(img.shape)\n",
    "img=img[:, :int(img.shape[1]/2)]\n",
    "if img is None: #이미지 없으면 None임\n",
    "    print(\"이미지 로딩 실패\")\n",
    "    sys.exit() #종료\n",
    "cv2.namedWindow('image')\n",
    "cv2.imshow('image',img)\n",
    "cv2.waitKey()\n",
    "cv2.destroyAllWindows()"
   ]
  },
  {
   "cell_type": "code",
   "execution_count": 6,
   "id": "60434d1c",
   "metadata": {},
   "outputs": [],
   "source": [
    "import numpy as np"
   ]
  },
  {
   "cell_type": "code",
   "execution_count": 7,
   "id": "c39e5b76",
   "metadata": {},
   "outputs": [],
   "source": [
    "def funct1():\n",
    "    img1 = cv2.imread('images/cat.bmp',cv2.IMREAD_GRAYSCALE)\n",
    "    if img1 is None:\n",
    "        print(\"이미지 로딩 실패\")\n",
    "        return\n",
    "    print('type(img1):', type(img1))\n",
    "    print('img1.shape:', img1.shape)\n",
    "    if len(img1.shape)==2:\n",
    "        print('img1은 흑백(grayscale이다)')\n",
    "    elif len(img1.shape)==3:\n",
    "        print('img1은 컬러(truecolor)이다.')\n",
    "    cv2.imshow('img1',img1.T)\n",
    "    cv2.waitKey()\n",
    "    cv2.destroyAllWindows()"
   ]
  },
  {
   "cell_type": "code",
   "execution_count": 8,
   "id": "d62100bd",
   "metadata": {},
   "outputs": [
    {
     "name": "stdout",
     "output_type": "stream",
     "text": [
      "type(img1): <class 'numpy.ndarray'>\n",
      "img1.shape: (480, 640)\n",
      "img1은 흑백(grayscale이다)\n"
     ]
    }
   ],
   "source": [
    "funct1()"
   ]
  },
  {
   "cell_type": "code",
   "execution_count": 9,
   "id": "0280b0ee",
   "metadata": {},
   "outputs": [],
   "source": [
    "def func2():\n",
    "    img1=np.empty((480,640),np.uint8)#흑백이미지\n",
    "    img2=np.zeros((480,640,3),np.uint8)#컬러이미지   \n",
    "    img3=np.ones((480,640),np.uint32)#1로 채워진 행렬\n",
    "    img4=np.full((480,640),0,np.float32)#0로 채워진 행렬\n",
    "    \n",
    "    mat1=np.array([[11,12,13,14],[21,22,23,24],[31,32,33,34]]).astype(np.uint8)\n",
    "    \n",
    "    mat1[0,1]=100\n",
    "    mat1[2,:]=200\n",
    "    print(img1)"
   ]
  },
  {
   "cell_type": "code",
   "execution_count": 10,
   "id": "a5d4be54",
   "metadata": {},
   "outputs": [
    {
     "name": "stdout",
     "output_type": "stream",
     "text": [
      "[[ 80   1 202 ...  83  81  79]\n",
      " [  2   0   0 ...   1   0   0]\n",
      " [ 15   0   0 ...   1   0   0]\n",
      " ...\n",
      " [241 241 241 ... 164 163 161]\n",
      " [162 162 162 ... 165 167 168]\n",
      " [169 170 171 ...  10  10  10]]\n"
     ]
    }
   ],
   "source": [
    "func2()"
   ]
  },
  {
   "cell_type": "code",
   "execution_count": 11,
   "id": "23d7cf96",
   "metadata": {},
   "outputs": [],
   "source": [
    "def func3():\n",
    "    img1=cv2.imread('images/cat.bmp')\n",
    "    img2=img1 #주소복사, 같은 위치의 공간을 가리키고 있다.(얕은 복사/shallow)\n",
    "    img3=img1.copy() #깊은 복사(deep copy)\n",
    "    img1[:,:]=(255,0,0) #blue\n",
    "    \n",
    "    cv2.imshow('img1',img1)\n",
    "    cv2.imshow('img2',img2)    \n",
    "    cv2.imshow('img3',img3)\n",
    "    cv2.waitKey()\n",
    "    cv2.destroyAllWindows()"
   ]
  },
  {
   "cell_type": "code",
   "execution_count": 12,
   "id": "431e48e8",
   "metadata": {},
   "outputs": [],
   "source": [
    "func3()"
   ]
  },
  {
   "cell_type": "code",
   "execution_count": 13,
   "id": "c7c773b7",
   "metadata": {},
   "outputs": [],
   "source": [
    "def func4():\n",
    "    img1=cv2.imread('images/lenna.bmp',cv2.IMREAD_GRAYSCALE)\n",
    "    img2=img1[200:400,200:400].copy()\n",
    "    img3=img1[200:400,200:400].copy()\n",
    "    img2+=20\n",
    "    print('shape: ' ,img1.shape, 'shape2',img2.shape)\n",
    "    print('img',img1[200:400,200:400][0],'img2: ',img2[:,:][0],)\n",
    "    cv2.imshow('img1',img1)\n",
    "    cv2.imshow('img2',img2)\n",
    "    cv2.imshow('img3',img3)\n",
    "    cv2.waitKey()\n",
    "    cv2.destroyAllWindows()"
   ]
  },
  {
   "cell_type": "code",
   "execution_count": 14,
   "id": "24c89b54",
   "metadata": {},
   "outputs": [
    {
     "name": "stdout",
     "output_type": "stream",
     "text": [
      "shape:  (512, 512) shape2 (200, 200)\n",
      "img [ 77  72  82  78  74  73  71  67  64  74  85  94  83  80  77  64  63  63\n",
      "  57  49  50  61  92  99  74  44  39  36  38  39  43  60  61 101  72  97\n",
      " 115  61  46  54  59  54  57  60  54  77 129  98  74  67  85 111 119  94\n",
      "  83  69  44  38  50  76 125 133  81  31  32  39  70 143 159 177 174 137\n",
      " 122 110 119 122 143 171 188 198 200 198 196 195 190 194 192 191 190 182\n",
      " 180 181 179 176 181 181 179 184 181 174 179 185 179 181 179 177 173 177\n",
      " 173 180 177 175 174 176 176 182 181 190 194 187 186 192 195 195 192 187\n",
      " 194 188 191 195 198 192 193 186 169 128  88  55  48  46  46  57  95 108\n",
      " 114 104  76  61  96 133 147 136 112 105 123 133 116 111 128 138 147 154\n",
      " 147 151 153 169 166 173 170 170 174 172 174 179 181 178 187 195 200 206\n",
      " 191 153  97  57  45  37  38  40  42  41  42  47  46  48  47  51  53  51\n",
      "  51  50] img2:  [ 97  92 102  98  94  93  91  87  84  94 105 114 103 100  97  84  83  83\n",
      "  77  69  70  81 112 119  94  64  59  56  58  59  63  80  81 121  92 117\n",
      " 135  81  66  74  79  74  77  80  74  97 149 118  94  87 105 131 139 114\n",
      " 103  89  64  58  70  96 145 153 101  51  52  59  90 163 179 197 194 157\n",
      " 142 130 139 142 163 191 208 218 220 218 216 215 210 214 212 211 210 202\n",
      " 200 201 199 196 201 201 199 204 201 194 199 205 199 201 199 197 193 197\n",
      " 193 200 197 195 194 196 196 202 201 210 214 207 206 212 215 215 212 207\n",
      " 214 208 211 215 218 212 213 206 189 148 108  75  68  66  66  77 115 128\n",
      " 134 124  96  81 116 153 167 156 132 125 143 153 136 131 148 158 167 174\n",
      " 167 171 173 189 186 193 190 190 194 192 194 199 201 198 207 215 220 226\n",
      " 211 173 117  77  65  57  58  60  62  61  62  67  66  68  67  71  73  71\n",
      "  71  70]\n"
     ]
    }
   ],
   "source": [
    "func4()"
   ]
  },
  {
   "cell_type": "code",
   "execution_count": 15,
   "id": "403e5a23",
   "metadata": {},
   "outputs": [],
   "source": [
    "def func5():\n",
    "    mat1=np.array(np.arange(12)).reshape(3,4)\n",
    "    print('mat: ')\n",
    "    print(mat1)\n",
    "    h, w = mat1.shape[:2]\n",
    "    mat2=np.zeros(mat1.shape, type(mat1))\n",
    "    for j in range(h):\n",
    "        for i in range(w):\n",
    "            mat2[j,i]=mat1[j,i]+10\n",
    "    print('mat2:')\n",
    "    print(mat2)"
   ]
  },
  {
   "cell_type": "code",
   "execution_count": 16,
   "id": "0bdc5dda",
   "metadata": {},
   "outputs": [
    {
     "name": "stdout",
     "output_type": "stream",
     "text": [
      "mat: \n",
      "[[ 0  1  2  3]\n",
      " [ 4  5  6  7]\n",
      " [ 8  9 10 11]]\n",
      "mat2:\n",
      "[[10 11 12 13]\n",
      " [14 15 16 17]\n",
      " [18 19 20 21]]\n"
     ]
    }
   ],
   "source": [
    "func5()"
   ]
  },
  {
   "cell_type": "code",
   "execution_count": 17,
   "id": "868067cc",
   "metadata": {},
   "outputs": [],
   "source": [
    "def func6():\n",
    "    mat1=np.zeros((3,4),np.int32)\n",
    "    mat2=np.arange(12).reshape(3,4)\n",
    "    mat3=mat1+mat2\n",
    "    mat4=mat2*2\n",
    "    print(\"mat1: \",mat1,sep=\"\\n\")\n",
    "    print(\"mat2: \",mat2,sep=\"\\n\")    \n",
    "    print(\"mat3: \",mat3,sep=\"\\n\")    \n",
    "    print(\"mat4: \",mat4,sep=\"\\n\")    "
   ]
  },
  {
   "cell_type": "code",
   "execution_count": 18,
   "id": "7c0fb9c3",
   "metadata": {},
   "outputs": [
    {
     "name": "stdout",
     "output_type": "stream",
     "text": [
      "mat1: \n",
      "[[0 0 0 0]\n",
      " [0 0 0 0]\n",
      " [0 0 0 0]]\n",
      "mat2: \n",
      "[[ 0  1  2  3]\n",
      " [ 4  5  6  7]\n",
      " [ 8  9 10 11]]\n",
      "mat3: \n",
      "[[ 0  1  2  3]\n",
      " [ 4  5  6  7]\n",
      " [ 8  9 10 11]]\n",
      "mat4: \n",
      "[[ 0  2  4  6]\n",
      " [ 8 10 12 14]\n",
      " [16 18 20 22]]\n"
     ]
    }
   ],
   "source": [
    "func6()"
   ]
  },
  {
   "cell_type": "code",
   "execution_count": 21,
   "id": "a4c7e71d",
   "metadata": {},
   "outputs": [],
   "source": [
    "#문제 5)img1의 이미지의 밝기가 70~150(중간 밝기) 사이 인것을\n",
    "#img1의 이미지의 밝기를 255(흰색)로 변경함\n",
    "def func9():\n",
    "    img1=cv2.imread('images/lenna.bmp')\n",
    "    avg=((img1[:,:,1]+img1[:,:,0]+img1[:,:,2])/3.0) #BGR 평균\n",
    "    avg_int=avg.astype(np.uint8)\n",
    "    #실수를 정수로 변환\n",
    "    boolean_arr = (avg_int[:,:]>75)&(avg_int[:,:]<=80)  #픽셀값이 75~200사이\n",
    "    avg[boolean_arr]=240 #해당 index의 값을 바꿈\n",
    "    cv2.imshow('avg_int',avg_int)\n",
    "    cv2.waitKey()\n",
    "    cv2.destroyAllWindows()"
   ]
  },
  {
   "cell_type": "code",
   "execution_count": 22,
   "id": "895ec18a",
   "metadata": {},
   "outputs": [],
   "source": [
    "func9()"
   ]
  },
  {
   "cell_type": "code",
   "execution_count": 25,
   "id": "19b9086e",
   "metadata": {},
   "outputs": [],
   "source": [
    "def func4_1():\n",
    "    img1=cv2.imread('images/lenna.bmp',cv2.IMREAD_GRAYSCALE)\n",
    "    img2=img1[:,:].copy()\n",
    "    mask=(img2>=70)&(img2<=150)\n",
    "    img2[mask]=(50)\n",
    "    cv2.imshow('img1',img1)\n",
    "    cv2.waitKey()\n",
    "    cv2.destroyAllWindows()\n",
    "    \n",
    "func4_1()"
   ]
  },
  {
   "cell_type": "code",
   "execution_count": null,
   "id": "71c26a0b",
   "metadata": {},
   "outputs": [],
   "source": [
    "def func7():\n",
    "    img1=cv2.imread('images/lenna.bmp')\n",
    "    avg=((img1[:,:,1]+img1[:,:,0]+img1[:,:,2])/3.0).astype(np.int64) #0bleu,1green,2red\n",
    "    new_bgr=np.zeros((512,512,3),np.int64)\n",
    "    for idx_i,i in enumerate(avg):\n",
    "        for idx_j,j in enumerate(i):\n",
    "            if j>=70 and j<150:\n",
    "                new_bgr[idx_i,idx_j]=[0,0,255]\n",
    "            else:\n",
    "                new_bgr[idx_i, idx_j] = [j, j, j]\n",
    "#     print(avg.shape)\n",
    "#     print(new_bgr.shape)\n",
    "    return new_bgr\n"
   ]
  },
  {
   "cell_type": "code",
   "execution_count": null,
   "id": "e6203bed",
   "metadata": {},
   "outputs": [],
   "source": [
    "import cv2\n",
    "import numpy as np\n",
    "\n",
    "def func7():\n",
    "    img1 = cv2.imread('images/lenna.bmp')\n",
    "    avg = ((img1[:,:,1] + img1[:,:,0] + img1[:,:,2]) / 3.0).astype(np.int64)  # 0: blue, 1: green, 2: red\n",
    "    new_bgr = np.zeros((512, 512, 3), np.uint8)  # Create a new BGR image array\n",
    "    \n",
    "    for idx_i, i in enumerate(avg):\n",
    "        for idx_j, j in enumerate(i):\n",
    "            if j >= 70 and j < 150:\n",
    "                new_bgr[idx_i, idx_j] = [0, 0, 255]  # Set red color (BGR format) for pixels within the specified range\n",
    "            else:\n",
    "                new_bgr[idx_i, idx_j] = [j, j, j]  # Set grayscale color for other pixels\n",
    "    \n",
    "    return new_bgr\n",
    "\n",
    "# 이미지 생성 및 저장\n",
    "new_image = func7()\n",
    "cv2.imwrite('images/new_image.jpg', new_image)\n"
   ]
  },
  {
   "cell_type": "code",
   "execution_count": null,
   "id": "05bbc1c9",
   "metadata": {},
   "outputs": [],
   "source": []
  },
  {
   "cell_type": "code",
   "execution_count": null,
   "id": "aadd2f61",
   "metadata": {},
   "outputs": [],
   "source": []
  },
  {
   "cell_type": "code",
   "execution_count": null,
   "id": "054754d5",
   "metadata": {},
   "outputs": [],
   "source": [
    "#문제6 img1의 이미지의 크기에서 중간 영역(좌표 200:300,200:400)의 밝기를 0으로 설정함"
   ]
  }
 ],
 "metadata": {
  "kernelspec": {
   "display_name": "Python 3 (ipykernel)",
   "language": "python",
   "name": "python3"
  },
  "language_info": {
   "codemirror_mode": {
    "name": "ipython",
    "version": 3
   },
   "file_extension": ".py",
   "mimetype": "text/x-python",
   "name": "python",
   "nbconvert_exporter": "python",
   "pygments_lexer": "ipython3",
   "version": "3.10.9"
  }
 },
 "nbformat": 4,
 "nbformat_minor": 5
}
