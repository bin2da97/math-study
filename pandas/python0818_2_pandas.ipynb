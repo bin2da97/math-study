{
 "cells": [
  {
   "cell_type": "code",
   "execution_count": 2,
   "id": "ac4038bf",
   "metadata": {},
   "outputs": [],
   "source": [
    "import pandas as pd # numpy 를 as np 한거처럼 pandas도 일반적으로 as pd 하여 pd로 짧게 쓴다.\n",
    "                     #데이터를 쉽게 다루기 위해 만들어짐"
   ]
  },
  {
   "cell_type": "code",
   "execution_count": 9,
   "id": "fbbf02a3",
   "metadata": {},
   "outputs": [
    {
     "data": {
      "text/html": [
       "<div>\n",
       "<style scoped>\n",
       "    .dataframe tbody tr th:only-of-type {\n",
       "        vertical-align: middle;\n",
       "    }\n",
       "\n",
       "    .dataframe tbody tr th {\n",
       "        vertical-align: top;\n",
       "    }\n",
       "\n",
       "    .dataframe thead th {\n",
       "        text-align: right;\n",
       "    }\n",
       "</style>\n",
       "<table border=\"1\" class=\"dataframe\">\n",
       "  <thead>\n",
       "    <tr style=\"text-align: right;\">\n",
       "      <th></th>\n",
       "      <th>math</th>\n",
       "      <th>korea</th>\n",
       "      <th>eng</th>\n",
       "    </tr>\n",
       "  </thead>\n",
       "  <tbody>\n",
       "    <tr>\n",
       "      <th>0</th>\n",
       "      <td>20</td>\n",
       "      <td>20</td>\n",
       "      <td>20</td>\n",
       "    </tr>\n",
       "    <tr>\n",
       "      <th>1</th>\n",
       "      <td>34</td>\n",
       "      <td>34</td>\n",
       "      <td>34</td>\n",
       "    </tr>\n",
       "    <tr>\n",
       "      <th>2</th>\n",
       "      <td>80</td>\n",
       "      <td>80</td>\n",
       "      <td>80</td>\n",
       "    </tr>\n",
       "    <tr>\n",
       "      <th>3</th>\n",
       "      <td>100</td>\n",
       "      <td>100</td>\n",
       "      <td>100</td>\n",
       "    </tr>\n",
       "    <tr>\n",
       "      <th>4</th>\n",
       "      <td>90</td>\n",
       "      <td>90</td>\n",
       "      <td>90</td>\n",
       "    </tr>\n",
       "  </tbody>\n",
       "</table>\n",
       "</div>"
      ],
      "text/plain": [
       "   math  korea  eng\n",
       "0    20     20   20\n",
       "1    34     34   34\n",
       "2    80     80   80\n",
       "3   100    100  100\n",
       "4    90     90   90"
      ]
     },
     "execution_count": 9,
     "metadata": {},
     "output_type": "execute_result"
    }
   ],
   "source": [
    "dict1={\n",
    "    \"math\":[20,34,80,100,90],\n",
    "    \"korea\":[20,34,80,100,90],\n",
    "    \"eng\":[20,34,80,100,90]\n",
    "}\n",
    "df = pd.DataFrame(dict1)\n",
    "df # 표로 보여줌\n",
    "# df.to_csv('1.csv') # 엑셀 파일을 만들어줌\n",
    "# df.to_csv('C:\\\\lsb\\\\html\\\\1.csv') #파일 저장위치 지정 가능"
   ]
  },
  {
   "cell_type": "code",
   "execution_count": 6,
   "id": "d255b16a",
   "metadata": {},
   "outputs": [
    {
     "data": {
      "text/plain": [
       "'C:\\\\Users\\\\tj'"
      ]
     },
     "execution_count": 6,
     "metadata": {},
     "output_type": "execute_result"
    }
   ],
   "source": [
    "pwd #현재 작업 파일 저장 위치"
   ]
  },
  {
   "cell_type": "code",
   "execution_count": 30,
   "id": "eb11f823",
   "metadata": {},
   "outputs": [
    {
     "data": {
      "text/html": [
       "<div>\n",
       "<style scoped>\n",
       "    .dataframe tbody tr th:only-of-type {\n",
       "        vertical-align: middle;\n",
       "    }\n",
       "\n",
       "    .dataframe tbody tr th {\n",
       "        vertical-align: top;\n",
       "    }\n",
       "\n",
       "    .dataframe thead th {\n",
       "        text-align: right;\n",
       "    }\n",
       "</style>\n",
       "<table border=\"1\" class=\"dataframe\">\n",
       "  <thead>\n",
       "    <tr style=\"text-align: right;\">\n",
       "      <th></th>\n",
       "      <th>math</th>\n",
       "      <th>korea</th>\n",
       "      <th>eng</th>\n",
       "    </tr>\n",
       "  </thead>\n",
       "  <tbody>\n",
       "    <tr>\n",
       "      <th>2</th>\n",
       "      <td>80</td>\n",
       "      <td>80</td>\n",
       "      <td>80</td>\n",
       "    </tr>\n",
       "    <tr>\n",
       "      <th>3</th>\n",
       "      <td>100</td>\n",
       "      <td>100</td>\n",
       "      <td>100</td>\n",
       "    </tr>\n",
       "    <tr>\n",
       "      <th>4</th>\n",
       "      <td>90</td>\n",
       "      <td>90</td>\n",
       "      <td>90</td>\n",
       "    </tr>\n",
       "  </tbody>\n",
       "</table>\n",
       "</div>"
      ],
      "text/plain": [
       "   math  korea  eng\n",
       "2    80     80   80\n",
       "3   100    100  100\n",
       "4    90     90   90"
      ]
     },
     "execution_count": 30,
     "metadata": {},
     "output_type": "execute_result"
    }
   ],
   "source": [
    "# df[df['math']>70]['eng'] #'math'가 70점 이상인거\n",
    "# df[df['math']>70][['eng','korea']] # pandas에는 dataframe 타입과 series타입이 있다. 한개만가져오면 dataframe, 한개 이상 series  \n",
    "df[df['math']>70]"
   ]
  },
  {
   "cell_type": "code",
   "execution_count": 15,
   "id": "fa821906",
   "metadata": {},
   "outputs": [],
   "source": [
    "url = 'https://raw.githubusercontent.com/justmarkham/DAT8/master/data/chipotle.tsv'\n",
    "chipo = pd.read_csv(url, sep='\\t')"
   ]
  },
  {
   "cell_type": "code",
   "execution_count": 19,
   "id": "083171db",
   "metadata": {
    "scrolled": true
   },
   "outputs": [
    {
     "data": {
      "text/html": [
       "<div>\n",
       "<style scoped>\n",
       "    .dataframe tbody tr th:only-of-type {\n",
       "        vertical-align: middle;\n",
       "    }\n",
       "\n",
       "    .dataframe tbody tr th {\n",
       "        vertical-align: top;\n",
       "    }\n",
       "\n",
       "    .dataframe thead th {\n",
       "        text-align: right;\n",
       "    }\n",
       "</style>\n",
       "<table border=\"1\" class=\"dataframe\">\n",
       "  <thead>\n",
       "    <tr style=\"text-align: right;\">\n",
       "      <th></th>\n",
       "      <th>order_id</th>\n",
       "      <th>quantity</th>\n",
       "      <th>item_name</th>\n",
       "      <th>choice_description</th>\n",
       "      <th>item_price</th>\n",
       "    </tr>\n",
       "  </thead>\n",
       "  <tbody>\n",
       "    <tr>\n",
       "      <th>4612</th>\n",
       "      <td>1831</td>\n",
       "      <td>1</td>\n",
       "      <td>Carnitas Bowl</td>\n",
       "      <td>[Fresh Tomato Salsa, [Fajita Vegetables, Rice,...</td>\n",
       "      <td>$9.25</td>\n",
       "    </tr>\n",
       "    <tr>\n",
       "      <th>4613</th>\n",
       "      <td>1831</td>\n",
       "      <td>1</td>\n",
       "      <td>Chips</td>\n",
       "      <td>NaN</td>\n",
       "      <td>$2.15</td>\n",
       "    </tr>\n",
       "    <tr>\n",
       "      <th>4614</th>\n",
       "      <td>1831</td>\n",
       "      <td>1</td>\n",
       "      <td>Bottled Water</td>\n",
       "      <td>NaN</td>\n",
       "      <td>$1.50</td>\n",
       "    </tr>\n",
       "    <tr>\n",
       "      <th>4615</th>\n",
       "      <td>1832</td>\n",
       "      <td>1</td>\n",
       "      <td>Chicken Soft Tacos</td>\n",
       "      <td>[Fresh Tomato Salsa, [Rice, Cheese, Sour Cream]]</td>\n",
       "      <td>$8.75</td>\n",
       "    </tr>\n",
       "    <tr>\n",
       "      <th>4616</th>\n",
       "      <td>1832</td>\n",
       "      <td>1</td>\n",
       "      <td>Chips and Guacamole</td>\n",
       "      <td>NaN</td>\n",
       "      <td>$4.45</td>\n",
       "    </tr>\n",
       "    <tr>\n",
       "      <th>4617</th>\n",
       "      <td>1833</td>\n",
       "      <td>1</td>\n",
       "      <td>Steak Burrito</td>\n",
       "      <td>[Fresh Tomato Salsa, [Rice, Black Beans, Sour ...</td>\n",
       "      <td>$11.75</td>\n",
       "    </tr>\n",
       "    <tr>\n",
       "      <th>4618</th>\n",
       "      <td>1833</td>\n",
       "      <td>1</td>\n",
       "      <td>Steak Burrito</td>\n",
       "      <td>[Fresh Tomato Salsa, [Rice, Sour Cream, Cheese...</td>\n",
       "      <td>$11.75</td>\n",
       "    </tr>\n",
       "    <tr>\n",
       "      <th>4619</th>\n",
       "      <td>1834</td>\n",
       "      <td>1</td>\n",
       "      <td>Chicken Salad Bowl</td>\n",
       "      <td>[Fresh Tomato Salsa, [Fajita Vegetables, Pinto...</td>\n",
       "      <td>$11.25</td>\n",
       "    </tr>\n",
       "    <tr>\n",
       "      <th>4620</th>\n",
       "      <td>1834</td>\n",
       "      <td>1</td>\n",
       "      <td>Chicken Salad Bowl</td>\n",
       "      <td>[Fresh Tomato Salsa, [Fajita Vegetables, Lettu...</td>\n",
       "      <td>$8.75</td>\n",
       "    </tr>\n",
       "    <tr>\n",
       "      <th>4621</th>\n",
       "      <td>1834</td>\n",
       "      <td>1</td>\n",
       "      <td>Chicken Salad Bowl</td>\n",
       "      <td>[Fresh Tomato Salsa, [Fajita Vegetables, Pinto...</td>\n",
       "      <td>$8.75</td>\n",
       "    </tr>\n",
       "  </tbody>\n",
       "</table>\n",
       "</div>"
      ],
      "text/plain": [
       "      order_id  quantity            item_name  \\\n",
       "4612      1831         1        Carnitas Bowl   \n",
       "4613      1831         1                Chips   \n",
       "4614      1831         1        Bottled Water   \n",
       "4615      1832         1   Chicken Soft Tacos   \n",
       "4616      1832         1  Chips and Guacamole   \n",
       "4617      1833         1        Steak Burrito   \n",
       "4618      1833         1        Steak Burrito   \n",
       "4619      1834         1   Chicken Salad Bowl   \n",
       "4620      1834         1   Chicken Salad Bowl   \n",
       "4621      1834         1   Chicken Salad Bowl   \n",
       "\n",
       "                                     choice_description item_price  \n",
       "4612  [Fresh Tomato Salsa, [Fajita Vegetables, Rice,...     $9.25   \n",
       "4613                                                NaN     $2.15   \n",
       "4614                                                NaN     $1.50   \n",
       "4615   [Fresh Tomato Salsa, [Rice, Cheese, Sour Cream]]     $8.75   \n",
       "4616                                                NaN     $4.45   \n",
       "4617  [Fresh Tomato Salsa, [Rice, Black Beans, Sour ...    $11.75   \n",
       "4618  [Fresh Tomato Salsa, [Rice, Sour Cream, Cheese...    $11.75   \n",
       "4619  [Fresh Tomato Salsa, [Fajita Vegetables, Pinto...    $11.25   \n",
       "4620  [Fresh Tomato Salsa, [Fajita Vegetables, Lettu...     $8.75   \n",
       "4621  [Fresh Tomato Salsa, [Fajita Vegetables, Pinto...     $8.75   "
      ]
     },
     "execution_count": 19,
     "metadata": {},
     "output_type": "execute_result"
    }
   ],
   "source": [
    "# chipo #url에서 제공하는 csv파일을 읽어옴\n",
    "# chipo.head(10) # 상단10개만 가져오기\n",
    "chipo.tail(10) # 하단 10개"
   ]
  },
  {
   "cell_type": "code",
   "execution_count": 21,
   "id": "d30cb350",
   "metadata": {},
   "outputs": [
    {
     "data": {
      "text/plain": [
       "(4622, 5)"
      ]
     },
     "execution_count": 21,
     "metadata": {},
     "output_type": "execute_result"
    }
   ],
   "source": [
    "chipo.shape #4622행 5열"
   ]
  },
  {
   "cell_type": "code",
   "execution_count": 31,
   "id": "1506d3e1",
   "metadata": {},
   "outputs": [
    {
     "data": {
      "text/plain": [
       "5"
      ]
     },
     "execution_count": 31,
     "metadata": {},
     "output_type": "execute_result"
    }
   ],
   "source": [
    "chipo.shape[1] #1번째 행의 5개열"
   ]
  },
  {
   "cell_type": "code",
   "execution_count": 32,
   "id": "cf9b50af",
   "metadata": {},
   "outputs": [
    {
     "data": {
      "text/plain": [
       "3"
      ]
     },
     "execution_count": 32,
     "metadata": {},
     "output_type": "execute_result"
    }
   ],
   "source": [
    "len('aaa')"
   ]
  },
  {
   "cell_type": "code",
   "execution_count": 42,
   "id": "236846c8",
   "metadata": {},
   "outputs": [],
   "source": [
    "# [len(i) for i in chipo['item_name']]"
   ]
  },
  {
   "cell_type": "code",
   "execution_count": 35,
   "id": "95af7876",
   "metadata": {},
   "outputs": [],
   "source": [
    "chipo.to_csv(\"C:\\\\Users\\\\tj\\\\test.csv\")"
   ]
  },
  {
   "cell_type": "code",
   "execution_count": 43,
   "id": "77a6b51f",
   "metadata": {},
   "outputs": [
    {
     "data": {
      "text/plain": [
       "Index(['order_id', 'quantity', 'item_name', 'choice_description',\n",
       "       'item_price'],\n",
       "      dtype='object')"
      ]
     },
     "execution_count": 43,
     "metadata": {},
     "output_type": "execute_result"
    }
   ],
   "source": [
    "chipo.columns"
   ]
  },
  {
   "cell_type": "code",
   "execution_count": 86,
   "id": "3a570d16",
   "metadata": {},
   "outputs": [
    {
     "data": {
      "text/html": [
       "<div>\n",
       "<style scoped>\n",
       "    .dataframe tbody tr th:only-of-type {\n",
       "        vertical-align: middle;\n",
       "    }\n",
       "\n",
       "    .dataframe tbody tr th {\n",
       "        vertical-align: top;\n",
       "    }\n",
       "\n",
       "    .dataframe thead th {\n",
       "        text-align: right;\n",
       "    }\n",
       "</style>\n",
       "<table border=\"1\" class=\"dataframe\">\n",
       "  <thead>\n",
       "    <tr style=\"text-align: right;\">\n",
       "      <th></th>\n",
       "      <th>order_id</th>\n",
       "      <th>quantity</th>\n",
       "    </tr>\n",
       "    <tr>\n",
       "      <th>item_name</th>\n",
       "      <th></th>\n",
       "      <th></th>\n",
       "    </tr>\n",
       "  </thead>\n",
       "  <tbody>\n",
       "    <tr>\n",
       "      <th>Chicken Bowl</th>\n",
       "      <td>713926</td>\n",
       "      <td>761</td>\n",
       "    </tr>\n",
       "    <tr>\n",
       "      <th>Chicken Burrito</th>\n",
       "      <td>497303</td>\n",
       "      <td>591</td>\n",
       "    </tr>\n",
       "    <tr>\n",
       "      <th>Chips and Guacamole</th>\n",
       "      <td>449959</td>\n",
       "      <td>506</td>\n",
       "    </tr>\n",
       "    <tr>\n",
       "      <th>Steak Burrito</th>\n",
       "      <td>328437</td>\n",
       "      <td>386</td>\n",
       "    </tr>\n",
       "    <tr>\n",
       "      <th>Canned Soft Drink</th>\n",
       "      <td>304753</td>\n",
       "      <td>351</td>\n",
       "    </tr>\n",
       "  </tbody>\n",
       "</table>\n",
       "</div>"
      ],
      "text/plain": [
       "                     order_id  quantity\n",
       "item_name                              \n",
       "Chicken Bowl           713926       761\n",
       "Chicken Burrito        497303       591\n",
       "Chips and Guacamole    449959       506\n",
       "Steak Burrito          328437       386\n",
       "Canned Soft Drink      304753       351"
      ]
     },
     "execution_count": 86,
     "metadata": {},
     "output_type": "execute_result"
    }
   ],
   "source": [
    "df = chipo[['order_id','quantity','item_name']] \n",
    "df_c = df.groupby('item_name').sum() #item_name 별로 그룹화하고 , item_name 별 그룹의 총합\n",
    "df_c = df_c.sort_values(['quantity'] , ascending=False)\n",
    "df_c.head(5)\n",
    "# 여기는 'order_id','quantity','item_name' 정수값들만 사용했기때문에 아래처럼 빨간색 경고? 안뜸"
   ]
  },
  {
   "cell_type": "code",
   "execution_count": 87,
   "id": "efb10922",
   "metadata": {},
   "outputs": [
    {
     "name": "stderr",
     "output_type": "stream",
     "text": [
      "C:\\Users\\tj\\AppData\\Local\\Temp\\ipykernel_10452\\1747176969.py:3: FutureWarning: The default value of numeric_only in DataFrameGroupBy.sum is deprecated. In a future version, numeric_only will default to False. Either specify numeric_only or select only columns which should be valid for the function.\n",
      "  c=c.sum() #item_name 별 그룹의 총합\n"
     ]
    },
    {
     "data": {
      "text/html": [
       "<div>\n",
       "<style scoped>\n",
       "    .dataframe tbody tr th:only-of-type {\n",
       "        vertical-align: middle;\n",
       "    }\n",
       "\n",
       "    .dataframe tbody tr th {\n",
       "        vertical-align: top;\n",
       "    }\n",
       "\n",
       "    .dataframe thead th {\n",
       "        text-align: right;\n",
       "    }\n",
       "</style>\n",
       "<table border=\"1\" class=\"dataframe\">\n",
       "  <thead>\n",
       "    <tr style=\"text-align: right;\">\n",
       "      <th></th>\n",
       "      <th>order_id</th>\n",
       "      <th>quantity</th>\n",
       "    </tr>\n",
       "    <tr>\n",
       "      <th>item_name</th>\n",
       "      <th></th>\n",
       "      <th></th>\n",
       "    </tr>\n",
       "  </thead>\n",
       "  <tbody>\n",
       "    <tr>\n",
       "      <th>Chicken Bowl</th>\n",
       "      <td>713926</td>\n",
       "      <td>761</td>\n",
       "    </tr>\n",
       "    <tr>\n",
       "      <th>Chicken Burrito</th>\n",
       "      <td>497303</td>\n",
       "      <td>591</td>\n",
       "    </tr>\n",
       "    <tr>\n",
       "      <th>Chips and Guacamole</th>\n",
       "      <td>449959</td>\n",
       "      <td>506</td>\n",
       "    </tr>\n",
       "    <tr>\n",
       "      <th>Steak Burrito</th>\n",
       "      <td>328437</td>\n",
       "      <td>386</td>\n",
       "    </tr>\n",
       "    <tr>\n",
       "      <th>Canned Soft Drink</th>\n",
       "      <td>304753</td>\n",
       "      <td>351</td>\n",
       "    </tr>\n",
       "  </tbody>\n",
       "</table>\n",
       "</div>"
      ],
      "text/plain": [
       "                     order_id  quantity\n",
       "item_name                              \n",
       "Chicken Bowl           713926       761\n",
       "Chicken Burrito        497303       591\n",
       "Chips and Guacamole    449959       506\n",
       "Steak Burrito          328437       386\n",
       "Canned Soft Drink      304753       351"
      ]
     },
     "execution_count": 87,
     "metadata": {},
     "output_type": "execute_result"
    }
   ],
   "source": [
    "#가장 주문량이 많은 항목찾기\n",
    "c=chipo.groupby('item_name') #item_name 별로 그룹화\n",
    "c=c.sum() #item_name 별 그룹의 총합\n",
    "c = c.sort_values(['quantity'] , ascending=False)\n",
    "c.head(5)\n",
    "#chipo의 choice_description, item_price의 값들은 string 타입이기때문에 아래 sum() 메서드를 사용했을때 아래 빨간색 경고??처럼 무언가 뜬다\n"
   ]
  },
  {
   "cell_type": "code",
   "execution_count": 54,
   "id": "a9f99ebd",
   "metadata": {},
   "outputs": [],
   "source": [
    "import numpy as np"
   ]
  },
  {
   "cell_type": "code",
   "execution_count": 68,
   "id": "6a0dd842",
   "metadata": {},
   "outputs": [
    {
     "data": {
      "text/html": [
       "<div>\n",
       "<style scoped>\n",
       "    .dataframe tbody tr th:only-of-type {\n",
       "        vertical-align: middle;\n",
       "    }\n",
       "\n",
       "    .dataframe tbody tr th {\n",
       "        vertical-align: top;\n",
       "    }\n",
       "\n",
       "    .dataframe thead th {\n",
       "        text-align: right;\n",
       "    }\n",
       "</style>\n",
       "<table border=\"1\" class=\"dataframe\">\n",
       "  <thead>\n",
       "    <tr style=\"text-align: right;\">\n",
       "      <th></th>\n",
       "      <th>A</th>\n",
       "      <th>B</th>\n",
       "      <th>C</th>\n",
       "      <th>D</th>\n",
       "    </tr>\n",
       "  </thead>\n",
       "  <tbody>\n",
       "    <tr>\n",
       "      <th>0</th>\n",
       "      <td>foo</td>\n",
       "      <td>one</td>\n",
       "      <td>-1.277846</td>\n",
       "      <td>0.038314</td>\n",
       "    </tr>\n",
       "    <tr>\n",
       "      <th>1</th>\n",
       "      <td>bar</td>\n",
       "      <td>one</td>\n",
       "      <td>0.055735</td>\n",
       "      <td>-1.633316</td>\n",
       "    </tr>\n",
       "    <tr>\n",
       "      <th>2</th>\n",
       "      <td>foo</td>\n",
       "      <td>two</td>\n",
       "      <td>-0.257184</td>\n",
       "      <td>0.342347</td>\n",
       "    </tr>\n",
       "    <tr>\n",
       "      <th>3</th>\n",
       "      <td>bar</td>\n",
       "      <td>three</td>\n",
       "      <td>-0.072780</td>\n",
       "      <td>-0.721732</td>\n",
       "    </tr>\n",
       "    <tr>\n",
       "      <th>4</th>\n",
       "      <td>foo</td>\n",
       "      <td>two</td>\n",
       "      <td>-0.349797</td>\n",
       "      <td>0.104168</td>\n",
       "    </tr>\n",
       "  </tbody>\n",
       "</table>\n",
       "</div>"
      ],
      "text/plain": [
       "     A      B         C         D\n",
       "0  foo    one -1.277846  0.038314\n",
       "1  bar    one  0.055735 -1.633316\n",
       "2  foo    two -0.257184  0.342347\n",
       "3  bar  three -0.072780 -0.721732\n",
       "4  foo    two -0.349797  0.104168"
      ]
     },
     "execution_count": 68,
     "metadata": {},
     "output_type": "execute_result"
    }
   ],
   "source": [
    "df = pd.DataFrame(\n",
    "    {\n",
    "        \"A\": [\"foo\", \"bar\", \"foo\", \"bar\", \"foo\", \"bar\", \"foo\", \"foo\"],\n",
    "        \"B\": [\"one\", \"one\", \"two\", \"three\", \"two\", \"two\", \"one\", \"three\"],\n",
    "        \"C\": np.random.randn(8),\n",
    "        \"D\": np.random.randn(8),\n",
    "    }\n",
    ")\n",
    "df.head()"
   ]
  },
  {
   "cell_type": "code",
   "execution_count": 69,
   "id": "fa961498",
   "metadata": {},
   "outputs": [
    {
     "data": {
      "text/html": [
       "<div>\n",
       "<style scoped>\n",
       "    .dataframe tbody tr th:only-of-type {\n",
       "        vertical-align: middle;\n",
       "    }\n",
       "\n",
       "    .dataframe tbody tr th {\n",
       "        vertical-align: top;\n",
       "    }\n",
       "\n",
       "    .dataframe thead tr th {\n",
       "        text-align: left;\n",
       "    }\n",
       "\n",
       "    .dataframe thead tr:last-of-type th {\n",
       "        text-align: right;\n",
       "    }\n",
       "</style>\n",
       "<table border=\"1\" class=\"dataframe\">\n",
       "  <thead>\n",
       "    <tr>\n",
       "      <th></th>\n",
       "      <th colspan=\"2\" halign=\"left\">B</th>\n",
       "      <th colspan=\"2\" halign=\"left\">C</th>\n",
       "      <th colspan=\"2\" halign=\"left\">D</th>\n",
       "    </tr>\n",
       "    <tr>\n",
       "      <th></th>\n",
       "      <th>sum</th>\n",
       "      <th>count</th>\n",
       "      <th>sum</th>\n",
       "      <th>count</th>\n",
       "      <th>sum</th>\n",
       "      <th>count</th>\n",
       "    </tr>\n",
       "    <tr>\n",
       "      <th>A</th>\n",
       "      <th></th>\n",
       "      <th></th>\n",
       "      <th></th>\n",
       "      <th></th>\n",
       "      <th></th>\n",
       "      <th></th>\n",
       "    </tr>\n",
       "  </thead>\n",
       "  <tbody>\n",
       "    <tr>\n",
       "      <th>bar</th>\n",
       "      <td>onethreetwo</td>\n",
       "      <td>3</td>\n",
       "      <td>0.26306</td>\n",
       "      <td>3</td>\n",
       "      <td>-3.241453</td>\n",
       "      <td>3</td>\n",
       "    </tr>\n",
       "    <tr>\n",
       "      <th>foo</th>\n",
       "      <td>onetwotwoonethree</td>\n",
       "      <td>5</td>\n",
       "      <td>-1.01148</td>\n",
       "      <td>5</td>\n",
       "      <td>0.770994</td>\n",
       "      <td>5</td>\n",
       "    </tr>\n",
       "  </tbody>\n",
       "</table>\n",
       "</div>"
      ],
      "text/plain": [
       "                     B              C               D      \n",
       "                   sum count      sum count       sum count\n",
       "A                                                          \n",
       "bar        onethreetwo     3  0.26306     3 -3.241453     3\n",
       "foo  onetwotwoonethree     5 -1.01148     5  0.770994     5"
      ]
     },
     "execution_count": 69,
     "metadata": {},
     "output_type": "execute_result"
    }
   ],
   "source": [
    "grouped = df.groupby(\"A\") # A로 그룹핑해서 2개의 덩어리 foo와 bar로 나뉨\n",
    "for i in grouped:\n",
    "    pass\n",
    "# print(grouped.sum(), grouped.count(), grouped.mean())\n",
    "df3 = grouped.agg(['sum','count'])\n",
    "df3"
   ]
  },
  {
   "cell_type": "code",
   "execution_count": 70,
   "id": "d7a009b2",
   "metadata": {},
   "outputs": [
    {
     "data": {
      "text/html": [
       "<div>\n",
       "<style scoped>\n",
       "    .dataframe tbody tr th:only-of-type {\n",
       "        vertical-align: middle;\n",
       "    }\n",
       "\n",
       "    .dataframe tbody tr th {\n",
       "        vertical-align: top;\n",
       "    }\n",
       "\n",
       "    .dataframe thead th {\n",
       "        text-align: right;\n",
       "    }\n",
       "</style>\n",
       "<table border=\"1\" class=\"dataframe\">\n",
       "  <thead>\n",
       "    <tr style=\"text-align: right;\">\n",
       "      <th></th>\n",
       "      <th></th>\n",
       "      <th>A</th>\n",
       "      <th>B</th>\n",
       "      <th>C</th>\n",
       "      <th>D</th>\n",
       "    </tr>\n",
       "    <tr>\n",
       "      <th>A</th>\n",
       "      <th></th>\n",
       "      <th></th>\n",
       "      <th></th>\n",
       "      <th></th>\n",
       "      <th></th>\n",
       "    </tr>\n",
       "  </thead>\n",
       "  <tbody>\n",
       "    <tr>\n",
       "      <th rowspan=\"3\" valign=\"top\">bar</th>\n",
       "      <th>1</th>\n",
       "      <td>bar</td>\n",
       "      <td>one</td>\n",
       "      <td>0.055735</td>\n",
       "      <td>-1.633316</td>\n",
       "    </tr>\n",
       "    <tr>\n",
       "      <th>3</th>\n",
       "      <td>bar</td>\n",
       "      <td>three</td>\n",
       "      <td>-0.072780</td>\n",
       "      <td>-0.721732</td>\n",
       "    </tr>\n",
       "    <tr>\n",
       "      <th>5</th>\n",
       "      <td>bar</td>\n",
       "      <td>two</td>\n",
       "      <td>0.280105</td>\n",
       "      <td>-0.886405</td>\n",
       "    </tr>\n",
       "    <tr>\n",
       "      <th rowspan=\"5\" valign=\"top\">foo</th>\n",
       "      <th>0</th>\n",
       "      <td>foo</td>\n",
       "      <td>one</td>\n",
       "      <td>-1.277846</td>\n",
       "      <td>0.038314</td>\n",
       "    </tr>\n",
       "    <tr>\n",
       "      <th>6</th>\n",
       "      <td>foo</td>\n",
       "      <td>one</td>\n",
       "      <td>0.513131</td>\n",
       "      <td>-0.200143</td>\n",
       "    </tr>\n",
       "    <tr>\n",
       "      <th>7</th>\n",
       "      <td>foo</td>\n",
       "      <td>three</td>\n",
       "      <td>0.360216</td>\n",
       "      <td>0.486308</td>\n",
       "    </tr>\n",
       "    <tr>\n",
       "      <th>2</th>\n",
       "      <td>foo</td>\n",
       "      <td>two</td>\n",
       "      <td>-0.257184</td>\n",
       "      <td>0.342347</td>\n",
       "    </tr>\n",
       "    <tr>\n",
       "      <th>4</th>\n",
       "      <td>foo</td>\n",
       "      <td>two</td>\n",
       "      <td>-0.349797</td>\n",
       "      <td>0.104168</td>\n",
       "    </tr>\n",
       "  </tbody>\n",
       "</table>\n",
       "</div>"
      ],
      "text/plain": [
       "         A      B         C         D\n",
       "A                                    \n",
       "bar 1  bar    one  0.055735 -1.633316\n",
       "    3  bar  three -0.072780 -0.721732\n",
       "    5  bar    two  0.280105 -0.886405\n",
       "foo 0  foo    one -1.277846  0.038314\n",
       "    6  foo    one  0.513131 -0.200143\n",
       "    7  foo  three  0.360216  0.486308\n",
       "    2  foo    two -0.257184  0.342347\n",
       "    4  foo    two -0.349797  0.104168"
      ]
     },
     "execution_count": 70,
     "metadata": {},
     "output_type": "execute_result"
    }
   ],
   "source": [
    "grouped.apply(lambda x:x.sort_values('B')) # A칼럼으로 그룹화하고 bar,foo\n",
    "                                            # B칼럼으로 각각의 그룹별로 B칼럼기준으로 정렬 one,two,three"
   ]
  },
  {
   "cell_type": "code",
   "execution_count": 80,
   "id": "87d81c81",
   "metadata": {},
   "outputs": [],
   "source": [
    "def f(x):\n",
    "    list1=[]\n",
    "    for i in range(x):\n",
    "        list1.append({x:str(x)+\"입니다.\"})\n",
    "    return list1"
   ]
  },
  {
   "cell_type": "code",
   "execution_count": 83,
   "id": "ccfda22e",
   "metadata": {},
   "outputs": [
    {
     "data": {
      "text/plain": [
       "[[{2: '2입니다.'}, {2: '2입니다.'}],\n",
       " [{3: '3입니다.'}, {3: '3입니다.'}, {3: '3입니다.'}],\n",
       " [{4: '4입니다.'}, {4: '4입니다.'}, {4: '4입니다.'}, {4: '4입니다.'}],\n",
       " [{5: '5입니다.'}, {5: '5입니다.'}, {5: '5입니다.'}, {5: '5입니다.'}, {5: '5입니다.'}],\n",
       " [{6: '6입니다.'},\n",
       "  {6: '6입니다.'},\n",
       "  {6: '6입니다.'},\n",
       "  {6: '6입니다.'},\n",
       "  {6: '6입니다.'},\n",
       "  {6: '6입니다.'}]]"
      ]
     },
     "execution_count": 83,
     "metadata": {},
     "output_type": "execute_result"
    }
   ],
   "source": [
    "list(map(f,[2,3,4,5,6]))"
   ]
  },
  {
   "cell_type": "code",
   "execution_count": 76,
   "id": "6d32dfd4",
   "metadata": {},
   "outputs": [
    {
     "data": {
      "text/plain": [
       "[{2: '2입니다.'}, {3: '3입니다.'}, {4: '4입니다.'}, {5: '5입니다.'}, {6: '6입니다.'}]"
      ]
     },
     "execution_count": 76,
     "metadata": {},
     "output_type": "execute_result"
    }
   ],
   "source": [
    "list(map(lambda x:{x:str(x)+\"입니다.\"},[2,3,4,5,6])) #map은 데이터 갯수와 출력 갯수가 같다 , \n",
    "                                                      #근데 이런건 위에 처럼 그냥 함수선언해서 하는게 더 간결하다 \n",
    "                                                      #람다는 식이 간결할때 사용"
   ]
  },
  {
   "cell_type": "code",
   "execution_count": 72,
   "id": "9f065ffa",
   "metadata": {},
   "outputs": [
    {
     "data": {
      "text/plain": [
       "[2, 4, 6]"
      ]
     },
     "execution_count": 72,
     "metadata": {},
     "output_type": "execute_result"
    }
   ],
   "source": [
    "list(filter(lambda x:x%2==0,[2,3,4,5,6])) #filter는 filter에 들어가는 함수 true,false를 반환하는 predicate타입의 함수이당\n",
    "                                           # 값으로 true만 반환 , 데이터 개수와 출력 개수가 다르다."
   ]
  },
  {
   "cell_type": "code",
   "execution_count": 88,
   "id": "02f75485",
   "metadata": {},
   "outputs": [],
   "source": [
    "from functools import reduce #reduce import"
   ]
  },
  {
   "cell_type": "code",
   "execution_count": 91,
   "id": "1371f011",
   "metadata": {},
   "outputs": [
    {
     "data": {
      "text/plain": [
       "3"
      ]
     },
     "execution_count": 91,
     "metadata": {},
     "output_type": "execute_result"
    }
   ],
   "source": [
    "a,b=(3,5) # 파이썬은 이런식으로 작성하면 key와 value로 알아서 나눠줌\n",
    "a"
   ]
  },
  {
   "cell_type": "code",
   "execution_count": 108,
   "id": "a702dbf3",
   "metadata": {},
   "outputs": [],
   "source": [
    "def merge_dict(a,b): \n",
    "    key, value = b\n",
    "    a[value] = a.get(value,[])+[key]\n",
    "    print(a,b)\n",
    "    return a"
   ]
  },
  {
   "cell_type": "code",
   "execution_count": 116,
   "id": "f52f44ee",
   "metadata": {},
   "outputs": [
    {
     "name": "stdout",
     "output_type": "stream",
     "text": [
      "('1', 'a')\n",
      "{'a': ['1']} ('1', 'a')\n",
      "('2', 'a')\n",
      "{'a': ['1', '2']} ('2', 'a')\n"
     ]
    },
    {
     "data": {
      "text/plain": [
       "{'a': ['1', '2']}"
      ]
     },
     "execution_count": 116,
     "metadata": {},
     "output_type": "execute_result"
    }
   ],
   "source": [
    "reduce(merge_dict,{'1':'a','2':'a'}.items(),{}) \n",
    "#reduce(merge_dict함수, {'1':'a','2':'a'}를 .items()하면  [('1', 'a'),('2', 'a')]튜플이 들어있는 리스트 만듬, {} 빈 딕셔너리 초기값)\n",
    "# merge_dict 는 (a,b)의 매개변수를 받는다. a 는 초기값을 설정, b는 literable한 데이터 (순서가 좀 헷갈림 reduce는 반대로 되어있음)\n",
    "# b는 literable한 데이터 [('1', 'a'),('2', 'a')]튜플이 2개 들어있는 리스트이 들어오고 a에는 {},\n",
    "# 그래서 key, value = b   위의 리스트를 순회하면, 'key'와 'value'가 다음과 같이 설정됩니다:\n",
    "\n",
    "# 첫 번째 순회: key = '1', value = 'a'\n",
    "# 두 번째 순회: key = '2', value = 'a' ('1', 'a')('2', 'a') 이런식으로 튜플을 만들어줌 \n",
    "\n",
    "# a[value] => 처음 a는 빈딕셔너리 value는 'a' , a['a']는 a딕셔너리에 'a' 키 값을 만듬\n",
    "# a.get(value,[]) => a딕셔너리의 value 키가 있으면 값을 가져오고 없으면 [] 빈 리스트를 만든다 => a.get('a',[]) => a라는 키가 있으면 \n",
    "# 값을 가져오고 없으면 []빈 리스트를 만든다.\n",
    "# +[key] => a 딕셔너리에서 value 키에 해당하는 값에 [key] 리스트를 더한다. 이렇게 하면 해당 값의 리스트에 key를 추가하는 것이 된다.\n",
    "# a['a'] = a.get('a',[]) + ['1'] => 처음에 'a'키가 없어서 빈리스트가 생성되고 거기에 ['1'] 리스트르 더하면 []+['1'] = ['1'] 이 된다.\n",
    "# return a => reduce는 순환하는 데이터의 값을 처리해주는 함수니까 {'a': ['1']} 이 값이 다시 merge_dict의 a 매개변수로 \n",
    "# 초기값으로 들어가서 반복된당 그러면\n",
    "\n",
    "# b는 literable한 데이터 [('1', 'a'),('2', 'a')]튜플이 2개 들어있는 리스트이 들어오고 a에는 {'a': ['1']},\n",
    "# a['a'] 의 키값이 이미 존재 하니 a['a'] = a.get('a',[]) + ['2'] => , ['1'] + ['2'] = ['1','2']  / 'a'의 키의 값 ['1'], ['key']인 ['2'] \n",
    "# a 딕셔너리에 키 'a' , value ['1','2'] /// a = {'a': ['1', '2']}\n",
    "\n",
    "# reduce(merge_dict,{'1':'a','2':'a'}.items(),{})['a'] # 하면 ['1','2'] 출력됨\n",
    "\n",
    "\n",
    "\n",
    "\n",
    "#gpt 설명 :\n",
    "# reduce 함수를 사용하여 여러 딕셔너리 항목을 결합하고 그룹화하는 과정을 수행합니다. 이때 '1'과 '2'를 'a'로 그룹화하게 됩니다.\n",
    "\n",
    "# merge_dict(a, b) 함수는 두 개의 딕셔너리 항목을 받아서 값을 그룹화하는 역할을 합니다. 함수 내용을 정리하면 다음과 같습니다:\n",
    "\n",
    "# key, value = b: 튜플 b에서 첫 번째 요소를 key로, 두 번째 요소를 value로 할당합니다.\n",
    "# a[value] = a.get(value, []) + [key]: 딕셔너리 a에서 value라는 키에 해당하는 값을 가져오거나 없다면 빈 리스트를 할당합니다. 이후 해당 값을 가져온 리스트에 key를 추가하여 값을 그룹화합니다.\n",
    "# reduce(merge_dict, {'1': 'a', '2': 'a'}.items(), {}): reduce 함수에 위에서 정의한 merge_dict 함수와 초기값으로 빈 딕셔너리({})를 사용하여 주어진 딕셔너리를 그룹화합니다. {'1': 'a', '2': 'a'}.items()는 딕셔너리의 항목을 튜플로 변환하여 리스트로 만든 것입니다.\n",
    "\n",
    "# 이렇게 하면 result에는 {'a': ['1', '2']}와 같이 'a' 값으로 그룹화된 결과가 저장될 것입니다. "
   ]
  },
  {
   "cell_type": "code",
   "execution_count": 97,
   "id": "3ad2a3e0",
   "metadata": {},
   "outputs": [
    {
     "data": {
      "text/plain": [
       "dict_items([('1', 'a'), ('2', 'a')])"
      ]
     },
     "execution_count": 97,
     "metadata": {},
     "output_type": "execute_result"
    }
   ],
   "source": [
    "{'1':'a','2':'a'}.items()"
   ]
  },
  {
   "cell_type": "code",
   "execution_count": 98,
   "id": "2d31b556",
   "metadata": {},
   "outputs": [
    {
     "data": {
      "text/plain": [
       "[]"
      ]
     },
     "execution_count": 98,
     "metadata": {},
     "output_type": "execute_result"
    }
   ],
   "source": [
    "{'1':'a','2':'a'}.get('3',[])"
   ]
  },
  {
   "cell_type": "code",
   "execution_count": 99,
   "id": "dbad3474",
   "metadata": {},
   "outputs": [
    {
     "data": {
      "text/plain": [
       "'a'"
      ]
     },
     "execution_count": 99,
     "metadata": {},
     "output_type": "execute_result"
    }
   ],
   "source": [
    "{'1':'a','2':'a'}.get('1',[])"
   ]
  },
  {
   "cell_type": "markdown",
   "id": "f6e7b0d6",
   "metadata": {},
   "source": [
    "<img src=\"map.gif\"/>"
   ]
  }
 ],
 "metadata": {
  "kernelspec": {
   "display_name": "Python 3 (ipykernel)",
   "language": "python",
   "name": "python3"
  },
  "language_info": {
   "codemirror_mode": {
    "name": "ipython",
    "version": 3
   },
   "file_extension": ".py",
   "mimetype": "text/x-python",
   "name": "python",
   "nbconvert_exporter": "python",
   "pygments_lexer": "ipython3",
   "version": "3.10.9"
  }
 },
 "nbformat": 4,
 "nbformat_minor": 5
}
