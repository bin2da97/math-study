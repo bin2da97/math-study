{
 "cells": [
  {
   "cell_type": "markdown",
   "id": "a8364dcf",
   "metadata": {},
   "source": [
    "## 베이지안 갱신"
   ]
  },
  {
   "cell_type": "markdown",
   "id": "492d466d",
   "metadata": {},
   "source": [
    "Marginal Probability\n",
    "첫번째 단계는 Marginal Probability  정의함<br>\n",
    "특정 사건이 발생할 확률<br>\n",
    "예를 들어 동전을 던져 앞면이 나올 marginal 확률(P(H))는 단순지 0.5\n",
    "$$ P(H)=0.5 $$"
   ]
  },
  {
   "cell_type": "markdown",
   "id": "652b94a6",
   "metadata": {},
   "source": [
    "카드를 던지는 경우 다이아몬드(D)가 나올 , marginal 확률(P(D))는 0.25\n",
    "$$ P(D)= 0.25 = \\frac{1}{4} $$"
   ]
  },
  {
   "cell_type": "markdown",
   "id": "a4574aec",
   "metadata": {},
   "source": [
    "### 결합 확률(joint probability), 동시에 나올 확률\n",
    "\n",
    "2개의 동전이 앞면이 나올 확률은? <br>\n",
    "2개의 동전이 나올 결과의 가지수는 {H,H},{H,T},{T,H},{T,T} <br>\n",
    "2개가 둘다 앞면이 나올 확률$(P(H \\cap H))$은 0.25"
   ]
  },
  {
   "cell_type": "markdown",
   "id": "e775a4be",
   "metadata": {},
   "source": [
    "결합 확률의 경우 두 사건이 독립일 경우 2개의 marginal 확률의 곱과 같다 <br>\n",
    "하나의 동전이 다른 동전에 영향을 주지 않는다. <br>\n",
    "결합 확률의 중요한 특징은 교환 법칙이 성립한다. <br>\n",
    "$ P(A \\cap B) = P(B \\cap A) = P(B ,A) $\n",
    "베이즈 이론을 증명할 때 유용"
   ]
  },
  {
   "cell_type": "markdown",
   "id": "01e610d4",
   "metadata": {},
   "source": [
    "### 조건부 확률(conditional porbability)\n",
    "어떤 사건이 주어졌을때 다음에 나올 확률을 결정 할때 사용<br>\n",
    "빨간색 카드를 선택한 경우 카드를 들고 있을때  다이아몬드 3을 고를 때의 확률은?<br>\n",
    "$$ P(3D) = \\frac{1}{52} $$\n",
    "\n",
    "$$ P(R) = \\frac{26}{52} = \\frac{1}{2} $$\n",
    "\n",
    "빨간 카드를 가지고 있다고 했을때 다이아몬드 3을 선택할 확률은?\n",
    "$$ P(3D|R)=\\frac{\\frac{1}{52}}{\\frac{1}{2}} = \\frac{1}{26} $$"
   ]
  },
  {
   "cell_type": "markdown",
   "id": "4bd949f1",
   "metadata": {},
   "source": [
    "2개의 사건(A,B)에 대한 공식적인 수식의 정의는\n",
    "$$ P(A|B) = \\frac{P(A \\cap B)}{P(B)} $$\n",
    "\n",
    "$$ P(A \\cap B)=P(B)P(A|B) $$\n",
    "\n",
    "$$ P(A)P(B|A)=P(B)P(A|B) $$\n",
    "\n",
    "$$ P(A|B)=\\frac{P(A)P(B|A)}{P(B)} $$"
   ]
  },
  {
   "cell_type": "markdown",
   "id": "87c16cce",
   "metadata": {},
   "source": [
    "베이즈 이론은 아래와 같이 분할 가능\n",
    "- $P(\\theta)$ =  prior(사전 확률), 우리가 데이터를 관측하기 전에 미리 알고 있다고 믿는 확률\n",
    "    이것은 이런 사건의 marginal 확률\n",
    "- P(B) = 우리가 보유하고 있는 데이터/event를 관측한 확률\n",
    "    이것은 이런 사건의 marginal 확률, 특히 정규화 상수라 함\n",
    "- $P(x|\\theta)$는 liklihood로 알려진 우리가 믿고 있는 것 주어졌다고 생각하는 확률\n",
    "    실제는 확률이 아님\n",
    "- $P(\\theta|x)$는 우리가 데이터를 관측한 후의 우리의 믿음(belief)의 확률이고\n",
    "    이를 posterior(사후 확률)"
   ]
  },
  {
   "cell_type": "markdown",
   "id": "4a9a9890",
   "metadata": {},
   "source": [
    "### 전체 확률의 법칙\n",
    "\n",
    "$$ P(A) = \\sum_{i=1}^{n} P(A \\cap B_{i}) = \\sum_{i=1}^{n} P(B_{i}) P(A|B_{i}) $$"
   ]
  },
  {
   "cell_type": "markdown",
   "id": "407d3e43",
   "metadata": {},
   "source": [
    "## 두개의 서로 다른 합으로 생각 가능함\n",
    "\n",
    "- B를 덮고 있는 중첩된 모든 A들의 합\n",
    "- B에 대하여 A의 가중 평균"
   ]
  },
  {
   "cell_type": "markdown",
   "id": "307b58e4",
   "metadata": {},
   "source": [
    "### 예제\n",
    "2쌍의 카드를 가지고 있다 하나는 정상 deck(D_1)이고 하나는 빨간색 카드(다이아 몬드와 하트)를 가지고있는 deck(D_2)<br>\n",
    "랜덤으로 하나의 deck을 선택하고 다잉아몬드 3이 나오는 경우(3D)<br>\n",
    "정상 deck(d_1)으로부터 다이아몬드 3이 나오는 확률은?"
   ]
  },
  {
   "cell_type": "markdown",
   "id": "da43fa42",
   "metadata": {},
   "source": [
    "우선 랜덤으로 deck_1,deck_2 중에서 하나를 선택하면 deck_1이 선택될 확률 \n",
    "$$P(D_{1})=\\frac{1}{2}$$\n",
    "$$P(D_{2})=\\frac{1}{2}$$"
   ]
  },
  {
   "cell_type": "markdown",
   "id": "4bccd700",
   "metadata": {},
   "source": [
    "likehood 계산\n",
    "$$P(3D|D_{1})=\\frac{1}{52}$$\n",
    "$$P(3D|D_{2})=\\frac{1}{26}$$"
   ]
  },
  {
   "cell_type": "markdown",
   "id": "3312b05f",
   "metadata": {},
   "source": [
    "두번째 deck에서만 빨간색 카드가 있고 26개의 카드가 있고, 26개중 하나의 3의 다이아몬드 선택하는 확률<br>\n",
    "전체 확률 법칙을 적용하여 다이아몬드 3을 관측할수 있는 확률?\n",
    "$$ P(3D) = P(D_{1})P(3D|D_{1}) + P(D_{2})P(3D|D_{2}) = \\frac{3}{104} $$"
   ]
  },
  {
   "cell_type": "markdown",
   "id": "d8c1c880",
   "metadata": {},
   "source": [
    "## 문제\n",
    "베이지안 이론을 사용하여 아래 수식을 전개하세요\n",
    "$$ P(D_{1}|3D) = $$\n",
    "\n",
    "$$ \\frac{P(D_{1})P(3D|D_{1})}{P(3D)} = $$\n",
    "\n",
    "$$\\frac{1}{3}$$"
   ]
  },
  {
   "cell_type": "markdown",
   "id": "2c742397",
   "metadata": {},
   "source": [
    "직관적으로 두번째 deck로부터 다이아몬드 3이 나올 확률은 2배가 된다."
   ]
  },
  {
   "cell_type": "markdown",
   "id": "e5cc4055",
   "metadata": {},
   "source": [
    "$$ f(x)=\\frac{x}{5} $$\n",
    "$$ P(2 \\le X \\le3) = F(3)-F(2) $$\n",
    "$$ =\\int_{2}^{3} \\frac{x}{5} dx $$\n",
    "$$ \\left[\\frac{x^{2}}{10}\\right]_{2}^{3} $$"
   ]
  },
  {
   "cell_type": "markdown",
   "id": "e4ccd431",
   "metadata": {},
   "source": [
    "$$ \\frac{9}{10}-\\frac{4}{10} $$"
   ]
  },
  {
   "cell_type": "markdown",
   "id": "4b99109c",
   "metadata": {},
   "source": [
    "## 이산 확률 변수의 누적 분포함수(CDF)"
   ]
  },
  {
   "cell_type": "markdown",
   "id": "54cdfdf0",
   "metadata": {},
   "source": [
    "$$ 확률 분포 f(x) 를 가지는 이산 확률 변수 X의 누적 분포 함수 F(x)는 $$\n",
    "$$ F(x) = P(X \\le x) = \\sum_{t \\le x}f(t), (단 -\\inf \\le x \\le \\inf) $$"
   ]
  },
  {
   "cell_type": "markdown",
   "id": "1bc3b428",
   "metadata": {},
   "source": [
    "문1) 세개의 동전을 던져서 앞면이 나오는 횟수를 확률 변수 X 라 할때 누적 분포 함수를 구해보자 \n",
    "1. 우선 <b>확률 변수</b>를 구한다 \n",
    "      X = 0,1,2,3\n",
    "2.  이를 이용하여 확률 질량 함수 (probability mass function)=>pmf 를 구한다 \n",
    "    $$ f(0) = P(X=0) = {3 \\choose 0} \\left (  \\frac{1}{2} \\right )^{0} \\left ( \\frac{1}{2} \\right )^{3}  =\\frac{1}{8} $$ \n",
    "    $$ f(1) = P(X=0) = {3 \\choose 1} \\left (  \\frac{1}{2} \\right )^{1} \\left ( \\frac{1}{2} \\right )^{2}  =\\frac{3}{8} $$ \n",
    "    $$ f(2) = P(X=0) = {3 \\choose 2} \\left (  \\frac{1}{2} \\right )^{2} \\left ( \\frac{1}{2} \\right )^{1}  =\\frac{3}{8} $$ \n",
    "    $$ f(3) = P(X=0) = {3 \\choose 3} \\left (  \\frac{1}{2} \\right )^{3} \\left ( \\frac{1}{2} \\right )^{0}  =\\frac{1}{8} $$\n",
    "    \n",
    "3. 위의 이산 확률 변수의 누적 분포 함수 공식을 이용\n",
    "    $$ F(0) = P(X \\le 0) = \\sum_{t \\le 0}f(t) = f(0) = \\frac{1}{8} $$\n",
    "    $$ F(1) = P(X \\le 1) = \\sum_{t \\le 1}f(t) = f(0)+f(1) = \\frac{1}{8}+\\frac{3}{8} = \\frac{4}{8} $$    \n",
    "    $$ F(2) = P(X \\le 2) = \\sum_{t \\le 2}f(t) = f(0)+f(1)+f(2) = \\frac{1}{8}+\\frac{3}{8} + \\frac{3}{8} = \\frac{7}{8} $$ \n",
    "    $$ F(2) = P(X \\le 3) = \\sum_{t \\le 3}f(t) = f(0)+f(1)+f(2)+f(3) = \\frac{1}{8}+\\frac{3}{8} + \\frac{3}{8} + \\frac{1}{8} = \\frac{8}{8} = 1 $$ "
   ]
  },
  {
   "cell_type": "markdown",
   "id": "064bc122",
   "metadata": {},
   "source": [
    "중요한점은, 말 그대로 <b>누적 분포</b>이기 때문에 확률변수에 대응하는 모든 확률의 합은 <b>1</b>이 되어야한다\n"
   ]
  },
  {
   "cell_type": "markdown",
   "id": "7d1d2a79",
   "metadata": {},
   "source": [
    "## 확률밀도함수\n",
    "<blockquote>확률질량함수 : 이산확률변수의 확률함수</blockquote>\n",
    "<blockquote>확률밀도함수 : 연속확률변수의 확률함수</blockquote>"
   ]
  },
  {
   "cell_type": "markdown",
   "id": "03ff9d14",
   "metadata": {},
   "source": [
    "<blockquote>이산확률변수는 <b>딱 떨어지는 확률변수에서 확률을 구할 수 있지만,</b>\n",
    "연속확률변수는 <b>그렇지 않다</b>.</blockquote>"
   ]
  },
  {
   "cell_type": "markdown",
   "id": "a844c3eb",
   "metadata": {},
   "source": [
    "<blockquote>연속확률분포에서 <b>확률을 구할 때는 항상 범위로 표현한다</b>.</blockquote>"
   ]
  },
  {
   "cell_type": "markdown",
   "id": "66e0f5e1",
   "metadata": {},
   "source": [
    "### 확률 밀도 함수의 조건\n",
    "<blockquote>\n",
    "    연속 확률 변수 X에 대하여\n",
    "    1. 모든 $x x\\in R에 대하여 f(x) \\ge 0$,<br>\n",
    "    2. $\\int_{-\\inf}^{\\inf} f(x) dx = 1$ <br>\n",
    "    3. $ P(a \\le X \\le b) = \\int_{a}^{b} f(x)dx $<br>\n",
    "    를 만족하는 f(x)를 확률 변수 X의 <b>확률 밀도 함수</b>라고 한다.\n",
    "</blockquote>"
   ]
  },
  {
   "cell_type": "markdown",
   "id": "1632f662",
   "metadata": {},
   "source": [
    "연속확률변수에서 부등호에 붙은 등호는 의미가 없다. 왜냐하면, 연속확률분포에서 ['물을 정확히 100.00ml 따를 수 있을 확률'은 0에 가깝기에 '물을 99ml ~ 101ml 따를 수 있을 확률']처럼 묻는 것처럼, 연속확률변수는 딱 떨어지는 확률을 구하는 것이 아니기 때문.\n",
    "\n",
    "즉,\n",
    "확률밀도함수 f(x)는 결국 어떤 확률변수의 크기를 나타내는 값이다.\n",
    "(확률질량함수도 마찬가지이다. 단, 확률변수가 이산인지 연속인지만 다를 뿐이다.)"
   ]
  },
  {
   "cell_type": "markdown",
   "id": "2c04213c",
   "metadata": {},
   "source": [
    "<img src='images/문제.jpg'/>"
   ]
  },
  {
   "cell_type": "markdown",
   "id": "468d3b29",
   "metadata": {},
   "source": [
    "<img src='images/2.jpg'/>"
   ]
  }
 ],
 "metadata": {
  "kernelspec": {
   "display_name": "Python 3 (ipykernel)",
   "language": "python",
   "name": "python3"
  },
  "language_info": {
   "codemirror_mode": {
    "name": "ipython",
    "version": 3
   },
   "file_extension": ".py",
   "mimetype": "text/x-python",
   "name": "python",
   "nbconvert_exporter": "python",
   "pygments_lexer": "ipython3",
   "version": "3.10.9"
  }
 },
 "nbformat": 4,
 "nbformat_minor": 5
}
