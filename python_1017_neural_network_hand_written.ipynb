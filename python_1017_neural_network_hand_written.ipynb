{
 "cells": [
  {
   "cell_type": "markdown",
   "id": "788f5ac2",
   "metadata": {},
   "source": [
    "<img src='image/neuron.JPG'/>"
   ]
  },
  {
   "cell_type": "markdown",
   "id": "952ec02b",
   "metadata": {},
   "source": [
    "$$ f(x)= \\frac{1}{1+e^{-x}}sigmoidfunction$$ "
   ]
  },
  {
   "cell_type": "code",
   "execution_count": 3,
   "id": "74fada20",
   "metadata": {},
   "outputs": [],
   "source": [
    "import numpy as np\n",
    "import matplotlib.pyplot as plt"
   ]
  },
  {
   "cell_type": "code",
   "execution_count": 7,
   "id": "314e4e43",
   "metadata": {},
   "outputs": [],
   "source": [
    "def sigmoid(x):\n",
    "    return 1/(1+np.exp(-x))"
   ]
  },
  {
   "cell_type": "code",
   "execution_count": 9,
   "id": "8c5883d4",
   "metadata": {},
   "outputs": [
    {
     "data": {
      "text/plain": [
       "[<matplotlib.lines.Line2D at 0x2d4dc09e050>]"
      ]
     },
     "execution_count": 9,
     "metadata": {},
     "output_type": "execute_result"
    },
    {
     "data": {
      "image/png": "[encoded data removed]",
      "text/plain": [
       "<Figure size 640x480 with 1 Axes>"
      ]
     },
     "metadata": {},
     "output_type": "display_data"
    }
   ],
   "source": [
    "x=np.arange(-10,10,0.01)\n",
    "y=sigmoid(x)\n",
    "plt.plot(x,y)"
   ]
  },
  {
   "cell_type": "markdown",
   "id": "13ffb1d0",
   "metadata": {},
   "source": [
    "$$ a_{j}^{(i)}= w_{j1}^{(i)}x_{1}+w_{j2}^{(i)}x_{2}+b_{j}^{i} $$"
   ]
  },
  {
   "cell_type": "markdown",
   "id": "cb1d989d",
   "metadata": {},
   "source": [
    "$$  A^{(1)}= \\sigma(XW^{(1)}+B^{(1)}) $$\n",
    "$$ A^{(1)} = (a_{1}^{(1)} a_{2}^{(1)} a_{3}^{(1)}) $$\n",
    "$$ X= (x_{1} x_{2}) $$\n",
    "$$ B^{(1)} = (b_{1}^{(1)} b_{2}^{(1)} b_{3}^{(1)}) $$\n",
    "$$ W^{(1)}=\n",
    "\\begin{pmatrix}\n",
    "W_{11}^{(1)}& W_{21}^{(1)}& W_{31}^{(1)} \\\\\n",
    "W_{12}^{(1)}& W_{22}^{(1)}& W_{32}^{(1)}\n",
    "\\end{pmatrix}\n",
    "$$"
   ]
  },
  {
   "cell_type": "markdown",
   "id": "f42933b9",
   "metadata": {},
   "source": [
    "<a href=\"https://deep-learning-basic.readthedocs.io/ko/latest/Neural%20Networks%20and%20Deep%20Learning/3.%20Shallow%20Neural%20Network/\"> 신경망</a>"
   ]
  },
  {
   "cell_type": "code",
   "execution_count": 8,
   "id": "e2001f90",
   "metadata": {},
   "outputs": [
    {
     "name": "stdout",
     "output_type": "stream",
     "text": [
      "(2,)\n",
      "(2, 3)\n",
      "(3,)\n"
     ]
    }
   ],
   "source": [
    "X=np.array([1.0, 0.5]) #2개의 요소로 구성된 1차원배열\n",
    "W1=np.array([[0.1, 0.3, 0.5],[0.2, 0.4, 0.6]])#2차원, 2행3열\n",
    "B1=np.array([0.1,0.2,0.3])\n",
    "print(X.shape)\n",
    "print(W1.shape)\n",
    "print(B1.shape)\n",
    "A1= np.dot(X,W1) +B1 #activation 함수를 통과하지 않은것을 A라함\n",
    "Z1=sigmoid(A1) #sigmoid 통과한것을 Z1이라고함"
   ]
  },
  {
   "cell_type": "code",
   "execution_count": 9,
   "id": "d2f1b00d",
   "metadata": {},
   "outputs": [
    {
     "name": "stdout",
     "output_type": "stream",
     "text": [
      "(3,)\n",
      "(3, 2)\n",
      "(2,)\n"
     ]
    },
    {
     "data": {
      "text/plain": [
       "array([0.62624937, 0.7710107 ])"
      ]
     },
     "execution_count": 9,
     "metadata": {},
     "output_type": "execute_result"
    }
   ],
   "source": [
    "W2=np.array([[0.1, 0.4],[0.2,0.5],[0.3,0.6]])\n",
    "B2= np.array([0.1,0.2])\n",
    "print(Z1.shape)\n",
    "print(W2.shape)\n",
    "print(B2.shape)\n",
    "A2=np.dot(Z1,W2)+B2\n",
    "Z2=sigmoid(A2)\n",
    "Z2"
   ]
  },
  {
   "cell_type": "code",
   "execution_count": 1,
   "id": "21a4e7e2",
   "metadata": {},
   "outputs": [],
   "source": [
    "def identity_function(x):\n",
    "    return x #항등함수"
   ]
  },
  {
   "cell_type": "code",
   "execution_count": 10,
   "id": "7a2cebc3",
   "metadata": {
    "scrolled": true
   },
   "outputs": [
    {
     "data": {
      "text/plain": [
       "array([0.31682708, 0.63365415])"
      ]
     },
     "execution_count": 10,
     "metadata": {},
     "output_type": "execute_result"
    }
   ],
   "source": [
    "W3= np.array([[0.1 , 0.2],[0.2,0.4]])\n",
    "B3= np.array([0.1,0.2])\n",
    "A3=np.dot(Z2,W3)+B3\n",
    "Y=identity_function(A3) #, 혹은 Y=A3\n",
    "Y"
   ]
  },
  {
   "cell_type": "code",
   "execution_count": 15,
   "id": "d0c4350a",
   "metadata": {},
   "outputs": [],
   "source": [
    "def init_network():\n",
    "    network={}\n",
    "    network['W1']=np.array([[0.1, 0.3, 0.5],[0.2, 0.4, 0.6]])\n",
    "    network['b1']=np.array([0.1,0.2,0.3])\n",
    "    network['W2']=np.array([[0.1, 0.4],[0.2,0.5],[0.3,0.6]])\n",
    "    network['b2']= np.array([0.1,0.2])\n",
    "    network['W3']= np.array([[0.1 , 0.2],[0.2,0.4]])\n",
    "    network['b3']= np.array([0.1,0.2])\n",
    "    return network"
   ]
  },
  {
   "cell_type": "code",
   "execution_count": 16,
   "id": "7b803f2a",
   "metadata": {},
   "outputs": [],
   "source": [
    "def forward(network, x):\n",
    "    W1, W2, W3= network['W1'], network['W2'],network['W3']\n",
    "    b1, b2, b3= network['b1'], network['b2'],network['b3']\n",
    "    \n",
    "    a1=np.dot(x,W1)+b1\n",
    "    z1=sigmoid(a1)\n",
    "    \n",
    "    a2=np.dot(z1,W2)+b2\n",
    "    z2=sigmoid(a2)\n",
    "    \n",
    "    a3=np.dot(z2,W3)+b3\n",
    "    y=identity_function(a3) #나중에는 softmax로 변경\n",
    "    return y"
   ]
  },
  {
   "cell_type": "code",
   "execution_count": 17,
   "id": "cec960c8",
   "metadata": {},
   "outputs": [
    {
     "data": {
      "text/plain": [
       "array([0.31682708, 0.63365415])"
      ]
     },
     "execution_count": 17,
     "metadata": {},
     "output_type": "execute_result"
    }
   ],
   "source": [
    "network=init_network()\n",
    "x=np.array([1.0, 0.5])\n",
    "y=forward(network, x)\n",
    "y"
   ]
  },
  {
   "cell_type": "markdown",
   "id": "666181f7",
   "metadata": {},
   "source": [
    "$$ y_{i}=\\frac{exp(a_{i})}{\\sum_{i=1}^{n}exp(a_{i})} $$"
   ]
  },
  {
   "cell_type": "code",
   "execution_count": 25,
   "id": "91faa4fd",
   "metadata": {},
   "outputs": [],
   "source": [
    "def softmax(x):\n",
    "    return np.exp(x)/sum (np.exp(x))"
   ]
  },
  {
   "cell_type": "code",
   "execution_count": 26,
   "id": "77d6e641",
   "metadata": {},
   "outputs": [
    {
     "data": {
      "text/plain": [
       "1.0"
      ]
     },
     "execution_count": 26,
     "metadata": {},
     "output_type": "execute_result"
    }
   ],
   "source": [
    "#함수만들고 데이터를 5개 전달 \n",
    "#출력결과가 다 더해서 1이 나와야하고\n",
    "#가장큰값이 가장큰확률로 나온다 softmax\n",
    "sum(softmax([1,2,3,4,5,6,7]))"
   ]
  },
  {
   "cell_type": "markdown",
   "id": "722a2b20",
   "metadata": {},
   "source": [
    "$$  e^{1000}은 무한대(inf)가 되므로 해결해야 합니다  $$\n",
    "\n",
    "$$  y_{i} = \\frac{C exp(a_{i})}{C \\sum_{i=1}^{n}exp(a_{i})}  $$\n",
    "\n",
    "이 수식을 변경하세요\n",
    "$$ y_{i}=\\frac{exp(a_{i}+log_C)}{\\sum_{i=1}^{n}exp(a_{i}+log_C)} $$\n",
    "$$ y_{i}=\\frac{exp(a_{i}+C)}{\\sum_{i=1}^{n}exp(a_{i}+C)} $$"
   ]
  },
  {
   "cell_type": "code",
   "execution_count": 30,
   "id": "7b98d0fd",
   "metadata": {},
   "outputs": [],
   "source": [
    "def softmax_2(a):\n",
    "    c=np.max(a)\n",
    "    exp_a=np.exp(a-c)\n",
    "    sum_exp_a=sum(exp_a)\n",
    "    return exp_a/sum_exp_a"
   ]
  },
  {
   "cell_type": "code",
   "execution_count": 33,
   "id": "80b6b86a",
   "metadata": {},
   "outputs": [
    {
     "name": "stdout",
     "output_type": "stream",
     "text": [
      "0.0042697785452821095\n",
      "0.011606461431184656\n",
      "0.03154963320110001\n",
      "0.08576079462509834\n",
      "0.23312200962361299\n",
      "0.6336913225737218\n"
     ]
    }
   ],
   "source": [
    "for i in softmax(np.array([1,2,3,4,5,6])):\n",
    "    print(i)"
   ]
  },
  {
   "cell_type": "markdown",
   "id": "70bf4b84",
   "metadata": {},
   "source": [
    "손글자 숫자인식"
   ]
  },
  {
   "cell_type": "code",
   "execution_count": 38,
   "id": "f1705e36",
   "metadata": {},
   "outputs": [],
   "source": [
    "import sys, os\n",
    "sys.path.append(os.pardir) #부모 디렉토리의 파일을 가져올수 있도록 설정\n",
    "import numpy as np\n",
    "from dataset.mnist import load_mnist\n",
    "from PIL import Image"
   ]
  },
  {
   "cell_type": "code",
   "execution_count": 57,
   "id": "faeb94ce",
   "metadata": {},
   "outputs": [],
   "source": [
    "def img_show(img):\n",
    "    pil_img=Image.fromarray(np.uint8(img))\n",
    "    pil_img.show()"
   ]
  },
  {
   "cell_type": "code",
   "execution_count": 39,
   "id": "39c38ae4",
   "metadata": {},
   "outputs": [],
   "source": [
    "(x_train, y_train), (x_test, y_test)=load_mnist(flatten=True, normalize=False)"
   ]
  },
  {
   "cell_type": "code",
   "execution_count": 40,
   "id": "2f00bace",
   "metadata": {},
   "outputs": [
    {
     "data": {
      "text/plain": [
       "(60000, 784)"
      ]
     },
     "execution_count": 40,
     "metadata": {},
     "output_type": "execute_result"
    }
   ],
   "source": [
    "x_train.shape"
   ]
  },
  {
   "cell_type": "code",
   "execution_count": 41,
   "id": "4edf8c99",
   "metadata": {},
   "outputs": [
    {
     "data": {
      "text/plain": [
       "(60000,)"
      ]
     },
     "execution_count": 41,
     "metadata": {},
     "output_type": "execute_result"
    }
   ],
   "source": [
    "y_train.shape"
   ]
  },
  {
   "cell_type": "code",
   "execution_count": 42,
   "id": "60947d31",
   "metadata": {},
   "outputs": [
    {
     "data": {
      "text/plain": [
       "(10000, 784)"
      ]
     },
     "execution_count": 42,
     "metadata": {},
     "output_type": "execute_result"
    }
   ],
   "source": [
    "x_test.shape"
   ]
  },
  {
   "cell_type": "code",
   "execution_count": 63,
   "id": "d4e49fbb",
   "metadata": {},
   "outputs": [],
   "source": [
    "img=x_train[3]\n",
    "img=img.reshape(28,28)"
   ]
  },
  {
   "cell_type": "code",
   "execution_count": 64,
   "id": "a8597645",
   "metadata": {},
   "outputs": [],
   "source": [
    "img_show(img)"
   ]
  },
  {
   "cell_type": "code",
   "execution_count": 65,
   "id": "819f316b",
   "metadata": {},
   "outputs": [],
   "source": [
    "#mnist 손글씨에서 60000장은 학습용으로 사용하고\n",
    "#1000장은 TEST용으로 사용"
   ]
  },
  {
   "cell_type": "code",
   "execution_count": 73,
   "id": "96b2b68f",
   "metadata": {},
   "outputs": [],
   "source": [
    "import tensorflow as tf"
   ]
  },
  {
   "cell_type": "code",
   "execution_count": 74,
   "id": "95c75b05",
   "metadata": {},
   "outputs": [],
   "source": [
    "mnist=tf.keras.datasets.mnist"
   ]
  },
  {
   "cell_type": "code",
   "execution_count": 84,
   "id": "a858af0a",
   "metadata": {},
   "outputs": [],
   "source": [
    "(x_train, y_train),(x_test, y_test)=mnist.load_data()\n",
    "x_train, x_test= x_train/255.0, x_test/255.0"
   ]
  },
  {
   "cell_type": "code",
   "execution_count": 92,
   "id": "b59a2aab",
   "metadata": {},
   "outputs": [],
   "source": [
    "model =tf.keras.models.Sequential(\n",
    "    [\n",
    "        tf.keras.layers.Flatten(input_shape=(28,28)),\n",
    "        tf.keras.layers.Dense(200, activation='relu'),\n",
    "        tf.keras.layers.Dropout(0,2),\n",
    "        tf.keras.layers.Dense(128, activation='sigmoid'),\n",
    "        tf.keras.layers.Dense(10, activation='softmax')\n",
    "    ])"
   ]
  },
  {
   "cell_type": "code",
   "execution_count": 93,
   "id": "89499e00",
   "metadata": {},
   "outputs": [],
   "source": [
    "model.compile(optimizer='adam', loss='sparse_categorical_crossentropy',\n",
    "             metrics=['accuracy'])"
   ]
  },
  {
   "cell_type": "code",
   "execution_count": 94,
   "id": "eb257a79",
   "metadata": {},
   "outputs": [
    {
     "name": "stdout",
     "output_type": "stream",
     "text": [
      "Epoch 1/5\n",
      "1875/1875 [==============================] - 5s 2ms/step - loss: 0.2661 - accuracy: 0.9248\n",
      "Epoch 2/5\n",
      "1875/1875 [==============================] - 5s 2ms/step - loss: 0.1011 - accuracy: 0.9695\n",
      "Epoch 3/5\n",
      "1875/1875 [==============================] - 5s 3ms/step - loss: 0.0646 - accuracy: 0.9801\n",
      "Epoch 4/5\n",
      "1875/1875 [==============================] - 4s 2ms/step - loss: 0.0466 - accuracy: 0.9854\n",
      "Epoch 5/5\n",
      "1875/1875 [==============================] - 5s 2ms/step - loss: 0.0337 - accuracy: 0.9897\n",
      "313/313 [==============================] - 1s 2ms/step - loss: 0.0647 - accuracy: 0.9801\n"
     ]
    },
    {
     "data": {
      "text/plain": [
       "[0.06473670899868011, 0.9800999760627747]"
      ]
     },
     "execution_count": 94,
     "metadata": {},
     "output_type": "execute_result"
    }
   ],
   "source": [
    "model.fit(x_train, y_train, epochs=5)\n",
    "model.evaluate(x_test, y_test)"
   ]
  },
  {
   "cell_type": "code",
   "execution_count": 88,
   "id": "448b0ee1",
   "metadata": {},
   "outputs": [
    {
     "name": "stdout",
     "output_type": "stream",
     "text": [
      "Model: \"sequential_2\"\n",
      "_________________________________________________________________\n",
      " Layer (type)                Output Shape              Param #   \n",
      "=================================================================\n",
      " flatten_2 (Flatten)         (None, 784)               0         \n",
      "                                                                 \n",
      " dense_4 (Dense)             (None, 128)               100480    \n",
      "                                                                 \n",
      " dropout_2 (Dropout)         (None, 128)               0         \n",
      "                                                                 \n",
      " dense_5 (Dense)             (None, 10)                1290      \n",
      "                                                                 \n",
      "=================================================================\n",
      "Total params: 101770 (397.54 KB)\n",
      "Trainable params: 101770 (397.54 KB)\n",
      "Non-trainable params: 0 (0.00 Byte)\n",
      "_________________________________________________________________\n"
     ]
    }
   ],
   "source": [
    "model.summary()"
   ]
  },
  {
   "cell_type": "markdown",
   "id": "e0cd0ffa",
   "metadata": {},
   "source": [
    "<a href=\"https://softtone-someday.tistory.com/11\">딥러닝 프레임워크 케라스</a>"
   ]
  }
 ],
 "metadata": {
  "kernelspec": {
   "display_name": "Python 3 (ipykernel)",
   "language": "python",
   "name": "python3"
  },
  "language_info": {
   "codemirror_mode": {
    "name": "ipython",
    "version": 3
   },
   "file_extension": ".py",
   "mimetype": "text/x-python",
   "name": "python",
   "nbconvert_exporter": "python",
   "pygments_lexer": "ipython3",
   "version": "3.10.9"
  }
 },
 "nbformat": 4,
 "nbformat_minor": 5
}
