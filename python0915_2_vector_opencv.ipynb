{
 "cells": [
  {
   "cell_type": "markdown",
   "id": "8053b4b6",
   "metadata": {},
   "source": [
    "<a href='https://www.mathsisfun.com/algebra/eigenvalue.html'>고유값 고유벡터</a>"
   ]
  },
  {
   "cell_type": "markdown",
   "id": "3ef5f628",
   "metadata": {},
   "source": [
    "$$ Ax=\\lambda x \\rightarrow A=정방행령,\\lambda 고유값, x=고유벡터 $$\n",
    "$$ Ax - \\lambda x= Ax - \\lambda l x=0 $$\n",
    "$$ | A - \\lambda I | = 행렬식 $$"
   ]
  },
  {
   "cell_type": "markdown",
   "id": "47ed8cc4",
   "metadata": {},
   "source": [
    "$$\n",
    "    A = \\begin{bmatrix}\n",
    "        -6 & 3 \\\\\n",
    "        4 & 5 \n",
    "    \\end{bmatrix}\n",
    "$$\n",
    "\n",
    "$$ |A-\\lambda I | =0$$\n",
    "\n",
    "$$ \n",
    "    \\Rightarrow \\begin{vmatrix}\n",
    "        -6-\\lambda & 3 \\\\\n",
    "        4 & 5 - \\lambda\n",
    "    \\end{vmatrix} =0\n",
    "$$\n",
    "\n",
    "$$ (-6-\\lambda)(5-\\lambda)-3\\times 4=0 $$\n",
    "$$ \\lambda^2+\\lambda -42 = 0$$\n",
    "$$ \\lambda =-7 또는 6$$"
   ]
  },
  {
   "cell_type": "markdown",
   "id": "f0b7e7d2",
   "metadata": {},
   "source": []
  },
  {
   "cell_type": "markdown",
   "id": "9fcdfa4c",
   "metadata": {},
   "source": [
    "$$ 고유값 6에 대응하는 고유 벡터를 찾자 $$\n",
    "$$\n",
    "    A = \\begin{bmatrix}\n",
    "        -6 & 3 \\\\\n",
    "        4 & 5 \n",
    "    \\end{bmatrix} 6\\begin{bmatrix}\n",
    "        x \\\\\n",
    "        y \n",
    "    \\end{bmatrix}\n",
    "$$\n",
    "\n",
    "$$\n",
    "    -6x+3y = 6x \\rightarrow -12x+3y=0 \\rightarrow 1)\n",
    "$$\n",
    "$$\n",
    "    4x+5y = 6y \\rightarrow 4x-y=0 \\rightarrow 2)\n",
    "$$\n",
    " y=4x, x를 1로 하면 y=4가 됨\n",
    "    고유값이 6에 해당하는 고유벡터는\n",
    "$$  \n",
    "    \\begin{bmatrix}\n",
    "        1 \\\\\n",
    "        4 \n",
    "    \\end{bmatrix} \n",
    "$$\n",
    "벡터의 크기로 나누어주면 고유벡터의 방향이고 크기가 1인 단위 벡터가 되고 고유값은 \n",
    "6인 쌍으로 그 방향으로 6배 늘리결과가 됩니다.\n",
    "$$    \n",
    "    \\begin{bmatrix}\n",
    "        6 \\\\\n",
    "        24 \n",
    "    \\end{bmatrix}\n",
    "$$\n",
    "    \n",
    "$$\n",
    "    \\begin{bmatrix}\n",
    "        1 \\\\\n",
    "        4 \n",
    "    \\end{bmatrix} , \\begin{bmatrix}\n",
    "        6 \\\\\n",
    "        24 \n",
    "    \\end{bmatrix} 에서 \\begin{vmatrix}\n",
    "        1 \\\\\n",
    "        4 \n",
    "    \\end{vmatrix} 를 \\sqrt{1^2 + 4^2} 로 나누어준 값이 크기가 1인 고유값이 6인 단위벡터임\n",
    "$$\n"
   ]
  },
  {
   "cell_type": "markdown",
   "id": "e2b02330",
   "metadata": {},
   "source": [
    "$$\n",
    "    A=\n",
    "    \\begin{bmatrix}\n",
    "        -6x+3y \\\\\n",
    "        4x+5y \n",
    "    \\end{bmatrix}\n",
    "$$"
   ]
  },
  {
   "cell_type": "markdown",
   "id": "6053c414",
   "metadata": {},
   "source": [
    "$$ 고유값 -7에 대응하는 고유 벡터를 찾자 $$\n",
    "$$\n",
    "    A = \\begin{bmatrix}\n",
    "        -6 & 3 \\\\\n",
    "        4 & 5 \n",
    "    \\end{bmatrix} -7\\begin{bmatrix}\n",
    "        x \\\\\n",
    "        y \n",
    "    \\end{bmatrix}\n",
    "$$\n",
    "\n",
    "$$\n",
    "    -6x+3y = -7x \\rightarrow x+3y=0 \\rightarrow 1)\n",
    "$$\n",
    "$$\n",
    "    4x+5y = -7y \\rightarrow 4x+12y=0 \\rightarrow 2)\n",
    "$$\n",
    " y=4x, x를 1로 하면 $y=-\\frac{1}{3}$가 됨\n",
    "    고유값이 -7에 해당하는 고유벡터는\n",
    "$$  \n",
    "    \\begin{bmatrix}\n",
    "        1 \\\\\n",
    "        -\\frac{1}{3} \n",
    "    \\end{bmatrix} \n",
    "$$\n",
    "벡터의 크기로 나누어주면 고유벡터의 방향이고 크기가 1인 단위 벡터가 되고 고유값은 \n",
    "-7인 쌍으로 그 방향으로 -7배 늘리결과가 됩니다.\n",
    "$$    \n",
    "    \\begin{bmatrix}\n",
    "        -7 \\\\\n",
    "        \\frac{7}{3} \n",
    "    \\end{bmatrix}\n",
    "$$\n",
    "    \n",
    "$$\n",
    "    \\begin{bmatrix}\n",
    "        1 \\\\\n",
    "        4 \n",
    "    \\end{bmatrix} , \\begin{bmatrix}\n",
    "        6 \\\\\n",
    "        24 \n",
    "    \\end{bmatrix} 에서 \\begin{vmatrix}\n",
    "        1 \\\\\n",
    "        4 \n",
    "    \\end{vmatrix} 를 \\sqrt{1^2 + 4^2} 로 나누어준 값이 크기가 1인 고유값이 6인 단위벡터임\n",
    "$$\n"
   ]
  },
  {
   "cell_type": "code",
   "execution_count": 1,
   "id": "07af9562",
   "metadata": {},
   "outputs": [],
   "source": [
    "import numpy as np\n",
    "import cv2"
   ]
  },
  {
   "cell_type": "code",
   "execution_count": 2,
   "id": "db740c35",
   "metadata": {
    "scrolled": true
   },
   "outputs": [
    {
     "name": "stdout",
     "output_type": "stream",
     "text": [
      "고유 벡터 [[-0.9486833  -0.24253563]\n",
      " [ 0.31622777 -0.9701425 ]]\n",
      "0.9791953479320481\n",
      "1.020380551847317\n"
     ]
    }
   ],
   "source": [
    "A=np.array([[-6,3],[4,5]])\n",
    "value, vector = np.linalg.eig(A)\n",
    "#-7에 대한 고유벡터는 [-0.9486833 , -0.24253563] 이고\n",
    "# 6에 대한 고유벡터는 [ 0.31622777, -0.9701425 ]\n",
    "print('고유 벡터',vector)\n",
    "for i,j in vector:\n",
    "    print(np.sqrt(i*i+j*j))"
   ]
  },
  {
   "cell_type": "code",
   "execution_count": 39,
   "id": "eaaa1764",
   "metadata": {},
   "outputs": [],
   "source": [
    "def brightness4():\n",
    "    src = cv2.imread('images/lenna.bmp', cv2.IMREAD_GRAYSCALE)\n",
    "    if src is None:\n",
    "        print('이미지 로딩 실패')\n",
    "        return\n",
    "    def update(pos):\n",
    "#         dst=cv2.add(src,pos)\n",
    "        dst=src[:]-int(pos*1/3)\n",
    "#         print(dst)\n",
    "        cv2.imshow('dst',dst)\n",
    "    cv2.namedWindow('dst')\n",
    "    cv2.createTrackbar('Brightness','dst',0,100,update)\n",
    "    update(0)\n",
    "    cv2.waitKey()\n",
    "    cv2.destroyAllWindows()"
   ]
  },
  {
   "cell_type": "code",
   "execution_count": 38,
   "id": "53ae20fe",
   "metadata": {
    "scrolled": true
   },
   "outputs": [],
   "source": [
    "def f():\n",
    "#     src = cv2.imread('images/lenna.bmp', cv2.IMREAD_GRAYSCALE)\n",
    "    src=np.zeros((400,400),np.uint8)\n",
    "    h = src.shape[0]//2\n",
    "    w = src.shape[1]//2\n",
    "    def v(pp):\n",
    "        src[:h,:w]+=(pp*2)\n",
    "        src[h:,:w]+=(pp*3)\n",
    "        src[h:,w:]+=(pp*5)\n",
    "        src[:h,w:]+=(pp*7)\n",
    "        cv2.imshow('dst',src)\n",
    "    cv2.namedWindow('dst')\n",
    "    cv2.createTrackbar('Brightness','dst',0,100,v)\n",
    "    v(0)\n",
    "    cv2.waitKey()\n",
    "    cv2.destroyAllWindows()\n",
    "f()"
   ]
  },
  {
   "cell_type": "code",
   "execution_count": 5,
   "id": "28a6944d",
   "metadata": {},
   "outputs": [],
   "source": [
    "def ff(vv):\n",
    "#     src = cv2.imread('images/lenna.bmp', cv2.IMREAD_GRAYSCALE)\n",
    "    src=np.zeros((400,400),np.uint8)\n",
    "    h = src.shape[0]//vv\n",
    "    w = src.shape[1]//vv\n",
    "    l=src.shape[1]//h\n",
    "    def v(pp):\n",
    "        if vv==2:\n",
    "            src[h:]+=(pp*2)\n",
    "            src[:h]+=(pp*3)\n",
    "        elif vv==4:\n",
    "            h = src.shape[0]//2\n",
    "            w = src.shape[1]//2\n",
    "            src[:h,:w]+=(pp*2)\n",
    "            src[h:,:w]+=(pp*3)\n",
    "            src[h:,w:]+=(pp*5)\n",
    "            src[:h,w:]+=(pp*7)\n",
    "        elif vv==8: \n",
    "            src[:h,:w]+=(pp*2)\n",
    "            src[h:,:w]+=(pp*3)\n",
    "            src[h:,w:]+=(pp*5)\n",
    "            src[:h,w:]+=(pp*7)\n",
    "        cv2.imshow('dst',src)\n",
    "    cv2.namedWindow('dst')\n",
    "    cv2.createTrackbar('Brightness','dst',0,100,v)\n",
    "    v(0)\n",
    "    cv2.waitKey()\n",
    "    cv2.destroyAllWindows()\n"
   ]
  },
  {
   "cell_type": "code",
   "execution_count": 9,
   "id": "1c51bc74",
   "metadata": {},
   "outputs": [],
   "source": [
    "def f2(n):\n",
    "    if n in [8,2,4,9]:\n",
    "        src=np.zeros((400,400),np.uint8)\n",
    "        h = src.shape[0]//n\n",
    "        w = src.shape[1]//n\n",
    "        l=src.shape[1]//h\n",
    "        print(l)\n",
    "        for i in range(l):\n",
    "            src[i:i+h]\n",
    "        print(h)\n",
    "        print(i,i+h)\n",
    "    else:\n",
    "        print('다시 입력')\n",
    "#         cv2.imshow('dst',src)\n",
    "#     cv2.namedWindow('dst')\n",
    "#     cv2.createTrackbar('Brightness','dst',0,100,v)\n",
    "#     v(0)\n",
    "#     cv2.waitKey()\n",
    "#     cv2.destroyAllWindows()\n"
   ]
  },
  {
   "cell_type": "code",
   "execution_count": 10,
   "id": "c85a20ea",
   "metadata": {},
   "outputs": [
    {
     "name": "stdout",
     "output_type": "stream",
     "text": [
      "2\n",
      "200\n",
      "1 201\n"
     ]
    }
   ],
   "source": [
    "f2(2)"
   ]
  },
  {
   "cell_type": "code",
   "execution_count": 19,
   "id": "3f92301e",
   "metadata": {},
   "outputs": [],
   "source": [
    "def cyclic_iter(l,spec_index):\n",
    "    result=[]\n",
    "    length=len(l)\n",
    "    for _ in range(length):\n",
    "        e_index = spec_index%length\n",
    "        result.append(l[e_index])\n",
    "        spec_index+=1\n",
    "    return result"
   ]
  },
  {
   "cell_type": "code",
   "execution_count": 34,
   "id": "d9c08398",
   "metadata": {},
   "outputs": [
    {
     "name": "stdout",
     "output_type": "stream",
     "text": [
      "orgianal list\n",
      "['a', 'b', 'c', 'd', 'e', 'f', 'g', 'h', '11', '22']\n",
      "\n",
      " 특정 인덱스 3\n",
      "['d', 'e', 'f', 'g', 'h', '11', '22', 'a', 'b', 'c']\n",
      "\n",
      " 특정 인덱스 5\n",
      "['f', 'g', 'h', '11', '22', 'a', 'b', 'c', 'd', 'e']\n",
      "\n",
      " 특정 인덱스 9\n",
      "['22', 'a', 'b', 'c', 'd', 'e', 'f', 'g', 'h', '11']\n"
     ]
    }
   ],
   "source": [
    "chars=['a','b','c','d','e','f','g','h','11','22']\n",
    "print('orgianal list')\n",
    "print(chars)\n",
    "spec_index=3\n",
    "print('\\n 특정 인덱스',spec_index)\n",
    "print(cyclic_iter(chars,spec_index))\n",
    "spec_index=5\n",
    "print('\\n 특정 인덱스',spec_index)\n",
    "print(cyclic_iter(chars,spec_index))\n",
    "spec_index=9\n",
    "print('\\n 특정 인덱스',spec_index)\n",
    "print(cyclic_iter(chars,spec_index))"
   ]
  },
  {
   "cell_type": "markdown",
   "id": "ddf60487",
   "metadata": {},
   "source": [
    "<img src='images/moving.jpg'>"
   ]
  },
  {
   "cell_type": "code",
   "execution_count": 39,
   "id": "19870246",
   "metadata": {},
   "outputs": [
    {
     "data": {
      "text/plain": [
       "5"
      ]
     },
     "execution_count": 39,
     "metadata": {},
     "output_type": "execute_result"
    }
   ],
   "source": [
    "arr=[1,2,3,7,9,11,23,34,100]\n",
    "window_size=5\n",
    "len(arr) - window_size+1"
   ]
  },
  {
   "cell_type": "code",
   "execution_count": 40,
   "id": "0a1cb03f",
   "metadata": {},
   "outputs": [
    {
     "data": {
      "text/plain": [
       "[4.4, 6.4, 10.6, 16.8, 35.4]"
      ]
     },
     "execution_count": 40,
     "metadata": {},
     "output_type": "execute_result"
    }
   ],
   "source": [
    "i=0\n",
    "moving_average=[] #이동 평균을 저장할 빈 list\n",
    "while i<len(arr) - window_size+1: #매 윈도우 크기 3마다 반복함\n",
    "    window=arr[i:i+window_size] #현재 window를 얻기 위해 list에서 i부터 i + window_size를 저장함\n",
    "    window_average=round(sum(window)/window_size,2) #현재 window의 평균 계산\n",
    "    \n",
    "    moving_average.append(window_average)#이동 평균 list에 현재 window의 평균저장\n",
    "    i+=1 #window를 한칸 이동함\n",
    "moving_average"
   ]
  },
  {
   "cell_type": "code",
   "execution_count": 43,
   "id": "cfbab00f",
   "metadata": {},
   "outputs": [],
   "source": [
    "x_list=[60,120,180,240,480]\n",
    "y=[]"
   ]
  },
  {
   "cell_type": "code",
   "execution_count": 44,
   "id": "c23a2e3f",
   "metadata": {},
   "outputs": [
    {
     "data": {
      "text/plain": [
       "[90, 150, 210, 360]"
      ]
     },
     "execution_count": 44,
     "metadata": {},
     "output_type": "execute_result"
    }
   ],
   "source": [
    "for i in range(len(x_list)-1):\n",
    "    y.append(int((x_list[i]+x_list[i+1])/2))\n",
    "y"
   ]
  },
  {
   "cell_type": "code",
   "execution_count": 53,
   "id": "de0393d7",
   "metadata": {},
   "outputs": [
    {
     "data": {
      "text/plain": [
       "[[60, 90], [90, 150], [150, 210], [210, 360]]"
      ]
     },
     "execution_count": 53,
     "metadata": {},
     "output_type": "execute_result"
    }
   ],
   "source": [
    "z=[[x_list[0],y[0]]]\n",
    "for i in range(0,len(y)-1):\n",
    "    z.append([y[i],y[i+1]])\n",
    "z"
   ]
  },
  {
   "cell_type": "code",
   "execution_count": 54,
   "id": "77392e10",
   "metadata": {},
   "outputs": [
    {
     "data": {
      "text/plain": [
       "[[60, 90], [90, 150], [150, 210], [210, 360], [360, 480]]"
      ]
     },
     "execution_count": 54,
     "metadata": {},
     "output_type": "execute_result"
    }
   ],
   "source": [
    "z.append([y[-1],x_list[-1]])\n",
    "z"
   ]
  },
  {
   "cell_type": "code",
   "execution_count": 50,
   "id": "34d70e2c",
   "metadata": {},
   "outputs": [],
   "source": [
    "import numpy as np\n",
    "import cv2"
   ]
  },
  {
   "cell_type": "code",
   "execution_count": 60,
   "id": "2212d6d7",
   "metadata": {},
   "outputs": [],
   "source": [
    "def contrast1():\n",
    "    src=cv2.imread('images/lenna.bmp',cv2.IMREAD_GRAYSCALE)\n",
    "    if src is None:\n",
    "        print('파일 로딩 실패')\n",
    "        return\n",
    "    s=2.0\n",
    "    dst=cv2.multiply(src,s)\n",
    "    cv2.imshow('src',src)\n",
    "    cv2.imshow('int_dst',dst)\n",
    "    cv2.waitKey()\n",
    "    cv2.destroyAllWindows()\n"
   ]
  },
  {
   "cell_type": "code",
   "execution_count": 56,
   "id": "c2c75edb",
   "metadata": {},
   "outputs": [],
   "source": [
    "def contrast11(ratio):\n",
    "    src=cv2.imread('images/lenna.bmp',cv2.IMREAD_GRAYSCALE)\n",
    "    if src is None:\n",
    "        print('파일 로딩 실패')\n",
    "        return\n",
    "    dst=np.asarray(src*ratio,dtype='uint8')\n",
    "    cv2.imshow('src',src)\n",
    "    cv2.imshow('int_dst',dst)\n",
    "    cv2.waitKey()\n",
    "    cv2.destroyAllWindows()\n"
   ]
  },
  {
   "cell_type": "code",
   "execution_count": 62,
   "id": "267ff303",
   "metadata": {},
   "outputs": [],
   "source": [
    "contrast11(1.1)"
   ]
  },
  {
   "cell_type": "code",
   "execution_count": 61,
   "id": "f07e2b2f",
   "metadata": {},
   "outputs": [],
   "source": [
    "contrast1()"
   ]
  },
  {
   "cell_type": "code",
   "execution_count": null,
   "id": "eccf7380",
   "metadata": {},
   "outputs": [],
   "source": []
  }
 ],
 "metadata": {
  "kernelspec": {
   "display_name": "Python 3 (ipykernel)",
   "language": "python",
   "name": "python3"
  },
  "language_info": {
   "codemirror_mode": {
    "name": "ipython",
    "version": 3
   },
   "file_extension": ".py",
   "mimetype": "text/x-python",
   "name": "python",
   "nbconvert_exporter": "python",
   "pygments_lexer": "ipython3",
   "version": "3.10.9"
  }
 },
 "nbformat": 4,
 "nbformat_minor": 5
}
