{
 "cells": [
  {
   "cell_type": "code",
   "execution_count": 1,
   "id": "45319b4a",
   "metadata": {},
   "outputs": [],
   "source": [
    "import scipy.integrate as sci\n",
    "import numpy as np"
   ]
  },
  {
   "cell_type": "code",
   "execution_count": 4,
   "id": "a4480169",
   "metadata": {},
   "outputs": [],
   "source": [
    "def f(x):\n",
    "    return np.sin(x)+x\n",
    "\n",
    "x=np.linspace(0,10)\n",
    "y=f(x)\n",
    "a=0.5\n",
    "b=9.5\n",
    "Inte_x=np.linspace(a,b)\n",
    "Inte_y=f(Inte_x)"
   ]
  },
  {
   "cell_type": "code",
   "execution_count": 7,
   "id": "f734f5fd",
   "metadata": {
    "scrolled": false
   },
   "outputs": [
    {
     "name": "stderr",
     "output_type": "stream",
     "text": [
      "C:\\Users\\USER\\AppData\\Local\\Temp\\ipykernel_11276\\4120419579.py:4: MatplotlibDeprecationWarning: The seaborn styles shipped by Matplotlib are deprecated since 3.6, as they no longer correspond to the styles shipped by seaborn. However, they will remain available as 'seaborn-v0_8-<style>'. Alternatively, directly use the seaborn API instead.\n",
      "  plt.style.use('seaborn')\n"
     ]
    },
    {
     "data": {
      "image/png": "[encoded data removed]",
      "text/plain": [
       "<Figure size 1000x600 with 1 Axes>"
      ]
     },
     "metadata": {},
     "output_type": "display_data"
    }
   ],
   "source": [
    "from matplotlib.patches import Polygon\n",
    "from pylab import plt,mpl\n",
    "\n",
    "plt.style.use('seaborn')\n",
    "mpl.rcParams['font.family'] = 'serif'\n",
    "%matplotlib inline\n",
    "\n",
    "fig, ax = plt.subplots(figsize=(10,6))\n",
    "# f(x) 그리기\n",
    "plt.plot(x,y,'b',linewidth=2)                 \n",
    "plt.ylim(bottom=0)\n",
    "\n",
    "# 적분영역 그리기\n",
    "verts = [(a,0)]+list(zip(Inte_x,Inte_y))+[(b,0)]        #리스트로 적분영역 범위지정\n",
    "poly = Polygon(verts, facecolor='0.7', edgecolor='0.5') # polygon을 이용해 적분영역\n",
    "ax.add_patch(poly)                                      # poly 그리기\n",
    "\n",
    "# 글자 삽입\n",
    "plt.text(0.75*(a+b),1.5, r\"$\\int_a^b f(x)dx$\", horizontalalignment='center',fontsize=20)\n",
    "plt.figtext(0.9,0.075,'$x$')\n",
    "plt.figtext(0.075,0.9,'$f(x)$')\n",
    "ax.set_xticks((a,b))\n",
    "ax.set_xticklabels(('$a$','$b$'))\n",
    "ax.set_yticks([f(a),f(b)]);\n",
    "\n"
   ]
  },
  {
   "cell_type": "code",
   "execution_count": 1,
   "id": "9df9629b",
   "metadata": {},
   "outputs": [],
   "source": [
    "import sympy as sy"
   ]
  },
  {
   "cell_type": "code",
   "execution_count": 2,
   "id": "3f6b246b",
   "metadata": {
    "scrolled": true
   },
   "outputs": [
    {
     "name": "stdout",
     "output_type": "stream",
     "text": [
      "b                \n",
      "⌠                \n",
      "⎮ (x + sin(x)) dx\n",
      "⌡                \n",
      "a                \n"
     ]
    }
   ],
   "source": [
    "a,b = sy.symbols('a b')\n",
    "x,y = sy.symbols('x y')\n",
    "I = sy.Integral(sy.sin(x)+x,(x,a,b))\n",
    "print(sy.pretty(I))"
   ]
  },
  {
   "cell_type": "code",
   "execution_count": 4,
   "id": "848ba3fd",
   "metadata": {},
   "outputs": [
    {
     "data": {
      "text/latex": [
       "$\\displaystyle 46.8747547180867$"
      ],
      "text/plain": [
       "46.8747547180867"
      ]
     },
     "execution_count": 4,
     "metadata": {},
     "output_type": "execute_result"
    }
   ],
   "source": [
    "int_func = sy.integrate(sy.sin(x)+x,x)\n",
    "\n",
    "Fb=int_func.subs(x,9.5).evalf()\n",
    "Fa=int_func.subs(x,0.5).evalf()\n",
    "\n",
    "Fb-Fa"
   ]
  },
  {
   "cell_type": "code",
   "execution_count": 7,
   "id": "84f03dbf",
   "metadata": {
    "scrolled": true
   },
   "outputs": [
    {
     "name": "stdout",
     "output_type": "stream",
     "text": [
      "   2    2                  \n",
      "  a    b                   \n",
      "- ── + ── + cos(a) - cos(b)\n",
      "  2    2                   \n"
     ]
    }
   ],
   "source": [
    "int_func_limits = sy.integrate(sy.sin(x)+x,(x,a,b))\n",
    "print(sy.pretty(int_func_limits))"
   ]
  },
  {
   "cell_type": "code",
   "execution_count": 8,
   "id": "e950a2f8",
   "metadata": {
    "scrolled": true
   },
   "outputs": [
    {
     "data": {
      "text/latex": [
       "$\\displaystyle 46.8747547180867$"
      ],
      "text/plain": [
       "46.8747547180867"
      ]
     },
     "execution_count": 8,
     "metadata": {},
     "output_type": "execute_result"
    }
   ],
   "source": [
    "int_func_limits.subs({a:0.5,b:9.5}).evalf()"
   ]
  },
  {
   "cell_type": "code",
   "execution_count": 9,
   "id": "6d3005cf",
   "metadata": {},
   "outputs": [
    {
     "data": {
      "text/latex": [
       "$\\displaystyle 46.8747547180867$"
      ],
      "text/plain": [
       "46.8747547180867"
      ]
     },
     "execution_count": 9,
     "metadata": {},
     "output_type": "execute_result"
    }
   ],
   "source": [
    "sy.integrate(sy.sin(x)+x,(x,0.5,9.5))"
   ]
  }
 ],
 "metadata": {
  "kernelspec": {
   "display_name": "Python 3 (ipykernel)",
   "language": "python",
   "name": "python3"
  },
  "language_info": {
   "codemirror_mode": {
    "name": "ipython",
    "version": 3
   },
   "file_extension": ".py",
   "mimetype": "text/x-python",
   "name": "python",
   "nbconvert_exporter": "python",
   "pygments_lexer": "ipython3",
   "version": "3.10.9"
  }
 },
 "nbformat": 4,
 "nbformat_minor": 5
}
