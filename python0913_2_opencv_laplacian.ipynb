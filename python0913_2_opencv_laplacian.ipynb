{
 "cells": [
  {
   "cell_type": "code",
   "execution_count": null,
   "id": "4f084574",
   "metadata": {
    "scrolled": true
   },
   "outputs": [],
   "source": [
    "!pip install opencv_python"
   ]
  },
  {
   "cell_type": "code",
   "execution_count": null,
   "id": "04d9b59b",
   "metadata": {},
   "outputs": [],
   "source": [
    "import cv2"
   ]
  },
  {
   "cell_type": "code",
   "execution_count": null,
   "id": "da243c59",
   "metadata": {
    "scrolled": true
   },
   "outputs": [],
   "source": [
    "src=cv2.imread('images/lenna.bmp',cv2.IMREAD_COLOR)\n",
    "gray=cv2.cvtColor(src,cv2.COLOR_BGR2GRAY)\n",
    "sobel=cv2.Sobel(gray,cv2.CV_8U,1,0,3)\n",
    "laplacian=cv2.Laplacian(gray,cv2.CV_8U,ksize=3)\n",
    "canny=cv2.Canny(src,100,255)\n",
    "cv2.imshow(\"sobel\",sobel)\n",
    "cv2.imshow(\"laplacian\",laplacian)\n",
    "cv2.imshow(\"canny\",canny)\n",
    "cv2.waitKey()\n",
    "cv2.destroyAllWindows()"
   ]
  },
  {
   "cell_type": "markdown",
   "id": "939b6660",
   "metadata": {},
   "source": [
    "## 라플라시안에 대하여"
   ]
  },
  {
   "cell_type": "markdown",
   "id": "a444627d",
   "metadata": {},
   "source": [
    "- 영상 f의 일차 미분 \n",
    "    - 이산 함수 f(x,y)에서 x방향으로 일차 미분\n",
    "    $ \\frac{\\partial f}{\\partial x} = f(x+1,y)-f(x,y) $<br>\n",
    "     x좌표와 그 다음 인접 좌표(x+1)의 픽셀의 휘도 값의 차이가 크면 미분 값\n",
    "    기울기가 크다.\n",
    "    \n",
    "- 영상 f의 일차 미분\n",
    "    - 이산 함수 f(x,y)에서 y방향으로 일차 미분 $ \\frac{\\partial f}{\\partial y} = f(x,y+1)-f(x,y) $<br>\n",
    "     y좌표와 그 다음 인접 좌표(y+1)의 픽셀의 휘도 값의 차이가 크면 미분 값\n",
    "    기울기가 크다.\n",
    "    "
   ]
  },
  {
   "cell_type": "markdown",
   "id": "3694c4c6",
   "metadata": {},
   "source": [
    "$$ \\nabla f = \\begin{bmatrix} \\frac{\\partial f}{\\partial y}  & \n",
    "\\frac{\\partial f}{\\partial x} \n",
    "\\end{bmatrix} $$\n",
    "공간 좌표는 독립변수(x,y), 2개가 있으므로 x좌표의 변화량에 대한 함수값(밝기)의 변화량 (x에 대한 편미분)과 y좌표의 변화량에 대한 함수값(밝기)의 변화량 2개를 벡터로 가지고 그것을 $\\nabla f$ 로 표현함<br>\n",
    "$$ \\nabla = \\begin{bmatrix} \\frac{\\partial f}{\\partial y}  & \n",
    "\\frac{\\partial f}{\\partial x} \n",
    "\\end{bmatrix}$$\n",
    "\n",
    "$ \\nabla $를 gradient(기울기/경사)라고 함"
   ]
  },
  {
   "cell_type": "markdown",
   "id": "7c7ad13f",
   "metadata": {},
   "source": [
    "- 영상 f의 이차 편미분\n",
    "    - 이산 함수 f(x,y)에서 x 방향으로 이차 편미분\n",
    "        - 편미분 : 함수의 변수가 2개 이상인 함수에서 변수 1개의 변화에 따른 기울기를 알고 싶을때 사용\n",
    "        $$ \\frac{\\partial^2 f}{\\partial x^2} = [f(x+1,y)-f(x,y)] - [f(x,y)-f(x-1,y)] $$     $$=  f(x+1,y)-f(x,y)+f(x-1,y)-2f(x,y)$$\n",
    "- 영상 f의 이차 미분\n",
    "    -x축과 y축에 대한 각각의 이차미분을 수행하고 각 방향에 대한 이차미분 결과를 합친다.\n",
    "    $\\nabla^2 f = \\frac{\\partial^2{f}}{\\partial x^2} +\n",
    "    \\frac{\\partial^2{f}}{\\partial y^2}$\n",
    "    $ = [f(x+1,y)+f(x-1,y)+f(x,y+1)+f(x,y-1)]-4f(x,y)$\n",
    "   - 이차 미분을 나타내는 연산자를 $\\nabla^2$ 이며 라플라시안 또는 델타 스퀘어라 읽는다\n",
    "   -위의 수식은 마스크(커널/filter)형태로 나타낼수있으며 이를 라플라시안 필터 마스크라고 한다.\n",
    "\n",
    "<img src='images/f.jpg'>"
   ]
  },
  {
   "cell_type": "markdown",
   "id": "13624015",
   "metadata": {},
   "source": [
    "<img src='images/vector_field.gif'>"
   ]
  },
  {
   "cell_type": "markdown",
   "id": "7a226986",
   "metadata": {},
   "source": [
    "<a href='https://blog.naver.com/PostView.naver?blogId=deu03216&logNo=222271930273'>벡터 연산의 기하학 의미</a>"
   ]
  },
  {
   "cell_type": "markdown",
   "id": "158b4c70",
   "metadata": {},
   "source": [
    "$$ \\nabla = \\frac{\\partial}{\\partial x}i+\\frac{\\partial}{\\partial y}j+\\frac{\\partial}{\\partial z}k $$\n",
    "\n",
    "$$ = (\\frac{\\partial}{\\partial x},\\frac{\\partial}{\\partial y},\\frac{\\partial}{\\partial z})\\cdot(i,j,k) $$"
   ]
  },
  {
   "cell_type": "markdown",
   "id": "66e3dc3a",
   "metadata": {},
   "source": [
    "$$ f(x,y,z)=x^2+sin(y)+5xz^3 $$\n",
    "$$ \\nabla f = (\\frac{\\partial f}{\\partial x},\n",
    "    \\frac{\\partial f}{\\partial y},\n",
    "    \\frac{\\partial f}{\\partial z}) $$\n",
    "$$ =(\\frac{\\partial (x^2+sin(y)+5xz^3)}{\\partial x},\n",
    "    \\frac{\\partial (x^2+sin(y)+5xz^3)}{\\partial y},\n",
    "    \\frac{\\partial (x^2+sin(y)+5xz^3)}{\\partial z})$$\n",
    "$$ \\nabla f = (x^2+sin(y)+5xz^3) $$\n",
    "$$ \\nabla^2=(\\frac{\\partial^2 f}{\\partial x^2},\n",
    "    \\frac{\\partial^2 f}{\\partial y^2},\n",
    "    \\frac{\\partial^2 f}{\\partial z^2})=(2,-sin(y),30xz) $$"
   ]
  },
  {
   "cell_type": "code",
   "execution_count": null,
   "id": "f2b7f8ea",
   "metadata": {},
   "outputs": [],
   "source": [
    "import numpy as np"
   ]
  },
  {
   "cell_type": "code",
   "execution_count": null,
   "id": "5bffcb7a",
   "metadata": {},
   "outputs": [],
   "source": [
    "!pip install sympy"
   ]
  },
  {
   "cell_type": "code",
   "execution_count": null,
   "id": "4dd2d3c3",
   "metadata": {},
   "outputs": [],
   "source": [
    "import sympy as sym\n",
    "from sympy import *\n",
    "x,y,z, = sym.symbols('x y z')\n",
    "f= x**2 + sin(y) + 5*x*z**3 #diff=>differntiate 미분하다\n",
    "f_partial=[diff(f,x),diff(f,y),diff(f,z)]\n",
    "s_partial=[diff(f_,i_) for f_,i_ in zip(f_partial,(x,y,z))]\n",
    "print('1차: ',f_partial,'2차',s_partial)"
   ]
  },
  {
   "cell_type": "code",
   "execution_count": null,
   "id": "35f851fd",
   "metadata": {},
   "outputs": [],
   "source": [
    "def derivative(f):\n",
    "    h=0.000001\n",
    "    if 'x' in f.keys():\n",
    "        return(f['x'](x_+h)-f['x'](x_))/h\n",
    "    elif 'y' in f.keys():\n",
    "        return(f['y'](y_+h)-f['y'](y_))/h\n",
    "    elif 'z' in f.keys():\n",
    "        return(f['z'](z_+h)-f['z'](z_))/h\n"
   ]
  },
  {
   "cell_type": "code",
   "execution_count": null,
   "id": "b5aaf6f8",
   "metadata": {
    "scrolled": true
   },
   "outputs": [],
   "source": [
    "def f(x,y,z):\n",
    "    return x*x + np.sin(y)+5*x*z**3\n",
    "\n",
    "def derivative_x_y_z(f,x,y,z,h=0.000001):\n",
    "    return [(f(x+h,y,z)-f(x,y,z))/h,\n",
    "            (f(x,y+h,z)-f(x,y,z))/h,\n",
    "            (f(x,y,z+h)-f(x,y,z))/h]\n",
    "\n",
    "x= np.arange(-10,10,0.01)\n",
    "y= np.arange(-10,10,0.01)\n",
    "z= np.arange(-10,10,0.01)\n",
    "jung = [derivative_x_y_z(f,x,y,z),derivative_x_y_z(f,x,y,z),derivative_x_y_z(f,x,y,z)]\n",
    "jung[2][:3]"
   ]
  },
  {
   "cell_type": "code",
   "execution_count": null,
   "id": "3f465f61",
   "metadata": {
    "scrolled": true
   },
   "outputs": [],
   "source": [
    "x,y,z,t = sym.symbols('x y z t')\n",
    "f= x**2 + sin(y) + 5*x*z**3 + 3*x*t**4 #diff=>differntiate 미분하다\n",
    "f_partial=[diff(f,x),diff(f,y),diff(f,z),diff(f,t)]\n",
    "s_partial=[diff(f_,i_) for f_,i_ in zip(f_partial,(x,y,z))]\n",
    "print('1차: ',f_partial,'2차',s_partial)"
   ]
  },
  {
   "cell_type": "code",
   "execution_count": null,
   "id": "3d6522e9",
   "metadata": {},
   "outputs": [],
   "source": [
    "def f(x,y,z,t):\n",
    "    return x*x + np.sin(y)+5*x*z**3+3*x*t**4\n",
    "\n",
    "def derivative_x_y_z_t(f,x,y,z,t,h=0.000001):\n",
    "    return [(f(x+h,y,z,t)-f(x,y,z,t))/h,\n",
    "            (f(x,y+h,z,t)-f(x,y,z,t))/h,\n",
    "            (f(x,y,z+h,t)-f(x,y,z,t))/h,\n",
    "            (f(x,y,z,t+h)-f(x,y,z,t))/h]\n",
    "\n",
    "x= np.arange(-10,10,0.01)\n",
    "y= np.arange(-10,10,0.01)\n",
    "z= np.arange(-10,10,0.01)\n",
    "t= np.arange(-10,10,0.01)\n",
    "\n",
    "xyzt=[derivative_x_y_z_t(f,x,y,z,t),derivative_x_y_z_t(f,x,y,z,t),derivative_x_y_z_t(f,x,y,z,t),derivative_x_y_z_t(f,x,y,z,t)]\n",
    "xyzt[2][:3]"
   ]
  },
  {
   "cell_type": "code",
   "execution_count": null,
   "id": "8c1054dc",
   "metadata": {},
   "outputs": [],
   "source": [
    "def sol_x(x,y,z,t):\n",
    "    return 3*t**4 + 2*x + 5*z**3\n",
    "def sol_y(x,y,z,t):\n",
    "    return cos(y)\n",
    "def sol_z(x,y,z,t):\n",
    "    return 15*x*z**2\n",
    "def sol_t(x,y,z,t):\n",
    "    return 12*t**3*x"
   ]
  },
  {
   "cell_type": "markdown",
   "id": "dce665c0",
   "metadata": {},
   "source": [
    "## 이차 미분\n",
    "<img src='images/second.jpg'>"
   ]
  },
  {
   "cell_type": "code",
   "execution_count": null,
   "id": "eb224df7",
   "metadata": {},
   "outputs": [],
   "source": [
    "x_= np.arange(-10,10,0.01)\n",
    "y_= np.arange(-10,10,0.01)\n",
    "z_= np.arange(-10,10,0.01)\n",
    "t_= np.arange(-10,10,0.01)\n",
    "\n",
    "def f_(x,y,z,t):\n",
    "    return x*x + np.sin(y)+5*x*z**3+3*x*t**4\n",
    "\n",
    "def laplacian(f,x,y,z,t,h=0.00001):\n",
    "    df2_dx2=(f(x+h,y,z,t)-2*f(x-h,y,z,t))/h**2\n",
    "    df2_dy2=(f(x,y+h,z,t)-2*f(x,y-h,z,t))/h**2    \n",
    "    df2_dz2=(f(x,y,z+h,t)-2*f(x,y,z-h,t))/h**2  \n",
    "    df2_dt2=(f(x,y,z,t+h)-2*f(x,y,z,t-h))/h**2     \n",
    "    return [df2_dx2,df2_dy2,df2_dz2,df2_dt2]\n",
    "\n",
    "dx2,dy2,dz2,dt2=laplacian(f_,x_,y_,z_,t_)\n",
    "print(dx2,dy2,dz2,dt2)"
   ]
  },
  {
   "cell_type": "markdown",
   "id": "b0823299",
   "metadata": {},
   "source": [
    "<a href='https://mustlearning.tistory.com/40'>표본 공간과 확률변수</a>"
   ]
  },
  {
   "cell_type": "markdown",
   "id": "d7ae1705",
   "metadata": {},
   "source": [
    "## 확률은 이산 확률 변수와 연속 확률 변수로 나뉜다.\n",
    "### 이산 확률 변수(x)의 기대값은\n",
    "$$ E(X) = \\sum{i=1}^{n}x_{i}{p_{i}}$$\n",
    "### 연속 확률 변수(x)의 기대값은\n",
    "$$ E(X) = \\int_{-\\inf}^{\\inf} $$"
   ]
  },
  {
   "cell_type": "code",
   "execution_count": 1,
   "id": "92b6f779",
   "metadata": {},
   "outputs": [],
   "source": [
    "import sys\n",
    "import cv2"
   ]
  },
  {
   "cell_type": "code",
   "execution_count": null,
   "id": "d5b01f01",
   "metadata": {},
   "outputs": [],
   "source": [
    "img=cv2.imread('images/lenna.bmp')\n",
    "if img is None:\n",
    "    print('이미지 로딩 실패')\n",
    "    sys.exit()\n",
    "cv2.namedWindow('img')\n",
    "cv2.imshow('img',img)\n",
    "while True:\n",
    "    keycode=cv2.waitKey()\n",
    "    if keycode==ord('i') or keycode==ord('I'):\n",
    "        img=~img\n",
    "        cv2.imshow('img',img)\n",
    "    elif keycode ==27 or keycode==ord('q') or keycode==ord('Q'):\n",
    "        break\n",
    "cv2.destroyAllWindows()"
   ]
  },
  {
   "cell_type": "code",
   "execution_count": null,
   "id": "211ec093",
   "metadata": {},
   "outputs": [],
   "source": [
    "v= np.array([[1,2,3,255]])\n",
    "v=~v\n",
    "v"
   ]
  },
  {
   "cell_type": "code",
   "execution_count": 2,
   "id": "36147ca4",
   "metadata": {},
   "outputs": [],
   "source": [
    "import random"
   ]
  },
  {
   "cell_type": "code",
   "execution_count": 4,
   "id": "b75b5a5d",
   "metadata": {},
   "outputs": [],
   "source": [
    "def on_mouse1(event,x,y,flags,params):\n",
    "    global oldx,oldy\n",
    "    event_cnt=0\n",
    "    if event == cv2.EVENT_LBUTTONDOWN:\n",
    "        oldx,oldy=x,y\n",
    "        print('마우스 왼쪽 버튼이 눌렸어요: %d,%d'%(x,y))\n",
    "        event_cnt+=1\n",
    "    elif event == cv2.EVENT_LBUTTONUP:\n",
    "        print('마우스 왼쪽 버튼이 떼졌어요: %d,%d'%(x,y))\n",
    "    elif event == cv2.EVENT_MOUSEMOVE:\n",
    "        if flags & cv2.EVENT_FLAG_LBUTTON:\n",
    "            cv2.line(img,(oldx,oldy),(x,y),(0,255,255),5)\n",
    "            cv2.imshow('img',img)\n",
    "            oldx,oldy=x,y\n",
    "    \n",
    "img=cv2.imread('images/lenna.bmp')\n",
    "if img is None:\n",
    "    print('이미지 로딩 실패')\n",
    "cv2.namedWindow('img')\n",
    "cv2.setMouseCallback('img',on_mouse1)\n",
    "cv2.imshow('img',img)\n",
    "cv2.waitKey()\n",
    "cv2.destroyAllWindows()"
   ]
  },
  {
   "cell_type": "code",
   "execution_count": 11,
   "id": "88c55dea",
   "metadata": {},
   "outputs": [
    {
     "name": "stdout",
     "output_type": "stream",
     "text": [
      "마우스 왼쪽 버튼이 눌렸어요: 32,29\n",
      "마우스 왼쪽 버튼이 떼졌어요: 316,327\n",
      "마우스 왼쪽 버튼이 눌렸어요: 155,191\n",
      "마우스 왼쪽 버튼이 떼졌어요: 95,342\n",
      "마우스 왼쪽 버튼이 눌렸어요: 312,254\n",
      "마우스 왼쪽 버튼이 떼졌어요: 240,228\n",
      "마우스 왼쪽 버튼이 눌렸어요: 171,82\n",
      "마우스 왼쪽 버튼이 떼졌어요: 187,289\n",
      "마우스 왼쪽 버튼이 눌렸어요: 238,96\n",
      "마우스 왼쪽 버튼이 떼졌어요: 57,381\n",
      "마우스 왼쪽 버튼이 눌렸어요: 294,124\n",
      "마우스 왼쪽 버튼이 떼졌어요: 154,321\n",
      "마우스 왼쪽 버튼이 눌렸어요: 369,120\n",
      "마우스 왼쪽 버튼이 떼졌어요: 124,386\n",
      "마우스 왼쪽 버튼이 눌렸어요: 461,213\n",
      "마우스 왼쪽 버튼이 떼졌어요: 205,436\n",
      "마우스 왼쪽 버튼이 눌렸어요: 442,195\n",
      "마우스 왼쪽 버튼이 떼졌어요: 55,427\n",
      "마우스 왼쪽 버튼이 눌렸어요: 292,131\n",
      "마우스 왼쪽 버튼이 떼졌어요: 15,356\n",
      "마우스 왼쪽 버튼이 눌렸어요: 126,168\n",
      "마우스 왼쪽 버튼이 떼졌어요: 227,519\n",
      "마우스 왼쪽 버튼이 눌렸어요: 274,122\n",
      "마우스 왼쪽 버튼이 떼졌어요: 194,412\n",
      "마우스 왼쪽 버튼이 눌렸어요: 465,183\n",
      "마우스 왼쪽 버튼이 떼졌어요: 279,273\n",
      "마우스 왼쪽 버튼이 눌렸어요: 486,131\n",
      "마우스 왼쪽 버튼이 떼졌어요: 147,337\n",
      "마우스 왼쪽 버튼이 눌렸어요: 372,53\n",
      "마우스 왼쪽 버튼이 떼졌어요: 206,193\n",
      "마우스 왼쪽 버튼이 눌렸어요: 331,40\n",
      "마우스 왼쪽 버튼이 떼졌어요: 21,299\n"
     ]
    }
   ],
   "source": [
    "event_cnt=0\n",
    "def on_mouse2(event,x,y,flags,params):\n",
    "    global oldx,oldy,event_cnt\n",
    "    event_cnt+=1\n",
    "    if event_cnt%10==0:\n",
    "        r_rand_color=random.randint(0,256)\n",
    "        g_rand_color=random.randint(0,256)\n",
    "        b_rand_color=random.randint(0,256)\n",
    "        thick=random.randint(1,13)\n",
    "    else:\n",
    "        r_rand_color=0\n",
    "        g_rand_color=255\n",
    "        b_rand_color=255\n",
    "        thick=2\n",
    "\n",
    "    if event == cv2.EVENT_LBUTTONDOWN:\n",
    "        oldx,oldy=x,y\n",
    "        print('마우스 왼쪽 버튼이 눌렸어요: %d,%d'%(x,y))\n",
    "    elif event == cv2.EVENT_LBUTTONUP:\n",
    "        print('마우스 왼쪽 버튼이 떼졌어요: %d,%d'%(x,y))\n",
    "    elif event == cv2.EVENT_MOUSEMOVE:\n",
    "        if flags & cv2.EVENT_FLAG_LBUTTON:\n",
    "            cv2.line(img,(oldx,oldy),(x,y),(r_rand_color,g_rand_color,b_rand_color),thick)\n",
    "            cv2.imshow('img',img)\n",
    "            oldx,oldy=x,y\n",
    "            \n",
    "    \n",
    "img=cv2.imread('images/lenna.bmp')\n",
    "if img is None:\n",
    "    print('이미지 로딩 실패')\n",
    "cv2.namedWindow('img')\n",
    "cv2.setMouseCallback('img',on_mouse2)\n",
    "cv2.imshow('img',img)\n",
    "cv2.waitKey()\n",
    "cv2.destroyAllWindows()"
   ]
  },
  {
   "cell_type": "code",
   "execution_count": 24,
   "id": "11298a46",
   "metadata": {
    "scrolled": true
   },
   "outputs": [
    {
     "name": "stdout",
     "output_type": "stream",
     "text": [
      "버튼이 눌렸어요 0 (0, 255, 255) 2\n",
      "마우스의 왼쪽 버튼이 떼어졌어요: 110, ,230, 0, 2\n",
      "버튼이 눌렸어요 1 (0, 255, 255) 2\n",
      "마우스의 왼쪽 버튼이 떼어졌어요: 148, ,281, 0, 2\n",
      "버튼이 눌렸어요 2 (0, 255, 255) 2\n",
      "마우스의 왼쪽 버튼이 떼어졌어요: 185, ,340, 0, 2\n",
      "버튼이 눌렸어요 3 (0, 255, 255) 2\n",
      "마우스의 왼쪽 버튼이 떼어졌어요: 210, ,369, 0, 2\n",
      "버튼이 눌렸어요 4 (0, 255, 255) 2\n",
      "마우스의 왼쪽 버튼이 떼어졌어요: 248, ,387, 0, 2\n",
      "버튼이 눌렸어요 5 (0, 255, 255) 2\n",
      "마우스의 왼쪽 버튼이 떼어졌어요: 241, ,495, 0, 2\n",
      "버튼이 눌렸어요 6 (0, 255, 255) 2\n",
      "마우스의 왼쪽 버튼이 떼어졌어요: 242, ,501, 0, 2\n",
      "버튼이 눌렸어요 7 (0, 255, 255) 2\n",
      "마우스의 왼쪽 버튼이 떼어졌어요: 163, ,467, 0, 2\n",
      "버튼이 눌렸어요 8 (0, 255, 255) 2\n",
      "마우스의 왼쪽 버튼이 떼어졌어요: 140, ,431, 0, 2\n",
      "버튼이 눌렸어요 9 (0, 255, 255) 2\n",
      "마우스의 왼쪽 버튼이 떼어졌어요: 102, ,297, 9, 7\n",
      "버튼이 눌렸어요 10 (9, 103, 122) 7\n",
      "마우스의 왼쪽 버튼이 떼어졌어요: 200, ,153, 0, 2\n"
     ]
    }
   ],
   "source": [
    "import random\n",
    "cnt=0\n",
    "color=(0,255,255)\n",
    "thick=2\n",
    "def on_mouse3(event, x,y, flags, params):\n",
    "    global oldx, oldy, cnt,color,thick   # global : 전역변수       \n",
    "    \n",
    "    if event == cv2.EVENT_LBUTTONDOWN:\n",
    "        print('버튼이 눌렸어요',cnt,color,thick)\n",
    "        cnt+=1\n",
    "        if cnt%10==0:\n",
    "            color = (random.randint(0,255),random.randint(0,255), random.randint(0,255))\n",
    "            thick = thick = random.randint(1,13)\n",
    "        else:\n",
    "            color = (0,255,255)\n",
    "            thick = 2\n",
    "        \n",
    "        oldx, oldy =x,y\n",
    "        \n",
    "        \n",
    "    elif event == cv2.EVENT_LBUTTONUP:\n",
    "        print('마우스의 왼쪽 버튼이 떼어졌어요: %d, ,%d, %d, %d' %(x,y,  color[0], thick))\n",
    "    elif event == cv2.EVENT_MOUSEMOVE:\n",
    "        if flags & cv2.EVENT_FLAG_LBUTTON:\n",
    "            cv2.line(img, (oldx, oldy), (x,y), color, thick)\n",
    "            cv2.imshow('img', img)\n",
    "            oldx, oldy = x,y        \n",
    "    \n",
    "img = cv2.imread('images/lenna.bmp')\n",
    "if img is None:\n",
    "    print(\"이미지 로딩 실패\")\n",
    "cv2.namedWindow('img')\n",
    "cv2.setMouseCallback('img', on_mouse3)\n",
    "cv2.imshow('img', img)\n",
    "cv2.waitKey()\n",
    "cv2.destroyAllWindows()\n",
    "\n",
    "#문제) 이벤트 발생이 10회 . 20회, 30회 발생시 색상과 두께를 변경하세요"
   ]
  },
  {
   "cell_type": "code",
   "execution_count": 26,
   "id": "6c4594ae",
   "metadata": {},
   "outputs": [
    {
     "name": "stdout",
     "output_type": "stream",
     "text": [
      "버튼 눌림 0\n",
      "마우스의 왼쪽 버튼이 눌렸어요: 133, 41, 0, 1, 0\n",
      "마우스의 왼쪽 버튼이 떼어졌어요: 73, ,140, 0, 1\n",
      "버튼 눌림 1\n",
      "마우스의 왼쪽 버튼이 눌렸어요: 173, 79, 0, 1, 1\n",
      "마우스의 왼쪽 버튼이 떼어졌어요: 110, ,207, 0, 1\n",
      "버튼 눌림 2\n",
      "마우스의 왼쪽 버튼이 눌렸어요: 264, 145, 0, 1, 2\n",
      "마우스의 왼쪽 버튼이 떼어졌어요: 163, ,298, 0, 1\n",
      "버튼 눌림 3\n",
      "마우스의 왼쪽 버튼이 눌렸어요: 295, 196, 0, 1, 3\n",
      "마우스의 왼쪽 버튼이 떼어졌어요: 168, ,465, 0, 1\n",
      "버튼 눌림 4\n",
      "마우스의 왼쪽 버튼이 눌렸어요: 266, 251, 0, 1, 4\n",
      "마우스의 왼쪽 버튼이 떼어졌어요: 223, ,469, 0, 1\n",
      "버튼 눌림 5\n",
      "마우스의 왼쪽 버튼이 눌렸어요: 311, 200, 0, 1, 5\n",
      "마우스의 왼쪽 버튼이 떼어졌어요: 170, ,319, 0, 1\n",
      "버튼 눌림 6\n",
      "마우스의 왼쪽 버튼이 눌렸어요: 297, 191, 0, 1, 6\n",
      "마우스의 왼쪽 버튼이 떼어졌어요: 199, ,473, 0, 1\n",
      "버튼 눌림 7\n",
      "마우스의 왼쪽 버튼이 눌렸어요: 348, 248, 0, 1, 7\n",
      "마우스의 왼쪽 버튼이 떼어졌어요: 229, ,428, 0, 1\n",
      "버튼 눌림 8\n",
      "마우스의 왼쪽 버튼이 눌렸어요: 354, 257, 0, 1, 8\n",
      "마우스의 왼쪽 버튼이 떼어졌어요: 292, ,395, 0, 1\n",
      "버튼 눌림 9\n",
      "마우스의 왼쪽 버튼이 눌렸어요: 369, 216, 0, 1, 9\n",
      "!\n",
      "마우스의 왼쪽 버튼이 떼어졌어요: 214, ,402, 92, 11\n",
      "버튼 눌림 10\n",
      "마우스의 왼쪽 버튼이 눌렸어요: 353, 90, 92, 11, 10\n",
      "마우스의 왼쪽 버튼이 떼어졌어요: 227, ,138, 92, 11\n",
      "버튼 눌림 11\n",
      "마우스의 왼쪽 버튼이 눌렸어요: 305, 71, 92, 11, 11\n",
      "마우스의 왼쪽 버튼이 떼어졌어요: 232, ,141, 92, 11\n",
      "버튼 눌림 12\n",
      "마우스의 왼쪽 버튼이 눌렸어요: 450, 144, 92, 11, 12\n",
      "마우스의 왼쪽 버튼이 떼어졌어요: 337, ,273, 92, 11\n",
      "버튼 눌림 13\n",
      "마우스의 왼쪽 버튼이 눌렸어요: 363, 236, 92, 11, 13\n",
      "마우스의 왼쪽 버튼이 떼어졌어요: 299, ,362, 92, 11\n",
      "버튼 눌림 14\n",
      "마우스의 왼쪽 버튼이 눌렸어요: 423, 288, 92, 11, 14\n",
      "마우스의 왼쪽 버튼이 떼어졌어요: 366, ,426, 92, 11\n",
      "버튼 눌림 15\n",
      "마우스의 왼쪽 버튼이 눌렸어요: 415, 290, 92, 11, 15\n",
      "마우스의 왼쪽 버튼이 떼어졌어요: 166, ,470, 92, 11\n",
      "버튼 눌림 16\n",
      "마우스의 왼쪽 버튼이 눌렸어요: 255, 256, 92, 11, 16\n",
      "마우스의 왼쪽 버튼이 떼어졌어요: 190, ,293, 92, 11\n",
      "버튼 눌림 17\n",
      "마우스의 왼쪽 버튼이 눌렸어요: 286, 182, 92, 11, 17\n",
      "마우스의 왼쪽 버튼이 떼어졌어요: 42, ,318, 92, 11\n",
      "버튼 눌림 18\n",
      "마우스의 왼쪽 버튼이 눌렸어요: 231, 153, 92, 11, 18\n",
      "마우스의 왼쪽 버튼이 떼어졌어요: 199, ,184, 92, 11\n",
      "버튼 눌림 19\n",
      "마우스의 왼쪽 버튼이 눌렸어요: 16, 234, 92, 11, 19\n",
      "!\n",
      "마우스의 왼쪽 버튼이 떼어졌어요: 206, ,367, 42, 5\n"
     ]
    }
   ],
   "source": [
    "import random\n",
    "cnt=0\n",
    "\n",
    "color = (0,0,0)\n",
    "thick = (1)\n",
    "def on_mouse(event, x,y, flags, params):\n",
    "    global oldx, oldy, cnt, color, thick   # global : 전역변수       \n",
    "    \n",
    "        \n",
    "    if event == cv2.EVENT_LBUTTONDOWN:  #왼쪽 버튼이 눌리면 이벤트 발생하고\n",
    "        print(\"버튼 눌림\",cnt)\n",
    "        oldx , oldy = x,y   #그때의 cnt를 1 씩 증가시키고\n",
    "        print('마우스의 왼쪽 버튼이 눌렸어요: %d, %d, %d, %d, %d' %(x,y, color[0], thick, cnt))\n",
    "        cnt+=1\n",
    "        if cnt%10==0:\n",
    "            print('!')\n",
    "            color = (random.randint(0,255),random.randint(0,255), random.randint(0,255))\n",
    "            thick = thick = random.randint(1,13)\n",
    "    \n",
    "            \n",
    "    elif event == cv2.EVENT_LBUTTONUP:\n",
    "        print('마우스의 왼쪽 버튼이 떼어졌어요: %d, ,%d, %d, %d' %(x,y,  color[0], thick))\n",
    "    elif event == cv2.EVENT_MOUSEMOVE:\n",
    "        if flags & cv2.EVENT_FLAG_LBUTTON:\n",
    "            cv2.line(img, (oldx, oldy), (x,y), color, thick)\n",
    "            cv2.imshow('img', img)\n",
    "            oldx, oldy = x,y        \n",
    "    \n",
    "img = cv2.imread('images/lenna.bmp')\n",
    "if img is None:\n",
    "    print(\"이미지 로딩 실패\")\n",
    "cv2.namedWindow('img')\n",
    "cv2.setMouseCallback('img', on_mouse)\n",
    "cv2.imshow('img', img)\n",
    "cv2.waitKey()\n",
    "cv2.destroyAllWindows()\n",
    "\n",
    "#문제) 이벤트 발생이 10회 . 20회, 30회 발생시 색상과 두께를 변경하세요"
   ]
  },
  {
   "cell_type": "code",
   "execution_count": null,
   "id": "2ae6ec7f",
   "metadata": {},
   "outputs": [],
   "source": []
  }
 ],
 "metadata": {
  "kernelspec": {
   "display_name": "Python 3 (ipykernel)",
   "language": "python",
   "name": "python3"
  },
  "language_info": {
   "codemirror_mode": {
    "name": "ipython",
    "version": 3
   },
   "file_extension": ".py",
   "mimetype": "text/x-python",
   "name": "python",
   "nbconvert_exporter": "python",
   "pygments_lexer": "ipython3",
   "version": "3.10.9"
  }
 },
 "nbformat": 4,
 "nbformat_minor": 5
}
