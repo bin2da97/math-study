{
 "cells": [
  {
   "cell_type": "code",
   "execution_count": 1,
   "id": "f123d4ec",
   "metadata": {},
   "outputs": [],
   "source": [
    "from sympy import *"
   ]
  },
  {
   "cell_type": "code",
   "execution_count": 1,
   "id": "94de77c4",
   "metadata": {},
   "outputs": [
    {
     "ename": "NameError",
     "evalue": "name 'symbols' is not defined",
     "output_type": "error",
     "traceback": [
      "\u001b[1;31m---------------------------------------------------------------------------\u001b[0m",
      "\u001b[1;31mNameError\u001b[0m                                 Traceback (most recent call last)",
      "Cell \u001b[1;32mIn[1], line 1\u001b[0m\n\u001b[1;32m----> 1\u001b[0m x,y,z \u001b[38;5;241m=\u001b[39m \u001b[43msymbols\u001b[49m(\u001b[38;5;124m'\u001b[39m\u001b[38;5;124mx y z\u001b[39m\u001b[38;5;124m'\u001b[39m)\n",
      "\u001b[1;31mNameError\u001b[0m: name 'symbols' is not defined"
     ]
    }
   ],
   "source": [
    "x,y,z = symbols('x y z')"
   ]
  },
  {
   "cell_type": "code",
   "execution_count": 4,
   "id": "950a0523",
   "metadata": {},
   "outputs": [
    {
     "data": {
      "text/latex": [
       "$\\displaystyle x^{2} + 2 x + 1$"
      ],
      "text/plain": [
       "x**2 + 2*x + 1"
      ]
     },
     "execution_count": 4,
     "metadata": {},
     "output_type": "execute_result"
    }
   ],
   "source": [
    "f = x**2 + 2*x +1\n",
    "f"
   ]
  },
  {
   "cell_type": "code",
   "execution_count": 5,
   "id": "d6bf50da",
   "metadata": {},
   "outputs": [
    {
     "data": {
      "text/plain": [
       "[-1]"
      ]
     },
     "execution_count": 5,
     "metadata": {},
     "output_type": "execute_result"
    }
   ],
   "source": [
    "solve(f) #해 찾기"
   ]
  },
  {
   "cell_type": "code",
   "execution_count": 6,
   "id": "95dc7cbd",
   "metadata": {},
   "outputs": [
    {
     "data": {
      "text/latex": [
       "$\\displaystyle x^{2} + 2 x - 3$"
      ],
      "text/plain": [
       "x**2 + 2*x - 3"
      ]
     },
     "execution_count": 6,
     "metadata": {},
     "output_type": "execute_result"
    }
   ],
   "source": [
    "f = x**2 + 2*x -3\n",
    "f"
   ]
  },
  {
   "cell_type": "code",
   "execution_count": 7,
   "id": "bcffc170",
   "metadata": {},
   "outputs": [
    {
     "data": {
      "text/plain": [
       "[-3, 1]"
      ]
     },
     "execution_count": 7,
     "metadata": {},
     "output_type": "execute_result"
    }
   ],
   "source": [
    "solve(f)"
   ]
  },
  {
   "cell_type": "code",
   "execution_count": null,
   "id": "51e55d76",
   "metadata": {},
   "outputs": [],
   "source": [
    "from sympy import Matrix "
   ]
  },
  {
   "cell_type": "code",
   "execution_count": 12,
   "id": "f7e7ba60",
   "metadata": {},
   "outputs": [
    {
     "data": {
      "text/latex": [
       "$\\displaystyle \\left[\\begin{matrix}1 & 0\\\\0 & 1\\end{matrix}\\right]$"
      ],
      "text/plain": [
       "Matrix([\n",
       "[1, 0],\n",
       "[0, 1]])"
      ]
     },
     "execution_count": 12,
     "metadata": {},
     "output_type": "execute_result"
    }
   ],
   "source": [
    "I=Matrix([[1,0],[0,1]]) #단위 행렬\n",
    "I"
   ]
  },
  {
   "cell_type": "code",
   "execution_count": 13,
   "id": "43e4f63b",
   "metadata": {},
   "outputs": [
    {
     "data": {
      "text/latex": [
       "$\\displaystyle \\left[\\begin{matrix}2 & 3\\\\3 & 1\\end{matrix}\\right]$"
      ],
      "text/plain": [
       "Matrix([\n",
       "[2, 3],\n",
       "[3, 1]])"
      ]
     },
     "execution_count": 13,
     "metadata": {},
     "output_type": "execute_result"
    }
   ],
   "source": [
    "A=Matrix([[2,3],[3,1]])\n",
    "A"
   ]
  },
  {
   "cell_type": "code",
   "execution_count": 16,
   "id": "89e1321e",
   "metadata": {},
   "outputs": [
    {
     "data": {
      "text/latex": [
       "$\\displaystyle \\left[\\begin{matrix}2 & 3\\\\3 & 1\\end{matrix}\\right]$"
      ],
      "text/plain": [
       "Matrix([\n",
       "[2, 3],\n",
       "[3, 1]])"
      ]
     },
     "execution_count": 16,
     "metadata": {},
     "output_type": "execute_result"
    }
   ],
   "source": [
    "I*A*I*I*I*I*I #단위 행렬은 1같은거 곱하면 자기 자신"
   ]
  },
  {
   "cell_type": "code",
   "execution_count": 17,
   "id": "95b9c042",
   "metadata": {},
   "outputs": [],
   "source": [
    "Mat_A=I*A*I*I*I*I*I"
   ]
  },
  {
   "cell_type": "code",
   "execution_count": 22,
   "id": "990b888a",
   "metadata": {},
   "outputs": [
    {
     "data": {
      "text/plain": [
       "(2, 2)"
      ]
     },
     "execution_count": 22,
     "metadata": {},
     "output_type": "execute_result"
    }
   ],
   "source": [
    "A.shape #2행 2열"
   ]
  },
  {
   "cell_type": "code",
   "execution_count": 24,
   "id": "b3eb7fa8",
   "metadata": {},
   "outputs": [
    {
     "data": {
      "text/latex": [
       "$\\displaystyle \\left[\\begin{matrix}2 & 3\\end{matrix}\\right]$"
      ],
      "text/plain": [
       "Matrix([[2, 3]])"
      ]
     },
     "execution_count": 24,
     "metadata": {},
     "output_type": "execute_result"
    }
   ],
   "source": [
    "A.row(0) #A행렬의 0번행"
   ]
  },
  {
   "cell_type": "code",
   "execution_count": 25,
   "id": "4b83b28c",
   "metadata": {},
   "outputs": [
    {
     "data": {
      "text/latex": [
       "$\\displaystyle \\left[\\begin{matrix}3\\\\1\\end{matrix}\\right]$"
      ],
      "text/plain": [
       "Matrix([\n",
       "[3],\n",
       "[1]])"
      ]
     },
     "execution_count": 25,
     "metadata": {},
     "output_type": "execute_result"
    }
   ],
   "source": [
    "A.col(1) #1번 열"
   ]
  },
  {
   "cell_type": "code",
   "execution_count": 26,
   "id": "2ab45f47",
   "metadata": {},
   "outputs": [
    {
     "data": {
      "text/latex": [
       "$\\displaystyle \\left[\\begin{matrix}9\\end{matrix}\\right]$"
      ],
      "text/plain": [
       "Matrix([[9]])"
      ]
     },
     "execution_count": 26,
     "metadata": {},
     "output_type": "execute_result"
    }
   ],
   "source": [
    "A.row(0)*A.col(1)"
   ]
  },
  {
   "cell_type": "code",
   "execution_count": 34,
   "id": "2374e125",
   "metadata": {},
   "outputs": [
    {
     "name": "stdout",
     "output_type": "stream",
     "text": [
      "Matrix([[2, 3], [3, 1]])\n",
      "Matrix([[2, 3], [3, 1]])\n"
     ]
    }
   ],
   "source": [
    "print(A)\n",
    "print(A)"
   ]
  },
  {
   "cell_type": "code",
   "execution_count": 27,
   "id": "3bf3a24d",
   "metadata": {
    "scrolled": true
   },
   "outputs": [
    {
     "data": {
      "text/latex": [
       "$\\displaystyle \\left[\\begin{matrix}13 & 9\\\\9 & 10\\end{matrix}\\right]$"
      ],
      "text/plain": [
       "Matrix([\n",
       "[13,  9],\n",
       "[ 9, 10]])"
      ]
     },
     "execution_count": 27,
     "metadata": {},
     "output_type": "execute_result"
    }
   ],
   "source": [
    "A*A"
   ]
  },
  {
   "cell_type": "code",
   "execution_count": 52,
   "id": "373b42fc",
   "metadata": {},
   "outputs": [
    {
     "data": {
      "text/plain": [
       "[[Matrix([[13]]), Matrix([[9]])], [Matrix([[9]]), Matrix([[10]])]]"
      ]
     },
     "execution_count": 52,
     "metadata": {},
     "output_type": "execute_result"
    }
   ],
   "source": [
    "A_=[[A.row(0)*A.col(0),A.row(0)*A.col(1)],\n",
    "          [A.row(1)*A.col(0),A.row(1)*A.col(1)]\n",
    "          ]\n",
    "A_"
   ]
  },
  {
   "cell_type": "code",
   "execution_count": 32,
   "id": "bc8bf6c2",
   "metadata": {
    "scrolled": false
   },
   "outputs": [
    {
     "data": {
      "text/latex": [
       "$\\displaystyle \\left[\\begin{matrix}13 & 9\\\\9 & 10\\end{matrix}\\right]$"
      ],
      "text/plain": [
       "Matrix([\n",
       "[13,  9],\n",
       "[ 9, 10]])"
      ]
     },
     "execution_count": 32,
     "metadata": {},
     "output_type": "execute_result"
    }
   ],
   "source": [
    "A_=Matrix([[A.row(0)*A.col(0),A.row(0)*A.col(1)],\n",
    "          [A.row(1)*A.col(0),A.row(1)*A.col(1)]\n",
    "          ])\n",
    "A_"
   ]
  },
  {
   "cell_type": "code",
   "execution_count": 66,
   "id": "959fbdf7",
   "metadata": {
    "scrolled": true
   },
   "outputs": [
    {
     "data": {
      "text/latex": [
       "$\\displaystyle \\left[\\begin{matrix}2 & 3\\\\3 & 1\\end{matrix}\\right]$"
      ],
      "text/plain": [
       "Matrix([\n",
       "[2, 3],\n",
       "[3, 1]])"
      ]
     },
     "execution_count": 66,
     "metadata": {},
     "output_type": "execute_result"
    }
   ],
   "source": [
    "A"
   ]
  },
  {
   "cell_type": "code",
   "execution_count": 93,
   "id": "529a919f",
   "metadata": {},
   "outputs": [
    {
     "data": {
      "text/latex": [
       "$\\displaystyle \\left[\\begin{matrix}13 & 9\\\\9 & 10\\end{matrix}\\right]$"
      ],
      "text/plain": [
       "Matrix([\n",
       "[13,  9],\n",
       "[ 9, 10]])"
      ]
     },
     "execution_count": 93,
     "metadata": {},
     "output_type": "execute_result"
    }
   ],
   "source": [
    "A_=Matrix([[A.row(0)*A.col(0),A.row(0)*A.col(1)],\n",
    "          [A.row(1)*A.col(0),A.row(1)*A.col(1)]\n",
    "          ])\n",
    "A_"
   ]
  },
  {
   "cell_type": "code",
   "execution_count": 102,
   "id": "2d45ed2f",
   "metadata": {},
   "outputs": [
    {
     "data": {
      "text/plain": [
       "[[Matrix([[13]]), Matrix([[9]])],\n",
       " [Matrix([[9]]), Matrix([[10]])],\n",
       " [Matrix([[13]]), Matrix([[9]])],\n",
       " [Matrix([[9]]), Matrix([[10]])]]"
      ]
     },
     "execution_count": 102,
     "metadata": {},
     "output_type": "execute_result"
    }
   ],
   "source": [
    "List1=[]\n",
    "for i in range(len(A.row(0))):\n",
    "#     print('row',i)\n",
    "    for j in range(len(A.col(0))):\n",
    "#         print('col',j)\n",
    "#         print(A.row(i)*A.col(j))\n",
    "        List1.append([A.row(i)*A.col(j) for i in range(2)])\n",
    "List1"
   ]
  },
  {
   "cell_type": "code",
   "execution_count": 67,
   "id": "c9d17e20",
   "metadata": {},
   "outputs": [
    {
     "data": {
      "text/latex": [
       "$\\displaystyle \\left[\\begin{matrix}2 & 3\\\\3 & 1\\end{matrix}\\right]$"
      ],
      "text/plain": [
       "Matrix([\n",
       "[2, 3],\n",
       "[3, 1]])"
      ]
     },
     "execution_count": 67,
     "metadata": {},
     "output_type": "execute_result"
    }
   ],
   "source": [
    "A.T"
   ]
  },
  {
   "cell_type": "code",
   "execution_count": 49,
   "id": "f5c3211d",
   "metadata": {},
   "outputs": [
    {
     "data": {
      "text/plain": [
       "<bound method MatrixShaping.row of Matrix([\n",
       "[2, 3],\n",
       "[3, 1]])>"
      ]
     },
     "execution_count": 49,
     "metadata": {},
     "output_type": "execute_result"
    }
   ],
   "source": [
    "A.row"
   ]
  },
  {
   "cell_type": "code",
   "execution_count": 8,
   "id": "96be6638",
   "metadata": {},
   "outputs": [
    {
     "data": {
      "text/latex": [
       "$\\displaystyle \\left[\\begin{matrix}1 & 0\\\\0 & 1\\end{matrix}\\right]$"
      ],
      "text/plain": [
       "Matrix([\n",
       "[1, 0],\n",
       "[0, 1]])"
      ]
     },
     "execution_count": 8,
     "metadata": {},
     "output_type": "execute_result"
    }
   ],
   "source": [
    "Matrix([[1,0],[0,1]]) #단위 행렬ㅠ"
   ]
  },
  {
   "cell_type": "code",
   "execution_count": null,
   "id": "ba76bba8",
   "metadata": {},
   "outputs": [],
   "source": [
    "B=Matrix()"
   ]
  },
  {
   "cell_type": "code",
   "execution_count": 94,
   "id": "6580fed0",
   "metadata": {},
   "outputs": [],
   "source": [
    "import numpy as np"
   ]
  },
  {
   "cell_type": "code",
   "execution_count": 99,
   "id": "b7a4a8b2",
   "metadata": {},
   "outputs": [
    {
     "data": {
      "text/plain": [
       "array([[ 30,  36,  42],\n",
       "       [ 66,  81,  96],\n",
       "       [102, 126, 150]])"
      ]
     },
     "execution_count": 99,
     "metadata": {},
     "output_type": "execute_result"
    }
   ],
   "source": [
    "B=np.array([[1,2,3],[4,5,6],[7,8,9]])\n",
    "np.dot(B,B)"
   ]
  },
  {
   "cell_type": "code",
   "execution_count": 97,
   "id": "9dabf431",
   "metadata": {
    "scrolled": true
   },
   "outputs": [
    {
     "name": "stdout",
     "output_type": "stream",
     "text": [
      "1 2 3\n",
      "4 5 6\n",
      "7 8 9\n"
     ]
    }
   ],
   "source": [
    "for i,j,k in B:\n",
    "    print(i,j,k)"
   ]
  },
  {
   "cell_type": "code",
   "execution_count": 104,
   "id": "1b40988a",
   "metadata": {},
   "outputs": [
    {
     "name": "stdout",
     "output_type": "stream",
     "text": [
      "0\n",
      "14\n",
      "1\n",
      "77\n",
      "2\n",
      "194\n"
     ]
    }
   ],
   "source": [
    "for i in zip(B[0])):\n",
    "    if \n",
    "    print(np.dot(B[i],B[i]))"
   ]
  },
  {
   "cell_type": "code",
   "execution_count": 100,
   "id": "4336bd0c",
   "metadata": {
    "scrolled": true
   },
   "outputs": [
    {
     "data": {
      "text/plain": [
       "[array([1, 2, 3]), array([4, 5, 6]), array([7, 8, 9])]"
      ]
     },
     "execution_count": 100,
     "metadata": {},
     "output_type": "execute_result"
    }
   ],
   "source": [
    "[i for i in B]"
   ]
  },
  {
   "cell_type": "code",
   "execution_count": 2,
   "id": "e9de67ba",
   "metadata": {},
   "outputs": [],
   "source": [
    "from sympy import *"
   ]
  },
  {
   "cell_type": "code",
   "execution_count": 3,
   "id": "4113e568",
   "metadata": {},
   "outputs": [],
   "source": [
    "x,y,z = symbols('x y z')"
   ]
  },
  {
   "cell_type": "code",
   "execution_count": 26,
   "id": "e52f89ee",
   "metadata": {},
   "outputs": [
    {
     "name": "stdout",
     "output_type": "stream",
     "text": [
      "x**2 + 2*x + 5\n",
      "[-1 - 2*I, -1 + 2*I]\n"
     ]
    }
   ],
   "source": [
    "f = x**2+2*x+5\n",
    "print(f)\n",
    "print(solve(f))\n"
   ]
  },
  {
   "cell_type": "code",
   "execution_count": 31,
   "id": "1e476951",
   "metadata": {},
   "outputs": [
    {
     "name": "stdout",
     "output_type": "stream",
     "text": [
      "-x**2 - 4*x - 2\n",
      "[-2 - sqrt(2), -2 + sqrt(2)]\n",
      "-x**2 - 4*x - 2\n"
     ]
    }
   ],
   "source": [
    "f=-1*x**2-4*x-2\n",
    "print(f)\n",
    "print(solve(f))"
   ]
  },
  {
   "cell_type": "code",
   "execution_count": 33,
   "id": "542fc349",
   "metadata": {
    "scrolled": true
   },
   "outputs": [
    {
     "name": "stdout",
     "output_type": "stream",
     "text": [
      "2*x**2 + 6*x - 4\n",
      "[-3/2 + sqrt(17)/2, -sqrt(17)/2 - 3/2]\n",
      "2*(x**2 + 3*x - 2)\n"
     ]
    }
   ],
   "source": [
    "f=2*x**2+6*x-4\n",
    "print(f)\n",
    "print(solve(f))\n",
    "print(factor(f))\n"
   ]
  },
  {
   "cell_type": "code",
   "execution_count": 35,
   "id": "b7abece0",
   "metadata": {},
   "outputs": [
    {
     "name": "stdout",
     "output_type": "stream",
     "text": [
      "3*x**2 - 2*x + 9\n",
      "[1/3 - sqrt(26)*I/3, 1/3 + sqrt(26)*I/3]\n"
     ]
    }
   ],
   "source": [
    "f=3*x**2-2*x+9\n",
    "print(f)\n",
    "print(solve(f))"
   ]
  },
  {
   "cell_type": "code",
   "execution_count": 19,
   "id": "1b4c8081",
   "metadata": {},
   "outputs": [],
   "source": [
    "a,b,x = symbols('a b x')"
   ]
  },
  {
   "cell_type": "code",
   "execution_count": 41,
   "id": "1305f286",
   "metadata": {},
   "outputs": [
    {
     "name": "stdout",
     "output_type": "stream",
     "text": [
      "a**2 + 2*a + 1\n",
      "a**2 + 2*a + 1\n",
      "[-1]\n"
     ]
    }
   ],
   "source": [
    "f = (a+1)**2\n",
    "f_expand=expand(f)\n",
    "print(expand(f))\n",
    "print(simplify(f_expand))\n",
    "print(solve(f))"
   ]
  },
  {
   "cell_type": "code",
   "execution_count": 37,
   "id": "95527eb8",
   "metadata": {
    "scrolled": true
   },
   "outputs": [
    {
     "name": "stdout",
     "output_type": "stream",
     "text": [
      "a**2 + 1.0*a + 0.25\n",
      "[-0.500000000000000]\n"
     ]
    }
   ],
   "source": [
    "f = (a+1/2)**2\n",
    "print(expand(f))\n",
    "print(solve(f))"
   ]
  },
  {
   "cell_type": "code",
   "execution_count": 38,
   "id": "9c491066",
   "metadata": {},
   "outputs": [
    {
     "name": "stdout",
     "output_type": "stream",
     "text": [
      "b**2 + 2*b*x + x**2\n",
      "[{b: -x}]\n"
     ]
    }
   ],
   "source": [
    "f = (x+b)**2\n",
    "print(expand(f))\n",
    "print(solve(f))"
   ]
  }
 ],
 "metadata": {
  "kernelspec": {
   "display_name": "Python 3 (ipykernel)",
   "language": "python",
   "name": "python3"
  },
  "language_info": {
   "codemirror_mode": {
    "name": "ipython",
    "version": 3
   },
   "file_extension": ".py",
   "mimetype": "text/x-python",
   "name": "python",
   "nbconvert_exporter": "python",
   "pygments_lexer": "ipython3",
   "version": "3.10.9"
  }
 },
 "nbformat": 4,
 "nbformat_minor": 5
}
