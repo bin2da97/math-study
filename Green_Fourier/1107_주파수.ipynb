{
 "cells": [
  {
   "cell_type": "code",
   "execution_count": 1,
   "id": "bf9ddc55",
   "metadata": {},
   "outputs": [],
   "source": [
    "import sympy as sp\n",
    "import numpy as np"
   ]
  },
  {
   "cell_type": "code",
   "execution_count": 2,
   "id": "c54030e3",
   "metadata": {},
   "outputs": [],
   "source": [
    "list_1 = [2,3,4,5,6,7]\n",
    "list_2 = [1,2,3,4,5,6,7,8,9,10]"
   ]
  },
  {
   "cell_type": "code",
   "execution_count": 3,
   "id": "b0e7eb77",
   "metadata": {},
   "outputs": [],
   "source": [
    "x = sp.symbols('x')"
   ]
  },
  {
   "cell_type": "code",
   "execution_count": 21,
   "id": "093407ff",
   "metadata": {},
   "outputs": [],
   "source": [
    "f= sp.cos(2*x)"
   ]
  },
  {
   "cell_type": "code",
   "execution_count": 22,
   "id": "ac821b2a",
   "metadata": {},
   "outputs": [],
   "source": [
    "g=sp.cos(3*x)"
   ]
  },
  {
   "cell_type": "code",
   "execution_count": 23,
   "id": "f6150691",
   "metadata": {},
   "outputs": [
    {
     "data": {
      "text/latex": [
       "$\\displaystyle 2.44929359829471 \\cdot 10^{-16}$"
      ],
      "text/plain": [
       "2.44929359829471e-16"
      ]
     },
     "execution_count": 23,
     "metadata": {},
     "output_type": "execute_result"
    }
   ],
   "source": [
    "sp.integrate(f*g,(x,-np.pi,np.pi)) # 0 임"
   ]
  },
  {
   "cell_type": "markdown",
   "id": "de35436f",
   "metadata": {},
   "source": [
    "$$ \\int_{\\infty}^{\\infty}cos(mx)cos(nx)dx \\leftarrow m \\neq n $$"
   ]
  },
  {
   "cell_type": "code",
   "execution_count": 26,
   "id": "4a6bfac4",
   "metadata": {},
   "outputs": [],
   "source": [
    "x,y = sp.symbols('x y')"
   ]
  },
  {
   "cell_type": "code",
   "execution_count": 27,
   "id": "3cd003d3",
   "metadata": {},
   "outputs": [],
   "source": [
    "outer = []\n",
    "for i in list_1:\n",
    "    inner=[]\n",
    "    for j in list_2:\n",
    "        inner.append(sp.cos(i*x)*sp.cos(j*x))\n",
    "    outer.append(inner)"
   ]
  },
  {
   "cell_type": "code",
   "execution_count": 36,
   "id": "8fdd1cd2",
   "metadata": {},
   "outputs": [],
   "source": [
    "split_1=[]\n",
    "split_2=[]\n",
    "result=0\n",
    "for i in outer:\n",
    "    for j in i:\n",
    "        result=sp.integrate(j,(x,-1000*np.pi,1000*np.pi))\n",
    "        if abs(result-0)<0.00001:\n",
    "            split_1.append(result)\n",
    "        else:\n",
    "            split_2.append(result)\n",
    "# split_1"
   ]
  },
  {
   "cell_type": "code",
   "execution_count": 37,
   "id": "4f76e5b4",
   "metadata": {},
   "outputs": [],
   "source": [
    "result=[]\n",
    "for i in list_1:\n",
    "#     print('i',i)\n",
    "    f= sp.cos(i*x)\n",
    "    for j in list_2:\n",
    "#         print(j)\n",
    "        g=sp.cos(j*x)\n",
    "        res=abs(sp.integrate(f*g,(x,-1000*np.pi,1000*np.pi)))-0<0.0000001\n",
    "        if res:\n",
    "            result.append(str(i)+'--'+str(j))\n",
    "# result"
   ]
  },
  {
   "cell_type": "markdown",
   "id": "962188ed",
   "metadata": {},
   "source": [
    "$$ \\int_{\\infty}^{\\infty}cos(mx)cos(nx)dx \\leftarrow m \\neq n $$"
   ]
  },
  {
   "cell_type": "markdown",
   "id": "9f081622",
   "metadata": {},
   "source": [
    "$$ f(x) = \\int_{0}^{\\infty} [A(w) coswx + B(w) sinwx] dw$$\n",
    "$$ A(w) = \\frac{1}{\\pi} \\int_{-\\infty}^{\\infty}f(x) cos wx dx $$\n",
    "$$ B(w) = \\frac{1}{\\pi} \\int_{-\\infty}^{\\infty}f(x) sin wx dx $$\n",
    "$$ 각속도 w = 2\\pi f$$\n",
    "직선 운동에서의 속도(거리/시간)와 마찬가지로 원 운동에서의 각속도는 각도($\\theta$)/시간임<br>\n",
    "주파수는 1초동안에 얼마나 빨리 변하는가 이고 이것은 각속도와 $2\\pi$배 관련이 있음<br>\n",
    "여기서 w는 주파수가 빠르면 크고 진동수가 빨리 변함<br>\n",
    "그래서 신호에서 어떤 주파수 성분이 얼마나 들어 있는지 알려고 하면 해당 주파수의 계수를 알면 되고 그것이 A(w)와 B(w)임"
   ]
  },
  {
   "cell_type": "code",
   "execution_count": null,
   "id": "2cb4f8e1",
   "metadata": {},
   "outputs": [],
   "source": []
  },
  {
   "cell_type": "code",
   "execution_count": null,
   "id": "6e415839",
   "metadata": {},
   "outputs": [],
   "source": []
  },
  {
   "cell_type": "code",
   "execution_count": null,
   "id": "0c612320",
   "metadata": {},
   "outputs": [],
   "source": []
  },
  {
   "cell_type": "code",
   "execution_count": null,
   "id": "7cf6bd40",
   "metadata": {},
   "outputs": [],
   "source": []
  },
  {
   "cell_type": "code",
   "execution_count": null,
   "id": "1d6ebfe3",
   "metadata": {},
   "outputs": [],
   "source": []
  }
 ],
 "metadata": {
  "kernelspec": {
   "display_name": "Python 3 (ipykernel)",
   "language": "python",
   "name": "python3"
  },
  "language_info": {
   "codemirror_mode": {
    "name": "ipython",
    "version": 3
   },
   "file_extension": ".py",
   "mimetype": "text/x-python",
   "name": "python",
   "nbconvert_exporter": "python",
   "pygments_lexer": "ipython3",
   "version": "3.10.13"
  }
 },
 "nbformat": 4,
 "nbformat_minor": 5
}
