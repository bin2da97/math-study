{
 "cells": [
  {
   "cell_type": "markdown",
   "id": "10dad4be",
   "metadata": {},
   "source": [
    "$$ ex-ey=2 $$\n",
    "$$ ex + ey=0 $$"
   ]
  },
  {
   "cell_type": "code",
   "execution_count": 1,
   "id": "d35f16a3",
   "metadata": {},
   "outputs": [],
   "source": [
    "import sympy as sp"
   ]
  },
  {
   "cell_type": "code",
   "execution_count": 2,
   "id": "d419c389",
   "metadata": {},
   "outputs": [
    {
     "data": {
      "text/plain": [
       "{x: exp(-1), y: -exp(-1)}"
      ]
     },
     "execution_count": 2,
     "metadata": {},
     "output_type": "execute_result"
    }
   ],
   "source": [
    "x,y  = sp.symbols('x y',real=True)\n",
    "eq1=sp.Eq(sp.E*x - sp.E*y,2) #방정식 직선\n",
    "eq2=sp.Eq(sp.E*x + sp.E*y,0) #방정식 직선\n",
    "sols = sp.solve([eq1,eq2]) #두 직선의 방정식 교점 구하기\n",
    "sols"
   ]
  },
  {
   "cell_type": "code",
   "execution_count": 3,
   "id": "b93ca3ee",
   "metadata": {},
   "outputs": [
    {
     "data": {
      "text/latex": [
       "$\\displaystyle \\text{True}$"
      ],
      "text/plain": [
       "True"
      ]
     },
     "execution_count": 3,
     "metadata": {},
     "output_type": "execute_result"
    }
   ],
   "source": [
    "eq1.subs(sols) #해 확인 , substitude(대입)"
   ]
  },
  {
   "cell_type": "code",
   "execution_count": 4,
   "id": "400bccef",
   "metadata": {},
   "outputs": [
    {
     "data": {
      "text/latex": [
       "$\\displaystyle \\text{True}$"
      ],
      "text/plain": [
       "True"
      ]
     },
     "execution_count": 4,
     "metadata": {},
     "output_type": "execute_result"
    }
   ],
   "source": [
    "eq2.subs(sols) #해 확인"
   ]
  },
  {
   "cell_type": "markdown",
   "id": "7f8adf8e",
   "metadata": {},
   "source": [
    "행렬의 형태로 문제 풀자"
   ]
  },
  {
   "cell_type": "markdown",
   "id": "0c7464d5",
   "metadata": {},
   "source": [
    "<img src='images/a.jpg'>"
   ]
  },
  {
   "cell_type": "code",
   "execution_count": 5,
   "id": "646871be",
   "metadata": {
    "scrolled": true
   },
   "outputs": [
    {
     "data": {
      "text/latex": [
       "$\\displaystyle \\left[\\begin{matrix}e^{-1}\\\\- \\frac{1}{e}\\end{matrix}\\right]$"
      ],
      "text/plain": [
       "Matrix([\n",
       "[ exp(-1)],\n",
       "[-exp(-1)]])"
      ]
     },
     "execution_count": 5,
     "metadata": {},
     "output_type": "execute_result"
    }
   ],
   "source": [
    "coeffs = sp.Matrix([[sp.E,-sp.E],[sp.E,sp.E]])\n",
    "const = sp.Matrix([2,0])\n",
    "# [coeffs,const]\n",
    "coeffs.solve(const)"
   ]
  },
  {
   "cell_type": "code",
   "execution_count": 6,
   "id": "e6d83cf9",
   "metadata": {
    "scrolled": true
   },
   "outputs": [],
   "source": [
    "coeffs = sp.Matrix([[2,1],[1,2]])\n",
    "const = sp.Matrix([3,6])\n",
    "sols=coeffs.solve(const)\n",
    "# coeffs.subs(sols)"
   ]
  },
  {
   "cell_type": "markdown",
   "id": "e62d5d64",
   "metadata": {},
   "source": [
    "$$ 3x + 2y + 3z=11 $$\n",
    "$$ 7x - 3y + 6z=17 $$\n",
    "$$ 6x - 31y + 16z=13 $$"
   ]
  },
  {
   "cell_type": "code",
   "execution_count": 7,
   "id": "2be614de",
   "metadata": {},
   "outputs": [],
   "source": [
    "eq1='3*x+2*y+3*z='\n",
    "eq1='3*x+2*y+3*z'\n",
    "eq1='3*x+2*y+3*z'"
   ]
  },
  {
   "cell_type": "code",
   "execution_count": 8,
   "id": "a22557a8",
   "metadata": {},
   "outputs": [
    {
     "data": {
      "text/latex": [
       "$\\displaystyle \\left[\\begin{matrix}\\frac{334}{335}\\\\\\frac{287}{335}\\\\\\frac{703}{335}\\end{matrix}\\right]$"
      ],
      "text/plain": [
       "Matrix([\n",
       "[334/335],\n",
       "[287/335],\n",
       "[703/335]])"
      ]
     },
     "execution_count": 8,
     "metadata": {},
     "output_type": "execute_result"
    }
   ],
   "source": [
    "a = sp.Matrix([[3,2,3],[7,-3,6],[6,-31,16]])\n",
    "b = sp.Matrix([11,17,13])\n",
    "a.solve(b)"
   ]
  },
  {
   "cell_type": "code",
   "execution_count": 13,
   "id": "85cf6ced",
   "metadata": {},
   "outputs": [
    {
     "data": {
      "text/latex": [
       "$\\displaystyle \\left[\\begin{matrix}1 & 0 & 0\\\\0 & 1 & 0\\\\0 & 0 & 1\\end{matrix}\\right]$"
      ],
      "text/plain": [
       "Matrix([\n",
       "[1, 0, 0],\n",
       "[0, 1, 0],\n",
       "[0, 0, 1]])"
      ]
     },
     "execution_count": 13,
     "metadata": {},
     "output_type": "execute_result"
    }
   ],
   "source": [
    "a*a.inv()"
   ]
  },
  {
   "cell_type": "code",
   "execution_count": 9,
   "id": "2a921ae2",
   "metadata": {},
   "outputs": [],
   "source": [
    "import numpy as np"
   ]
  },
  {
   "cell_type": "code",
   "execution_count": 10,
   "id": "5289cdb2",
   "metadata": {},
   "outputs": [
    {
     "data": {
      "text/plain": [
       "(array([0.99701493, 0.85671642, 2.09850746]), 0.9970149253731343)"
      ]
     },
     "execution_count": 10,
     "metadata": {},
     "output_type": "execute_result"
    }
   ],
   "source": [
    "A=np.array([[3,2,3],[7,-3,6],[6,-31,16]])\n",
    "x=np.dot(np.linalg.inv(A),np.array([11,17,13]))\n",
    "x,334/335"
   ]
  },
  {
   "cell_type": "code",
   "execution_count": 14,
   "id": "3452c14e",
   "metadata": {
    "scrolled": true
   },
   "outputs": [
    {
     "data": {
      "text/latex": [
       "$\\displaystyle \\left[\\begin{matrix}- \\frac{232}{57}\\\\- \\frac{350}{57}\\\\- \\frac{127}{57}\\\\\\frac{364}{57}\\end{matrix}\\right]$"
      ],
      "text/plain": [
       "Matrix([\n",
       "[-232/57],\n",
       "[-350/57],\n",
       "[-127/57],\n",
       "[ 364/57]])"
      ]
     },
     "execution_count": 14,
     "metadata": {},
     "output_type": "execute_result"
    }
   ],
   "source": [
    "a = sp.Matrix([[3,2,7,8],[2,-1,-1,2],[1,-1,1,3],[6,2,-1,9]])\n",
    "b = sp.Matrix([11,13,19,23])\n",
    "a.solve(b)"
   ]
  },
  {
   "cell_type": "code",
   "execution_count": 20,
   "id": "95859504",
   "metadata": {},
   "outputs": [
    {
     "data": {
      "text/plain": [
       "(array([-4.07017544, -6.14035088, -2.22807018,  6.38596491]),\n",
       " -4.0701754385964914)"
      ]
     },
     "execution_count": 20,
     "metadata": {},
     "output_type": "execute_result"
    }
   ],
   "source": [
    "A=np.array([[3,2,7,8],[2,-1,-1,2],[1,-1,1,3],[6,2,-1,9]])\n",
    "x=np.dot(np.linalg.inv(A),np.array([11,13,19,23]))\n",
    "x"
   ]
  },
  {
   "cell_type": "code",
   "execution_count": 25,
   "id": "ff555ce7",
   "metadata": {},
   "outputs": [
    {
     "data": {
      "text/plain": [
       "0"
      ]
     },
     "execution_count": 25,
     "metadata": {},
     "output_type": "execute_result"
    }
   ],
   "source": [
    "cnt=0\n",
    "for i,j in zip(a.solve(b),x):\n",
    "    if not abs(i-j)<0.0001:\n",
    "        cnt+=1\n",
    "cnt"
   ]
  },
  {
   "cell_type": "code",
   "execution_count": 23,
   "id": "b11a0ec2",
   "metadata": {},
   "outputs": [
    {
     "data": {
      "text/plain": [
       "(-4.0701754385964914,\n",
       " -6.140350877192983,\n",
       " -2.2280701754385963,\n",
       " 6.385964912280702)"
      ]
     },
     "execution_count": 23,
     "metadata": {},
     "output_type": "execute_result"
    }
   ],
   "source": [
    "-232/57,-350/57,-127/57,364/57"
   ]
  }
 ],
 "metadata": {
  "kernelspec": {
   "display_name": "Python 3 (ipykernel)",
   "language": "python",
   "name": "python3"
  },
  "language_info": {
   "codemirror_mode": {
    "name": "ipython",
    "version": 3
   },
   "file_extension": ".py",
   "mimetype": "text/x-python",
   "name": "python",
   "nbconvert_exporter": "python",
   "pygments_lexer": "ipython3",
   "version": "3.10.9"
  }
 },
 "nbformat": 4,
 "nbformat_minor": 5
}
