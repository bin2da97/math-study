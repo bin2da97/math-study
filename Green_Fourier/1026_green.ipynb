{
 "cells": [
  {
   "cell_type": "markdown",
   "id": "989ce27b",
   "metadata": {},
   "source": [
    "## 그린의 정리"
   ]
  },
  {
   "cell_type": "markdown",
   "id": "85fccf6d",
   "metadata": {},
   "source": [
    "$$ \\oint_{C}(xy+y^{2})dx +x^{2} dy $$\n",
    "$$ 여기서 C는 y=x 이고 y=x^{2}으로 영역을 가진 닫힌 곡선을 말함 $$"
   ]
  },
  {
   "cell_type": "markdown",
   "id": "8bbab5df",
   "metadata": {},
   "source": [
    "$$ y = x^{2}을 따라 (0,0)에서부터  (1,1)까지 선 적분 $$\n",
    "$$ \\int_{0}^{1}(x x^{2}+x^{4})dx + x^{2}(2xdx) = \\int_{0}^{1}(3x^{3}+x^{4})dx = \\frac{19}{20}$$"
   ]
  },
  {
   "cell_type": "markdown",
   "id": "c5750575",
   "metadata": {},
   "source": [
    "$$ y = x 을 따라 (1,1)에서부터 (0,0)까지 선 적분 $$\n",
    "$$ \\int_{1}^{0}(xx+x^{2})dx + x^{2}dx = \\int_{1}^{0}3x^2 dx = \\left[x^3\\right]_{1}^{0}= 0-1 =-1$$"
   ]
  },
  {
   "cell_type": "markdown",
   "id": "8a16b2fb",
   "metadata": {},
   "source": [
    "그러므로 요구되는 선 적분은 $\\frac{19}{20}-1=-\\frac{1}{20}$"
   ]
  },
  {
   "cell_type": "markdown",
   "id": "b12b6ae6",
   "metadata": {},
   "source": [
    "$$ \\phi = (xy+y^2), Q = x^2 $$"
   ]
  },
  {
   "cell_type": "markdown",
   "id": "33ba969f",
   "metadata": {},
   "source": [
    "$$ \\oint_{C}  (\\phi dx +  Q dy )  = \\int\\int_{R} (\\frac{\\partial Q }{\\partial x} - \\frac{\\partial (xy + y2) }{\\partial y}) dx dy   $$"
   ]
  },
  {
   "cell_type": "markdown",
   "id": "51d2546e",
   "metadata": {},
   "source": [
    "$$ \\int \\int_{R} (\\frac{\\partial Q }{\\partial x} - \\frac{\\partial \\phi }{\\partial y}) dx dy   =  \\int \\int_{R} (\\frac{\\partial x^2 }{\\partial x} - \\frac{\\partial \\phi }{\\partial y}) dx dy = \\int \\int_{R} (2x-(x+2y)) dx dy $$"
   ]
  },
  {
   "cell_type": "markdown",
   "id": "03199cc3",
   "metadata": {},
   "source": [
    "$$ \\int_{x=0}^{1} dx \\int_{y=x^2}^{x}(x-2y) dy  = \\int_{x=0}^{1} \\left[  xy -y^2  \\right ]_{x}^{x^{2}} dx = \\int_{x=0}^{1}  (x^4 -x^3) dx \n",
    "=  \\left[  \\frac{x^5}{5}  - \\frac{x^4}{4} \\right] _{0}^{1} =-\\frac{1}{20}\n",
    "$$"
   ]
  }
 ],
 "metadata": {
  "kernelspec": {
   "display_name": "Python 3 (ipykernel)",
   "language": "python",
   "name": "python3"
  },
  "language_info": {
   "codemirror_mode": {
    "name": "ipython",
    "version": 3
   },
   "file_extension": ".py",
   "mimetype": "text/x-python",
   "name": "python",
   "nbconvert_exporter": "python",
   "pygments_lexer": "ipython3",
   "version": "3.10.9"
  }
 },
 "nbformat": 4,
 "nbformat_minor": 5
}
