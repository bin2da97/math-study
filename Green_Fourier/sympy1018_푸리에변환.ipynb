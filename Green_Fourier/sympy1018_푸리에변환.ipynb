{
 "cells": [
  {
   "cell_type": "markdown",
   "id": "d89abbbc",
   "metadata": {},
   "source": [
    "$$ v(속도)=\\frac{s(거리)}{t} \\rightarrow \\omega(각속도) = \\frac{\\theta}{t} $$ \n",
    "\n",
    "$$ 원주율 = 2\\pi \\rightarrow 원의 둘레 = 2\\pi r $$\n",
    "\n",
    "$$ \\omega(각속도) = 2\\pi f , f= frequency(주파수)$$\n",
    "\n",
    "주파수 = 파동 (1초에 얼마나 빨리 움직이는가?)\n",
    "\n",
    "하나의 파형은 $\\frac{1}{T}초,T=주기$\n",
    "\n",
    "주파수의 단위는 Hz\n",
    "전기 신호는 220v, 60Hz, 진폭 220, 주파수(진동수)가 60"
   ]
  },
  {
   "cell_type": "markdown",
   "id": "d1b6f338",
   "metadata": {},
   "source": [
    "<img src='images/1.gif'>"
   ]
  },
  {
   "cell_type": "markdown",
   "id": "a9005b15",
   "metadata": {},
   "source": [
    "$$ f(t) \\Rightarrow f(\\omega)=\\int_{-\\infty}^{\\infty}f(t)e^{-iwt}dt $$"
   ]
  },
  {
   "cell_type": "markdown",
   "id": "24354ff1",
   "metadata": {},
   "source": [
    "$$ f(t) \\Rightarrow f(\\omega)=\\int_{-\\infty}^{\\infty}f(t) (cos(2\\pi ft)+jsin(2\\pi f t))dt$$"
   ]
  },
  {
   "cell_type": "markdown",
   "id": "0d3e5956",
   "metadata": {},
   "source": [
    "$$ f(t) \\Rightarrow f(\\omega)=\\int_{-\\infty}^{\\infty}f(t) (cos(\\theta)+jsin(\\theta))dt$$"
   ]
  },
  {
   "cell_type": "markdown",
   "id": "1563f7aa",
   "metadata": {},
   "source": [
    "공학에서 허수를 보통 j로 표기"
   ]
  },
  {
   "cell_type": "markdown",
   "id": "bbca7ccf",
   "metadata": {},
   "source": [
    "$$ e^{-jwt} = cos(\\omega t)+ j*sin(\\omega t)  = cos(\\theta)+ j*sin(\\theta)  = \n",
    "    cos(2\\pi f t)+ j*sin(2\\pi f t)\n",
    "$$"
   ]
  },
  {
   "cell_type": "markdown",
   "id": "6fb45737",
   "metadata": {},
   "source": [
    "<img src='images/3.gif'/>"
   ]
  },
  {
   "cell_type": "markdown",
   "id": "16040cba",
   "metadata": {},
   "source": [
    "## 오일러 공식\n",
    "<img src='images/u.jpg'/>"
   ]
  },
  {
   "cell_type": "markdown",
   "id": "6ed1f91e",
   "metadata": {},
   "source": [
    "<video class=\"video\" autoplay controls>\n",
    "    <source type=\"video/mp4\" src='images/f.mp4' >\n",
    "</video>"
   ]
  },
  {
   "cell_type": "markdown",
   "id": "974a5fca",
   "metadata": {},
   "source": [
    "## 푸리에 변환의 유도과정"
   ]
  },
  {
   "cell_type": "markdown",
   "id": "06353eae",
   "metadata": {},
   "source": [
    "$$ x(t) = \\sum_{k= -\\infty }^{ \\infty} c_{k} exp \\left( j\\frac{2 \\pi k }{T}t \\right)\n",
    "-(1)  $$"
   ]
  },
  {
   "cell_type": "markdown",
   "id": "f171fc04",
   "metadata": {},
   "source": [
    "$$ c_{k} = \\frac{1}{T} \\int_{0}^{T} x(t) exp \\left( j\\frac{2 \\pi k }{T}t \\right)-(2)  $$\n"
   ]
  },
  {
   "cell_type": "markdown",
   "id": "2bd008b9",
   "metadata": {},
   "source": [
    "푸리에 급수에서 푸리에 변환으로 넘어가는 과정에서 필요한것은 T $ \\rightarrow \\infty$이다"
   ]
  },
  {
   "cell_type": "markdown",
   "id": "5a6e7cfc",
   "metadata": {},
   "source": [
    "푸리에 급수는 주기 신호이고, 푸리에 변환은 비주기 신호"
   ]
  },
  {
   "cell_type": "markdown",
   "id": "cbed0deb",
   "metadata": {},
   "source": [
    "식(2)는 x(t)가 주기 함수이기 때문에 다음이 성립한다."
   ]
  },
  {
   "cell_type": "markdown",
   "id": "39cdd662",
   "metadata": {},
   "source": [
    "$$ c_{k} = \\frac{1}{T} \\int_{0}^{T} x(t)  exp \\left( j\\frac{2 \\pi k }{T}t \\right)dt \n",
    "= \\frac{1}{T} \\int_{- \\frac{T}{2}}^{\\frac{T}{2}} x(t)  exp \\left( j\\frac{2 \\pi k }{T}t \\right)dt \n",
    "-(3)  $$\n"
   ]
  },
  {
   "cell_type": "markdown",
   "id": "2b2c7c55",
   "metadata": {},
   "source": []
  },
  {
   "cell_type": "markdown",
   "id": "fbc73ef7",
   "metadata": {},
   "source": []
  },
  {
   "cell_type": "code",
   "execution_count": null,
   "id": "f2af1a47",
   "metadata": {},
   "outputs": [],
   "source": []
  },
  {
   "cell_type": "code",
   "execution_count": null,
   "id": "85550dc8",
   "metadata": {},
   "outputs": [],
   "source": []
  },
  {
   "cell_type": "code",
   "execution_count": null,
   "id": "c357306d",
   "metadata": {},
   "outputs": [],
   "source": []
  }
 ],
 "metadata": {
  "kernelspec": {
   "display_name": "Python 3 (ipykernel)",
   "language": "python",
   "name": "python3"
  },
  "language_info": {
   "codemirror_mode": {
    "name": "ipython",
    "version": 3
   },
   "file_extension": ".py",
   "mimetype": "text/x-python",
   "name": "python",
   "nbconvert_exporter": "python",
   "pygments_lexer": "ipython3",
   "version": "3.10.9"
  }
 },
 "nbformat": 4,
 "nbformat_minor": 5
}
