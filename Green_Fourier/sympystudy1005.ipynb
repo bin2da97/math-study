{
 "cells": [
  {
   "cell_type": "code",
   "execution_count": 3,
   "id": "0666072e",
   "metadata": {},
   "outputs": [],
   "source": [
    "import sympy as sp"
   ]
  },
  {
   "cell_type": "markdown",
   "id": "e5b4a3ea",
   "metadata": {},
   "source": [
    "$$ x+2y+3z=2 $$\n",
    "$$ 2x+2y+2z=4 $$\n",
    "$$ 3x+6y+7z=8 $$"
   ]
  },
  {
   "cell_type": "markdown",
   "id": "63d417df",
   "metadata": {},
   "source": [
    "\\begin{bmatrix}\n",
    "1\\\\\n",
    " 2\\\\\n",
    "3\n",
    "\\end{bmatrix}\n",
    "\\begin{bmatrix}\n",
    "1\\\\\n",
    " 2\\\\\n",
    "6\n",
    "\\end{bmatrix}\n",
    "\\begin{bmatrix}\n",
    "1 \\\\\n",
    " 2\\\\\n",
    "7\n",
    "\\end{bmatrix}"
   ]
  },
  {
   "cell_type": "code",
   "execution_count": 17,
   "id": "124ab9dd",
   "metadata": {},
   "outputs": [],
   "source": [
    "import numpy as np"
   ]
  },
  {
   "cell_type": "code",
   "execution_count": 54,
   "id": "662292a3",
   "metadata": {},
   "outputs": [],
   "source": [
    "a = np.array([1,2,3])\n",
    "b = np.array([1,4,6])\n",
    "c = np.array([1,2,7])"
   ]
  },
  {
   "cell_type": "code",
   "execution_count": 67,
   "id": "d375827e",
   "metadata": {},
   "outputs": [],
   "source": [
    "a = np.array([1,1,1])\n",
    "b = np.array([2,4,2])\n",
    "c = np.array([3,6,7])"
   ]
  },
  {
   "cell_type": "code",
   "execution_count": 69,
   "id": "d0771732",
   "metadata": {},
   "outputs": [
    {
     "name": "stdout",
     "output_type": "stream",
     "text": [
      "[array([1, 1, 1]), array([2, 4, 2]), array([3, 6, 7])]\n"
     ]
    },
    {
     "data": {
      "text/plain": [
       "array([[ 2.00000000e+00, -1.25000000e-01, -2.50000000e-01],\n",
       "       [-1.00000000e+00,  5.00000000e-01, -0.00000000e+00],\n",
       "       [-8.32667268e-17, -3.75000000e-01,  2.50000000e-01]])"
      ]
     },
     "execution_count": 69,
     "metadata": {},
     "output_type": "execute_result"
    }
   ],
   "source": [
    "A=[a,b,c]\n",
    "print(A)\n",
    "np.linalg.inv(A)"
   ]
  },
  {
   "cell_type": "code",
   "execution_count": 70,
   "id": "ba365a13",
   "metadata": {},
   "outputs": [],
   "source": [
    "d=np.array([2,4,100])"
   ]
  },
  {
   "cell_type": "code",
   "execution_count": 71,
   "id": "3c2bd47c",
   "metadata": {},
   "outputs": [
    {
     "data": {
      "text/plain": [
       "array([-2.15000000e+01, -2.22044605e-16,  2.35000000e+01])"
      ]
     },
     "execution_count": 71,
     "metadata": {},
     "output_type": "execute_result"
    }
   ],
   "source": [
    "np.dot(np.linalg.inv(A),d)"
   ]
  },
  {
   "cell_type": "code",
   "execution_count": 74,
   "id": "099a4984",
   "metadata": {},
   "outputs": [
    {
     "data": {
      "text/plain": [
       "array([  2.,   4., 100.])"
      ]
     },
     "execution_count": 74,
     "metadata": {},
     "output_type": "execute_result"
    }
   ],
   "source": [
    "b*-35.75+c*24.5"
   ]
  },
  {
   "cell_type": "code",
   "execution_count": 22,
   "id": "6ce8113d",
   "metadata": {},
   "outputs": [
    {
     "data": {
      "text/plain": [
       "array([2., 4., 8.])"
      ]
     },
     "execution_count": 22,
     "metadata": {},
     "output_type": "execute_result"
    }
   ],
   "source": [
    "a*1.5+b*0+c*0.5"
   ]
  },
  {
   "cell_type": "code",
   "execution_count": 20,
   "id": "204b760c",
   "metadata": {},
   "outputs": [
    {
     "data": {
      "text/plain": [
       "array([1, 2, 3])"
      ]
     },
     "execution_count": 20,
     "metadata": {},
     "output_type": "execute_result"
    }
   ],
   "source": [
    "4*b-3*c"
   ]
  },
  {
   "cell_type": "code",
   "execution_count": 4,
   "id": "108f7c2e",
   "metadata": {},
   "outputs": [],
   "source": [
    "x,y,z= sp.symbols('x y z')"
   ]
  },
  {
   "cell_type": "code",
   "execution_count": 28,
   "id": "9664f887",
   "metadata": {},
   "outputs": [],
   "source": [
    "eq1=sp.Eq(x+y+z,2)\n",
    "eq2=sp.Eq(2*x+3*y+2*z,4)\n",
    "eq3=sp.Eq(3*x+6*y+7*z,100)"
   ]
  },
  {
   "cell_type": "code",
   "execution_count": 29,
   "id": "53138e45",
   "metadata": {},
   "outputs": [
    {
     "data": {
      "text/plain": [
       "{x: -43/2, y: 0, z: 47/2}"
      ]
     },
     "execution_count": 29,
     "metadata": {},
     "output_type": "execute_result"
    }
   ],
   "source": [
    "sp.solve([eq1,eq2,eq3])"
   ]
  },
  {
   "cell_type": "code",
   "execution_count": null,
   "id": "7e3218f3",
   "metadata": {},
   "outputs": [],
   "source": []
  },
  {
   "cell_type": "code",
   "execution_count": null,
   "id": "bfdbf4e9",
   "metadata": {},
   "outputs": [],
   "source": []
  },
  {
   "cell_type": "code",
   "execution_count": null,
   "id": "e0a2f742",
   "metadata": {},
   "outputs": [],
   "source": []
  },
  {
   "cell_type": "code",
   "execution_count": null,
   "id": "4865b4c3",
   "metadata": {},
   "outputs": [],
   "source": []
  }
 ],
 "metadata": {
  "kernelspec": {
   "display_name": "Python 3 (ipykernel)",
   "language": "python",
   "name": "python3"
  },
  "language_info": {
   "codemirror_mode": {
    "name": "ipython",
    "version": 3
   },
   "file_extension": ".py",
   "mimetype": "text/x-python",
   "name": "python",
   "nbconvert_exporter": "python",
   "pygments_lexer": "ipython3",
   "version": "3.10.9"
  }
 },
 "nbformat": 4,
 "nbformat_minor": 5
}
