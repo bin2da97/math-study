{
 "cells": [
  {
   "cell_type": "markdown",
   "id": "262bd2d1",
   "metadata": {},
   "source": [
    "## 선형회귀(linear regression)\n",
    "feature와 label은 항상 쌍으로 주어지고, feature가 하나 인것을 simple linear regression이라고 하고 feature가 여러개 있고 label이 하나있는것을 multivariable linear regression이라고 함"
   ]
  },
  {
   "cell_type": "markdown",
   "id": "8c9f5d2e",
   "metadata": {},
   "source": [
    "데이터가 여러개가 있고 여러개의 데이터를 하나의 점으로 생각하고 벡터로 생각하자\n",
    "여러개의 점과 가장 오차가 적게되는 직선의 방정식(hypothesis $ \\hat{y} $)과의 차이가 적게 $ \\hat{y} $이 계속 움직이면서 오차를 적게 하려는 방향으로 학습(갱신,w와 b를 변경)하면서 cost(오차, Mean Square Error)가 0으로 가까워 지도록 학습을 하게 되면 우리가 찾고자 하는 y(정답)과 가까운 $ \\hat{y} $을 찾게 되는 것이고 그것이 linear regression의 학습이 완료된것이다."
   ]
  },
  {
   "cell_type": "markdown",
   "id": "125d2f9a",
   "metadata": {},
   "source": [
    "$$ J = \\frac{1}{2m}\\sum_{i=1}^{m}(y-\\hat{y})^{2} \\rightarrow MSE $$"
   ]
  },
  {
   "cell_type": "markdown",
   "id": "66d30965",
   "metadata": {},
   "source": [
    "# Optional Lab: Gradient Descent for Linear Regression\n",
    "\n",
    "<figure>\n",
    "    <center> <img src=\"./images/C1_W1_L4_S1_Lecture_GD.png\"  style=\"width:800px;height:200px;\" ></center>\n",
    "</figure>"
   ]
  },
  {
   "cell_type": "markdown",
   "id": "17feddcb",
   "metadata": {},
   "source": [
    "*경사 하강* gradient descent\n",
    "\n",
    "$$\\begin{align*} \\text{repeat}&\\text{ until convergence(수렴):} \\; \\lbrace \\newline\n",
    "\\;  w &= w -  \\alpha \\frac{\\partial J(w,b)}{\\partial w} \\tag{3}  \\; \\newline \n",
    " b &= b -  \\alpha \\frac{\\partial J(w,b)}{\\partial b}  \\newline \\rbrace\n",
    "\\end{align*}$$\n",
    "where, parameters $w$, $b$ are updated simultaneously.  \n",
    "The gradient is defined as:\n",
    "$$\n",
    "\\begin{align}\n",
    "\\frac{\\partial J(w,b)}{\\partial w}  &= \\frac{1}{m} \\sum\\limits_{i = 0}^{m-1} (f_{w,b}(x^{(i)}) - y^{(i)})x^{(i)} \\tag{4}\\\\\n",
    "  \\frac{\\partial J(w,b)}{\\partial b}  &= \\frac{1}{m} \\sum\\limits_{i = 0}^{m-1} (f_{w,b}(x^{(i)}) - y^{(i)}) \\tag{5}\\\\\n",
    "\\end{align}\n",
    "$$\n",
    "\n",
    "Here *simultaniously* means that you calculate the partial derivatives for all the parameters before updating any of the parameters."
   ]
  },
  {
   "cell_type": "markdown",
   "id": "b9baddae",
   "metadata": {},
   "source": [
    "$$ \\frac{\\partial J(w,b)}{\\partial w} = ? $$"
   ]
  },
  {
   "cell_type": "markdown",
   "id": "112d0af7",
   "metadata": {},
   "source": [
    "$$ J = \\frac{1}{2m}\\sum_{i=1}^{m}(y-\\hat{y})^{2} \\rightarrow MSE $$\n",
    "$$ J = \\frac{1}{2m}\\sum_{i=1}^{m}(y-(wx+b))^{2} \\rightarrow MSE $$\n",
    "$$ wx+b \\rightarrow p $$\n",
    "$$ y-\\hat{y} \\rightarrow q $$\n",
    "$$ y-p \\rightarrow q $$\n",
    "$$ \\frac{\\partial J}{\\partial w} = \\frac{\\partial J}{\\partial q}\\frac{\\partial q}{\\partial p}\\frac{\\partial p}{\\partial w} = $$\n",
    "$$ J = \\frac{1}{2m}\\sum_{i=1}^{m}q^{2} $$\n",
    "$$  \\frac{\\partial J(w,b)}{\\partial q} = \\frac{1}{2m}\\sum_{i=1}^{m} 2q$$\n",
    "$$ \\frac{\\partial p}{\\partial w} = x$$\n",
    "$$ \\frac{\\partial q}{\\partial p} = -1$$\n",
    "\n",
    "$$ \\frac{1}{m}\\sum_{i=1}^{m}(y-\\hat{y}) \\cdot(-1) \\cdot x $$\n",
    "$$ -\\frac{1}{m}\\sum_{i=1}^{m}(y-\\hat{y})\\cdot x $$\n"
   ]
  },
  {
   "cell_type": "markdown",
   "id": "c2776c2c",
   "metadata": {},
   "source": [
    "<img src='images/linear1.gif'/>"
   ]
  },
  {
   "cell_type": "markdown",
   "id": "45d1335d",
   "metadata": {},
   "source": [
    "<img src='images/linear2.gif'/>"
   ]
  },
  {
   "cell_type": "markdown",
   "id": "50548e6e",
   "metadata": {},
   "source": [
    "<img src='images/linear3.gif'/>"
   ]
  },
  {
   "cell_type": "code",
   "execution_count": null,
   "id": "fcda2849",
   "metadata": {},
   "outputs": [],
   "source": [
    "!pip install basemap"
   ]
  },
  {
   "cell_type": "code",
   "execution_count": null,
   "id": "f18c2548",
   "metadata": {},
   "outputs": [],
   "source": [
    "!pip install celluloid"
   ]
  },
  {
   "cell_type": "code",
   "execution_count": null,
   "id": "a342f607",
   "metadata": {},
   "outputs": [],
   "source": [
    "import numpy as np\n",
    "import matplotlib.pyplot as plt\n",
    "from mpl_toolkits.mplot3d import Axes3D\n",
    "import celluloid\n",
    "from celluloid import Camera"
   ]
  },
  {
   "cell_type": "code",
   "execution_count": null,
   "id": "957258e3",
   "metadata": {},
   "outputs": [],
   "source": [
    "class LinearRegression(object):\n",
    "    def __init__(self,w=1,b=1,lr=0.01):\n",
    "        self.lr=lr\n",
    "        self.w = np.array([[w]])\n",
    "        self.b = np.array([b])\n",
    "    def cost(self,x,y):\n",
    "        pred=x@self.w+self.b #예측한 직선의 방정식(y_hat,hypothesis(가설))\n",
    "        #@ 내적\n",
    "        e=y-pred #오차\n",
    "        return np.mean(e**2) #MSE\n",
    "    def fit(self,x,y): \n",
    "        pred=x@self.w+self.b\n",
    "        e=y-pred\n",
    "        dJ_dw = (np.mean(e*(-2*x),axis=0)) #J를 W로 편미분 ,0,1에 따라 가로세로 \n",
    "        dJ_db = (np.mean(e*(-2),axis=0)) #J를 b로 편미분\n",
    "        self.w = (self.w.T-self.lr*dJ_dw).T # w로 갱신\n",
    "        self.b = (self.b-self.lr*dJ_db) #b 갱신\n",
    "    def predict(self,x):\n",
    "        return (x@self.w.T+self.b) #예측값 반환\n",
    "    def params(self):\n",
    "        return (self.w,self.b) #우리가 찾고자 하는 파라미터 반환"
   ]
  },
  {
   "cell_type": "code",
   "execution_count": null,
   "id": "40c78da1",
   "metadata": {},
   "outputs": [],
   "source": [
    "# Introduce training data\n",
    "x_train = np.array([     \n",
    "    [1],\n",
    "    [2],\n",
    "    [4],\n",
    "    [5],\n",
    "    [6],\n",
    "    [7]\n",
    "])\n",
    "y_train = np.array([     \n",
    "    [4],\n",
    "    [-12],\n",
    "    [3],\n",
    "    [-11],\n",
    "    [-5],\n",
    "    [-17]\n",
    "])\n",
    "w_list=[] # weight(기울기) 저장\n",
    "b_list=[] # bias(y절편 저장)\n",
    "c_list=[] #cost 저장\n",
    "ys_list=[] #xs에 대한 예측값 저장을 위한 리스트\n",
    "cl_list=[] #x_train을 위한 예측해 y값을 저장하는 리스트\n",
    "xs=np.array([#regression 직선을 그리기 위한 x_value 설정\n",
    "    [-3],\n",
    "    [10]\n",
    "])\n",
    "# 모델 학습 (training)\n",
    "model = LinearRegression(w=3,b=1,lr=0.001)\n",
    "for i in range(60000): #반복 (epoch) 횟수 지정\n",
    "    w_list.append(model.params()[0]) # 기울기 저장\n",
    "    b_list.append(model.params()[1]) # y 절편\n",
    "    c_list.append(model.cost(x_train,y_train)) #cost를 저장\n",
    "    ys_list.append(model.predict(xs).T)#xs에 해당하는 y예측값 저장\n",
    "    cl_list.append(model.predict(x_train).T) #x_train에 해당하는 y 값 저장\n",
    "    model.fit(x_train,y_train)\n",
    "print('weight'+str(model.params()[0]))\n",
    "print('y_절편'+str(model.params()[1]))\n",
    "print('costs : '+str(model.cost(x_train,y_train)))\n",
    "    "
   ]
  },
  {
   "cell_type": "code",
   "execution_count": null,
   "id": "a02d6c07",
   "metadata": {},
   "outputs": [],
   "source": [
    "import sklearn\n",
    "from sklearn.linear_model import LinearRegression"
   ]
  },
  {
   "cell_type": "code",
   "execution_count": null,
   "id": "987606be",
   "metadata": {},
   "outputs": [],
   "source": [
    "reg = LinearRegression().fit(x_train,y_train)\n",
    "print(reg.coef_)\n",
    "print(reg.intercept_)"
   ]
  },
  {
   "cell_type": "markdown",
   "id": "d84d3f78",
   "metadata": {},
   "source": [
    "## 시각화 코드"
   ]
  },
  {
   "cell_type": "code",
   "execution_count": null,
   "id": "7110ba2a",
   "metadata": {},
   "outputs": [],
   "source": [
    "# a = np.arange(0, 50, 1).tolist()\n",
    "# b = np.arange(50, 100, 5).tolist()\n",
    "# c = np.arange(100, 12000, 200).tolist()\n",
    "# p = a + b + c\n",
    "\n",
    "# # 이전에 사용한 변수명과 중복되지 않도록 수정\n",
    "# w_array = np.array(w_list).flatten()\n",
    "# b_array = np.array(b_list).flatten()\n",
    "# c_array = np.array(c_list).flatten()\n",
    "# ys_array = np.array(ys_list)\n",
    "# p_array = np.array(p)\n",
    "\n",
    "# fig = plt.figure(figsize=(10, 10))\n",
    "# labelsize_ = 14\n",
    "# camera = Camera(fig)\n",
    "\n",
    "# for i in p_array:\n",
    "#     ax1 = fig.add_subplot(3, 2, 2)\n",
    "#     ax1.plot(w_array[:1], color='blue', linestyle='dashed', alpha=0.5)\n",
    "#     ax1.set_title(\"w\", fontsize=17)\n",
    "#     ax1.tick_params(axis='both', which='major', labelsize=labelsize_)\n",
    "\n",
    "#     ax2 = fig.add_subplot(3, 2, 4)\n",
    "#     ax2.plot(b_array[:1], color='red', linestyle='dashed', alpha=0.5)\n",
    "#     ax2.set_title(\"b\", fontsize=17)\n",
    "#     ax2.tick_params(axis='both', which='major', labelsize=labelsize_)\n",
    "\n",
    "#     ax3 = fig.add_subplot(3, 2, 6)\n",
    "#     ax3.plot(c_array[:1], color='black', linestyle='dashed')\n",
    "#     ax3.set_title(\"costs\", fontsize=17)\n",
    "#     ax3.tick_params(axis='both', which='major', labelsize=labelsize_)\n",
    "#     ax3.set_xlabel(\"epochs\", fontsize=14, labelpad=10)\n",
    "\n",
    "#     ax0 = fig.add_subplot(1, 2, 1)\n",
    "#     leg = ax0.plot(xs.T.flatten(), ys_array[i].flatten(), color='r', label=str(i))\n",
    "#     ax0.scatter(x_train, y_train, color='b', marker='x', s=44)\n",
    "#     ax0.legend(leg, [f'epochs: {i}'], loc='upper right', fontsize=15)\n",
    "#     ax0.set_title(\"Linear fit\", fontsize=25)\n",
    "#     ax0.tick_params(axis='both', which='major', labelsize=labelsize_)\n",
    "#     ax0.set_xlabel(\"x\", fontsize=25, labelpad=10)\n",
    "#     ax0.set_ylabel(\"y\", fontsize=25, labelpad=10)  # 수정: set_xlabel -> set_ylabel\n",
    "#     ax0.tick_params(axis='both', which='major', labelsize=labelsize_)\n",
    "#     ax0.set_ylim([-20, 10])\n",
    "#     plt.tight_layout()\n",
    "#     camera.snap()\n",
    "\n",
    "# animation = camera.animate(interval=5, repeat=False, repeat_delay=500)\n",
    "# animation.save('images/SimpleLinReg_1.gif', writer='pillow')  # 수정: writer를 'pillow'로 변경\n"
   ]
  },
  {
   "cell_type": "code",
   "execution_count": null,
   "id": "85999b74",
   "metadata": {},
   "outputs": [],
   "source": [
    "# Import libraries\n",
    "import numpy as np\n",
    "\n",
    "x_train = np.array([\n",
    "    [1],\n",
    "    [2],\n",
    "    [4],\n",
    "    [5],\n",
    "    [6],\n",
    "    [7]\n",
    "])\n"
   ]
  },
  {
   "cell_type": "code",
   "execution_count": null,
   "id": "ba35fa0c",
   "metadata": {},
   "outputs": [],
   "source": [
    "y_train = np.array([\n",
    "    [4],\n",
    "    [-12],\n",
    "    [3],\n",
    "    [-11],\n",
    "    [-5],\n",
    "    [-17]\n",
    "])"
   ]
  },
  {
   "cell_type": "markdown",
   "id": "6c2c7ea4",
   "metadata": {},
   "source": [
    "$$ J = \\frac{1}{2m}\\sum_{i=1}^{m}(y-\\hat{y})^{2} \\rightarrow MSE $$\n",
    "$$ J = \\frac{1}{2m}\\sum_{i=1}^{m}(y-(wx+b))^{2} \\rightarrow MSE $$ <br>\n",
    "$$\\begin{align*} \\text{repeat}&\\text{ until convergence(수렴):} \\; \\lbrace \\newline\n",
    "\\;  w &= w -  \\alpha \\frac{\\partial J(w,b)}{\\partial w} \\tag{3}  \\; \\newline \n",
    " b &= b -  \\alpha \\frac{\\partial J(w,b)}{\\partial b}  \\newline \\rbrace\n",
    "\\end{align*}$$"
   ]
  },
  {
   "cell_type": "code",
   "execution_count": 17,
   "id": "83d8223c",
   "metadata": {},
   "outputs": [],
   "source": [
    "x_train=np.array([[2,3],[3,2],[1,2],[-1,-2],[2,3],[3,4]])\n",
    "x_train.shape\n",
    "y_train = np.array([\n",
    "    [4],\n",
    "    [-12],\n",
    "    [3],\n",
    "    [-11],\n",
    "    [-5],\n",
    "    [-17]\n",
    "])"
   ]
  },
  {
   "cell_type": "code",
   "execution_count": 22,
   "id": "bfbbb252",
   "metadata": {
    "scrolled": true
   },
   "outputs": [
    {
     "name": "stdout",
     "output_type": "stream",
     "text": [
      "3 [-1.05166667 -1.05666667] [196. 213.]\n",
      "3 [-11.26491945 -12.25829875] [89.22694984 84.56124247]\n",
      "3 [-11.33287811 -12.33283406] [89.22222243 84.55555581]\n",
      "3 [-11.3333303  -12.33333001] [89.22222222 84.55555556]\n",
      "3 [-11.33333331 -12.33333331] [89.22222222 84.55555556]\n",
      "3 [-11.33333333 -12.33333333] [89.22222222 84.55555556]\n",
      "3 [-11.33333333 -12.33333333] [89.22222222 84.55555556]\n",
      "3 [-11.33333333 -12.33333333] [89.22222222 84.55555556]\n",
      "3 [-11.33333333 -12.33333333] [89.22222222 84.55555556]\n",
      "3 [-11.33333333 -12.33333333] [89.22222222 84.55555556]\n",
      "3 [-11.33333333 -12.33333333] [89.22222222 84.55555556]\n",
      "3 [-11.33333333 -12.33333333] [89.22222222 84.55555556]\n",
      "3 [-11.33333333 -12.33333333] [89.22222222 84.55555556]\n",
      "3 [-11.33333333 -12.33333333] [89.22222222 84.55555556]\n",
      "3 [-11.33333333 -12.33333333] [89.22222222 84.55555556]\n",
      "3 [-11.33333333 -12.33333333] [89.22222222 84.55555556]\n",
      "3 [-11.33333333 -12.33333333] [89.22222222 84.55555556]\n",
      "3 [-11.33333333 -12.33333333] [89.22222222 84.55555556]\n",
      "3 [-11.33333333 -12.33333333] [89.22222222 84.55555556]\n",
      "3 [-11.33333333 -12.33333333] [89.22222222 84.55555556]\n",
      "3 [-11.33333333 -12.33333333] [89.22222222 84.55555556]\n",
      "3 [-11.33333333 -12.33333333] [89.22222222 84.55555556]\n",
      "3 [-11.33333333 -12.33333333] [89.22222222 84.55555556]\n",
      "3 [-11.33333333 -12.33333333] [89.22222222 84.55555556]\n",
      "3 [-11.33333333 -12.33333333] [89.22222222 84.55555556]\n",
      "3 [-11.33333333 -12.33333333] [89.22222222 84.55555556]\n",
      "3 [-11.33333333 -12.33333333] [89.22222222 84.55555556]\n",
      "3 [-11.33333333 -12.33333333] [89.22222222 84.55555556]\n",
      "3 [-11.33333333 -12.33333333] [89.22222222 84.55555556]\n",
      "3 [-11.33333333 -12.33333333] [89.22222222 84.55555556]\n",
      "3 [-11.33333333 -12.33333333] [89.22222222 84.55555556]\n",
      "3 [-11.33333333 -12.33333333] [89.22222222 84.55555556]\n",
      "3 [-11.33333333 -12.33333333] [89.22222222 84.55555556]\n",
      "3 [-11.33333333 -12.33333333] [89.22222222 84.55555556]\n",
      "3 [-11.33333333 -12.33333333] [89.22222222 84.55555556]\n",
      "3 [-11.33333333 -12.33333333] [89.22222222 84.55555556]\n",
      "3 [-11.33333333 -12.33333333] [89.22222222 84.55555556]\n",
      "3 [-11.33333333 -12.33333333] [89.22222222 84.55555556]\n",
      "3 [-11.33333333 -12.33333333] [89.22222222 84.55555556]\n",
      "3 [-11.33333333 -12.33333333] [89.22222222 84.55555556]\n",
      "3 [-11.33333333 -12.33333333] [89.22222222 84.55555556]\n",
      "3 [-11.33333333 -12.33333333] [89.22222222 84.55555556]\n",
      "3 [-11.33333333 -12.33333333] [89.22222222 84.55555556]\n",
      "3 [-11.33333333 -12.33333333] [89.22222222 84.55555556]\n",
      "3 [-11.33333333 -12.33333333] [89.22222222 84.55555556]\n",
      "3 [-11.33333333 -12.33333333] [89.22222222 84.55555556]\n",
      "3 [-11.33333333 -12.33333333] [89.22222222 84.55555556]\n",
      "3 [-11.33333333 -12.33333333] [89.22222222 84.55555556]\n",
      "3 [-11.33333333 -12.33333333] [89.22222222 84.55555556]\n",
      "3 [-11.33333333 -12.33333333] [89.22222222 84.55555556]\n"
     ]
    }
   ],
   "source": [
    "w_1=3\n",
    "w_2=2\n",
    "b_=-1\n",
    "\n",
    "for i in range(50000):\n",
    "    y_hat = w_*x_train+b_\n",
    "    n=len(x_train)\n",
    "    Dj_dw1 = -1/(2*n)*sum(np.dot(x_train.T[0],(y_train - y_hat)))  \n",
    "    Dj_dw2 = -1/(2*n)*sum(np.dot(x_train.T[1],(y_train - y_hat)))  \n",
    "    D_b = -1/(2*n)*sum(y_train - y_hat)  \n",
    "    \n",
    "    w_1 = w_1 - 0.01 * Dj_dw1\n",
    "    w_2 = w_2 - 0.01 * Dj_dw2\n",
    "    b_ = b_ - 0.01 * D_b\n",
    "    \n",
    "    c_ = (1/n)*sum((y_train - y_hat)**2)\n",
    "    if i %1000==0:\n",
    "        print(w_,b_,c_)"
   ]
  },
  {
   "cell_type": "code",
   "execution_count": 5,
   "id": "fe7ce9ee",
   "metadata": {},
   "outputs": [],
   "source": [
    "# Import libraries\n",
    "import numpy as np\n",
    "\n",
    "x_train = np.array([\n",
    "    [1],\n",
    "    [2],\n",
    "    [4],\n",
    "    [5],\n",
    "    [6],\n",
    "    [7]\n",
    "])\n",
    "y_train = np.array([\n",
    "    [4],\n",
    "    [-12],\n",
    "    [3],\n",
    "    [-11],\n",
    "    [-5],\n",
    "    [-17]\n",
    "])\n",
    "\n",
    "w_=3\n",
    "b_=-1"
   ]
  },
  {
   "cell_type": "code",
   "execution_count": 1,
   "id": "63022f3d",
   "metadata": {},
   "outputs": [],
   "source": [
    "def grad_w(x,y,w_,b_):\n",
    "    y_hat=w_*x+b_\n",
    "    n = len(x)\n",
    "    result=0\n",
    "    for x_i,y_i,y_hat_i in zip(x,y,y_hat):\n",
    "        result+=(y_i-y_hat_i)*x_i\n",
    "    return -1/(2*n)*result"
   ]
  },
  {
   "cell_type": "code",
   "execution_count": 2,
   "id": "ed9aecf0",
   "metadata": {},
   "outputs": [],
   "source": [
    "def grad_b(x,y,w_,b_):\n",
    "    y_hat=w_*x+b_\n",
    "    n = len(x)\n",
    "    result=0\n",
    "    for y_i,y_hat_i in zip(y,y_hat):\n",
    "        result+=(y_i-y_hat_i)\n",
    "    return -1/(2*n)*result"
   ]
  },
  {
   "cell_type": "code",
   "execution_count": 3,
   "id": "570bf6c0",
   "metadata": {},
   "outputs": [],
   "source": [
    "def cost(x,y,w_,b_):\n",
    "    y_hat=w_*x+b_\n",
    "    n=len(x)\n",
    "    result=0\n",
    "    for y_i,y_hat_i in zip(y,y_hat):\n",
    "        result+=(y_i - y_hat_i)**2\n",
    "    return (1/n)*result"
   ]
  },
  {
   "cell_type": "code",
   "execution_count": 6,
   "id": "787cfe23",
   "metadata": {},
   "outputs": [
    {
     "name": "stdout",
     "output_type": "stream",
     "text": [
      "[2.51666667] [-1.08916667] [381.34288125]\n",
      "[-1.72637918] [0.57920136] [43.08029374]\n",
      "[-1.89816148] [1.4711951] [42.72396406]\n",
      "[-1.96209688] [1.8031849] [42.67460375]\n",
      "[-1.98589289] [1.92674768] [42.66776614]\n",
      "[-1.9947495] [1.97273633] [42.66681897]\n",
      "[-1.99804582] [1.98985278] [42.66668776]\n",
      "[-1.99927268] [1.99622332] [42.66666959]\n",
      "[-1.9997293] [1.99859436] [42.66666707]\n",
      "[-1.99989925] [1.99947684] [42.66666672]\n",
      "[-1.9999625] [1.99980529] [42.66666667]\n",
      "[-1.99998604] [1.99992753] [42.66666667]\n",
      "[-1.99999481] [1.99997303] [42.66666667]\n",
      "[-1.99999807] [1.99998996] [42.66666667]\n",
      "[-1.99999928] [1.99999626] [42.66666667]\n",
      "[-1.99999973] [1.99999861] [42.66666667]\n",
      "[-1.9999999] [1.99999948] [42.66666667]\n",
      "[-1.99999996] [1.99999981] [42.66666667]\n",
      "[-1.99999999] [1.99999993] [42.66666667]\n",
      "[-1.99999999] [1.99999997] [42.66666667]\n",
      "[-2.] [1.99999999] [42.66666667]\n",
      "[-2.] [2.] [42.66666667]\n",
      "[-2.] [2.] [42.66666667]\n",
      "[-2.] [2.] [42.66666667]\n",
      "[-2.] [2.] [42.66666667]\n",
      "[-2.] [2.] [42.66666667]\n",
      "[-2.] [2.] [42.66666667]\n",
      "[-2.] [2.] [42.66666667]\n",
      "[-2.] [2.] [42.66666667]\n",
      "[-2.] [2.] [42.66666667]\n",
      "[-2.] [2.] [42.66666667]\n",
      "[-2.] [2.] [42.66666667]\n",
      "[-2.] [2.] [42.66666667]\n",
      "[-2.] [2.] [42.66666667]\n",
      "[-2.] [2.] [42.66666667]\n",
      "[-2.] [2.] [42.66666667]\n",
      "[-2.] [2.] [42.66666667]\n",
      "[-2.] [2.] [42.66666667]\n",
      "[-2.] [2.] [42.66666667]\n",
      "[-2.] [2.] [42.66666667]\n",
      "[-2.] [2.] [42.66666667]\n",
      "[-2.] [2.] [42.66666667]\n",
      "[-2.] [2.] [42.66666667]\n",
      "[-2.] [2.] [42.66666667]\n",
      "[-2.] [2.] [42.66666667]\n",
      "[-2.] [2.] [42.66666667]\n",
      "[-2.] [2.] [42.66666667]\n",
      "[-2.] [2.] [42.66666667]\n",
      "[-2.] [2.] [42.66666667]\n",
      "[-2.] [2.] [42.66666667]\n"
     ]
    }
   ],
   "source": [
    "for i in range(50000):\n",
    "    dJ_dw=grad_w(x_train,y_train,w_,b_)\n",
    "    dJ_db=grad_b(x_train,y_train,w_,b_)\n",
    "    w_ = w_ - 0.01 * dJ_dw\n",
    "    b_ = b_ - 0.01 * dJ_db\n",
    "    c_ = cost(x_train,y_train,w_,b_)\n",
    "    if i %1000==0:\n",
    "        print(w_,b_,c_)"
   ]
  },
  {
   "cell_type": "code",
   "execution_count": 15,
   "id": "13a9d181",
   "metadata": {},
   "outputs": [
    {
     "name": "stdout",
     "output_type": "stream",
     "text": [
      "w: [1.06666667] b: [-1.35666667] cost: [472.5]\n",
      "w: [-1.98601713] b: [1.92739279] cost: [42.66775545]\n",
      "w: [-1.99973325] b: [1.9986149] cost: [42.66666706]\n",
      "w: [-1.99999491] b: [1.99997358] cost: [42.66666667]\n",
      "w: [-1.9999999] b: [1.9999995] cost: [42.66666667]\n",
      "w: [-2.] b: [1.99999999] cost: [42.66666667]\n",
      "w: [-2.] b: [2.] cost: [42.66666667]\n",
      "w: [-2.] b: [2.] cost: [42.66666667]\n"
     ]
    }
   ],
   "source": [
    "x= np.array([\n",
    "    [1],\n",
    "    [2],\n",
    "    [4],\n",
    "    [5],\n",
    "    [6],\n",
    "    [7]\n",
    "])#feature\n",
    "y=  np.array([\n",
    "    [4],\n",
    "    [-12],\n",
    "    [3],\n",
    "    [-11],\n",
    "    [-5],\n",
    "    [-17]\n",
    "])\n",
    "\n",
    "\n",
    "def cost_fn(y, y_hat, flag,x_=None):\n",
    "#     if flag:\n",
    "#         cost = -1/(2*len(y)) *  sum(x_*(y-y_hat))\n",
    "#     else:\n",
    "#         cost = -1/(2*len(y)) * sum(y-y_hat)\n",
    "    if flag:\n",
    "        cost = -(2/len(y)) *  sum(x_*(y-y_hat))\n",
    "    else:\n",
    "        cost = -(2/len(y)) * sum(y-y_hat)\n",
    "    return cost\n",
    "\n",
    "w=3\n",
    "b= -1\n",
    "lr =0.01\n",
    "for i in range(8000):\n",
    "    y_hat = w*x+ b\n",
    "    w= w - lr*cost_fn(y,y_hat,True,x)\n",
    "    b= b - lr*cost_fn(y,y_hat,False)\n",
    "    c_ = (1/len(y))*sum((y - y_hat)**2)\n",
    "    if i%1000==0:\n",
    "        print('w:',w, 'b:',b,'cost:',c_)"
   ]
  },
  {
   "cell_type": "code",
   "execution_count": 16,
   "id": "7d56074f",
   "metadata": {},
   "outputs": [],
   "source": [
    "x_train=[[2,3],[3,2],[1,2],[-1,-2],[2,3],[3,4]]\n",
    "y_train=  np.array([\n",
    "    [4],\n",
    "    [-12],\n",
    "    [3],\n",
    "    [-11],\n",
    "    [-5],\n",
    "    [-17]\n",
    "])"
   ]
  },
  {
   "cell_type": "code",
   "execution_count": null,
   "id": "7c9f8cf6",
   "metadata": {},
   "outputs": [],
   "source": []
  },
  {
   "cell_type": "code",
   "execution_count": null,
   "id": "aa914803",
   "metadata": {},
   "outputs": [],
   "source": []
  }
 ],
 "metadata": {
  "kernelspec": {
   "display_name": "Python 3 (ipykernel)",
   "language": "python",
   "name": "python3"
  },
  "language_info": {
   "codemirror_mode": {
    "name": "ipython",
    "version": 3
   },
   "file_extension": ".py",
   "mimetype": "text/x-python",
   "name": "python",
   "nbconvert_exporter": "python",
   "pygments_lexer": "ipython3",
   "version": "3.10.9"
  }
 },
 "nbformat": 4,
 "nbformat_minor": 5
}
