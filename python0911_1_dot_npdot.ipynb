{
 "cells": [
  {
   "cell_type": "code",
   "execution_count": 1,
   "id": "119bbfd5",
   "metadata": {},
   "outputs": [
    {
     "data": {
      "text/plain": [
       "[[5, 13], [3, 8]]"
      ]
     },
     "execution_count": 1,
     "metadata": {},
     "output_type": "execute_result"
    }
   ],
   "source": [
    "A=[[2,3],\n",
    "   [1,2]]\n",
    "B=[[1,2],\n",
    "   [1,3]]\n",
    "\n",
    "C=[[A[0][0]*B[0][0]+A[0][1]*B[1][0],A[0][0]*B[0][1]+A[0][1]*B[1][1]],\n",
    "  [A[1][0]*B[0][0]+A[1][1]*B[1][0],A[1][0]*B[0][1]+A[1][1]*B[1][1]]]\n",
    "C"
   ]
  },
  {
   "cell_type": "code",
   "execution_count": 2,
   "id": "6be126b9",
   "metadata": {},
   "outputs": [
    {
     "data": {
      "text/plain": [
       "[(1, 1), (2, 3)]"
      ]
     },
     "execution_count": 2,
     "metadata": {},
     "output_type": "execute_result"
    }
   ],
   "source": [
    "transposed_B=list(zip(*B))\n",
    "transposed_B"
   ]
  },
  {
   "cell_type": "code",
   "execution_count": 3,
   "id": "3b946967",
   "metadata": {},
   "outputs": [],
   "source": [
    "def dot(x,y):\n",
    "    return sum([i*j for i,j in zip(x,y)])"
   ]
  },
  {
   "cell_type": "code",
   "execution_count": 4,
   "id": "f0965306",
   "metadata": {
    "scrolled": true
   },
   "outputs": [
    {
     "name": "stdout",
     "output_type": "stream",
     "text": [
      "[2, 3] (1, 1)\n",
      "[2, 3] (2, 3)\n",
      "[1, 2] (1, 1)\n",
      "[1, 2] (2, 3)\n"
     ]
    },
    {
     "data": {
      "text/plain": [
       "[[5, 13], [3, 8]]"
      ]
     },
     "execution_count": 4,
     "metadata": {},
     "output_type": "execute_result"
    }
   ],
   "source": [
    "C_a=[]\n",
    "for i in A:\n",
    "    C_b=[]\n",
    "    for j in transposed_B:\n",
    "        print(i,j)\n",
    "        C_b.append(dot(i,j))\n",
    "    C_a.append(C_b)\n",
    "C_a"
   ]
  },
  {
   "cell_type": "code",
   "execution_count": 5,
   "id": "31e1640c",
   "metadata": {},
   "outputs": [],
   "source": [
    "import numpy as np"
   ]
  },
  {
   "cell_type": "code",
   "execution_count": 6,
   "id": "c685ccf1",
   "metadata": {},
   "outputs": [
    {
     "data": {
      "text/plain": [
       "array([[ 5, 13],\n",
       "       [ 3,  8]])"
      ]
     },
     "execution_count": 6,
     "metadata": {},
     "output_type": "execute_result"
    }
   ],
   "source": [
    "A=np.array([[2,3],[1,2]])\n",
    "B=np.array([[1,2],[1,3]])\n",
    "\n",
    "np.dot(A,B)"
   ]
  }
 ],
 "metadata": {
  "kernelspec": {
   "display_name": "Python 3 (ipykernel)",
   "language": "python",
   "name": "python3"
  },
  "language_info": {
   "codemirror_mode": {
    "name": "ipython",
    "version": 3
   },
   "file_extension": ".py",
   "mimetype": "text/x-python",
   "name": "python",
   "nbconvert_exporter": "python",
   "pygments_lexer": "ipython3",
   "version": "3.10.9"
  }
 },
 "nbformat": 4,
 "nbformat_minor": 5
}
