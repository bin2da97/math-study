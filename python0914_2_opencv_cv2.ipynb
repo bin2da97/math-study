{
 "cells": [
  {
   "cell_type": "code",
   "execution_count": 2,
   "id": "35c829ef",
   "metadata": {},
   "outputs": [],
   "source": [
    "import numpy as np\n",
    "import cv2"
   ]
  },
  {
   "cell_type": "code",
   "execution_count": 3,
   "id": "27095bd3",
   "metadata": {},
   "outputs": [],
   "source": [
    "img = np.full((400,400,3),255,np.uint8)\n",
    "cv2.line(img,(50,50),(200,30),(0,0,255))\n",
    "cv2.line(img,(50,100),(200,300),(255,0,255),3)\n",
    "\n",
    "cv2.imshow('img',img)\n",
    "cv2.waitKey()\n",
    "cv2.destroyAllWindows()\n"
   ]
  },
  {
   "cell_type": "code",
   "execution_count": null,
   "id": "95886a5c",
   "metadata": {},
   "outputs": [],
   "source": [
    "img = np.full((400,400,3),255,np.uint8)\n",
    "cv2.line(img,(50,50),(200,50),(0,0,255),3)\n",
    "cv2.line(img,(200,50),(20,80),(255,0,255),3)\n",
    "cv2.line(img,(20,80),(300,100),(255,0,255),3)\n",
    "\n",
    "cv2.imshow('img',img)\n",
    "cv2.waitKey()\n",
    "cv2.destroyAllWindows()\n"
   ]
  },
  {
   "cell_type": "code",
   "execution_count": null,
   "id": "d893bad8",
   "metadata": {},
   "outputs": [],
   "source": [
    "img = np.full((400,400,3),255,np.uint8)\n",
    "for i in range(500):\n",
    "    a= np.random.randint(256)\n",
    "    cv2.line(img,(200,200),(np.random.randint(400),a),(0,a,a),5)\n",
    "cv2.imshow('img',img)\n",
    "cv2.waitKey()\n",
    "cv2.destroyAllWindows()\n"
   ]
  },
  {
   "cell_type": "code",
   "execution_count": null,
   "id": "5f844382",
   "metadata": {},
   "outputs": [],
   "source": [
    "img =np.full((400,400,3),255,np.uint8)\n",
    "for i in range(500):\n",
    "    color_line = np.random.randint(1,255),np.random.randint(1,255),np.random.randint(1,255)\n",
    "    beg = (np.random.randint(300, 450), np.random.randint(250,450))\n",
    "    end= (np.random.randint(1, 400), np.random.randint(1,400))\n",
    "    cv2.line(img,(200,200),end,color_line,6) # img = 보여질 그림 , 시작점 끝점, 두께\n",
    "\n",
    "cv2.imshow(\"img\",img)\n",
    "cv2.waitKey()\n",
    "cv2.destroyAllWindows()"
   ]
  },
  {
   "cell_type": "code",
   "execution_count": null,
   "id": "34e7beba",
   "metadata": {},
   "outputs": [],
   "source": [
    "def color():\n",
    "    return(np.random.randint(1,255),np.random.randint(1,255),np.random.randint(1,255))"
   ]
  },
  {
   "cell_type": "code",
   "execution_count": null,
   "id": "24fff618",
   "metadata": {},
   "outputs": [],
   "source": [
    "def deg_to_rad(x):\n",
    "    return (2*np.pi*x/360)"
   ]
  },
  {
   "cell_type": "code",
   "execution_count": null,
   "id": "39f7040a",
   "metadata": {},
   "outputs": [],
   "source": [
    "def end_point(r=100,theta=20):\n",
    "    rad=deg_to_rad(theta)\n",
    "    value=(int(r*np.cos(rad)),int(r*np.sin(rad)))\n",
    "    return value"
   ]
  },
  {
   "cell_type": "code",
   "execution_count": null,
   "id": "d8b88a53",
   "metadata": {},
   "outputs": [],
   "source": [
    "def start_r_theta(start_,r=20,theta=20):\n",
    "    rad=deg_to_rad(theta)\n",
    "    end_x=start[0]+int(r*np.cos(rad))\n",
    "    end_y=start[1]+int(r*np.sin(rad))\n",
    "    return (end_x,end_y)"
   ]
  },
  {
   "cell_type": "code",
   "execution_count": null,
   "id": "1bcdb09e",
   "metadata": {},
   "outputs": [],
   "source": [
    "img =np.full((400,400,3),255,np.uint8)\n",
    "for i in range(360):\n",
    "    start=(200,200)\n",
    "    end_x,end_y=end_point(theta=360-i)\n",
    "    end_x=end_x+start[0]\n",
    "    end_y=end_y+start[1]\n",
    "    cv2.line(img,start,(end_x,end_y),color(),3)\n",
    "cv2.imshow(\"img\",img)\n",
    "cv2.waitKey()\n",
    "cv2.destroyAllWindows()"
   ]
  },
  {
   "cell_type": "code",
   "execution_count": null,
   "id": "a0bc097d",
   "metadata": {},
   "outputs": [],
   "source": [
    "img =np.full((400,400,3),255,np.uint8)\n",
    "for i in range(360):\n",
    "    start=(300,100)\n",
    "    end_x,end_y=start_r_theta(start_=start,r=20,theta=360-i)\n",
    "    cv2.line(img,start,(end_x,end_y),color(),3)\n",
    "cv2.imshow(\"img\",img)\n",
    "cv2.waitKey()\n",
    "cv2.destroyAllWindows()"
   ]
  },
  {
   "cell_type": "code",
   "execution_count": 8,
   "id": "da12542e",
   "metadata": {},
   "outputs": [
    {
     "name": "stdout",
     "output_type": "stream",
     "text": [
      "1: 화살표 , 2: 직선 1\n"
     ]
    }
   ],
   "source": [
    "img =np.full((400,400,3),255,np.uint8)\n",
    "\n",
    "aa = int(input(\"1: 화살표 , 2: 직선 \"))\n",
    "\n",
    "if aa == 1:\n",
    "    cv2.arrowedLine(img,(50,100),(100,200),(0,0,255),1)\n",
    "    cv2.imshow(\"img\",img)\n",
    "    cv2.waitKey()\n",
    "    cv2.destroyAllWindows()\n",
    "else:\n",
    "    cv2.line(img,(50,50),(200,50),(0,0,255),3)\n",
    "    cv2.imshow(\"img\",img)\n",
    "    cv2.waitKey()\n",
    "    cv2.destroyAllWindows()"
   ]
  },
  {
   "cell_type": "code",
   "execution_count": 39,
   "id": "ac0a46f8",
   "metadata": {},
   "outputs": [],
   "source": [
    "img =np.full((400,400,3),255,np.uint8)\n",
    "cv2.drawMarker(img,(50,350),(0,0,255),cv2.MARKER_CROSS)\n",
    "cv2.drawMarker(img,(50,350),(0,0,255),cv2.MARKER_TILTED_CROSS)\n",
    "\n",
    "list_maker=[cv2.MARKER_CROSS,cv2.MARKER_TILTED_CROSS,\n",
    "            cv2.MARKER_STAR,cv2.MARKER_DIAMOND,\n",
    "            cv2.MARKER_SQUARE,cv2.MARKER_TRIANGLE_UP,\n",
    "            cv2.MARKER_TRIANGLE_DOWN\n",
    "           ]"
   ]
  },
  {
   "cell_type": "code",
   "execution_count": 45,
   "id": "d43c9cab",
   "metadata": {},
   "outputs": [],
   "source": [
    "# #문2 좌표를 변경하면서 그리기\n",
    "pts=np.array([[250,250],[300,250],[300,300],[350,300],[350,350],[250,350]])\n",
    "cv2.polylines(img,[pts],True,(255,0,255),2)\n",
    "cv2.imshow('img',img)\n",
    "cv2.waitKey()\n",
    "cv2.destroyAllWindows()\n",
    "\n",
    "img = np.full((400,400,3),255,np.uint8)\n",
    "for i in list_maker:\n",
    "    cv2.drawMarker(img,(i+200,(i+5)*20),(0,0,i),i)\n",
    "cv2.imshow('img', img)\n",
    "cv2.waitKey()\n",
    "cv2.destroyAllWindows()"
   ]
  },
  {
   "cell_type": "code",
   "execution_count": 3,
   "id": "17b33cfc",
   "metadata": {},
   "outputs": [],
   "source": [
    "import numpy as np\n",
    "import cv2"
   ]
  },
  {
   "cell_type": "code",
   "execution_count": 49,
   "id": "5fa054c8",
   "metadata": {},
   "outputs": [
    {
     "name": "stdout",
     "output_type": "stream",
     "text": [
      "[array([ 60, 144]), array([240, 121]), array([165, 145]), array([ 60, 131]), array([270, 147]), array([105, 133]), array([105, 119]), array([  0, 109]), array([  0, 105]), array([255, 140]), array([180, 128]), array([ 60, 100]), array([210, 135]), array([  0, 115]), array([165, 100]), array([ 60, 136]), array([195, 102]), array([120, 126]), array([105, 107]), array([ 60, 122]), array([225, 103]), array([195, 149]), array([270, 110]), array([  0, 112]), array([105, 139]), array([255, 141]), array([135, 108])]\n",
      "[[206  92]\n",
      " [133   7]\n",
      " [180  70]\n",
      " [243 134]\n",
      " [ 27 170]\n",
      " [ 45  24]]\n"
     ]
    }
   ],
   "source": [
    "#문제 3 polyine을 램던의 points로 그리고 , 숫자(점(좌표)의 갯수를 변경하면서 그리기)\n",
    "\n",
    "rand_pts=np.array([[np.random.randint(256),np.random.randint(256)],\n",
    "                   [np.random.randint(256),np.random.randint(256)],\n",
    "                   [np.random.randint(256),np.random.randint(256)],\n",
    "                   [np.random.randint(256),np.random.randint(256)],\n",
    "                   [np.random.randint(256),np.random.randint(256)],\n",
    "                   [np.random.randint(256),np.random.randint(256)]])\n",
    "img = np.full((400,400,3),255,np.uint8)\n",
    "\n",
    "# def rand_(x):\n",
    "#     new_rand=[]\n",
    "#     for i in range(int(np.random.randint(x))):\n",
    "#         new_rand.append(np.array([100*np.random.randint(20),100+np.random.randint(50)]))\n",
    "#     print(len(rand_(30)))\n",
    "#     return new_rand\n",
    "\n",
    "new_rand=[]\n",
    "for i in range(int(np.random.randint(30))):\n",
    "    new_rand.append(np.array([15*np.random.randint(20),100+np.random.randint(50)]))\n",
    "\n",
    "cv2.polylines(img,[rand_pts],True,(255,0,255),2)\n",
    "cv2.imshow('img',img)\n",
    "cv2.waitKey()\n",
    "cv2.destroyAllWindows()\n",
    "print(new_rand)\n",
    "print(rand_pts)"
   ]
  },
  {
   "cell_type": "code",
   "execution_count": 48,
   "id": "714182e0",
   "metadata": {},
   "outputs": [],
   "source": [
    "import cv2\n",
    "import numpy as np\n",
    "\n",
    "# 이미지 생성\n",
    "img = np.full((400,400,3),255,np.uint8)  # 500x500 크기의 빈 이미지 생성\n",
    "\n",
    "# 다각형을 그리기 위한 점 좌표 리스트 생성\n",
    "new_rand = []\n",
    "for i in range(int(np.random.randint(30))):\n",
    "    new_rand.append((15*np.random.randint(20), 100+np.random.randint(50)))\n",
    "\n",
    "# 다각형 그리기\n",
    "cv2.polylines(img, [np.array(new_rand)], isClosed=True, color=(255, 0, 255), thickness=2)\n",
    "\n",
    "# 이미지 보여주기\n",
    "cv2.imshow('img', img)\n",
    "\n",
    "# 키 입력 대기\n",
    "cv2.waitKey(0)\n",
    "cv2.destroyAllWindows()"
   ]
  },
  {
   "cell_type": "code",
   "execution_count": 58,
   "id": "1c254896",
   "metadata": {},
   "outputs": [
    {
     "name": "stdout",
     "output_type": "stream",
     "text": [
      "10\n",
      "[(135, 100), (120, 144), (30, 130), (135, 130), (15, 118), (195, 102), (165, 116), (90, 131), (150, 100), (240, 108)]\n"
     ]
    }
   ],
   "source": [
    "pts=[]\n",
    "img = np.full((400,400,3),255,np.uint8)\n",
    "for i in range(int(np.random.randint(30))):\n",
    "    pts.append((15*np.random.randint(20), 100+np.random.randint(50)))\n",
    "print(len(pts))\n",
    "print(pts)\n",
    "pts21=np.array(pts)\n",
    "cv2.polylines(img,[pts21],True,(255,0,255),2)\n",
    "cv2.imshow('img',img)\n",
    "cv2.waitKey()\n",
    "cv2.destroyAllWindows()"
   ]
  },
  {
   "cell_type": "code",
   "execution_count": null,
   "id": "06ce7024",
   "metadata": {},
   "outputs": [],
   "source": [
    "img=np.full((800,1200,3),50,np.uint8)\n",
    "cnt=0\n",
    "s_dict={}\n",
    "def on_mouse(event,x,y,flags,params):\n",
    "    global  cnt ,s_dict\n",
    "    if event==cv2.EVENT_LBUTTONDOWN:\n",
    "        s_dict[cnt]=[x,y]\n",
    "        cnt+=1\n",
    "    for i in s_dict.values():\n",
    "        i[1]+=1\n",
    "    \n",
    "    img=np.full((800,1200,3),50,np.uint8)\n",
    "    del_list=[]\n",
    "    for i,j in s_dict.items():\n",
    "        if j[1]>1300:\n",
    "            del_list.append(i)\n",
    "        cv2.drawMarker(img,(j[0],j[1]),(255,255,255),cv2.MARKER_STAR,10)\n",
    "        cv2.imshow('img',img)\n",
    "    for i in del_list:\n",
    "        del s_dict[i]\n",
    "cv2.namedWindow('img')\n",
    "cv2.setMouseCallback('img',on_mouse)\n",
    "cv2.imshow('img',img)\n",
    "cv2.waitKey()\n",
    "cv2.destroyAllWindows"
   ]
  },
  {
   "cell_type": "code",
   "execution_count": null,
   "id": "da95281b",
   "metadata": {},
   "outputs": [],
   "source": [
    "# 승주 동글동글 \n",
    "img=np.full((400,400,3),255,np.uint8)\n",
    "theta=0\n",
    "def on_mouse(event,x,y,flags,params):\n",
    "    global theta\n",
    "    color1,color2,color3,x,y=np.random.randint(1,255),np.random.randint(1,255),np.random.randint(1,255),np.random.randint(1,400),np.random.randint(1,400)\n",
    "    \n",
    "    cv2.line(img,(200,200),(int(200+100*np.cos(theta)),int(200+100*np.sin(theta))),(color1,color2,color3),10)\n",
    "    cv2.imshow('img',img)\n",
    "    theta+=np.pi/100\n",
    "        \n",
    "cv2.namedWindow('img')\n",
    "cv2.setMouseCallback('img',on_mouse)\n",
    "cv2.imshow('img',img)\n",
    "cv2.waitKey()\n",
    "cv2.destroyAllWindows\n"
   ]
  },
  {
   "cell_type": "code",
   "execution_count": null,
   "id": "48e7600e",
   "metadata": {},
   "outputs": [],
   "source": [
    "#승주 벽\n",
    "img=np.full((500,400,3),255,np.uint8)\n",
    "theta,x_,y_,r,xa,xb=0,200,330,1,1,1\n",
    "def on_mouse(event,x,y,flags,params):\n",
    "    global theta , x_,y_,r,xa,xb\n",
    "    \n",
    "    \n",
    "    color1,color2,color3,x,y=np.random.randint(1,255),np.random.randint(1,255),np.random.randint(1,255),np.random.randint(1,400),np.random.randint(1,400)\n",
    "    \n",
    "    a,b=x_,y_\n",
    "    if a==400 or a==1:\n",
    "        xa=-xa\n",
    "    if b==500 or b==1:\n",
    "        xb=-xb\n",
    "    x_+=xa\n",
    "    y_+=xb\n",
    "    cv2.line(img,(a,b),(x_,y_),(color1,color2,color3),5)\n",
    "    cv2.imshow('img',img)\n",
    "        \n",
    "cv2.namedWindow('img')\n",
    "cv2.setMouseCallback('img',on_mouse)\n",
    "cv2.imshow('img',img)\n",
    "cv2.waitKey()\n",
    "cv2.destroyAllWindows"
   ]
  },
  {
   "cell_type": "code",
   "execution_count": null,
   "id": "b1a66d3e",
   "metadata": {},
   "outputs": [],
   "source": [
    "# 점점 커짐\n",
    "img=np.full((400,400,3),255,np.uint8)\n",
    "theta,x_,y_,r=0,200,200,1\n",
    "def on_mouse(event,x,y,flags,params):\n",
    "    global theta , x_,y_,r\n",
    "    \n",
    "    \n",
    "    color1,color2,color3,x,y=np.random.randint(1,255),np.random.randint(1,255),np.random.randint(1,255),np.random.randint(1,400),np.random.randint(1,400)\n",
    "\n",
    "    a,b=x_,y_\n",
    "    theta+=np.pi/100\n",
    "    r+=0.1\n",
    "    x_,y_=(int(200+r*np.cos(theta)),int(200+r*np.sin(theta)))\n",
    "    cv2.line(img,(a,b),(x_,y_),(color1,color2,color3),int(r)+1)\n",
    "    cv2.imshow('img',img)\n",
    "        \n",
    "cv2.namedWindow('img')\n",
    "for i in range(360):\n",
    "    cv2.setMouseCallback('img',on_mouse)\n",
    "cv2.imshow('img',img)\n",
    "cv2.waitKey()\n",
    "cv2.destroyAllWindows"
   ]
  },
  {
   "cell_type": "code",
   "execution_count": null,
   "id": "8d09a5d0",
   "metadata": {},
   "outputs": [],
   "source": [
    "img = np.full((400,400,3),255,np.uint8)\n",
    "for i in range(360):\n",
    "    start=  start_r_theta(start_=(200,200), theta=380-i,r=100)\n",
    "    for j in range(360):\n",
    "        end_x, end_y = start_r_theta(start_=start, theta=360-j,r=100)\n",
    "        cv2.line(img, start,(end_x,end_y), (255,0,0),2)\n",
    "    start=  start_r_theta(start_=(200,200), theta=200-i,r=100)\n",
    "    for k in range(360):\n",
    "        end_x, end_y = start_r_theta(start_=start, theta=360-k,r=100)\n",
    "        cv2.line(img, start,(end_x,end_y), (0,0,255),2)\n",
    "        \n",
    "cv2.imshow('img', img)\n",
    "cv2.waitKey()\n",
    "cv2.destroyAllWindows()"
   ]
  },
  {
   "cell_type": "code",
   "execution_count": null,
   "id": "2013118d",
   "metadata": {},
   "outputs": [],
   "source": [
    "img = np.full((400,400,3),0,np.uint8)\n",
    "for i in range(720):\n",
    "    start= (200,200)\n",
    "    end_x, end_y = start_r_theta(start_=start, theta=720-i,r=150)\n",
    "    cv2.line(img, start,(end_x,end_y), (200,150,i/2),2)\n",
    "cv2.imshow('img', img)\n",
    "cv2.waitKey()\n",
    "cv2.destroyAllWindows()"
   ]
  },
  {
   "cell_type": "code",
   "execution_count": null,
   "id": "43086354",
   "metadata": {},
   "outputs": [],
   "source": [
    "\n",
    "img = np.full((600, 800, 3), (255, 255, 255), dtype=np.uint8)\n",
    "cv2.rectangle(img, (30, 30), (300, 300), (0, 0, 0), 3, cv2.LINE_AA)\n",
    "cv2.circle(img, (165, 165), 135, (255, 0, 255), 3, cv2.LINE_AA)\n",
    "cv2.imshow(\"image\", img)\n",
    "cv2.waitKey(0)\n",
    "cv2.destroyAllWindows()\n"
   ]
  },
  {
   "cell_type": "code",
   "execution_count": null,
   "id": "9b3596ae",
   "metadata": {},
   "outputs": [],
   "source": [
    "img = np.full((600, 800, 3), (255, 255, 255), dtype=np.uint8)\n",
    "cv2.ellipse(img, (400, 300), (100, 100), 0, 0, 360, (255, 0, 255), 2, cv2.LINE_AA)\n",
    "cv2.ellipse(img, (400, 300), (120, 120), 0, 0, 160, (255, 0, 0), 2, cv2.LINE_AA)\n",
    "cv2.ellipse(img, (400, 300), (130, 130), 180, 0, 160, (0, 0, 255), 2, cv2.LINE_AA)\n",
    "cv2.ellipse(img, (400, 300), (180, 100), 0, 0, 360, (0, 0, 0), 2, cv2.LINE_AA)\n",
    "cv2.imshow(\"image\", img)\n",
    "cv2.waitKey(0)\n",
    "cv2.destroyAllWindows()\n"
   ]
  }
 ],
 "metadata": {
  "kernelspec": {
   "display_name": "Python 3 (ipykernel)",
   "language": "python",
   "name": "python3"
  },
  "language_info": {
   "codemirror_mode": {
    "name": "ipython",
    "version": 3
   },
   "file_extension": ".py",
   "mimetype": "text/x-python",
   "name": "python",
   "nbconvert_exporter": "python",
   "pygments_lexer": "ipython3",
   "version": "3.10.9"
  }
 },
 "nbformat": 4,
 "nbformat_minor": 5
}
