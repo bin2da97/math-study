{
 "cells": [
  {
   "cell_type": "markdown",
   "id": "fcc251eb",
   "metadata": {},
   "source": [
    "## 선형대수학\n",
    "<ol>\n",
    "    <li style=\"color:red\">선형대수</li>\n",
    "    <li>미적분</li>\n",
    "    <li>확률 및 통계</li>\n",
    "</ol>"
   ]
  },
  {
   "cell_type": "markdown",
   "id": "4e9c36e9",
   "metadata": {},
   "source": [
    "## 벡터 공간의 공리(vector space axioms)\n",
    "<ol>\n",
    "    <li>u,v가 V의 원소이면 u+v도 V의 원소이다.<b style=\"color:red;\">(덧셈에 대한 닫힘성 )</b>\n",
    "    </li>\n",
    "    <li>u+v = v+u <b style=\"color:red;\">(덧셈에 대한 교환법칙)</b></li>\n",
    "    <li>$u\\times v = v \\times u$ <b style=\"color:red;\">(곱셈에 대한 교환법칙)</b> 이런거 없음</li>\n",
    "    <li>(u+v)+w = u+(v+w) <b style=\"color:red;\">(결합법칙)</b></li>\n",
    "    <li>V의 모든 원소에 u에 대하여 u+0=0+u를 만족하는 개체 0이 V에 존재한다. \n",
    "        <b style=\"color:red;\">(덧셈에 대한 항등원이 존재)</b> 0벡터\n",
    "    </li>\n",
    "    <li>V의 모든 원소에 u에 대하여 u+(-u)=(-u)+u=0 를 만족하는 개체 -u가 V에 존재한다. -u를 u의 음(negative of u)라 한다. \n",
    "        <b style=\"color:red;\">(덧셈에 대한 역원이 존재)</b>\n",
    "    </li>\n",
    "    <li>k가 임의의 스칼라이고 u가 V의 원소이면 ku는 V에 속한다.\n",
    "        <b style=\"color:red;\">(스칼라 곱에 대한 닫힘성)</b>\n",
    "    </li>\n",
    "    <li>k(u+v) = ku+kv <b style=\"color:red;\">(분배 법칙)</b></li>\n",
    "    <li>(k+l)u = ku+lu <b style=\"color:red;\">(분배 법칙)</b></li>\n",
    "    <li>kl(u) = k(lu) <b style=\"color:red;\">(결합 법칙)</b></li>\n",
    "    <li>1u=u<b style=\"color:red;\">(스칼라곱에 대한 항등원이 존재)</b></li>\n",
    "    V는 벡터공간, k,l은 스칼라 u,v는 벡터공간(V)의 원소인 벡터\n",
    "</ol>"
   ]
  },
  {
   "cell_type": "markdown",
   "id": "79f481de",
   "metadata": {},
   "source": [
    "$$ R^{2} $$ 이차원 공간 R(real number) 실수 이차원 공간\n",
    "$$ u=(2,3) , v=(1000,20) \\rightarrow u+v = (1002,23)도 V의 원소이다. $$\n",
    "<hr>\n",
    "$$ R^{3} $$\n",
    "$$ u=(2,3,1) , v=(10,20,7) \\rightarrow u+v = (12,23,8)도 V의 원소이다. $$"
   ]
  },
  {
   "cell_type": "markdown",
   "id": "ef144dbf",
   "metadata": {},
   "source": [
    "$$ R^{3} $$ 이차원 공간 R(real number) 실수 이차원 공간\n",
    "$$ U=(2,3,1) , V=(1000,20) \\rightarrow u+v = (1002,23)도 V의 원소이다. $$"
   ]
  },
  {
   "cell_type": "markdown",
   "id": "d7aeea74",
   "metadata": {},
   "source": [
    "벡터가 곱셈에 대해 교환법칙이 성립한다."
   ]
  },
  {
   "cell_type": "markdown",
   "id": "6905f8cd",
   "metadata": {},
   "source": [
    "$$ k=3,u=(2,3) \\rightarrow ku는 V원소 $$"
   ]
  },
  {
   "cell_type": "markdown",
   "id": "e0cfde9b",
   "metadata": {},
   "source": [
    "$$ k=3,u=(2,3),v=(3,2) \\rightarrow k(u+v)= 3\\times(5,5) \\rightarrow ku+kv = 3\\times(2,3)+3\\times(3,2) 는 V원소 $$"
   ]
  },
  {
   "cell_type": "markdown",
   "id": "33bc4cab",
   "metadata": {},
   "source": [
    "$$ k=3,l=2,u=(3,2) \\rightarrow (k+l)u= (3,2)\\times5 \\rightarrow ku+lu =(3,2)\\times3+(3,2)\\times2 는  V원소 $$"
   ]
  },
  {
   "cell_type": "markdown",
   "id": "0f03e0f8",
   "metadata": {},
   "source": [
    "$$ k=3,u=(2,3) \\rightarrow ku는 V원소 $$"
   ]
  },
  {
   "cell_type": "markdown",
   "id": "89f55ee5",
   "metadata": {},
   "source": [
    "$$ k=3,l=2,u=(3,2) \\rightarrow (kl)u= (3\\times2)\\times(3,2) \\rightarrow k(lu) = 3(2\\times(3,2)) 는  V원소 $$"
   ]
  },
  {
   "cell_type": "markdown",
   "id": "f93d9bfb",
   "metadata": {},
   "source": [
    "## 내적(dot product)\n",
    "일반적으로 벡터를 세로로 세운다(column(열) 벡터)\n",
    "가로로 나열한 것을 행(row)벡터 \n",
    "$$ \\overrightarrow{a}^{T}=(2,3,4) \\rightarrow\n",
    "   \\overrightarrow{a}=\\begin {bmatrix}\n",
    "        2\\\\\n",
    "        3\\\\\n",
    "        4\n",
    "    \\end{bmatrix}\n",
    "$$\n",
    "$$ \n",
    "{w}^{T} = (1,2,3),x=(x_{1},x_{2},x_{3})=(3,4,5) \\Rightarrow\n",
    "\\overrightarrow{w}^{T} \\cdot x = 1\\cdot3+2\\cdot4+3\\cdot5 \n",
    "$$"
   ]
  },
  {
   "cell_type": "markdown",
   "id": "a8bf141d",
   "metadata": {},
   "source": [
    "## 내적 (Inner Products)\n",
    "\n",
    "\n",
    "$$\n",
    "\\begin{equation}\n",
    "U\\cdot V = \\sum^n u_iv_i = u_1v_1 + u_2v_2 + ... + u_nv_n\n",
    "\\end{equation}\n",
    "$$\n",
    "\n",
    "$$\n",
    "\\begin{equation}\n",
    "U = \\left[ \\begin{array}{r} 2 \\\\ -1 \\\\ 2 \\\\ 3 \\end{array}\\right] \\hspace{1cm} \n",
    "V = \\left[ \\begin{array}{r} 1 \\\\ 4 \\\\ 5 \\\\ 0  \\end{array}\\right] \n",
    "\\end{equation}\n",
    "$$\n",
    "\n",
    "\n",
    "$$\n",
    "\\begin{equation}\n",
    "U\\cdot V = (2)(1) + (-1)(4) + (2)(5) + (3)(0) = 8\n",
    "\\end{equation}\n",
    "$$\n",
    "\n",
    "$$\n",
    "\\begin{equation}\n",
    "A = \\left[ \\begin{array}{rrrr} 1 & 1 & 0 & 2 \\\\ 2 & -1 & 2 & 3 \\\\ 3 & -1 & 2 & 1 \\\\ -2 & 0 & 0 & 1 \\end{array}\\right] \\hspace{1cm} \n",
    "B = \\left[ \\begin{array}{rrr} 1 & 1 & 1 \\\\ 4 & 1 & 4 \\\\ 0 & 1 & 5 \\\\ 1 & 1 & 0 \\end{array}\\right] \n",
    "\\hspace{1cm}\n",
    "AB =  \\left[ \\begin{array}{rrrr} 7 & 4 & 5 \\\\ 1 & 6 & 8 \\\\ 0 & 5 & 9 \\\\ -1 & -1 & -2 \\end{array}\\right] \n",
    "\\end{equation}\n",
    "$$\n",
    "\n",
    "$$\n",
    "\\begin{equation}\n",
    "U\\cdot V = U^TV\n",
    "\\end{equation}\n",
    "$$\n",
    "\n"
   ]
  },
  {
   "cell_type": "code",
   "execution_count": 1,
   "id": "aa16b58b",
   "metadata": {},
   "outputs": [],
   "source": [
    "import numpy as np"
   ]
  },
  {
   "cell_type": "code",
   "execution_count": 2,
   "id": "a263a222",
   "metadata": {},
   "outputs": [
    {
     "name": "stdout",
     "output_type": "stream",
     "text": [
      "[[ 2]\n",
      " [-1]\n",
      " [ 2]\n",
      " [ 3]]\n",
      "[[1]\n",
      " [4]\n",
      " [5]\n",
      " [0]]\n",
      "[[ 2 -1  2  3]]\n"
     ]
    },
    {
     "data": {
      "text/plain": [
       "array([[8]])"
      ]
     },
     "execution_count": 2,
     "metadata": {},
     "output_type": "execute_result"
    }
   ],
   "source": [
    "U = np.array([[2],[-1],[2],[3]])\n",
    "V = np.array([[1],[4],[5],[0]])\n",
    "print(U)\n",
    "print(V)\n",
    "print(U.T)\n",
    "d=U.T@V\n",
    "d\n"
   ]
  },
  {
   "cell_type": "code",
   "execution_count": 3,
   "id": "ff29c000",
   "metadata": {},
   "outputs": [
    {
     "data": {
      "text/plain": [
       "array([8])"
      ]
     },
     "execution_count": 3,
     "metadata": {},
     "output_type": "execute_result"
    }
   ],
   "source": [
    "sum1=0\n",
    "for i,j in zip(U,V):\n",
    "    sum1+=i*j\n",
    "sum1"
   ]
  },
  {
   "cell_type": "code",
   "execution_count": 4,
   "id": "9e226eea",
   "metadata": {
    "scrolled": true
   },
   "outputs": [
    {
     "name": "stdout",
     "output_type": "stream",
     "text": [
      "(4, 4) (4, 3)\n"
     ]
    }
   ],
   "source": [
    "A=np.array([[1,1,0,2],[2,-1,2,3],[3,-1,2,1],[-2,0,0,1]])\n",
    "B=np.array([[1,1,1],[4,1,4],[0,1,5],[1,1,0]])\n",
    "print(np.shape(A),np.shape(B)) #A행렬 행 , B행렬 열 같아야 행렬곱 가능"
   ]
  },
  {
   "cell_type": "code",
   "execution_count": 5,
   "id": "bf6158b1",
   "metadata": {
    "scrolled": true
   },
   "outputs": [
    {
     "name": "stdout",
     "output_type": "stream",
     "text": [
      "[[ 1  1  0  2]\n",
      " [ 2 -1  2  3]\n",
      " [ 3 -1  2  1]\n",
      " [-2  0  0  1]]\n",
      "[[1 1 1]\n",
      " [4 1 4]\n",
      " [0 1 5]\n",
      " [1 1 0]]\n"
     ]
    }
   ],
   "source": [
    "print(A)\n",
    "print(B)"
   ]
  },
  {
   "cell_type": "code",
   "execution_count": 6,
   "id": "19155a81",
   "metadata": {},
   "outputs": [
    {
     "data": {
      "text/plain": [
       "{'a_1': [1, 4, 0, 1], 'a_2': [1, 1, 1, 1], 'a_3': [1, 4, 5, 0]}"
      ]
     },
     "execution_count": 6,
     "metadata": {},
     "output_type": "execute_result"
    }
   ],
   "source": [
    "dict1={}\n",
    "\n",
    "for i in B:\n",
    "    for idx,j in enumerate(i):\n",
    "        key='a_'+str(idx+1)\n",
    "        if key not in dict1.keys():\n",
    "            dict1[key]=[]\n",
    "        dict1[key].append(j)\n",
    "dict1"
   ]
  },
  {
   "cell_type": "code",
   "execution_count": 7,
   "id": "5b9c289a",
   "metadata": {},
   "outputs": [
    {
     "data": {
      "text/plain": [
       "[[7, 4, 5], [1, 6, 8], [0, 5, 9], [-1, -1, -2]]"
      ]
     },
     "execution_count": 7,
     "metadata": {},
     "output_type": "execute_result"
    }
   ],
   "source": [
    "arr_dot=[]\n",
    "for i in A:\n",
    "    arr=[]\n",
    "    for v in dict1.values():\n",
    "        sum_=0\n",
    "        for u1,u2 in zip(i,v):\n",
    "            sum_+=u1*u2\n",
    "        arr.append(sum_)\n",
    "    arr_dot.append(arr)\n",
    "arr_dot        "
   ]
  },
  {
   "cell_type": "code",
   "execution_count": 8,
   "id": "497d9298",
   "metadata": {},
   "outputs": [
    {
     "data": {
      "text/plain": [
       "array([[ 7,  4,  5],\n",
       "       [ 1,  6,  8],\n",
       "       [ 0,  5,  9],\n",
       "       [-1, -1, -2]])"
      ]
     },
     "execution_count": 8,
     "metadata": {},
     "output_type": "execute_result"
    }
   ],
   "source": [
    "np.dot(A,B)"
   ]
  },
  {
   "cell_type": "code",
   "execution_count": 9,
   "id": "9023c42d",
   "metadata": {},
   "outputs": [
    {
     "data": {
      "text/plain": [
       "[[26], [-93], [342]]"
      ]
     },
     "execution_count": 9,
     "metadata": {},
     "output_type": "execute_result"
    }
   ],
   "source": [
    "arr1=[[1,2,3],[3,5,6,7,8],[1,2,3,4,5,6,9]]\n",
    "arr2=[[11,12,-3],[-3,-5,6,7,-18],[1,2,13,4,15,6,19]]\n",
    "\n",
    "arr_dot=[]\n",
    "for i,j in zip(arr1,arr2):\n",
    "    arr=[]\n",
    "    sum_=0\n",
    "    for i_v,j_v in zip(i,j):\n",
    "#         print(i_v,j_v)\n",
    "        sum_+=i_v*j_v\n",
    "    arr.append(sum_)\n",
    "    arr_dot.append(arr)\n",
    "arr_dot        "
   ]
  },
  {
   "cell_type": "code",
   "execution_count": 10,
   "id": "ee895a89",
   "metadata": {},
   "outputs": [
    {
     "data": {
      "text/plain": [
       "[{'a_1': [-1, 2, 5]}, {'a_2': [-3, 5, 6]}, {'a_3': [-5, 6, 4]}]"
      ]
     },
     "execution_count": 10,
     "metadata": {},
     "output_type": "execute_result"
    }
   ],
   "source": [
    "arr3=[[-1,-3,-5,],[2,5,6],[5,6,4]]\n",
    "[{('a_'+str(idx+1)): list(i)} for idx, i in enumerate(zip(*arr3))]"
   ]
  },
  {
   "cell_type": "code",
   "execution_count": 11,
   "id": "5ab6dfe1",
   "metadata": {},
   "outputs": [
    {
     "name": "stdout",
     "output_type": "stream",
     "text": [
      "(-1, 2, 5)\n",
      "(-3, 5, 6)\n",
      "(-5, 6, 4)\n"
     ]
    }
   ],
   "source": [
    "for i in zip(*arr3):\n",
    "    print(i)"
   ]
  },
  {
   "cell_type": "code",
   "execution_count": 12,
   "id": "51fa207d",
   "metadata": {},
   "outputs": [],
   "source": [
    "from functools import reduce"
   ]
  },
  {
   "cell_type": "code",
   "execution_count": 13,
   "id": "6f0fae84",
   "metadata": {},
   "outputs": [
    {
     "data": {
      "text/plain": [
       "{'a_1': [], 'a_2': [], 'a_3': [-1, -3, -5, 2, 5, 6, 5, 6, 4]}"
      ]
     },
     "execution_count": 13,
     "metadata": {},
     "output_type": "execute_result"
    }
   ],
   "source": [
    "def f(acc,x):\n",
    "    for i in range(len(x)):\n",
    "        acc['a_'+str(idx+1)].append(x[i])\n",
    "    return acc\n",
    "reduce(f,arr3,{'a_1':[],'a_2':[],'a_3':[]})"
   ]
  },
  {
   "cell_type": "code",
   "execution_count": 14,
   "id": "d2b7b35e",
   "metadata": {},
   "outputs": [
    {
     "data": {
      "text/plain": [
       "array([[8]])"
      ]
     },
     "execution_count": 14,
     "metadata": {},
     "output_type": "execute_result"
    }
   ],
   "source": [
    "U = np.array([[2],[-1],[2],[3]])\n",
    "V = np.array([[1],[4],[5],[0]])\n",
    "d=U.T@V\n",
    "d"
   ]
  },
  {
   "cell_type": "code",
   "execution_count": 15,
   "id": "9619614b",
   "metadata": {},
   "outputs": [],
   "source": [
    "def DotProduct(U,V):\n",
    "    if(U.shape[1] != 1 or V.shape[1] != 1):#벡터가 아니면\n",
    "        print(\"내적은 열 벡터만 연산할수 있어요\")\n",
    "        return\n",
    "    #V의 shape 확인\n",
    "    if(U.shape[0] != V.shape[0]): #두개의 벡터의 길이가 같지않으면\n",
    "        print(\"두 열벡터의 길이가 달라요\")\n",
    "        return\n",
    "    n=U.shape[0]\n",
    "    product=0\n",
    "    for i in range(n):\n",
    "        product+=U[i,0]*V[i,0]\n",
    "    return product\n",
    "\n",
    "def f(i):\n",
    "    print(i)"
   ]
  },
  {
   "cell_type": "code",
   "execution_count": 16,
   "id": "44acb8b9",
   "metadata": {},
   "outputs": [
    {
     "data": {
      "text/plain": [
       "8"
      ]
     },
     "execution_count": 16,
     "metadata": {},
     "output_type": "execute_result"
    }
   ],
   "source": [
    "DotProduct(U,V)"
   ]
  },
  {
   "cell_type": "markdown",
   "id": "4c5ee0c1",
   "metadata": {},
   "source": [
    "## 기하학적 표현\n",
    "두 벡터의 내적은 $\\mathbb{R}^n$ 공간에서 거리와 각도를 측정하는 수단 <br>\n",
    "$\\mathbb{R}^n$ 공간에서 이런 측정수단을 시각화<br>\n",
    "$ U $ 벡터의 ** 크기(magnitude) ** 는 $||U||$로 표현하고 $\\left(U\\cdot U \\right)^{\\frac{1}{2}}$ 로 정의한다.<br>\n",
    "$\\mathbb{R}^n$ 공간에서 피타고라스 정리에 해당하는 정의를 보자"
   ]
  },
  {
   "cell_type": "code",
   "execution_count": 17,
   "id": "f5306e85",
   "metadata": {},
   "outputs": [
    {
     "data": {
      "text/plain": [
       "17.320508075688775"
      ]
     },
     "execution_count": 17,
     "metadata": {},
     "output_type": "execute_result"
    }
   ],
   "source": [
    "U = np.array([1,2,3,4,6,7,8,11])\n",
    "dotted = np.dot(U,U)\n",
    "np.sqrt(dotted)"
   ]
  },
  {
   "cell_type": "code",
   "execution_count": 18,
   "id": "9fab0f79",
   "metadata": {},
   "outputs": [
    {
     "data": {
      "text/plain": [
       "17.320508075688775"
      ]
     },
     "execution_count": 18,
     "metadata": {},
     "output_type": "execute_result"
    }
   ],
   "source": [
    "sum1=0\n",
    "for i in range(len(U)):\n",
    "    sum1+=U[i]**2\n",
    "np.sqrt(sum1)"
   ]
  },
  {
   "cell_type": "code",
   "execution_count": 19,
   "id": "fe297144",
   "metadata": {},
   "outputs": [
    {
     "data": {
      "text/plain": [
       "True"
      ]
     },
     "execution_count": 19,
     "metadata": {},
     "output_type": "execute_result"
    }
   ],
   "source": [
    "x = np.array([2,3])\n",
    "y = np.dot(x,x)\n",
    "(np.sqrt(y)-np.sqrt(x[0]*x[0]+x[1]*x[1]))<0.000001"
   ]
  },
  {
   "cell_type": "code",
   "execution_count": 20,
   "id": "d2b9f623",
   "metadata": {
    "scrolled": true
   },
   "outputs": [
    {
     "data": {
      "image/png": "[encoded data removed]",
      "text/plain": [
       "<Figure size 640x480 with 1 Axes>"
      ]
     },
     "metadata": {},
     "output_type": "display_data"
    }
   ],
   "source": [
    "%matplotlib inline\n",
    "import numpy as np\n",
    "import matplotlib.pyplot as plt\n",
    "\n",
    "fig, ax=plt.subplots()\n",
    "options={\"head_width\":0.2 , \"head_length\":0.2, \"length_includes_head\":True}\n",
    "\n",
    "ax.arrow(0,0,2,3,  fc='b', ec='b'  ,  **options)\n",
    "ax.text(1,2,  '$U$')\n",
    "\n",
    "ax.set_xlim(0,5)\n",
    "ax.set_xlabel('$x_1$')\n",
    "ax.set_ylim(0,5)\n",
    "ax.set_ylabel('$x_2$')\n",
    "ax.set_aspect('equal')\n",
    "ax.grid(True, ls=':')"
   ]
  },
  {
   "cell_type": "code",
   "execution_count": 21,
   "id": "ae975d82",
   "metadata": {
    "scrolled": false
   },
   "outputs": [
    {
     "data": {
      "image/png": "[encoded data removed]",
      "text/plain": [
       "<Figure size 640x480 with 1 Axes>"
      ]
     },
     "metadata": {},
     "output_type": "display_data"
    }
   ],
   "source": [
    "fig, ax=plt.subplots()\n",
    "options={\"head_width\":0.2 , \"head_length\":0.2, \"length_includes_head\":True}\n",
    "\n",
    "ax.arrow(0,0,2,3,  fc='b', ec='b'  ,  **options)\n",
    "ax.arrow(0,0,0.555,0.832,  fc='b', ec='r'  ,  **options)\n",
    "\n",
    "ax.text(1,2,  '$U$')\n",
    "ax.text(0.5,0.3,  '$W$')\n",
    "\n",
    "ax.set_xlim(0,5)\n",
    "ax.set_xlabel('$x_1$')\n",
    "ax.set_ylim(0,5)\n",
    "ax.set_ylabel('$x_2$')\n",
    "ax.set_aspect('equal')\n",
    "ax.grid(True, ls=':')"
   ]
  },
  {
   "cell_type": "code",
   "execution_count": 22,
   "id": "e9c839a2",
   "metadata": {},
   "outputs": [
    {
     "data": {
      "text/plain": [
       "1.0"
      ]
     },
     "execution_count": 22,
     "metadata": {},
     "output_type": "execute_result"
    }
   ],
   "source": [
    "x = np.array([2,3])\n",
    "y = np.dot(x,x)\n",
    "y_mag=np.sqrt(y)\n",
    "z=x/y_mag\n",
    "z[0]**2+z[1]**2"
   ]
  },
  {
   "cell_type": "code",
   "execution_count": 23,
   "id": "822a32b7",
   "metadata": {},
   "outputs": [
    {
     "data": {
      "text/plain": [
       "1.0"
      ]
     },
     "execution_count": 23,
     "metadata": {},
     "output_type": "execute_result"
    }
   ],
   "source": [
    "x = np.array([4,5])\n",
    "y = np.dot(x,x)\n",
    "y_mag=np.sqrt(y)\n",
    "z=x/y_mag\n",
    "z[0]**2+z[1]**2"
   ]
  },
  {
   "cell_type": "code",
   "execution_count": 24,
   "id": "b08cd95e",
   "metadata": {
    "scrolled": true
   },
   "outputs": [
    {
     "name": "stdout",
     "output_type": "stream",
     "text": [
      "[0.62469505 0.78086881]\n"
     ]
    },
    {
     "data": {
      "text/plain": [
       "1.0"
      ]
     },
     "execution_count": 24,
     "metadata": {},
     "output_type": "execute_result"
    }
   ],
   "source": [
    "q_vec=np.array([4,5])\n",
    "q_mag=np.sqrt(np.dot(q_vec,q_vec))\n",
    "q_unit=q_vec/q_mag\n",
    "print(q_unit)\n",
    "q_unit[0]**2+q_unit[1]**2"
   ]
  },
  {
   "cell_type": "code",
   "execution_count": 25,
   "id": "bae915bc",
   "metadata": {},
   "outputs": [],
   "source": [
    "x=np.array([\n",
    "    [3,4,5,2,1],\n",
    "   [1,2,3,-1,5],\n",
    "   [1,0,-1,2,4],\n",
    "   [3,-1,2,3,2],\n",
    "   [1,5,-1,7,-3],\n",
    "   [1,6,2,-1,-1],\n",
    "   [1,2,0,0,-1],\n",
    "   [1,-1,1,3,5],\n",
    "   ])"
   ]
  },
  {
   "cell_type": "code",
   "execution_count": 26,
   "id": "84d2647e",
   "metadata": {},
   "outputs": [],
   "source": [
    "def f(x_vec):\n",
    "    x_mag=np.sqrt(np.dot(x_vec,x_vec))\n",
    "    x_unit=x_vec/x_mag\n",
    "    sum1=0\n",
    "    for i in x_unit:\n",
    "        sum1+=i**2\n",
    "    return [x_unit,sum1]"
   ]
  },
  {
   "cell_type": "code",
   "execution_count": 27,
   "id": "29407260",
   "metadata": {},
   "outputs": [
    {
     "name": "stdout",
     "output_type": "stream",
     "text": [
      "[array([0.40451992, 0.53935989, 0.67419986, 0.26967994, 0.13483997]), 1.0]\n",
      "[array([ 0.15811388,  0.31622777,  0.47434165, -0.15811388,  0.79056942]), 0.9999999999999999]\n",
      "[array([ 0.21320072,  0.        , -0.21320072,  0.42640143,  0.85280287]), 0.9999999999999999]\n",
      "[array([ 0.57735027, -0.19245009,  0.38490018,  0.57735027,  0.38490018]), 1.0]\n",
      "[array([ 0.10846523,  0.54232614, -0.10846523,  0.7592566 , -0.32539569]), 0.9999999999999999]\n",
      "[array([ 0.15249857,  0.91499142,  0.30499714, -0.15249857, -0.15249857]), 1.0000000000000002]\n",
      "[array([ 0.40824829,  0.81649658,  0.        ,  0.        , -0.40824829]), 1.0000000000000002]\n",
      "[array([ 0.16439899, -0.16439899,  0.16439899,  0.49319696,  0.82199494]), 1.0]\n"
     ]
    }
   ],
   "source": [
    "for i in x:\n",
    "    result = f(i)\n",
    "    print(result)"
   ]
  },
  {
   "cell_type": "code",
   "execution_count": 28,
   "id": "9e796050",
   "metadata": {},
   "outputs": [],
   "source": [
    "def unit_vec_calc(x): \n",
    "    return x/np.sqrt(np.dot(x,x))"
   ]
  },
  {
   "cell_type": "code",
   "execution_count": 29,
   "id": "23bf8cd6",
   "metadata": {},
   "outputs": [],
   "source": [
    "def check_unit_magnitude(x):\n",
    "    sum1=0\n",
    "    for i in x:\n",
    "        sum1+=i*i\n",
    "    return  abs(sum1-1)<0.000001"
   ]
  },
  {
   "cell_type": "code",
   "execution_count": 30,
   "id": "ae73fea0",
   "metadata": {
    "scrolled": false
   },
   "outputs": [
    {
     "data": {
      "text/plain": [
       "[array([0.40451992, 0.53935989, 0.67419986, 0.26967994, 0.13483997]),\n",
       " array([ 0.15811388,  0.31622777,  0.47434165, -0.15811388,  0.79056942]),\n",
       " array([ 0.21320072,  0.        , -0.21320072,  0.42640143,  0.85280287]),\n",
       " array([ 0.57735027, -0.19245009,  0.38490018,  0.57735027,  0.38490018]),\n",
       " array([ 0.10846523,  0.54232614, -0.10846523,  0.7592566 , -0.32539569]),\n",
       " array([ 0.15249857,  0.91499142,  0.30499714, -0.15249857, -0.15249857]),\n",
       " array([ 0.40824829,  0.81649658,  0.        ,  0.        , -0.40824829]),\n",
       " array([ 0.16439899, -0.16439899,  0.16439899,  0.49319696,  0.82199494])]"
      ]
     },
     "execution_count": 30,
     "metadata": {},
     "output_type": "execute_result"
    }
   ],
   "source": [
    "result = [unit_vec_calc(i) for i in x]\n",
    "result"
   ]
  },
  {
   "cell_type": "code",
   "execution_count": 31,
   "id": "64dbd9c4",
   "metadata": {},
   "outputs": [
    {
     "data": {
      "text/plain": [
       "0"
      ]
     },
     "execution_count": 31,
     "metadata": {},
     "output_type": "execute_result"
    }
   ],
   "source": [
    "sum([not check_unit_magnitude(i) for i in result])"
   ]
  },
  {
   "cell_type": "markdown",
   "id": "7306ce99",
   "metadata": {},
   "source": [
    "## 내적의 정의\n",
    "$$ \n",
    "    \\begin{equation}\n",
    "        \\cos{\\theta}=\\frac{U\\cdot V}{||U|| ||V||}\n",
    "    \\end{equation}\n",
    "    \\Rightarrow\n",
    "$$\n",
    "$$\n",
    "    \\begin{equation}\n",
    "        \\overrightarrow{U} \\cdot \\overrightarrow{V} = ||\\overrightarrow{V}||\n",
    "        ||\\overrightarrow{V}||\\cos{\\theta}\n",
    "    \\end{equation}\n",
    "$$"
   ]
  },
  {
   "cell_type": "code",
   "execution_count": 32,
   "id": "b32a2973",
   "metadata": {},
   "outputs": [
    {
     "name": "stdout",
     "output_type": "stream",
     "text": [
      "[3 4 5 2 1] [0.40451992 0.53935989 0.67419986 0.26967994 0.13483997]\n",
      "dot: 7.416198487095663 u: 7.416198487095663 v: 1.0\n",
      "1.0\n",
      "[ 1  2  3 -1  5] [ 0.15811388  0.31622777  0.47434165 -0.15811388  0.79056942]\n",
      "dot: 6.324555320336758 u: 6.324555320336759 v: 0.9999999999999999\n",
      "1.0\n",
      "[ 1  0 -1  2  4] [ 0.21320072  0.         -0.21320072  0.42640143  0.85280287]\n",
      "dot: 4.690415759823429 u: 4.69041575982343 v: 0.9999999999999999\n",
      "1.0\n",
      "[ 3 -1  2  3  2] [ 0.57735027 -0.19245009  0.38490018  0.57735027  0.38490018]\n",
      "dot: 5.196152422706631 u: 5.196152422706632 v: 1.0\n",
      "0.9999999999999998\n",
      "[ 1  5 -1  7 -3] [ 0.10846523  0.54232614 -0.10846523  0.7592566  -0.32539569]\n",
      "dot: 9.219544457292887 u: 9.219544457292887 v: 0.9999999999999999\n",
      "1.0000000000000002\n",
      "[ 1  6  2 -1 -1] [ 0.15249857  0.91499142  0.30499714 -0.15249857 -0.15249857]\n",
      "dot: 6.557438524302001 u: 6.557438524302 v: 1.0\n",
      "1.0000000000000002\n",
      "[ 1  2  0  0 -1] [ 0.40824829  0.81649658  0.          0.         -0.40824829]\n",
      "dot: 2.4494897427831783 u: 2.449489742783178 v: 1.0\n",
      "1.0000000000000002\n",
      "[ 1 -1  1  3  5] [ 0.16439899 -0.16439899  0.16439899  0.49319696  0.82199494]\n",
      "dot: 6.082762530298219 u: 6.082762530298219 v: 1.0\n",
      "1.0\n"
     ]
    }
   ],
   "source": [
    "# for a in range(len(x)): \n",
    "for i,j in zip(x,result):\n",
    "    print(i,j)\n",
    "    dot_=np.dot(i,j)\n",
    "    u_mag = np.sqrt(np.dot(i,i)) #U(원래)벡터의 크기    \n",
    "    v_mag = np.sqrt(np.dot(j,j)) #V(단위)벡터의 크기\n",
    "    res = dot_/(u_mag*v_mag)\n",
    "    print(\"dot:\",dot_,\"u:\",u_mag,\"v:\",v_mag)\n",
    "    print(res)"
   ]
  },
  {
   "cell_type": "code",
   "execution_count": 38,
   "id": "49fb87e7",
   "metadata": {},
   "outputs": [],
   "source": [
    "def deg_to_rad(x):\n",
    "    #radian으로 변환\n",
    "    return x*np.pi*2/360"
   ]
  },
  {
   "cell_type": "code",
   "execution_count": 41,
   "id": "66341967",
   "metadata": {
    "scrolled": true
   },
   "outputs": [
    {
     "name": "stdout",
     "output_type": "stream",
     "text": [
      "0.013962634015954637\n",
      "0.003490658503988659\n",
      "-0.017453292519943295\n",
      "0.005235987755982988\n",
      "-0.012466637514245212\n"
     ]
    }
   ],
   "source": [
    "x=np.array([0.8,0.2,-1,0.3,-5/7])\n",
    "for i in x:\n",
    "    print(deg_to_rad(i))"
   ]
  },
  {
   "cell_type": "code",
   "execution_count": 43,
   "id": "b616d1ce",
   "metadata": {},
   "outputs": [
    {
     "data": {
      "text/plain": [
       "array([0.20483276, 0.43590578, 1.        , 0.40301332, 0.75324829])"
      ]
     },
     "execution_count": 43,
     "metadata": {},
     "output_type": "execute_result"
    }
   ],
   "source": [
    "np.arccos(x)/np.pi #각도"
   ]
  },
  {
   "cell_type": "markdown",
   "id": "a0898880",
   "metadata": {},
   "source": [
    "$$ cos{\\theta} = x \\Rightarrow cos^{-1}{x}=\\theta $$"
   ]
  },
  {
   "cell_type": "code",
   "execution_count": 34,
   "id": "bb985f9b",
   "metadata": {},
   "outputs": [
    {
     "data": {
      "text/plain": [
       "0.7071067811865476"
      ]
     },
     "execution_count": 34,
     "metadata": {},
     "output_type": "execute_result"
    }
   ],
   "source": [
    "v= np.cos(np.pi/4) #파이(180도)를 4로 나눈 것은 45도 일때의 cos값 \n",
    "v"
   ]
  },
  {
   "cell_type": "code",
   "execution_count": 35,
   "id": "596a393e",
   "metadata": {},
   "outputs": [
    {
     "data": {
      "text/plain": [
       "array([0.        , 3.14159265])"
      ]
     },
     "execution_count": 35,
     "metadata": {},
     "output_type": "execute_result"
    }
   ],
   "source": [
    "np.arccos([1,-1]) #는 cos값이 1이면 각도는 0도 -1이면 파이(3.14)=>180도"
   ]
  },
  {
   "cell_type": "code",
   "execution_count": 37,
   "id": "23a33d63",
   "metadata": {},
   "outputs": [
    {
     "data": {
      "text/plain": [
       "[3.141592653589793,\n",
       " 2.6905658417935308,\n",
       " 2.498091544796509,\n",
       " 2.34619382340565,\n",
       " 2.2142974355881813,\n",
       " 2.0943951023931957,\n",
       " 1.9823131728623848,\n",
       " 1.8754889808102944,\n",
       " 1.7721542475852277,\n",
       " 1.6709637479564565,\n",
       " 1.5707963267948968,\n",
       " 1.4706289056333373,\n",
       " 1.3694384060045661,\n",
       " 1.2661036727794994,\n",
       " 1.159279480727409,\n",
       " 1.0471975511965983,\n",
       " 0.9272952180016127,\n",
       " 0.7953988301841439,\n",
       " 0.643501108793285,\n",
       " 0.45102681179626364]"
      ]
     },
     "execution_count": 37,
     "metadata": {},
     "output_type": "execute_result"
    }
   ],
   "source": [
    "[np.arccos(i) for i in np.arange(-1,1,0.1)] #3.141592(180도)"
   ]
  },
  {
   "cell_type": "code",
   "execution_count": null,
   "id": "5008dc9d",
   "metadata": {
    "scrolled": true
   },
   "outputs": [],
   "source": [
    "from kukje import *"
   ]
  },
  {
   "cell_type": "code",
   "execution_count": null,
   "id": "cd112520",
   "metadata": {},
   "outputs": [],
   "source": [
    "from k import *"
   ]
  },
  {
   "cell_type": "code",
   "execution_count": null,
   "id": "d1a9a99d",
   "metadata": {},
   "outputs": [],
   "source": [
    "from laguide import Magnitude"
   ]
  },
  {
   "cell_type": "code",
   "execution_count": null,
   "id": "77d55e52",
   "metadata": {},
   "outputs": [],
   "source": [
    "f(3)"
   ]
  }
 ],
 "metadata": {
  "kernelspec": {
   "display_name": "Python 3 (ipykernel)",
   "language": "python",
   "name": "python3"
  },
  "language_info": {
   "codemirror_mode": {
    "name": "ipython",
    "version": 3
   },
   "file_extension": ".py",
   "mimetype": "text/x-python",
   "name": "python",
   "nbconvert_exporter": "python",
   "pygments_lexer": "ipython3",
   "version": "3.10.9"
  }
 },
 "nbformat": 4,
 "nbformat_minor": 5
}
