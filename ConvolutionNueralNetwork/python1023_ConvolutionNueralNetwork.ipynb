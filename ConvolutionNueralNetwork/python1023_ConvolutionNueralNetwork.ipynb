{
 "cells": [
  {
   "cell_type": "markdown",
   "id": "b007c329",
   "metadata": {},
   "source": [
    "<img src='images/a.webp'>"
   ]
  },
  {
   "cell_type": "markdown",
   "id": "795a1a5e",
   "metadata": {},
   "source": [
    "<img src='images/filter.gif'>"
   ]
  },
  {
   "cell_type": "markdown",
   "id": "1d388462",
   "metadata": {},
   "source": [
    "<img src='images/filter2.gif'>"
   ]
  },
  {
   "cell_type": "markdown",
   "id": "ce2a28dd",
   "metadata": {},
   "source": [
    "<img src='images/filter3.gif'>"
   ]
  },
  {
   "cell_type": "markdown",
   "id": "23427c57",
   "metadata": {},
   "source": [
    "<img src='images/filter4.gif'>"
   ]
  },
  {
   "cell_type": "markdown",
   "id": "6fcfef7f",
   "metadata": {},
   "source": [
    "## 원이미지와 kernel(filter)를 convolution 하려는데 가상에는 데이터가 부족해서 0을 추가해야 하므로 이것을 zero padding 이라함\n",
    "\n",
    "0패딩 말고 인접한 데이트를 padding 할 수 있음"
   ]
  },
  {
   "cell_type": "markdown",
   "id": "d5ce21aa",
   "metadata": {},
   "source": [
    "<img src='images/convolution.png'>"
   ]
  },
  {
   "cell_type": "markdown",
   "id": "5e870c75",
   "metadata": {},
   "source": [
    "<img src='images/convolution.gif'>"
   ]
  },
  {
   "cell_type": "markdown",
   "id": "298f8e7c",
   "metadata": {},
   "source": [
    "<img src='images/equation.png'>"
   ]
  },
  {
   "cell_type": "markdown",
   "id": "cbbd2f82",
   "metadata": {},
   "source": [
    "<img src='images/equation2.png'>"
   ]
  },
  {
   "cell_type": "code",
   "execution_count": 1,
   "id": "965bde23",
   "metadata": {},
   "outputs": [],
   "source": [
    "import numpy as np"
   ]
  },
  {
   "cell_type": "code",
   "execution_count": 2,
   "id": "c0328be7",
   "metadata": {},
   "outputs": [
    {
     "data": {
      "text/plain": [
       "array([[ 0,  0,  0,  0,  0,  0,  0],\n",
       "       [ 0, -1,  1,  0,  1,  0,  0],\n",
       "       [ 0, -1,  3,  1,  2,  5,  0],\n",
       "       [ 0, -1,  2,  5,  6,  7,  0],\n",
       "       [ 0,  8, -1,  1,  0,  1,  0],\n",
       "       [ 0, -1,  0,  0,  1,  0,  0],\n",
       "       [ 0,  0,  0,  0,  0,  0,  0]])"
      ]
     },
     "execution_count": 2,
     "metadata": {},
     "output_type": "execute_result"
    }
   ],
   "source": [
    "A=np.array([[-1,1,0,1,0],\n",
    "           [-1,3,1,2,5],\n",
    "           [-1,2,5,6,7],\n",
    "           [8,-1,1,0,1],\n",
    "           [-1,0,0,1,0]\n",
    "          ])\n",
    "\n",
    "B=np.array([[-1,0,1],\n",
    "    [0,1,0],\n",
    "    [0,0,1]\n",
    "   ])\n",
    "\n",
    "AA=np.pad(A, ((1,1),(1,1)), constant_values=0)\n",
    "AA"
   ]
  },
  {
   "cell_type": "code",
   "execution_count": 3,
   "id": "fce6580a",
   "metadata": {},
   "outputs": [
    {
     "data": {
      "text/plain": [
       "2"
      ]
     },
     "execution_count": 3,
     "metadata": {},
     "output_type": "execute_result"
    }
   ],
   "source": [
    "a=np.array([[0,0,0],\n",
    " [ 1, 0,  1],\n",
    " [ 3, 1,  2]])\n",
    "b=np.array([[-1,0,1],\n",
    "    [0,1,0],\n",
    "    [0,0,1]\n",
    "   ])\n",
    "np.multiply(a,b).sum()"
   ]
  },
  {
   "cell_type": "code",
   "execution_count": 4,
   "id": "a627b466",
   "metadata": {
    "scrolled": true
   },
   "outputs": [
    {
     "name": "stdout",
     "output_type": "stream",
     "text": [
      "7 7\n",
      "3 3\n",
      "0\n",
      "1\n",
      "2\n",
      "3\n",
      "4\n"
     ]
    },
    {
     "data": {
      "text/plain": [
       "array([[ 2,  2,  2,  6,  0],\n",
       "       [ 2,  9,  7,  9,  4],\n",
       "       [ 1,  5,  4, 11,  5],\n",
       "       [10,  5,  6,  2, -5],\n",
       "       [-2, -7,  1,  1,  0]])"
      ]
     },
     "execution_count": 4,
     "metadata": {},
     "output_type": "execute_result"
    }
   ],
   "source": [
    "Convolution=[]\n",
    "\n",
    "a_row=len(AA[0])\n",
    "a_col=len(AA)\n",
    "b_row=len(B[0])\n",
    "b_col=len(B)\n",
    "\n",
    "print(a_row,a_col)\n",
    "print(b_row,b_col)\n",
    "\n",
    "\n",
    "for i in range(a_row-b_row+1):\n",
    "    print(i)\n",
    "    new_list=[]\n",
    "    for j in range(a_col-b_col+1):\n",
    "#         print(AA[i:i+b_col,j:j+b_col])\n",
    "        new_list.append((np.sum(np.multiply(AA[i:i+b_col,j:j+b_col],B))))\n",
    "    Convolution.append(new_list)\n",
    "np.array(Convolution)"
   ]
  },
  {
   "cell_type": "code",
   "execution_count": 5,
   "id": "011decb7",
   "metadata": {},
   "outputs": [
    {
     "data": {
      "text/plain": [
       "array([[0, 0, 0],\n",
       "       [0, 0, 1],\n",
       "       [0, 2, 3]])"
      ]
     },
     "execution_count": 5,
     "metadata": {},
     "output_type": "execute_result"
    }
   ],
   "source": [
    "image=[[ 0,  0,  0,  0,  0,  0,  0],\n",
    "       [ 0, -1,  1,  0,  1,  0,  0],\n",
    "       [ 0, -1,  3,  1,  2,  5,  0],\n",
    "       [ 0, -1,  2,  5,  6,  7,  0],\n",
    "       [ 0,  8, -1,  1,  0,  1,  0],\n",
    "       [ 0, -1,  0,  0,  1,  0,  0],\n",
    "       [ 0,  0,  0,  0,  0,  0,  0]\n",
    "      ]\n",
    "filter1=[[-1,0,1],\n",
    "    [0,1,0],\n",
    "    [0,1,1]\n",
    "   ]\n",
    "list1=[image[0][0:3],image[1][0:3],image[2][0:3]]\n",
    "np.dot(list1,filter1)"
   ]
  },
  {
   "cell_type": "code",
   "execution_count": 6,
   "id": "cc3567f6",
   "metadata": {},
   "outputs": [],
   "source": [
    "a,b=np.array([[1,2],[1,2]]),np.array([[1,2],[1,2]])"
   ]
  },
  {
   "cell_type": "code",
   "execution_count": 7,
   "id": "1445ca60",
   "metadata": {
    "scrolled": true
   },
   "outputs": [
    {
     "data": {
      "text/plain": [
       "array([[3, 6],\n",
       "       [3, 6]])"
      ]
     },
     "execution_count": 7,
     "metadata": {},
     "output_type": "execute_result"
    }
   ],
   "source": [
    "a@b"
   ]
  },
  {
   "cell_type": "code",
   "execution_count": 8,
   "id": "c1ed6179",
   "metadata": {},
   "outputs": [],
   "source": [
    "image=np.array([[-1,1,0,1,0],\n",
    "           [-1,3,1,2,5],\n",
    "           [-1,2,5,6,7],\n",
    "           [8,-1,1,0,1],\n",
    "           [-1,0,0,1,0]\n",
    "          ])\n",
    "\n",
    "filtered=np.array([[-1,0,1],\n",
    "    [0,1,0],\n",
    "    [0,0,1]\n",
    "   ])"
   ]
  },
  {
   "cell_type": "code",
   "execution_count": 9,
   "id": "a035e975",
   "metadata": {},
   "outputs": [
    {
     "data": {
      "text/plain": [
       "array([[ 0,  0,  0,  0,  0,  0,  0],\n",
       "       [ 0, -1,  1,  0,  1,  0,  0],\n",
       "       [ 0, -1,  3,  1,  2,  5,  0],\n",
       "       [ 0, -1,  2,  5,  6,  7,  0],\n",
       "       [ 0,  8, -1,  1,  0,  1,  0],\n",
       "       [ 0, -1,  0,  0,  1,  0,  0],\n",
       "       [ 0,  0,  0,  0,  0,  0,  0]])"
      ]
     },
     "execution_count": 9,
     "metadata": {},
     "output_type": "execute_result"
    }
   ],
   "source": [
    "padded_image = []\n",
    "padded_zero = np.array([ 0 for i in range(5)]) #5개\n",
    "padded_image.append(padded_zero) #첫번째 행에 추가\n",
    "for i in image:\n",
    "    padded_image.append(i) #image를 다추가\n",
    "padded_image.append(padded_zero) #마지막행에 0 추가\n",
    "transposed_first = np.array(padded_image)\n",
    "padded_zero = np.array([ 0 for i in range(7)]) #7개를 0으로 만든다\n",
    "copyed = np.array([ padded_zero , *transposed_first.T, padded_zero])\n",
    "padded_image = copyed.T\n",
    "padded_image"
   ]
  },
  {
   "cell_type": "code",
   "execution_count": 10,
   "id": "f1aa83e2",
   "metadata": {
    "scrolled": true
   },
   "outputs": [
    {
     "data": {
      "text/plain": [
       "[[2, 2, 2, 6, 0],\n",
       " [2, 9, 7, 9, 4],\n",
       " [1, 5, 4, 11, 5],\n",
       " [10, 5, 6, 2, -5],\n",
       " [-2, -7, 1, 1, 0]]"
      ]
     },
     "execution_count": 10,
     "metadata": {},
     "output_type": "execute_result"
    }
   ],
   "source": [
    "convolved=[]\n",
    "for j in range(5):\n",
    "    convolved.append([sum(sum(np.multiply(padded_image[j:j+3,i:i+3],filtered))) for i in range(5)])\n",
    "convolved"
   ]
  },
  {
   "cell_type": "markdown",
   "id": "3003fe34",
   "metadata": {},
   "source": [
    "<img src=\"images/공식.jpg\">"
   ]
  },
  {
   "cell_type": "markdown",
   "id": "98660fef",
   "metadata": {},
   "source": [
    "<img src=\"images/filter6.jpg\">"
   ]
  },
  {
   "cell_type": "markdown",
   "id": "17127976",
   "metadata": {},
   "source": [
    "<img src=\"images/filter7.jpg\">"
   ]
  },
  {
   "cell_type": "markdown",
   "id": "d40250ce",
   "metadata": {},
   "source": [
    "<a href='https://velog.io/@se0yeon00/%EC%98%81%EC%83%81%EC%8B%A0%ED%98%B8%EC%B2%98%EB%A6%AC'> 영상 신호 처리 필터</a>"
   ]
  },
  {
   "cell_type": "markdown",
   "id": "d297cd11",
   "metadata": {},
   "source": [
    "<a href='https://programmingfbf7290.tistory.com/entry/%EC%A3%BC%ED%8C%8C%EC%88%98-%EC%98%81%EC%97%AD-%EC%98%81%EC%83%81-%ED%95%84%ED%84%B0%EA%B0%80%EC%9A%B0%EC%8B%9C%EC%95%88-%EC%A3%BC%ED%8C%8C%EC%88%98-%ED%95%84%ED%84%B0'>영상 신호 처리 가우시안</a>"
   ]
  },
  {
   "cell_type": "markdown",
   "id": "be2aeebd",
   "metadata": {},
   "source": [
    "<a href='https://junstar92.tistory.com/405'>영상 신호 처리 가우시안</a>"
   ]
  },
  {
   "cell_type": "code",
   "execution_count": 1,
   "id": "7c54d72c",
   "metadata": {},
   "outputs": [],
   "source": [
    "import cv2\n",
    "import numpy as np"
   ]
  },
  {
   "cell_type": "code",
   "execution_count": 2,
   "id": "5922ee31",
   "metadata": {},
   "outputs": [],
   "source": [
    "def preprocessing(image):\n",
    "    image = cv2.imread(image)\n",
    "    image = cv2.cvtColor(src=image,code=cv2.COLOR_BGR2GRAY)\n",
    "    return image"
   ]
  },
  {
   "cell_type": "code",
   "execution_count": 13,
   "id": "253a9658",
   "metadata": {},
   "outputs": [],
   "source": [
    "def convolve2D(image ,kernel ,padding =0, strides=1):\n",
    "    #kernel = filter , stride=>몇칸씩 이동하면서 convolution할지 결정\n",
    "    kernel =np.flipud(np.fliplr(kernel)) #left right(수평뒤집기), up ->down(수직뒤집기)\n",
    "    #이미지와 kernel의  shape을 구함 \n",
    "    xKernelShape = kernel.shape[0]\n",
    "    yKernelShape = kernel.shape[1]\n",
    "    xImageShape = image.shape[0]\n",
    "    yImageShape =image.shape[1]\n",
    "    #각각의 출력 차원을 크기 공식을 적용하여 구할수 있음 \n",
    "    xOutput =int(((xImageShape- xKernelShape +2*padding)/strides) +1 ) #위의 공식 \n",
    "    yOutput = int(((yImageShape- yKernelShape +2*padding)/strides) +1 )\n",
    "#     print(xOutput,yOutput)\n",
    "    output = np.zeros((xOutput, yOutput))\n",
    "    if padding !=0:\n",
    "        imagePadded =np.zeros((image.shape[0] + padding*2,  image.shape[1] +padding*2))\n",
    "        # padded 이미지의 내부는 실제 이미지로 대체함 (slicing 사용하여)\n",
    "        imagePadded[int(padding):int(-1*padding) , int(padding):int(-1*padding) ] =image\n",
    "    else: #padding이 없다면 \n",
    "        imagePadded=image\n",
    "    for y in range(image.shape[1]): # 반복하면서 이미지의 크기보다  커널의 크기가 작으면 종료 \n",
    "        if y>image.shape[1] -yKernelShape: break\n",
    "        if y% strides==0: #특정 stride 만큼 내려갈때만 convolution 함\n",
    "            for x in range(image.shape[0]):\n",
    "                #  커널의 경계를 벗어나면  다음 행으로 이동 \n",
    "                if x >image.shape[0] - xKernelShape: break\n",
    "                try:\n",
    "                    if x%strides ==0: #x의 값이  strides의 배수가 될때만 \n",
    "                        #특정 stride로 이동할때만 convolution 함\n",
    "                        output[x,y] =(kernel *imagePadded[x:x+xKernelShape, y:y+yKernelShape]).sum()\n",
    "                except:\n",
    "                    break\n",
    "    return output"
   ]
  },
  {
   "cell_type": "code",
   "execution_count": 4,
   "id": "36cfc14e",
   "metadata": {},
   "outputs": [],
   "source": [
    "kernel_blur3= np.array([[1/16, 1/8, 1/16],\n",
    "                        [1/8, 1/4, 1/8],\n",
    "                        [1/16, 1/8, 1/16]]) #가우시안"
   ]
  },
  {
   "cell_type": "code",
   "execution_count": 5,
   "id": "c0b8adb9",
   "metadata": {},
   "outputs": [],
   "source": [
    "gaussian_filter_5x5 = np.array([\n",
    "    [1/256, 4/256, 6/256, 4/256, 1/256],\n",
    "    [4/256, 16/256, 24/256, 16/256, 4/256],\n",
    "    [6/256, 24/256, 36/256, 24/256, 6/256],\n",
    "    [4/256, 16/256, 24/256, 16/256, 4/256],\n",
    "    [1/256, 4/256, 6/256, 4/256, 1/256]\n",
    "])"
   ]
  },
  {
   "cell_type": "code",
   "execution_count": 6,
   "id": "576eb450",
   "metadata": {},
   "outputs": [],
   "source": [
    "kernel_3x= np.array([[-1,-1,-1],[-1,8,-1],[-1,-1,-1]]) "
   ]
  },
  {
   "cell_type": "code",
   "execution_count": 7,
   "id": "f9f0a80b",
   "metadata": {},
   "outputs": [],
   "source": [
    "kernel_5x= np.array([[-1,-1,-1,-1,-1],[-1,-1,-1,-1,-1],[-1,-1,24,-1,-1],\n",
    "                 [-1,-1,-1,-1,-1],[-1,-1,-1,-1,-1]]) "
   ]
  },
  {
   "cell_type": "code",
   "execution_count": 8,
   "id": "66a85589",
   "metadata": {},
   "outputs": [],
   "source": [
    "kernel_7x= np.array([[-1,-1,-1,-1,-1,-1,-1],[-1,-1,-1,-1,-1,-1,-1],[-1,-1,-1,-1,-1,-1,-1],\n",
    "                     [-1,-1,-1,48,-1,-1,-1],\n",
    "                 [-1,-1,-1,-1,-1,-1,-1],[-1,-1,-1,-1,-1,-1,-1],[-1,-1,-1,-1,-1,-1,-1]]) "
   ]
  },
  {
   "cell_type": "code",
   "execution_count": 9,
   "id": "333c1c93",
   "metadata": {},
   "outputs": [],
   "source": [
    "kernel_1= np.array([[1,2,1],\n",
    "                    [0,0,0],\n",
    "                    [-1,-2,-1]])\n",
    "kernel_2= np.array([[1,0,-1],\n",
    "                    [2,0,-2],\n",
    "                    [1,0,-1]]) "
   ]
  },
  {
   "cell_type": "code",
   "execution_count": 10,
   "id": "fea0ea12",
   "metadata": {},
   "outputs": [],
   "source": [
    "list_kernel = [kernel_3x,kernel_5x,kernel_7x,kernel_blur3,gaussian_filter_5x5,kernel_1,kernel_2]"
   ]
  },
  {
   "cell_type": "code",
   "execution_count": 14,
   "id": "8505a2d8",
   "metadata": {},
   "outputs": [
    {
     "name": "stdout",
     "output_type": "stream",
     "text": [
      "(512, 512)\n",
      "3\n",
      "514 514\n",
      "(512, 512)\n",
      "5\n",
      "512 512\n",
      "(512, 512)\n",
      "7\n",
      "510 510\n",
      "(512, 512)\n",
      "3\n",
      "514 514\n",
      "(512, 512)\n",
      "5\n",
      "512 512\n",
      "(512, 512)\n",
      "3\n",
      "514 514\n",
      "(512, 512)\n",
      "3\n",
      "514 514\n"
     ]
    }
   ],
   "source": [
    "for idx,kernel in enumerate(list_kernel):\n",
    "    image=preprocessing('images/lenna.png')\n",
    "    print(image.shape)\n",
    "    output=convolve2D(image,kernel,padding=2)\n",
    "#     cv2.imwrite('2Dconvolvedx_'+str(idx)+'.jpg',output)"
   ]
  },
  {
   "cell_type": "code",
   "execution_count": 78,
   "id": "65e7f749",
   "metadata": {},
   "outputs": [
    {
     "name": "stdout",
     "output_type": "stream",
     "text": [
      "(600, 1000)\n",
      "(600, 1000)\n",
      "(600, 1000)\n",
      "(600, 1000)\n",
      "(600, 1000)\n",
      "(600, 1000)\n",
      "(600, 1000)\n"
     ]
    }
   ],
   "source": [
    "for i in range(len(list_kernel)):\n",
    "    image=preprocessing('images/vertical.jpg')\n",
    "    print(image.shape)\n",
    "    output=convolve2D(image,list_kernel[i],padding=2)\n",
    "    cv2.imwrite('2Dconvolvedx_'+str(i)+'.jpg',output)"
   ]
  },
  {
   "cell_type": "code",
   "execution_count": null,
   "id": "b884b556",
   "metadata": {},
   "outputs": [],
   "source": []
  }
 ],
 "metadata": {
  "kernelspec": {
   "display_name": "Python 3 (ipykernel)",
   "language": "python",
   "name": "python3"
  },
  "language_info": {
   "codemirror_mode": {
    "name": "ipython",
    "version": 3
   },
   "file_extension": ".py",
   "mimetype": "text/x-python",
   "name": "python",
   "nbconvert_exporter": "python",
   "pygments_lexer": "ipython3",
   "version": "3.10.9"
  }
 },
 "nbformat": 4,
 "nbformat_minor": 5
}
