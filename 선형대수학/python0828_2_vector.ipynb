{
 "cells": [
  {
   "cell_type": "code",
   "execution_count": 1,
   "id": "63944eef",
   "metadata": {},
   "outputs": [],
   "source": [
    "import numpy as np"
   ]
  },
  {
   "cell_type": "code",
   "execution_count": 2,
   "id": "cfca8e9b",
   "metadata": {},
   "outputs": [],
   "source": [
    "import math"
   ]
  },
  {
   "cell_type": "markdown",
   "id": "f42dcced",
   "metadata": {},
   "source": [
    "<img src='dotpng.png'>"
   ]
  },
  {
   "cell_type": "markdown",
   "id": "6d2f0bc8",
   "metadata": {},
   "source": [
    "$$ \\overrightarrow{a}= (a_{1},a_{2},a_{3}, \\cdot \\cdot \\cdot, a_{n-1},a_{n}) $$\n",
    "$$ \\overrightarrow{b}= (b_{1},b_{2},b_{3}, \\cdot \\cdot \\cdot, a_{n-1},a_{n}) $$\n",
    "$$ \\overrightarrow{a} \\cdot \\overrightarrow{b} \n",
    "    = a_{1}b_{1}+a_{2}b_{2}+a_{3}b_{3} + \\cdot \\cdot \\cdot + a_{n-1}b_{n-1}+a_{n}b_{n}\n",
    "$$\n",
    "$$ \\sum_{i=0}^n a_{i}b_{i} $$\n",
    "\n",
    "$$ \\overrightarrow{a} \\cdot \\overrightarrow{b} = |\\overrightarrow{a}|\n",
    "   |\\overrightarrow{b}| cos\\theta \\rightarrow \\theta=a벡터와 b벡터가 이루는 각도\n",
    "$$"
   ]
  },
  {
   "cell_type": "code",
   "execution_count": 3,
   "id": "6fc5c9b1",
   "metadata": {},
   "outputs": [
    {
     "data": {
      "text/plain": [
       "(100, 100)"
      ]
     },
     "execution_count": 3,
     "metadata": {},
     "output_type": "execute_result"
    }
   ],
   "source": [
    "x=np.array([[np.random.randint(100) for _ in range(100)]for _ in range(100)])\n",
    "np.shape(np.array(x))"
   ]
  },
  {
   "cell_type": "code",
   "execution_count": 4,
   "id": "7afb69dd",
   "metadata": {},
   "outputs": [
    {
     "data": {
      "text/plain": [
       "206346"
      ]
     },
     "execution_count": 4,
     "metadata": {},
     "output_type": "execute_result"
    }
   ],
   "source": [
    "y=np.array([np.random.randint(100) for _ in range(100)])\n",
    "np.dot(x[0],y) #벡터와 벡터의 내적"
   ]
  },
  {
   "cell_type": "code",
   "execution_count": 5,
   "id": "7e1122b4",
   "metadata": {},
   "outputs": [
    {
     "data": {
      "text/plain": [
       "206346"
      ]
     },
     "execution_count": 5,
     "metadata": {},
     "output_type": "execute_result"
    }
   ],
   "source": [
    "result=0\n",
    "for idx,i in enumerate (x[0]):\n",
    "    result+=i*y[idx]\n",
    "result"
   ]
  },
  {
   "cell_type": "code",
   "execution_count": 6,
   "id": "bef9e307",
   "metadata": {},
   "outputs": [],
   "source": [
    "def dot(x_,y_):\n",
    "    result=0\n",
    "    for i,j in zip(x_,y_):\n",
    "        result+=i*j\n",
    "    return result"
   ]
  },
  {
   "cell_type": "code",
   "execution_count": 7,
   "id": "b5d4e3de",
   "metadata": {},
   "outputs": [],
   "source": [
    "def dot_for(x_,y_):\n",
    "    result=0\n",
    "    for idx_i,i in enumerate(x_):\n",
    "        for idx_j,j in enumerate(y_):\n",
    "            if idx_i==idx_j:\n",
    "                result+=i*j\n",
    "    return result"
   ]
  },
  {
   "cell_type": "markdown",
   "id": "7f70cf46",
   "metadata": {},
   "source": [
    "$$ \\overrightarrow{a}= (a_{1},a_{2},a_{3}, \\cdot \\cdot \\cdot, a_{n-1},a_{n}) $$\n",
    "$$ \\overrightarrow{a} = |\\overrightarrow{a}| = \\sqrt{a_{1}^2+a_{2}^2+a_{3}^2+\\cdot \\cdot \\cdot+a_{n-1}^2+a_{n}^2}$$"
   ]
  },
  {
   "cell_type": "code",
   "execution_count": 26,
   "id": "06fc8c72",
   "metadata": {},
   "outputs": [],
   "source": [
    "def pow_(x):\n",
    "    ''' 벡터의 크기 '''\n",
    "    v=0\n",
    "    for i in x:\n",
    "        v+=i**2\n",
    "    return math.pow(v,1/2)"
   ]
  },
  {
   "cell_type": "code",
   "execution_count": 9,
   "id": "3c5f5fda",
   "metadata": {},
   "outputs": [
    {
     "name": "stdout",
     "output_type": "stream",
     "text": [
      "Help on function pow_ in module __main__:\n",
      "\n",
      "pow_(x)\n",
      "    벡터의 크기\n",
      "\n"
     ]
    }
   ],
   "source": [
    "help(pow_)"
   ]
  },
  {
   "cell_type": "code",
   "execution_count": 10,
   "id": "a3e925d7",
   "metadata": {},
   "outputs": [
    {
     "data": {
      "text/plain": [
       "[206346, 203775]"
      ]
     },
     "execution_count": 10,
     "metadata": {},
     "output_type": "execute_result"
    }
   ],
   "source": [
    "dotted_data=[dot(i,y) for i in x] \n",
    "dotted_data[:2]"
   ]
  },
  {
   "cell_type": "code",
   "execution_count": 11,
   "id": "f458c9af",
   "metadata": {},
   "outputs": [
    {
     "data": {
      "text/plain": [
       "0"
      ]
     },
     "execution_count": 11,
     "metadata": {},
     "output_type": "execute_result"
    }
   ],
   "source": [
    "sum([i!=j for i,j in zip(np.dot(x,y),dotted_data)])"
   ]
  },
  {
   "cell_type": "code",
   "execution_count": 12,
   "id": "bdbe330b",
   "metadata": {},
   "outputs": [
    {
     "data": {
      "text/plain": [
       "array([206346, 203775])"
      ]
     },
     "execution_count": 12,
     "metadata": {},
     "output_type": "execute_result"
    }
   ],
   "source": [
    "np.dot(x,y)[:2]"
   ]
  },
  {
   "cell_type": "code",
   "execution_count": 13,
   "id": "f3001258",
   "metadata": {},
   "outputs": [],
   "source": [
    "def sqrt(x):\n",
    "    v=0\n",
    "    for i in x:\n",
    "        v+=i**2\n",
    "    return np.sqrt(v)"
   ]
  },
  {
   "cell_type": "code",
   "execution_count": 14,
   "id": "23485f26",
   "metadata": {},
   "outputs": [
    {
     "data": {
      "text/plain": [
       "True"
      ]
     },
     "execution_count": 14,
     "metadata": {},
     "output_type": "execute_result"
    }
   ],
   "source": [
    "np.linalg.norm(y)==pow_(y)"
   ]
  },
  {
   "cell_type": "code",
   "execution_count": 15,
   "id": "4c141ced",
   "metadata": {},
   "outputs": [
    {
     "data": {
      "text/plain": [
       "0"
      ]
     },
     "execution_count": 15,
     "metadata": {},
     "output_type": "execute_result"
    }
   ],
   "source": [
    "sum([i!=j for i,j in [(np.linalg.norm(x[i]),pow_(x[i])) for i in range(len(x))]])"
   ]
  },
  {
   "cell_type": "code",
   "execution_count": 30,
   "id": "262ffbb7",
   "metadata": {},
   "outputs": [
    {
     "data": {
      "text/plain": [
       "0"
      ]
     },
     "execution_count": 30,
     "metadata": {},
     "output_type": "execute_result"
    }
   ],
   "source": [
    "cnt=0\n",
    "for i in range(len(x)):\n",
    "    if np.linalg.norm(x[i])!=pow_(x[i]):\n",
    "        cnt+=1\n",
    "cnt"
   ]
  },
  {
   "cell_type": "code",
   "execution_count": 32,
   "id": "a5879e4d",
   "metadata": {},
   "outputs": [
    {
     "data": {
      "text/plain": [
       "4"
      ]
     },
     "execution_count": 32,
     "metadata": {},
     "output_type": "execute_result"
    }
   ],
   "source": [
    "list77=[[1,2,3],[2,3,4,5],[3,4,5,6],[5,8,11,23]]\n",
    "len(list77)"
   ]
  },
  {
   "cell_type": "code",
   "execution_count": null,
   "id": "a072d345",
   "metadata": {},
   "outputs": [],
   "source": [
    "abs_a=pow_(x[0])"
   ]
  },
  {
   "cell_type": "code",
   "execution_count": null,
   "id": "c54c723e",
   "metadata": {},
   "outputs": [],
   "source": [
    "abs_b=pow_(y)"
   ]
  },
  {
   "cell_type": "code",
   "execution_count": null,
   "id": "f121ca58",
   "metadata": {
    "scrolled": false
   },
   "outputs": [],
   "source": [
    "cos_theta = dotted_data/(abs_a*abs_b)\n",
    "np.arccos(cos_theta)"
   ]
  },
  {
   "cell_type": "code",
   "execution_count": null,
   "id": "fefa8850",
   "metadata": {},
   "outputs": [],
   "source": []
  },
  {
   "cell_type": "code",
   "execution_count": null,
   "id": "27d70e7c",
   "metadata": {},
   "outputs": [],
   "source": []
  },
  {
   "cell_type": "code",
   "execution_count": null,
   "id": "dc0c73ff",
   "metadata": {},
   "outputs": [],
   "source": []
  }
 ],
 "metadata": {
  "kernelspec": {
   "display_name": "Python 3 (ipykernel)",
   "language": "python",
   "name": "python3"
  },
  "language_info": {
   "codemirror_mode": {
    "name": "ipython",
    "version": 3
   },
   "file_extension": ".py",
   "mimetype": "text/x-python",
   "name": "python",
   "nbconvert_exporter": "python",
   "pygments_lexer": "ipython3",
   "version": "3.10.9"
  }
 },
 "nbformat": 4,
 "nbformat_minor": 5
}
