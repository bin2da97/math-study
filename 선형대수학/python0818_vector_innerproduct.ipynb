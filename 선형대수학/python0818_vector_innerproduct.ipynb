{
 "cells": [
  {
   "cell_type": "code",
   "execution_count": 1,
   "id": "9ad1acd2",
   "metadata": {},
   "outputs": [],
   "source": [
    "## numpy 고성능 수치계산을 위해 과학자들이 만들어놓음\n",
    "import numpy as np \n",
    "#import numpy 만 해도 되지만, 이를 코드에서 보다 편하게 사용하기 위해 as np 를 붙임으로써 np라는 이름으로 numpy를 사용  "
   ]
  },
  {
   "cell_type": "code",
   "execution_count": 2,
   "id": "4d77d560",
   "metadata": {},
   "outputs": [
    {
     "data": {
      "text/plain": [
       "array([3, 4, 2])"
      ]
     },
     "execution_count": 2,
     "metadata": {},
     "output_type": "execute_result"
    }
   ],
   "source": [
    "x = np.array([3,4,2])\n",
    "x"
   ]
  },
  {
   "cell_type": "code",
   "execution_count": 3,
   "id": "39ba235e",
   "metadata": {},
   "outputs": [
    {
     "data": {
      "text/plain": [
       "(3,)"
      ]
     },
     "execution_count": 3,
     "metadata": {},
     "output_type": "execute_result"
    }
   ],
   "source": [
    "np.shape((x*2)) #shape 배열 형태 보여쥼?"
   ]
  },
  {
   "cell_type": "code",
   "execution_count": 4,
   "id": "9763e626",
   "metadata": {},
   "outputs": [
    {
     "data": {
      "text/plain": [
       "(3,)"
      ]
     },
     "execution_count": 4,
     "metadata": {},
     "output_type": "execute_result"
    }
   ],
   "source": [
    "np.shape((x*2).T) #T메서드(transpose) 행과 열을 바꾸쥼"
   ]
  },
  {
   "cell_type": "code",
   "execution_count": 5,
   "id": "d028cf1a",
   "metadata": {},
   "outputs": [
    {
     "data": {
      "text/plain": [
       "(2, 4)"
      ]
     },
     "execution_count": 5,
     "metadata": {},
     "output_type": "execute_result"
    }
   ],
   "source": [
    "x2=np.array([[1,2,3,4],[4,5,6,7]]) #2행 4열\n",
    "np.shape(x2)"
   ]
  },
  {
   "cell_type": "code",
   "execution_count": 6,
   "id": "60997790",
   "metadata": {},
   "outputs": [
    {
     "data": {
      "text/plain": [
       "(4, 2)"
      ]
     },
     "execution_count": 6,
     "metadata": {},
     "output_type": "execute_result"
    }
   ],
   "source": [
    "y2=np.array([[1,2,3,4],[4,5,6,7]]).T #4행 2열\n",
    "np.shape(y2)"
   ]
  },
  {
   "cell_type": "code",
   "execution_count": 7,
   "id": "2cbf735c",
   "metadata": {
    "scrolled": true
   },
   "outputs": [
    {
     "data": {
      "text/plain": [
       "array([[ 30,  60],\n",
       "       [ 60, 126]])"
      ]
     },
     "execution_count": 7,
     "metadata": {},
     "output_type": "execute_result"
    }
   ],
   "source": [
    "# np.dot(x2,x2)\n",
    "np.dot(x2,y2) #dot 내적"
   ]
  },
  {
   "cell_type": "code",
   "execution_count": 8,
   "id": "5f833314",
   "metadata": {},
   "outputs": [
    {
     "data": {
      "text/plain": [
       "(2, 2)"
      ]
     },
     "execution_count": 8,
     "metadata": {},
     "output_type": "execute_result"
    }
   ],
   "source": [
    "np.shape(np.dot(x2,y2) )"
   ]
  },
  {
   "cell_type": "markdown",
   "id": "29aa6674",
   "metadata": {},
   "source": [
    "$$ x_2= \\begin{bmatrix}\n",
    " 1& 2&  3& 4 \\\\\n",
    " 4&  5& 6& 7  \n",
    "\\end{bmatrix} $$"
   ]
  },
  {
   "cell_type": "markdown",
   "id": "2f1404dc",
   "metadata": {},
   "source": [
    "2행 4열과 2행을 4열의 행렬곱은 불가능 <br>\n",
    "(2x4)행과 (2x4) 행력의 곱은 불가능하고<br>\n",
    "곱하려는 앞의 행렬의 열(4)과 곱하려는 행렬의 행이 같아야 계산할수 있다.<br>\n",
    "만약 (2x4),(4x3)을 곱하면 결과의 형태는 (2x3)열의 형태가 된다.<br>"
   ]
  },
  {
   "cell_type": "code",
   "execution_count": 9,
   "id": "257c830f",
   "metadata": {},
   "outputs": [],
   "source": [
    "A1=np.array([2,3])\n",
    "B1=np.array([3,4])"
   ]
  },
  {
   "cell_type": "code",
   "execution_count": 10,
   "id": "7abb6b4a",
   "metadata": {},
   "outputs": [
    {
     "data": {
      "text/plain": [
       "18"
      ]
     },
     "execution_count": 10,
     "metadata": {},
     "output_type": "execute_result"
    }
   ],
   "source": [
    "np.dot(A1,B1)"
   ]
  },
  {
   "cell_type": "code",
   "execution_count": 11,
   "id": "0b005ebb",
   "metadata": {},
   "outputs": [
    {
     "data": {
      "text/plain": [
       "18"
      ]
     },
     "execution_count": 11,
     "metadata": {},
     "output_type": "execute_result"
    }
   ],
   "source": [
    "A1[0]*B1[0]+A1[1]*B1[1]"
   ]
  },
  {
   "cell_type": "markdown",
   "id": "1c587a10",
   "metadata": {},
   "source": [
    "## 벡터의 크기\n",
    "$$ \\overrightarrow{a} = (a_1,a_2,a_3,....a_{n_1},a_n) $$\n",
    "$$ \\sqrt{a_1^2+a_2^2+\\cdot \\cdot\\cdot\\cdot + a_{n-1}^2+a_{n}^2} $$\n",
    "$$ \\sqrt{\\sum_{i=0}^na_i^2} $$"
   ]
  },
  {
   "cell_type": "code",
   "execution_count": 12,
   "id": "8d5ac109",
   "metadata": {},
   "outputs": [
    {
     "data": {
      "text/plain": [
       "3.605551275463989"
      ]
     },
     "execution_count": 12,
     "metadata": {},
     "output_type": "execute_result"
    }
   ],
   "source": [
    "#|A1| , A1 벡터의 크기\n",
    "np.sqrt(A1[0]*A1[0] + A1[1]*A1[1]) #sqrt 루트"
   ]
  },
  {
   "cell_type": "code",
   "execution_count": 13,
   "id": "b7db0bc5",
   "metadata": {},
   "outputs": [
    {
     "data": {
      "text/plain": [
       "5.0"
      ]
     },
     "execution_count": 13,
     "metadata": {},
     "output_type": "execute_result"
    }
   ],
   "source": [
    "#|B1| , B1 벡터의 크기\n",
    "np.sqrt(B1[0]*B1[0] + B1[1]*B1[1]) #sqrt 루트"
   ]
  },
  {
   "cell_type": "code",
   "execution_count": 14,
   "id": "f211ebd9",
   "metadata": {},
   "outputs": [
    {
     "data": {
      "text/plain": [
       "3.605551275463989"
      ]
     },
     "execution_count": 14,
     "metadata": {},
     "output_type": "execute_result"
    }
   ],
   "source": [
    "#반복문으로 \n",
    "a1 = 0\n",
    "for i in A1:\n",
    "    a1 += i*i\n",
    "np.sqrt(a1)"
   ]
  },
  {
   "cell_type": "code",
   "execution_count": 15,
   "id": "de8d0b27",
   "metadata": {},
   "outputs": [
    {
     "data": {
      "text/plain": [
       "5.0"
      ]
     },
     "execution_count": 15,
     "metadata": {},
     "output_type": "execute_result"
    }
   ],
   "source": [
    "b1 = 0\n",
    "for i in B1:\n",
    "    b1 += i*i\n",
    "np.sqrt(b1)"
   ]
  },
  {
   "cell_type": "code",
   "execution_count": 16,
   "id": "cbc97164",
   "metadata": {},
   "outputs": [
    {
     "data": {
      "text/plain": [
       "3.605551275463989"
      ]
     },
     "execution_count": 16,
     "metadata": {},
     "output_type": "execute_result"
    }
   ],
   "source": [
    "np.sqrt(sum([i**2 for i in A1]))"
   ]
  },
  {
   "cell_type": "markdown",
   "id": "cc5bcde0",
   "metadata": {},
   "source": [
    "## 내적의 정의 \n",
    "$$ \\overrightarrow{a}\\cdot \\overrightarrow{b}  = \n",
    "    (a_1\\cdot{b_1}+ a_2\\cdot{b_2}+ a_3\\cdot{b_3} +...+a_{n-1}\\cdot{b_{n-1}}+ a_n\\cdot{b_{n}} ) \n",
    "$$\n",
    "$$ |a|\\cdot|b|cos\\theta $$\n",
    "$$  cos\\theta  = \\frac{\\overrightarrow{a}\\cdot \\overrightarrow{b}}{|a|\\cdot|b|} $$\n",
    "$$ x= cos\\theta \\rightarrow \\theta = cos^{-1}{x} $$"
   ]
  },
  {
   "cell_type": "code",
   "execution_count": 17,
   "id": "52e73f2e",
   "metadata": {},
   "outputs": [
    {
     "name": "stdout",
     "output_type": "stream",
     "text": [
      "(1, 4)\n",
      "(2, 5)\n",
      "(3, 6)\n"
     ]
    }
   ],
   "source": [
    "#zip 두개를 묶어줌\n",
    "for i in zip([1,2,3],[4,5,6]):\n",
    "    print(i)"
   ]
  },
  {
   "cell_type": "code",
   "execution_count": 18,
   "id": "8e894a13",
   "metadata": {},
   "outputs": [
    {
     "data": {
      "text/plain": [
       "18"
      ]
     },
     "execution_count": 18,
     "metadata": {},
     "output_type": "execute_result"
    }
   ],
   "source": [
    "#문제 반복문으로 내적하는 코드 만들기 zip활용\n",
    "# np.dot(A1,B1)이랑 값 같음\n",
    "result_dot=0\n",
    "for i in zip(A1,B1): #A1=[2,3] B1=[3,4] , zip(A1,B1) => (2,3) (3,4)로 묶어줌\n",
    "    result_dot+= i[0]*i[1]\n",
    "result_dot"
   ]
  },
  {
   "cell_type": "code",
   "execution_count": 34,
   "id": "8684eaca",
   "metadata": {},
   "outputs": [],
   "source": [
    "def dot(x1,y1): #내적 함수 정의하기  \n",
    "    result_dot=0\n",
    "    for i in zip(x1,y1): #A1=[2,3] B1=[3,4] , zip(A1,B1) => (2,3) (3,4)로 묶어줌\n",
    "        result_dot+= i[0]*i[1]\n",
    "    return result_dot"
   ]
  },
  {
   "cell_type": "code",
   "execution_count": 35,
   "id": "fddeceb1",
   "metadata": {},
   "outputs": [],
   "source": [
    "def abs_vector(x):\n",
    "    a1_abs=0\n",
    "    for i in x:\n",
    "        a1_abs+=i*i\n",
    "    return np.sqrt(a1_abs)"
   ]
  },
  {
   "cell_type": "code",
   "execution_count": 36,
   "id": "c2f362b4",
   "metadata": {},
   "outputs": [],
   "source": [
    "A1=np.array([33,22])\n",
    "B1=np.array([-2,3])"
   ]
  },
  {
   "cell_type": "code",
   "execution_count": 37,
   "id": "ba62d1a1",
   "metadata": {},
   "outputs": [
    {
     "data": {
      "text/plain": [
       "0.0"
      ]
     },
     "execution_count": 37,
     "metadata": {},
     "output_type": "execute_result"
    }
   ],
   "source": [
    "cos_theta1 = dot(A1,B1)/(abs_vector(A1)*abs_vector(B1))\n",
    "cos_theta1"
   ]
  },
  {
   "cell_type": "code",
   "execution_count": 38,
   "id": "fc1c4aba",
   "metadata": {},
   "outputs": [
    {
     "data": {
      "text/plain": [
       "1.0000000000000002"
      ]
     },
     "execution_count": 38,
     "metadata": {},
     "output_type": "execute_result"
    }
   ],
   "source": [
    "cos_theta2 = dot(A1,A1)/(abs_vector(A1)*abs_vector(A1))\n",
    "cos_theta2"
   ]
  },
  {
   "cell_type": "code",
   "execution_count": 24,
   "id": "788b8b8f",
   "metadata": {},
   "outputs": [
    {
     "data": {
      "text/plain": [
       "39.66106403010388"
      ]
     },
     "execution_count": 24,
     "metadata": {},
     "output_type": "execute_result"
    }
   ],
   "source": [
    "abs_vector(A1)"
   ]
  },
  {
   "cell_type": "code",
   "execution_count": 25,
   "id": "a6cf65fd",
   "metadata": {},
   "outputs": [
    {
     "data": {
      "text/plain": [
       "3.605551275463989"
      ]
     },
     "execution_count": 25,
     "metadata": {},
     "output_type": "execute_result"
    }
   ],
   "source": [
    "abs_vector(B1)"
   ]
  },
  {
   "cell_type": "code",
   "execution_count": 26,
   "id": "1f3bd794",
   "metadata": {},
   "outputs": [],
   "source": [
    "c1=np.array([2,3,7])\n",
    "d1=np.array([3,4,11])"
   ]
  },
  {
   "cell_type": "code",
   "execution_count": 27,
   "id": "9a65754f",
   "metadata": {},
   "outputs": [
    {
     "data": {
      "text/plain": [
       "7.874007874011811"
      ]
     },
     "execution_count": 27,
     "metadata": {},
     "output_type": "execute_result"
    }
   ],
   "source": [
    "abs_vector(c1)"
   ]
  },
  {
   "cell_type": "code",
   "execution_count": 28,
   "id": "a63a2b07",
   "metadata": {
    "scrolled": true
   },
   "outputs": [
    {
     "data": {
      "text/plain": [
       "12.083045973594572"
      ]
     },
     "execution_count": 28,
     "metadata": {},
     "output_type": "execute_result"
    }
   ],
   "source": [
    "abs_vector(d1)"
   ]
  },
  {
   "cell_type": "markdown",
   "id": "1c3c7f53",
   "metadata": {},
   "source": [
    "$$ 3x+ 2y+4z = 11 $$\n",
    "$$ 2x+ 3y-z = 21 $$ \n",
    "$$ -x+ 4y+3z = 7 $$ \n",
    "$$  A =  \\begin{bmatrix}\n",
    "3 & 2 & 4 \\\\\n",
    " 2& 3 &-1  \\\\\n",
    " -1& 4 & 3  \n",
    "\\end{bmatrix}  $$ \n",
    "$$   x =  \\begin{bmatrix}\n",
    " x\\\\\n",
    " y\\\\\n",
    "z\n",
    "\\end{bmatrix} $$\n",
    "\n",
    "$$   b =  \\begin{bmatrix}\n",
    " 11\\\\\n",
    " 21\\\\\n",
    "7\n",
    "\\end{bmatrix} $$"
   ]
  },
  {
   "cell_type": "markdown",
   "id": "d9a3ff43",
   "metadata": {},
   "source": [
    "$$ I = \\begin{bmatrix}\n",
    " 1& 0 & 0\\\\\n",
    " 0& 1 & 0\\\\\n",
    " 0& 0 & 1 \n",
    "\\end{bmatrix} $$\n",
    "대각 성분이 1이고 나머지는 0인 행렬을 단위행렬(identuty)이라 함\n",
    "어떤 행렬에 I를 곱하면 자기 자신 <br>\n",
    "곱셈에 대한 항등원은 1이다.\n",
    "그리고 역원은 어떤 숫자에 뭐를 곱했더니 곱셈에 대한 항등원 1이 나오는가<br>\n",
    "행렬에서 곱셈의 항등원이 i이고\n",
    "그리고 곱세의 항등원이 되기 위한 행렬에 어떤 행렬을 곱했더니 행렬의 항등원인 단위 행렬이 나오는가?\n",
    "$$ A \\cdot B = B \\cdot A = I$$\n",
    "결국 $ B = A^{-1} $가 된다.\n",
    "$$ 4X = 1 \\rightarrow x= \\frac{1}{4} = 4^{-1}\n",
    "$$ A^{-1} $를 A의 역행렬이라한다.\n"
   ]
  },
  {
   "cell_type": "code",
   "execution_count": 46,
   "id": "1fb79b40",
   "metadata": {},
   "outputs": [
    {
     "data": {
      "text/plain": [
       "(3, 3)"
      ]
     },
     "execution_count": 46,
     "metadata": {},
     "output_type": "execute_result"
    }
   ],
   "source": [
    "I = np.array([[1,0,0],\n",
    "              [0,1,0],\n",
    "              [0,0,1]])\n",
    "np.shape(I)"
   ]
  },
  {
   "cell_type": "code",
   "execution_count": 42,
   "id": "9a4c8ffa",
   "metadata": {},
   "outputs": [
    {
     "data": {
      "text/plain": [
       "array([[ 3,  2,  4],\n",
       "       [ 2,  3, -1],\n",
       "       [-1,  4,  3]])"
      ]
     },
     "execution_count": 42,
     "metadata": {},
     "output_type": "execute_result"
    }
   ],
   "source": [
    "np.dot(A,I)"
   ]
  },
  {
   "cell_type": "code",
   "execution_count": 1,
   "id": "a3a701d0",
   "metadata": {},
   "outputs": [
    {
     "ename": "NameError",
     "evalue": "name 'np' is not defined",
     "output_type": "error",
     "traceback": [
      "\u001b[1;31m---------------------------------------------------------------------------\u001b[0m",
      "\u001b[1;31mNameError\u001b[0m                                 Traceback (most recent call last)",
      "Cell \u001b[1;32mIn[1], line 1\u001b[0m\n\u001b[1;32m----> 1\u001b[0m A \u001b[38;5;241m=\u001b[39m \u001b[43mnp\u001b[49m\u001b[38;5;241m.\u001b[39marray([[\u001b[38;5;241m3\u001b[39m,\u001b[38;5;241m2\u001b[39m,\u001b[38;5;241m4\u001b[39m],\n\u001b[0;32m      2\u001b[0m               [\u001b[38;5;241m2\u001b[39m,\u001b[38;5;241m3\u001b[39m,\u001b[38;5;241m-\u001b[39m\u001b[38;5;241m1\u001b[39m],\n\u001b[0;32m      3\u001b[0m               [\u001b[38;5;241m-\u001b[39m\u001b[38;5;241m1\u001b[39m,\u001b[38;5;241m4\u001b[39m,\u001b[38;5;241m3\u001b[39m]])\n",
      "\u001b[1;31mNameError\u001b[0m: name 'np' is not defined"
     ]
    }
   ],
   "source": [
    "A = np.array([[3,2,4],\n",
    "              [2,3,-1],\n",
    "              [-1,4,3]])\n",
    "# np.shape(A)\n",
    "# A\n",
    "# np.linalg.inv(A)\n"
   ]
  },
  {
   "cell_type": "code",
   "execution_count": 2,
   "id": "59115a1c",
   "metadata": {},
   "outputs": [
    {
     "ename": "NameError",
     "evalue": "name 'A' is not defined",
     "output_type": "error",
     "traceback": [
      "\u001b[1;31m---------------------------------------------------------------------------\u001b[0m",
      "\u001b[1;31mNameError\u001b[0m                                 Traceback (most recent call last)",
      "Cell \u001b[1;32mIn[2], line 1\u001b[0m\n\u001b[1;32m----> 1\u001b[0m c1\u001b[38;5;241m=\u001b[39m \u001b[43mA\u001b[49m\u001b[38;5;241m.\u001b[39mT[\u001b[38;5;241m0\u001b[39m]\n\u001b[0;32m      2\u001b[0m c2\u001b[38;5;241m=\u001b[39m A\u001b[38;5;241m.\u001b[39mT[\u001b[38;5;241m1\u001b[39m]\n\u001b[0;32m      3\u001b[0m c3\u001b[38;5;241m=\u001b[39m A\u001b[38;5;241m.\u001b[39mT[\u001b[38;5;241m2\u001b[39m]\n",
      "\u001b[1;31mNameError\u001b[0m: name 'A' is not defined"
     ]
    }
   ],
   "source": [
    "c1= A.T[0]\n",
    "c2= A.T[1]\n",
    "c3= A.T[2]\n",
    "c1\n",
    "c2\n",
    "c3"
   ]
  },
  {
   "cell_type": "code",
   "execution_count": 49,
   "id": "dc0d641a",
   "metadata": {},
   "outputs": [],
   "source": [
    "b=np.array([11,21,7])"
   ]
  },
  {
   "cell_type": "code",
   "execution_count": 76,
   "id": "f49ec89e",
   "metadata": {},
   "outputs": [
    {
     "data": {
      "text/plain": [
       "array([11., 21.,  7.])"
      ]
     },
     "execution_count": 76,
     "metadata": {},
     "output_type": "execute_result"
    }
   ],
   "source": [
    "x=np.dot(np.linalg.inv(A),b) #np.linalg.inv() 역행렬 가져오는 메서드,  np.linalg.inv(A) A의 역행렬, A^-1 X b\n",
    "# x\n",
    "x[0]*c1 + x[1]*c2 + x[2]*c3\n",
    "# 역행렬은 행렬에 곱해서 단위 행렬을 만들수있는 값이구나............\n",
    "# 행렬에 단위행렬 곱하면 똑같은값 나옴"
   ]
  }
 ],
 "metadata": {
  "kernelspec": {
   "display_name": "Python 3 (ipykernel)",
   "language": "python",
   "name": "python3"
  },
  "language_info": {
   "codemirror_mode": {
    "name": "ipython",
    "version": 3
   },
   "file_extension": ".py",
   "mimetype": "text/x-python",
   "name": "python",
   "nbconvert_exporter": "python",
   "pygments_lexer": "ipython3",
   "version": "3.10.9"
  }
 },
 "nbformat": 4,
 "nbformat_minor": 5
}
