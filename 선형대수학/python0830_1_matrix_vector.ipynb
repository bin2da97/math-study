{
 "cells": [
  {
   "cell_type": "markdown",
   "id": "c9912912",
   "metadata": {},
   "source": [
    "## Numpy 기본\n",
    "### 배열과 벡터 연산\n",
    "<ul>\n",
    "    <li>효율적인 다차원 배열인 ndarray는 빠른 계산과 유연한 브로드 캐스팅 기능을 제공</li>\n",
    "    <li>반복문을 작성할 필요없이 데이터 배열을 빠르게 계산할수 있는 표준 수학 함수</li>\n",
    "    <li>배열 데이터를 디스크에 쓰거나 읽을수 있는 도구와 메모리에 적재된 파일 다루는 도구</li>\n",
    "    <li>선형대수,난수 생성기, 푸리에 변환 기능</li>\n",
    "    <li>C,C++,포트란으로 작성한 코드를 변경할 수 있는 C API</li>\n",
    "</ul>\n",
    "Numpy 자체는 모델링이나 과학 계산을 위한 기능을 제공하지 않으므로 먼저 numpy 배열과 배열 기반 연산에 대한\n",
    "이해를 한 다음 pandas 같은 배열 기반 도구를 활용하면 훨씬 더 효율적이다.\n"
   ]
  },
  {
   "cell_type": "code",
   "execution_count": 1,
   "id": "e737942b",
   "metadata": {},
   "outputs": [],
   "source": [
    "import numpy as np"
   ]
  },
  {
   "cell_type": "code",
   "execution_count": 2,
   "id": "4313196a",
   "metadata": {},
   "outputs": [],
   "source": [
    "my_arr = np.arange(1000000)"
   ]
  },
  {
   "cell_type": "code",
   "execution_count": 3,
   "id": "7077340c",
   "metadata": {},
   "outputs": [],
   "source": [
    "my_list = list(range(1000000))"
   ]
  },
  {
   "cell_type": "code",
   "execution_count": 4,
   "id": "7ff2053b",
   "metadata": {},
   "outputs": [
    {
     "name": "stdout",
     "output_type": "stream",
     "text": [
      "CPU times: total: 31.2 ms\n",
      "Wall time: 22.9 ms\n"
     ]
    }
   ],
   "source": [
    "%time for _ in range(10): my_arr2=my_arr*2"
   ]
  },
  {
   "cell_type": "code",
   "execution_count": 5,
   "id": "8e0d5793",
   "metadata": {},
   "outputs": [
    {
     "name": "stdout",
     "output_type": "stream",
     "text": [
      "CPU times: total: 656 ms\n",
      "Wall time: 665 ms\n"
     ]
    }
   ],
   "source": [
    "%time for _ in range(10): my_list2=[x*2 for x in my_list]"
   ]
  },
  {
   "cell_type": "markdown",
   "id": "37173430",
   "metadata": {},
   "source": [
    "### Numpy로 작성한 코드가 순수 파이썬으로 작성한 코드보다 열배에서 백배이상\n",
    "### 빠르고 메모리도 더 적게 사용하는 것을 확인할 수 있다.\n"
   ]
  },
  {
   "cell_type": "code",
   "execution_count": 6,
   "id": "cfc1caa0",
   "metadata": {},
   "outputs": [],
   "source": [
    "data = np.random.randn(2,3)"
   ]
  },
  {
   "cell_type": "code",
   "execution_count": 7,
   "id": "018d04da",
   "metadata": {},
   "outputs": [
    {
     "data": {
      "text/plain": [
       "array([[ 0.76948529, -2.49682796,  1.13078124],\n",
       "       [-0.67029861, -0.55608045, -0.23150139]])"
      ]
     },
     "execution_count": 7,
     "metadata": {},
     "output_type": "execute_result"
    }
   ],
   "source": [
    "data"
   ]
  },
  {
   "cell_type": "code",
   "execution_count": 8,
   "id": "fe47953d",
   "metadata": {},
   "outputs": [
    {
     "data": {
      "text/plain": [
       "array([[  7.69485289, -24.96827963,  11.30781241],\n",
       "       [ -6.70298614,  -5.56080454,  -2.31501388]])"
      ]
     },
     "execution_count": 8,
     "metadata": {},
     "output_type": "execute_result"
    }
   ],
   "source": [
    "data*10"
   ]
  },
  {
   "cell_type": "code",
   "execution_count": 9,
   "id": "ee00c1c8",
   "metadata": {},
   "outputs": [
    {
     "data": {
      "text/plain": [
       "[[7.694852887464436, -24.96827963220491, 11.307812412203313],\n",
       " [-6.702986138871046, -5.56080453849796, -2.3150138785733674]]"
      ]
     },
     "execution_count": 9,
     "metadata": {},
     "output_type": "execute_result"
    }
   ],
   "source": [
    "list1=[]\n",
    "for i in data:\n",
    "    list2=[]\n",
    "    for j in i:\n",
    "        list2.append(j*10)\n",
    "    list1.append(list2)\n",
    "list1"
   ]
  },
  {
   "cell_type": "code",
   "execution_count": 10,
   "id": "ac134ab9",
   "metadata": {},
   "outputs": [
    {
     "data": {
      "text/plain": [
       "[[7.694852887464436, -24.96827963220491, 11.307812412203313],\n",
       " [-6.702986138871046, -5.56080453849796, -2.3150138785733674]]"
      ]
     },
     "execution_count": 10,
     "metadata": {},
     "output_type": "execute_result"
    }
   ],
   "source": [
    "list1 = [[j*10 for j in i]for i in data]\n",
    "list1"
   ]
  },
  {
   "cell_type": "code",
   "execution_count": 11,
   "id": "fd2fb6e2",
   "metadata": {
    "scrolled": true
   },
   "outputs": [
    {
     "data": {
      "text/plain": [
       "[[0.7694852887464436, 2.496827963220491, 1.1307812412203313],\n",
       " [0.6702986138871047, 0.556080453849796, 0.23150138785733673]]"
      ]
     },
     "execution_count": 11,
     "metadata": {},
     "output_type": "execute_result"
    }
   ],
   "source": [
    "list_abs=[[j*-1 if j<0 else j for j in i]for i in data]\n",
    "list_abs"
   ]
  },
  {
   "cell_type": "code",
   "execution_count": 12,
   "id": "7adcc54e",
   "metadata": {},
   "outputs": [
    {
     "data": {
      "text/plain": [
       "[[0.7694852887464436, 2.496827963220491, 1.1307812412203313],\n",
       " [0.6702986138871047, 0.556080453849796, 0.23150138785733673]]"
      ]
     },
     "execution_count": 12,
     "metadata": {},
     "output_type": "execute_result"
    }
   ],
   "source": [
    "list_abs=[]\n",
    "for i in data:\n",
    "    list2=[]\n",
    "    for j in i:\n",
    "        if j<0:\n",
    "            list2.append(j * -1)\n",
    "        else:\n",
    "            list2.append(j)\n",
    "    list_abs.append(list2)\n",
    "list_abs"
   ]
  },
  {
   "cell_type": "code",
   "execution_count": 13,
   "id": "51d177f8",
   "metadata": {},
   "outputs": [
    {
     "data": {
      "text/plain": [
       "array([[[1, 2, 3, 4],\n",
       "        [5, 6, 7, 8]],\n",
       "\n",
       "       [[1, 2, 3, 4],\n",
       "        [5, 6, 7, 8]],\n",
       "\n",
       "       [[1, 2, 3, 4],\n",
       "        [5, 6, 7, 8]]])"
      ]
     },
     "execution_count": 13,
     "metadata": {},
     "output_type": "execute_result"
    }
   ],
   "source": [
    "data2=[[[1,2,3,4],[5,6,7,8]],[[1,2,3,4],[5,6,7,8]],[[1,2,3,4],[5,6,7,8]]]\n",
    "arr2=np.array(data2)\n",
    "arr2"
   ]
  },
  {
   "cell_type": "code",
   "execution_count": 14,
   "id": "e71b025a",
   "metadata": {},
   "outputs": [
    {
     "data": {
      "text/plain": [
       "3"
      ]
     },
     "execution_count": 14,
     "metadata": {},
     "output_type": "execute_result"
    }
   ],
   "source": [
    "arr2.ndim"
   ]
  },
  {
   "cell_type": "code",
   "execution_count": 15,
   "id": "fa0ceb8e",
   "metadata": {},
   "outputs": [
    {
     "data": {
      "text/plain": [
       "(3, 2, 4)"
      ]
     },
     "execution_count": 15,
     "metadata": {},
     "output_type": "execute_result"
    }
   ],
   "source": [
    "np.shape(arr2) #axis"
   ]
  },
  {
   "cell_type": "code",
   "execution_count": 16,
   "id": "30d3bea3",
   "metadata": {},
   "outputs": [
    {
     "data": {
      "text/plain": [
       "array([[10, 26],\n",
       "       [10, 26],\n",
       "       [10, 26]])"
      ]
     },
     "execution_count": 16,
     "metadata": {},
     "output_type": "execute_result"
    }
   ],
   "source": [
    "np.sum(data2,axis=2)"
   ]
  },
  {
   "cell_type": "code",
   "execution_count": 17,
   "id": "df80b5d4",
   "metadata": {},
   "outputs": [
    {
     "data": {
      "text/plain": [
       "2.29128784747792"
      ]
     },
     "execution_count": 17,
     "metadata": {},
     "output_type": "execute_result"
    }
   ],
   "source": [
    "np.std(arr2)"
   ]
  },
  {
   "cell_type": "code",
   "execution_count": 18,
   "id": "047bc164",
   "metadata": {},
   "outputs": [
    {
     "data": {
      "text/plain": [
       "[array([[10, 26],\n",
       "        [10, 26],\n",
       "        [10, 26]]),\n",
       " array([[2.5, 6.5],\n",
       "        [2.5, 6.5],\n",
       "        [2.5, 6.5]]),\n",
       " array([[1.11803399, 1.11803399],\n",
       "        [1.11803399, 1.11803399],\n",
       "        [1.11803399, 1.11803399]])]"
      ]
     },
     "execution_count": 18,
     "metadata": {},
     "output_type": "execute_result"
    }
   ],
   "source": [
    "[i(data2,axis=2) for i in [np.sum,np.mean,np.std]]"
   ]
  },
  {
   "cell_type": "markdown",
   "id": "0e5c53d6",
   "metadata": {},
   "source": [
    "<img src='1/axis.jpg'>"
   ]
  },
  {
   "cell_type": "markdown",
   "id": "f5e1dad7",
   "metadata": {},
   "source": [
    "<img src='1/broad.png'>"
   ]
  },
  {
   "cell_type": "code",
   "execution_count": 19,
   "id": "0ebab88f",
   "metadata": {},
   "outputs": [
    {
     "data": {
      "text/plain": [
       "(3, 2)"
      ]
     },
     "execution_count": 19,
     "metadata": {},
     "output_type": "execute_result"
    }
   ],
   "source": [
    "x2 = np.array([[1,2,3],[3,2,4]])\n",
    "np.shape(x2.T)"
   ]
  },
  {
   "cell_type": "code",
   "execution_count": 20,
   "id": "3a5a4ef6",
   "metadata": {},
   "outputs": [
    {
     "data": {
      "text/plain": [
       "(3,)"
      ]
     },
     "execution_count": 20,
     "metadata": {},
     "output_type": "execute_result"
    }
   ],
   "source": [
    "x3=np.array([1,2,3])\n",
    "np.shape(x3)"
   ]
  },
  {
   "cell_type": "code",
   "execution_count": 21,
   "id": "0b21be7c",
   "metadata": {
    "scrolled": true
   },
   "outputs": [],
   "source": [
    "# np.dot(x2.T,x3)"
   ]
  },
  {
   "cell_type": "code",
   "execution_count": 22,
   "id": "851fe3cc",
   "metadata": {
    "scrolled": true
   },
   "outputs": [
    {
     "data": {
      "text/plain": [
       "array([ 7,  6, 11])"
      ]
     },
     "execution_count": 22,
     "metadata": {},
     "output_type": "execute_result"
    }
   ],
   "source": [
    "np.dot(x2.T,x3[:2])"
   ]
  },
  {
   "cell_type": "code",
   "execution_count": 23,
   "id": "02db75e4",
   "metadata": {},
   "outputs": [
    {
     "data": {
      "text/plain": [
       "array([[1, 2, 3],\n",
       "       [4, 5, 6]])"
      ]
     },
     "execution_count": 23,
     "metadata": {},
     "output_type": "execute_result"
    }
   ],
   "source": [
    "x3=np.array([[1,2,3],[4,5,6]])\n",
    "x3"
   ]
  },
  {
   "cell_type": "code",
   "execution_count": 24,
   "id": "3b2f17e0",
   "metadata": {},
   "outputs": [
    {
     "data": {
      "text/plain": [
       "array([[1, 4],\n",
       "       [2, 5],\n",
       "       [3, 6]])"
      ]
     },
     "execution_count": 24,
     "metadata": {},
     "output_type": "execute_result"
    }
   ],
   "source": [
    "x3.T"
   ]
  },
  {
   "cell_type": "code",
   "execution_count": 25,
   "id": "7a62fa88",
   "metadata": {},
   "outputs": [
    {
     "data": {
      "text/plain": [
       "array([1.2, 1.3, 2.4])"
      ]
     },
     "execution_count": 25,
     "metadata": {},
     "output_type": "execute_result"
    }
   ],
   "source": [
    "arr3=np.array([1.2,1.3,2.4])\n",
    "arr3"
   ]
  },
  {
   "cell_type": "code",
   "execution_count": 26,
   "id": "77476850",
   "metadata": {},
   "outputs": [
    {
     "data": {
      "text/plain": [
       "dtype('int32')"
      ]
     },
     "execution_count": 26,
     "metadata": {},
     "output_type": "execute_result"
    }
   ],
   "source": [
    "arr2.dtype # 데이터 타입"
   ]
  },
  {
   "cell_type": "code",
   "execution_count": 27,
   "id": "6107c4f7",
   "metadata": {},
   "outputs": [
    {
     "data": {
      "text/plain": [
       "dtype('float64')"
      ]
     },
     "execution_count": 27,
     "metadata": {},
     "output_type": "execute_result"
    }
   ],
   "source": [
    "arr3.dtype"
   ]
  },
  {
   "cell_type": "code",
   "execution_count": 28,
   "id": "7b962199",
   "metadata": {},
   "outputs": [
    {
     "data": {
      "text/plain": [
       "array([1., 2., 3.])"
      ]
     },
     "execution_count": 28,
     "metadata": {},
     "output_type": "execute_result"
    }
   ],
   "source": [
    "arr4=np.array([1,2,3],dtype=np.float64)\n",
    "arr4"
   ]
  },
  {
   "cell_type": "code",
   "execution_count": 29,
   "id": "1b5635bf",
   "metadata": {},
   "outputs": [
    {
     "data": {
      "text/plain": [
       "dtype('float64')"
      ]
     },
     "execution_count": 29,
     "metadata": {},
     "output_type": "execute_result"
    }
   ],
   "source": [
    "arr4.dtype"
   ]
  },
  {
   "cell_type": "code",
   "execution_count": 30,
   "id": "b865e324",
   "metadata": {},
   "outputs": [
    {
     "data": {
      "text/plain": [
       "array([b'1.25', b'9.6', b'42'], dtype='|S4')"
      ]
     },
     "execution_count": 30,
     "metadata": {},
     "output_type": "execute_result"
    }
   ],
   "source": [
    "numeric_strings=np.array(['1.25','9.6','42'],dtype=np.string_)\n",
    "numeric_strings"
   ]
  },
  {
   "cell_type": "code",
   "execution_count": 31,
   "id": "9872bdb8",
   "metadata": {},
   "outputs": [
    {
     "data": {
      "text/plain": [
       "array([ 1.25,  9.6 , 42.  ])"
      ]
     },
     "execution_count": 31,
     "metadata": {},
     "output_type": "execute_result"
    }
   ],
   "source": [
    "numeric_strings.astype(float)"
   ]
  },
  {
   "cell_type": "code",
   "execution_count": 32,
   "id": "88aaa92e",
   "metadata": {},
   "outputs": [],
   "source": [
    "# numeric_strings2=np.array(['1.25','9.6','사랑','42'],dtype=np.string_)"
   ]
  },
  {
   "cell_type": "code",
   "execution_count": 33,
   "id": "1e9cc443",
   "metadata": {},
   "outputs": [
    {
     "name": "stdout",
     "output_type": "stream",
     "text": [
      "문자열은 실수로 형변환 불가\n"
     ]
    }
   ],
   "source": [
    "try:\n",
    "    numeric_strings_except=np.array(['1.25','9.6','사랑','42'],dtype=np.string_)\n",
    "except:\n",
    "    print(\"문자열은 실수로 형변환 불가\")"
   ]
  },
  {
   "cell_type": "code",
   "execution_count": 34,
   "id": "dd13a286",
   "metadata": {},
   "outputs": [
    {
     "name": "stdout",
     "output_type": "stream",
     "text": [
      "[ 1.25  9.6  42.  ]\n"
     ]
    }
   ],
   "source": [
    "try:\n",
    "    numeric_strings=np.array(['1.25','9.6','42'],dtype=np.string_)\n",
    "    v=numeric_strings.astype(float)\n",
    "    print(v)\n",
    "except:\n",
    "    print(\"문자열은 실수로 형변환 불가\")"
   ]
  },
  {
   "cell_type": "code",
   "execution_count": 35,
   "id": "2de67c19",
   "metadata": {},
   "outputs": [],
   "source": [
    "def f(x):\n",
    "    x_=np.array(x)\n",
    "    list_=[]\n",
    "    try:\n",
    "        list_.append(x_.astype(float))\n",
    "        return list_\n",
    "    except:\n",
    "        return 0"
   ]
  },
  {
   "cell_type": "code",
   "execution_count": 36,
   "id": "56a0801f",
   "metadata": {},
   "outputs": [
    {
     "data": {
      "text/plain": [
       "[0, 0, [array([ 2.3, 11. ,  5. ])]]"
      ]
     },
     "execution_count": 36,
     "metadata": {},
     "output_type": "execute_result"
    }
   ],
   "source": [
    "[f(i) for i in [['1.2','3.6','사랑'],['증오'],[2.3,11,5]]]"
   ]
  },
  {
   "cell_type": "code",
   "execution_count": 37,
   "id": "1eb8d074",
   "metadata": {},
   "outputs": [
    {
     "data": {
      "text/plain": [
       "array([[ 1,  4,  9],\n",
       "       [16, 25, 36]])"
      ]
     },
     "execution_count": 37,
     "metadata": {},
     "output_type": "execute_result"
    }
   ],
   "source": [
    "arr=np.array([[1,2,3],[4,5,6]])\n",
    "arr*arr"
   ]
  },
  {
   "cell_type": "code",
   "execution_count": 38,
   "id": "51f51763",
   "metadata": {},
   "outputs": [
    {
     "data": {
      "text/plain": [
       "[[1, 4, 9], [16, 25, 36]]"
      ]
     },
     "execution_count": 38,
     "metadata": {},
     "output_type": "execute_result"
    }
   ],
   "source": [
    "#파이썬으로 프로그래밍하자\n",
    "new_arr=[]\n",
    "for i in arr:\n",
    "    inner_arr=[]\n",
    "    for j in i:\n",
    "        inner_arr.append(j*j)\n",
    "    new_arr.append(inner_arr)\n",
    "new_arr"
   ]
  },
  {
   "cell_type": "code",
   "execution_count": 39,
   "id": "1b64ec9c",
   "metadata": {},
   "outputs": [
    {
     "data": {
      "text/plain": [
       "[[1, 4, 9], [16, 25, 36]]"
      ]
     },
     "execution_count": 39,
     "metadata": {},
     "output_type": "execute_result"
    }
   ],
   "source": [
    "new_arr=[[j*j for j in i]for i in arr]\n",
    "new_arr"
   ]
  },
  {
   "cell_type": "code",
   "execution_count": 40,
   "id": "7ccda6ae",
   "metadata": {},
   "outputs": [],
   "source": [
    "#문제2 함수를 만들어서 두번째 인자만큼 제곱을 한다.\n",
    "#3을 전달하면 3승 5전달 5승\n",
    "def pow_(x,y):\n",
    "    mul_=1\n",
    "    for _ in range(y):\n",
    "        mul_*=x\n",
    "    return mul_"
   ]
  },
  {
   "cell_type": "code",
   "execution_count": 41,
   "id": "a8d09ecc",
   "metadata": {},
   "outputs": [],
   "source": [
    "def f(x,y):\n",
    "    list1=[]\n",
    "    for i in x:\n",
    "        list2=[]\n",
    "        for j in i:\n",
    "            list2.append(j**y)\n",
    "        list1.append(list2)\n",
    "    return list1"
   ]
  },
  {
   "cell_type": "code",
   "execution_count": 42,
   "id": "494c7d4f",
   "metadata": {},
   "outputs": [
    {
     "data": {
      "text/plain": [
       "array([[ 1,  4,  9],\n",
       "       [16, 25, 36]])"
      ]
     },
     "execution_count": 42,
     "metadata": {},
     "output_type": "execute_result"
    }
   ],
   "source": [
    "pow_(arr,2)"
   ]
  },
  {
   "cell_type": "code",
   "execution_count": 43,
   "id": "60eb45f5",
   "metadata": {},
   "outputs": [
    {
     "data": {
      "text/plain": [
       "[[1, 4, 9], [16, 25, 36]]"
      ]
     },
     "execution_count": 43,
     "metadata": {},
     "output_type": "execute_result"
    }
   ],
   "source": [
    "f(arr,2)"
   ]
  },
  {
   "cell_type": "code",
   "execution_count": 44,
   "id": "9e2c4850",
   "metadata": {},
   "outputs": [
    {
     "data": {
      "text/plain": [
       "[[1, 32, 243], [1024, 3125, 7776]]"
      ]
     },
     "execution_count": 44,
     "metadata": {},
     "output_type": "execute_result"
    }
   ],
   "source": [
    "arr=np.array([[1,2,3],[4,5,6]])\n",
    "[[pow_(i,5) for i in j]for j in arr]\n",
    "# [[[pow_(i,k) for i in j]for j in arr]for k in range(7)]"
   ]
  },
  {
   "cell_type": "code",
   "execution_count": 45,
   "id": "d7d0e3dc",
   "metadata": {},
   "outputs": [
    {
     "name": "stdout",
     "output_type": "stream",
     "text": [
      "1\n",
      "32\n",
      "243\n",
      "1024\n",
      "3125\n",
      "7776\n"
     ]
    }
   ],
   "source": [
    "for i in arr:\n",
    "    for j in i:\n",
    "        print(pow_(j,5))"
   ]
  },
  {
   "cell_type": "markdown",
   "id": "d1a11de6",
   "metadata": {},
   "source": [
    "## 색인과 슬라이싱 기초"
   ]
  },
  {
   "cell_type": "code",
   "execution_count": 46,
   "id": "100de6b3",
   "metadata": {},
   "outputs": [
    {
     "data": {
      "text/plain": [
       "array([0, 1, 2, 3, 4, 5, 6, 7, 8, 9])"
      ]
     },
     "execution_count": 46,
     "metadata": {},
     "output_type": "execute_result"
    }
   ],
   "source": [
    "arr = np.arange(10)\n",
    "arr"
   ]
  },
  {
   "cell_type": "code",
   "execution_count": 47,
   "id": "9f0ec409",
   "metadata": {},
   "outputs": [
    {
     "data": {
      "text/plain": [
       "5"
      ]
     },
     "execution_count": 47,
     "metadata": {},
     "output_type": "execute_result"
    }
   ],
   "source": [
    "arr[5]"
   ]
  },
  {
   "cell_type": "code",
   "execution_count": 48,
   "id": "9f63ec24",
   "metadata": {},
   "outputs": [
    {
     "name": "stdout",
     "output_type": "stream",
     "text": [
      "[5 6 7] [0 1] [4 5 6 7 8 9]\n"
     ]
    }
   ],
   "source": [
    "print(arr[5:8],arr[:2],arr[4:])"
   ]
  },
  {
   "cell_type": "code",
   "execution_count": 49,
   "id": "f57a7f3d",
   "metadata": {},
   "outputs": [
    {
     "name": "stdout",
     "output_type": "stream",
     "text": [
      "[7 8 9] [7 8]\n"
     ]
    }
   ],
   "source": [
    "print(arr[-3:],arr[-3:-1])"
   ]
  },
  {
   "cell_type": "code",
   "execution_count": 50,
   "id": "8eb42ef6",
   "metadata": {},
   "outputs": [
    {
     "data": {
      "text/plain": [
       "array([64, 64, 64, 64, 64, 64, 64, 64, 64, 64])"
      ]
     },
     "execution_count": 50,
     "metadata": {},
     "output_type": "execute_result"
    }
   ],
   "source": [
    "arr[:]=64 #전체를 64로\n",
    "arr"
   ]
  },
  {
   "cell_type": "code",
   "execution_count": 51,
   "id": "b8875d34",
   "metadata": {
    "scrolled": true
   },
   "outputs": [
    {
     "data": {
      "text/plain": [
       "array([7, 8, 9])"
      ]
     },
     "execution_count": 51,
     "metadata": {},
     "output_type": "execute_result"
    }
   ],
   "source": [
    "arr2d=np.array([[1,2,3],[4,5,6],[7,8,9]])\n",
    "arr2d[2]"
   ]
  },
  {
   "cell_type": "code",
   "execution_count": 52,
   "id": "4f23a0d9",
   "metadata": {},
   "outputs": [
    {
     "data": {
      "text/plain": [
       "array([[4, 5],\n",
       "       [7, 8]])"
      ]
     },
     "execution_count": 52,
     "metadata": {},
     "output_type": "execute_result"
    }
   ],
   "source": [
    "arr2d[1:,:2] #행,열"
   ]
  },
  {
   "cell_type": "code",
   "execution_count": 53,
   "id": "c9f6b3e1",
   "metadata": {},
   "outputs": [
    {
     "data": {
      "text/plain": [
       "array([[1, 2],\n",
       "       [4, 5]])"
      ]
     },
     "execution_count": 53,
     "metadata": {},
     "output_type": "execute_result"
    }
   ],
   "source": [
    "arr2d[:2,:2]"
   ]
  },
  {
   "cell_type": "code",
   "execution_count": 54,
   "id": "b56994ef",
   "metadata": {},
   "outputs": [
    {
     "data": {
      "text/plain": [
       "[[1, 2], [4, 5]]"
      ]
     },
     "execution_count": 54,
     "metadata": {},
     "output_type": "execute_result"
    }
   ],
   "source": [
    "arr2d_list=[[1,2,3],[4,5,6],[7,8,9]]\n",
    "[arr2d_list[:2][0][:2],arr2d_list[:2][1][:2]]\n"
   ]
  },
  {
   "cell_type": "code",
   "execution_count": 55,
   "id": "78e91689",
   "metadata": {},
   "outputs": [
    {
     "data": {
      "text/plain": [
       "(3, 1)"
      ]
     },
     "execution_count": 55,
     "metadata": {},
     "output_type": "execute_result"
    }
   ],
   "source": [
    "np.shape(arr2d[:,:1])"
   ]
  },
  {
   "cell_type": "code",
   "execution_count": 56,
   "id": "6454404e",
   "metadata": {},
   "outputs": [
    {
     "data": {
      "text/plain": [
       "(3, 1)"
      ]
     },
     "execution_count": 56,
     "metadata": {},
     "output_type": "execute_result"
    }
   ],
   "source": [
    "np.shape(arr2d[:,[0]])"
   ]
  },
  {
   "cell_type": "code",
   "execution_count": 57,
   "id": "838163dc",
   "metadata": {},
   "outputs": [
    {
     "data": {
      "text/plain": [
       "array([[[ 1,  2,  3],\n",
       "        [ 4,  5,  6]],\n",
       "\n",
       "       [[ 7,  8,  9],\n",
       "        [10, 11, 12]]])"
      ]
     },
     "execution_count": 57,
     "metadata": {},
     "output_type": "execute_result"
    }
   ],
   "source": [
    "arr3d=np.array([[[1,2,3],[4,5,6]],[[7,8,9],[10,11,12]]])\n",
    "arr3d"
   ]
  },
  {
   "cell_type": "code",
   "execution_count": 58,
   "id": "ab9a4e5e",
   "metadata": {},
   "outputs": [
    {
     "data": {
      "text/plain": [
       "array([[1, 2, 3],\n",
       "       [4, 5, 6]])"
      ]
     },
     "execution_count": 58,
     "metadata": {},
     "output_type": "execute_result"
    }
   ],
   "source": [
    "arr3d[0]"
   ]
  },
  {
   "cell_type": "code",
   "execution_count": 59,
   "id": "13f5d7fd",
   "metadata": {},
   "outputs": [
    {
     "data": {
      "text/plain": [
       "array([[[42, 42, 42],\n",
       "        [42, 42, 42]],\n",
       "\n",
       "       [[ 7,  8,  9],\n",
       "        [10, 11, 12]]])"
      ]
     },
     "execution_count": 59,
     "metadata": {},
     "output_type": "execute_result"
    }
   ],
   "source": [
    "old_values=arr3d[0].copy()\n",
    "arr3d[0]=42 #전체에 적용함\n",
    "arr3d"
   ]
  },
  {
   "cell_type": "code",
   "execution_count": 60,
   "id": "ccf62a1c",
   "metadata": {},
   "outputs": [
    {
     "data": {
      "text/plain": [
       "array([[[ 1,  2,  3],\n",
       "        [ 4,  5,  6]],\n",
       "\n",
       "       [[ 7,  8,  9],\n",
       "        [10, 11, 12]]])"
      ]
     },
     "execution_count": 60,
     "metadata": {},
     "output_type": "execute_result"
    }
   ],
   "source": [
    "arr3d[0]=old_values\n",
    "arr3d"
   ]
  },
  {
   "cell_type": "code",
   "execution_count": 61,
   "id": "45af8a35",
   "metadata": {},
   "outputs": [
    {
     "data": {
      "text/plain": [
       "9"
      ]
     },
     "execution_count": 61,
     "metadata": {},
     "output_type": "execute_result"
    }
   ],
   "source": [
    "arr3d[1,0,2]"
   ]
  },
  {
   "cell_type": "code",
   "execution_count": 62,
   "id": "34528818",
   "metadata": {},
   "outputs": [
    {
     "data": {
      "text/plain": [
       "array([[[  1,   2,   3,  11],\n",
       "        [  4,   5,   6,  17]],\n",
       "\n",
       "       [[  7,   8,   9,  23],\n",
       "        [ 10,  11,  12,  36]],\n",
       "\n",
       "       [[ 72,  82,  92, 232],\n",
       "        [102, 121, 122, 326]],\n",
       "\n",
       "       [[ 71,  18,  19, 123],\n",
       "        [101, 111, 121, 136]]])"
      ]
     },
     "execution_count": 62,
     "metadata": {},
     "output_type": "execute_result"
    }
   ],
   "source": [
    "arr3d=np.array([\n",
    "    [[1,2,3,11],[4,5,6,17]] ,\n",
    "    [[7,8,9,23],[ 10,11,12,36]],\n",
    "     [[72,82,92,232],[ 102,121,122,326]],\n",
    "     [[71,18,19,123],[ 101,111,121,136]]\n",
    "])\n",
    "arr3d"
   ]
  },
  {
   "cell_type": "code",
   "execution_count": 63,
   "id": "92d953d5",
   "metadata": {},
   "outputs": [
    {
     "data": {
      "text/plain": [
       "array([ 3,  9, 92, 19])"
      ]
     },
     "execution_count": 63,
     "metadata": {},
     "output_type": "execute_result"
    }
   ],
   "source": [
    "arr3d[:,0,2]"
   ]
  },
  {
   "cell_type": "markdown",
   "id": "a2edc54f",
   "metadata": {},
   "source": [
    "## 불리언값으로 선택하기"
   ]
  },
  {
   "cell_type": "code",
   "execution_count": 64,
   "id": "da05fb41",
   "metadata": {},
   "outputs": [],
   "source": [
    "names=np.array(['Bob','Joe','Will','Bob','Will','Joe','Joe'])\n",
    "data=np.random.randn(7,4)"
   ]
  },
  {
   "cell_type": "code",
   "execution_count": 65,
   "id": "1f9af68c",
   "metadata": {},
   "outputs": [
    {
     "data": {
      "text/plain": [
       "array([ True, False, False,  True, False, False, False])"
      ]
     },
     "execution_count": 65,
     "metadata": {},
     "output_type": "execute_result"
    }
   ],
   "source": [
    "names=='Bob'"
   ]
  },
  {
   "cell_type": "code",
   "execution_count": 66,
   "id": "095c3f5a",
   "metadata": {},
   "outputs": [
    {
     "data": {
      "text/plain": [
       "array(['Bob', 'Bob'], dtype='<U4')"
      ]
     },
     "execution_count": 66,
     "metadata": {},
     "output_type": "execute_result"
    }
   ],
   "source": [
    "names[names=='Bob'] #불리언 배열을 배열의 index로 사용가능"
   ]
  },
  {
   "cell_type": "code",
   "execution_count": 67,
   "id": "c29228f8",
   "metadata": {},
   "outputs": [
    {
     "data": {
      "text/plain": [
       "array(['Joe', 'Will', 'Will', 'Joe', 'Joe'], dtype='<U4')"
      ]
     },
     "execution_count": 67,
     "metadata": {},
     "output_type": "execute_result"
    }
   ],
   "source": [
    "names[(names=='Will')|(names=='Joe')]"
   ]
  },
  {
   "cell_type": "code",
   "execution_count": 68,
   "id": "fb7fe483",
   "metadata": {},
   "outputs": [
    {
     "data": {
      "text/plain": [
       "array([[ 0.94696315, -0.60392338, -0.02655027, -1.15876547],\n",
       "       [-2.47942288, -1.40380563,  0.14575584,  0.10849305]])"
      ]
     },
     "execution_count": 68,
     "metadata": {},
     "output_type": "execute_result"
    }
   ],
   "source": [
    "data[names=='Bob']"
   ]
  },
  {
   "cell_type": "code",
   "execution_count": 69,
   "id": "340b547c",
   "metadata": {},
   "outputs": [
    {
     "name": "stdout",
     "output_type": "stream",
     "text": [
      "[ 0.94696315 -0.60392338 -0.02655027 -1.15876547] [-2.47942288 -1.40380563  0.14575584  0.10849305]\n"
     ]
    }
   ],
   "source": [
    "print(data[0],data[3])"
   ]
  },
  {
   "cell_type": "code",
   "execution_count": 70,
   "id": "1ece5a61",
   "metadata": {},
   "outputs": [],
   "source": [
    "names=np.array([[['홍','길동','국제']]])\n",
    "data=np.array([[[11,12],[13,17]],[[4,3],[1,7]],[[5,4],[8,-1]]])"
   ]
  },
  {
   "cell_type": "code",
   "execution_count": 71,
   "id": "9edfdedf",
   "metadata": {},
   "outputs": [
    {
     "data": {
      "text/plain": [
       "(1, 1, 3)"
      ]
     },
     "execution_count": 71,
     "metadata": {},
     "output_type": "execute_result"
    }
   ],
   "source": [
    "np.shape(names)"
   ]
  },
  {
   "cell_type": "code",
   "execution_count": 72,
   "id": "cb36c47a",
   "metadata": {},
   "outputs": [
    {
     "data": {
      "text/plain": [
       "(3, 2, 2)"
      ]
     },
     "execution_count": 72,
     "metadata": {},
     "output_type": "execute_result"
    }
   ],
   "source": [
    "np.shape(data)"
   ]
  },
  {
   "cell_type": "code",
   "execution_count": 218,
   "id": "3f486fab",
   "metadata": {
    "scrolled": true
   },
   "outputs": [
    {
     "ename": "AttributeError",
     "evalue": "'numpy.ndarray' object has no attribute 'index'",
     "output_type": "error",
     "traceback": [
      "\u001b[1;31m---------------------------------------------------------------------------\u001b[0m",
      "\u001b[1;31mAttributeError\u001b[0m                            Traceback (most recent call last)",
      "Cell \u001b[1;32mIn[218], line 2\u001b[0m\n\u001b[0;32m      1\u001b[0m n\u001b[38;5;241m=\u001b[39mnames[\u001b[38;5;241m0\u001b[39m][\u001b[38;5;241m0\u001b[39m]\n\u001b[1;32m----> 2\u001b[0m \u001b[43mn\u001b[49m\u001b[38;5;241;43m.\u001b[39;49m\u001b[43mindex\u001b[49m(\u001b[38;5;124m'\u001b[39m\u001b[38;5;124m홍\u001b[39m\u001b[38;5;124m'\u001b[39m)\n",
      "\u001b[1;31mAttributeError\u001b[0m: 'numpy.ndarray' object has no attribute 'index'"
     ]
    }
   ],
   "source": []
  },
  {
   "cell_type": "code",
   "execution_count": 171,
   "id": "31e9bdb5",
   "metadata": {},
   "outputs": [
    {
     "data": {
      "text/plain": [
       "4"
      ]
     },
     "execution_count": 171,
     "metadata": {},
     "output_type": "execute_result"
    }
   ],
   "source": [
    "data[n.index('길동')][n.index('홍')][n.index('홍')]"
   ]
  },
  {
   "cell_type": "code",
   "execution_count": 73,
   "id": "5ca56e1c",
   "metadata": {},
   "outputs": [
    {
     "data": {
      "text/plain": [
       "4"
      ]
     },
     "execution_count": 73,
     "metadata": {},
     "output_type": "execute_result"
    }
   ],
   "source": [
    "data[names[0][0]=='길동'][0,0][0]"
   ]
  },
  {
   "cell_type": "code",
   "execution_count": 74,
   "id": "9661d16f",
   "metadata": {},
   "outputs": [
    {
     "data": {
      "text/plain": [
       "array([4])"
      ]
     },
     "execution_count": 74,
     "metadata": {},
     "output_type": "execute_result"
    }
   ],
   "source": [
    "data[names[0][0]=='길동',0,0]"
   ]
  },
  {
   "cell_type": "code",
   "execution_count": 75,
   "id": "c9bcfac3",
   "metadata": {},
   "outputs": [],
   "source": [
    "names=np.array(['Bob','Joe','Will','Bob','Will','Joe','Joe'])\n",
    "data=np.random.randn(7,4)"
   ]
  },
  {
   "cell_type": "code",
   "execution_count": 76,
   "id": "81a1b6d0",
   "metadata": {},
   "outputs": [
    {
     "data": {
      "text/plain": [
       "array([[0.        , 0.41358794, 0.        , 0.28374772],\n",
       "       [0.3726582 , 0.        , 0.        , 1.08520749],\n",
       "       [0.        , 0.17881802, 0.32254757, 0.        ],\n",
       "       [0.        , 0.        , 0.        , 0.05983976],\n",
       "       [0.83263818, 0.36151592, 0.60036342, 0.        ],\n",
       "       [0.        , 0.46899908, 0.91950364, 0.        ],\n",
       "       [0.45658634, 0.        , 0.        , 2.96819581]])"
      ]
     },
     "execution_count": 76,
     "metadata": {},
     "output_type": "execute_result"
    }
   ],
   "source": [
    "data[data<0]=0\n",
    "data"
   ]
  },
  {
   "cell_type": "code",
   "execution_count": 77,
   "id": "a6c051f4",
   "metadata": {},
   "outputs": [
    {
     "data": {
      "text/plain": [
       "array([[ 0,  1,  2,  3,  4],\n",
       "       [ 5,  6,  7,  8,  9],\n",
       "       [10, 11, 12, 13, 14]])"
      ]
     },
     "execution_count": 77,
     "metadata": {},
     "output_type": "execute_result"
    }
   ],
   "source": [
    "arr=np.arange(15).reshape((3,5))\n",
    "arr"
   ]
  },
  {
   "cell_type": "code",
   "execution_count": 78,
   "id": "9177e5ed",
   "metadata": {},
   "outputs": [
    {
     "data": {
      "text/plain": [
       "array([[ 0,  5, 10],\n",
       "       [ 1,  6, 11],\n",
       "       [ 2,  7, 12],\n",
       "       [ 3,  8, 13],\n",
       "       [ 4,  9, 14]])"
      ]
     },
     "execution_count": 78,
     "metadata": {},
     "output_type": "execute_result"
    }
   ],
   "source": [
    "arr.T"
   ]
  },
  {
   "cell_type": "code",
   "execution_count": 79,
   "id": "38a64488",
   "metadata": {},
   "outputs": [
    {
     "data": {
      "text/plain": [
       "array([[[ 0,  1,  2,  3],\n",
       "        [ 4,  5,  6,  7],\n",
       "        [ 8,  9, 10, 11],\n",
       "        [12, 13, 14, 15],\n",
       "        [16, 17, 18, 19],\n",
       "        [20, 21, 22, 23]],\n",
       "\n",
       "       [[24, 25, 26, 27],\n",
       "        [28, 29, 30, 31],\n",
       "        [32, 33, 34, 35],\n",
       "        [36, 37, 38, 39],\n",
       "        [40, 41, 42, 43],\n",
       "        [44, 45, 46, 47]],\n",
       "\n",
       "       [[48, 49, 50, 51],\n",
       "        [52, 53, 54, 55],\n",
       "        [56, 57, 58, 59],\n",
       "        [60, 61, 62, 63],\n",
       "        [64, 65, 66, 67],\n",
       "        [68, 69, 70, 71]]])"
      ]
     },
     "execution_count": 79,
     "metadata": {},
     "output_type": "execute_result"
    }
   ],
   "source": [
    "arr1=np.arange(72).reshape((3,6,4))\n",
    "arr1"
   ]
  },
  {
   "cell_type": "code",
   "execution_count": 80,
   "id": "30c38699",
   "metadata": {},
   "outputs": [
    {
     "data": {
      "text/plain": [
       "array([[ 0,  4,  8, 12, 16, 20],\n",
       "       [ 1,  5,  9, 13, 17, 21],\n",
       "       [ 2,  6, 10, 14, 18, 22],\n",
       "       [ 3,  7, 11, 15, 19, 23]])"
      ]
     },
     "execution_count": 80,
     "metadata": {},
     "output_type": "execute_result"
    }
   ],
   "source": [
    "a=arr1[0]\n",
    "a.T"
   ]
  },
  {
   "cell_type": "code",
   "execution_count": 81,
   "id": "0091df7a",
   "metadata": {
    "scrolled": true
   },
   "outputs": [
    {
     "data": {
      "text/plain": [
       "array([[  14,   38,   62,   86,  110,  134],\n",
       "       [  38,  126,  214,  302,  390,  478],\n",
       "       [  62,  214,  366,  518,  670,  822],\n",
       "       [  86,  302,  518,  734,  950, 1166],\n",
       "       [ 110,  390,  670,  950, 1230, 1510],\n",
       "       [ 134,  478,  822, 1166, 1510, 1854]])"
      ]
     },
     "execution_count": 81,
     "metadata": {},
     "output_type": "execute_result"
    }
   ],
   "source": [
    "np.dot(a,a.T)"
   ]
  },
  {
   "cell_type": "code",
   "execution_count": 82,
   "id": "248ff067",
   "metadata": {},
   "outputs": [],
   "source": [
    "arr_a=np.arange(3*6*4).reshape((3,6,4))[:,:,2]\n",
    "arr_symetry_matrix=np.dot(arr_a,arr_a.T)"
   ]
  },
  {
   "cell_type": "code",
   "execution_count": 83,
   "id": "fd2f3427",
   "metadata": {},
   "outputs": [
    {
     "data": {
      "text/plain": [
       "array([[ 2,  6, 10, 14, 18, 22],\n",
       "       [26, 30, 34, 38, 42, 46],\n",
       "       [50, 54, 58, 62, 66, 70]])"
      ]
     },
     "execution_count": 83,
     "metadata": {},
     "output_type": "execute_result"
    }
   ],
   "source": [
    "arr_a"
   ]
  },
  {
   "cell_type": "code",
   "execution_count": 84,
   "id": "7a7efd0a",
   "metadata": {},
   "outputs": [
    {
     "data": {
      "text/plain": [
       "array([[ 4.09534695e+12, -8.19069391e+12,  4.09534695e+12],\n",
       "       [-8.19069391e+12,  1.63813878e+13, -8.19069391e+12],\n",
       "       [ 4.09534695e+12, -8.19069391e+12,  4.09534695e+12]])"
      ]
     },
     "execution_count": 84,
     "metadata": {},
     "output_type": "execute_result"
    }
   ],
   "source": [
    "arr_symmetry_matrix_inv=np.linalg.inv(arr_symmetry_matrix)\n",
    "arr_symmetry_matrix_inv"
   ]
  },
  {
   "cell_type": "code",
   "execution_count": 85,
   "id": "aa053f67",
   "metadata": {},
   "outputs": [
    {
     "data": {
      "text/plain": [
       "[[0, 0, 2.203125], [0, 0, 2.828125], [0, 6.5625, 7.453125]]"
      ]
     },
     "execution_count": 85,
     "metadata": {},
     "output_type": "execute_result"
    }
   ],
   "source": [
    "mul_=np.dot(arr_symmetry_matrix,arr_symmetry_matrix_inv)\n",
    "[[0 if i<0.0000001 else i for i in j]for j in mul_]"
   ]
  },
  {
   "cell_type": "code",
   "execution_count": 86,
   "id": "d708d2da",
   "metadata": {},
   "outputs": [
    {
     "data": {
      "text/plain": [
       "array([[ 1144,  2872,  4600],\n",
       "       [ 2872,  8056, 13240],\n",
       "       [ 4600, 13240, 21880]])"
      ]
     },
     "execution_count": 86,
     "metadata": {},
     "output_type": "execute_result"
    }
   ],
   "source": [
    "arr_symmetry_matrix.T"
   ]
  },
  {
   "cell_type": "code",
   "execution_count": 87,
   "id": "d53955e4",
   "metadata": {},
   "outputs": [],
   "source": [
    "from sympy import *"
   ]
  },
  {
   "cell_type": "code",
   "execution_count": 88,
   "id": "3738bc10",
   "metadata": {},
   "outputs": [
    {
     "data": {
      "text/plain": [
       "array([[-5.54230277e+03, -1.57563388e+04, -2.59703748e+04],\n",
       "       [ 0.00000000e+00, -4.27678229e+02, -8.55356458e+02],\n",
       "       [ 0.00000000e+00,  0.00000000e+00, -1.90233853e-13]])"
      ]
     },
     "execution_count": 88,
     "metadata": {},
     "output_type": "execute_result"
    }
   ],
   "source": [
    "Q,R = np.linalg.qr(arr_symetry_matrix) #QR 분해(Q(직교행렬),R(상 삼각행렬))\n",
    "R #우상단에만 값이 있다."
   ]
  },
  {
   "cell_type": "code",
   "execution_count": 89,
   "id": "4473cc74",
   "metadata": {},
   "outputs": [
    {
     "data": {
      "text/plain": [
       "array([[-0.2064124 ,  0.88922846,  0.40824829],\n",
       "       [-0.51819616,  0.25457037, -0.81649658],\n",
       "       [-0.82997992, -0.38008771,  0.40824829]])"
      ]
     },
     "execution_count": 89,
     "metadata": {},
     "output_type": "execute_result"
    }
   ],
   "source": [
    "Q"
   ]
  },
  {
   "cell_type": "code",
   "execution_count": 90,
   "id": "06814d17",
   "metadata": {},
   "outputs": [
    {
     "data": {
      "text/plain": [
       "-1.6653345369377348e-16"
      ]
     },
     "execution_count": 90,
     "metadata": {},
     "output_type": "execute_result"
    }
   ],
   "source": [
    "np.dot(Q[0],Q[1]) #0이다 벡터 곱이 0이면 수직이다. cos90 = 0"
   ]
  },
  {
   "cell_type": "code",
   "execution_count": 91,
   "id": "ab7c9262",
   "metadata": {},
   "outputs": [
    {
     "data": {
      "text/plain": [
       "0.0"
      ]
     },
     "execution_count": 91,
     "metadata": {},
     "output_type": "execute_result"
    }
   ],
   "source": [
    "np.dot(Q[2],Q[1]) #0이다"
   ]
  },
  {
   "cell_type": "code",
   "execution_count": 92,
   "id": "58ac9ced",
   "metadata": {},
   "outputs": [
    {
     "data": {
      "text/plain": [
       "0.0"
      ]
     },
     "execution_count": 92,
     "metadata": {},
     "output_type": "execute_result"
    }
   ],
   "source": [
    "np.dot(Q[2].T,Q[1].T) #0이다"
   ]
  },
  {
   "cell_type": "code",
   "execution_count": 93,
   "id": "7be214a6",
   "metadata": {},
   "outputs": [
    {
     "data": {
      "text/plain": [
       "-1.1102230246251565e-16"
      ]
     },
     "execution_count": 93,
     "metadata": {},
     "output_type": "execute_result"
    }
   ],
   "source": [
    "np.dot(Q[2],Q[0]) #0이다"
   ]
  },
  {
   "cell_type": "code",
   "execution_count": 94,
   "id": "966e2fa2",
   "metadata": {},
   "outputs": [
    {
     "data": {
      "text/plain": [
       "-1.6653345369377348e-16"
      ]
     },
     "execution_count": 94,
     "metadata": {},
     "output_type": "execute_result"
    }
   ],
   "source": [
    "np.dot(Q[0].T,Q[1]) #0이다"
   ]
  },
  {
   "cell_type": "code",
   "execution_count": 95,
   "id": "e2b821be",
   "metadata": {
    "scrolled": true
   },
   "outputs": [
    {
     "name": "stdout",
     "output_type": "stream",
     "text": [
      "참\n"
     ]
    }
   ],
   "source": [
    "if np.dot(Q[0],Q[1])<0.000001:\n",
    "    print('참')"
   ]
  },
  {
   "cell_type": "code",
   "execution_count": 96,
   "id": "6b1ebe2c",
   "metadata": {},
   "outputs": [],
   "source": [
    "kwon=np.random.randn(4,4)"
   ]
  },
  {
   "cell_type": "code",
   "execution_count": 97,
   "id": "310c92bd",
   "metadata": {},
   "outputs": [
    {
     "data": {
      "text/plain": [
       "array([[-0.01531407,  0.38742815, -0.0808616 ,  0.9182191 ],\n",
       "       [-0.76869761, -0.39536561, -0.49041939,  0.11080992],\n",
       "       [ 0.20627863,  0.50299063, -0.79175736, -0.27851363],\n",
       "       [ 0.60524259, -0.66376644, -0.3550641 ,  0.25889189]])"
      ]
     },
     "execution_count": 97,
     "metadata": {},
     "output_type": "execute_result"
    }
   ],
   "source": [
    "Q,R=np.linalg.qr(kwon)\n",
    "Q"
   ]
  },
  {
   "cell_type": "code",
   "execution_count": 103,
   "id": "1133e1b6",
   "metadata": {},
   "outputs": [
    {
     "data": {
      "text/plain": [
       "True"
      ]
     },
     "execution_count": 103,
     "metadata": {},
     "output_type": "execute_result"
    }
   ],
   "source": [
    "np.dot(Q[0],Q[1])<0.0000001"
   ]
  },
  {
   "cell_type": "code",
   "execution_count": 106,
   "id": "792cc133",
   "metadata": {},
   "outputs": [
    {
     "data": {
      "text/plain": [
       "array([-5.  , -4.99])"
      ]
     },
     "execution_count": 106,
     "metadata": {},
     "output_type": "execute_result"
    }
   ],
   "source": [
    "points=np.arange(-5,5,0.01)\n",
    "points[:2]"
   ]
  },
  {
   "cell_type": "code",
   "execution_count": 109,
   "id": "09817424",
   "metadata": {},
   "outputs": [
    {
     "data": {
      "text/plain": [
       "array([[-5.  , -4.99, -4.98, ...,  4.97,  4.98,  4.99],\n",
       "       [-5.  , -4.99, -4.98, ...,  4.97,  4.98,  4.99],\n",
       "       [-5.  , -4.99, -4.98, ...,  4.97,  4.98,  4.99]])"
      ]
     },
     "execution_count": 109,
     "metadata": {},
     "output_type": "execute_result"
    }
   ],
   "source": [
    "xs,ys=np.meshgrid(points,points)\n",
    "xs[:3]"
   ]
  },
  {
   "cell_type": "code",
   "execution_count": 110,
   "id": "17b69272",
   "metadata": {},
   "outputs": [
    {
     "data": {
      "text/plain": [
       "array([[7.07106781, 7.06400028, 7.05693985, ..., 7.04988652, 7.05693985,\n",
       "        7.06400028],\n",
       "       [7.06400028, 7.05692568, 7.04985815, ..., 7.04279774, 7.04985815,\n",
       "        7.05692568],\n",
       "       [7.05693985, 7.04985815, 7.04278354, ..., 7.03571603, 7.04278354,\n",
       "        7.04985815]])"
      ]
     },
     "execution_count": 110,
     "metadata": {},
     "output_type": "execute_result"
    }
   ],
   "source": [
    "z=np.sqrt(xs**2+ys**2)\n",
    "z[:3]"
   ]
  },
  {
   "cell_type": "code",
   "execution_count": 111,
   "id": "43563728",
   "metadata": {},
   "outputs": [],
   "source": [
    "import matplotlib.pyplot as plt"
   ]
  },
  {
   "cell_type": "code",
   "execution_count": 115,
   "id": "85350a19",
   "metadata": {
    "scrolled": true
   },
   "outputs": [
    {
     "data": {
      "image/png": "[encoded data removed]",
      "text/plain": [
       "<Figure size 640x480 with 2 Axes>"
      ]
     },
     "metadata": {},
     "output_type": "display_data"
    }
   ],
   "source": [
    "plt.imshow(z,cmap=plt.cm.summer)\n",
    "plt.colorbar()\n",
    "plt.title(\"image $\\\\sqrt{x^2+y^2}$ for a grid of values\")\n",
    "plt.show()"
   ]
  }
 ],
 "metadata": {
  "kernelspec": {
   "display_name": "Python 3 (ipykernel)",
   "language": "python",
   "name": "python3"
  },
  "language_info": {
   "codemirror_mode": {
    "name": "ipython",
    "version": 3
   },
   "file_extension": ".py",
   "mimetype": "text/x-python",
   "name": "python",
   "nbconvert_exporter": "python",
   "pygments_lexer": "ipython3",
   "version": "3.10.9"
  }
 },
 "nbformat": 4,
 "nbformat_minor": 5
}
