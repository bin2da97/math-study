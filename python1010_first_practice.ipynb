{
 "cells": [
  {
   "cell_type": "code",
   "execution_count": 1,
   "id": "a342f607",
   "metadata": {},
   "outputs": [],
   "source": [
    "import numpy as np"
   ]
  },
  {
   "cell_type": "code",
   "execution_count": 16,
   "id": "71aef3f4",
   "metadata": {
    "scrolled": true
   },
   "outputs": [
    {
     "data": {
      "text/plain": [
       "(6, 1)"
      ]
     },
     "execution_count": 16,
     "metadata": {},
     "output_type": "execute_result"
    }
   ],
   "source": [
    "#W1 = 1, W2=1, B=1 \n",
    "x_train=np.array([[1,1],\n",
    " [2,2],\n",
    " [3,3],\n",
    " [4,4],\n",
    " [5,5],\n",
    " [6,6],\n",
    "])\n",
    "\n",
    "y_train = np.array([\n",
    "    [4],\n",
    "    [6],\n",
    "    [8],\n",
    "    [10],\n",
    "    [12],\n",
    "    [14]\n",
    "])\n",
    "y_train.shape"
   ]
  },
  {
   "cell_type": "code",
   "execution_count": 3,
   "id": "ffa2f779",
   "metadata": {
    "scrolled": true
   },
   "outputs": [
    {
     "data": {
      "text/plain": [
       "(6,)"
      ]
     },
     "execution_count": 3,
     "metadata": {},
     "output_type": "execute_result"
    }
   ],
   "source": [
    "y_train.ravel().shape"
   ]
  },
  {
   "cell_type": "markdown",
   "id": "1294045a",
   "metadata": {},
   "source": [
    "feature가 하나 일때는 고차원 생각 하지 않아도됨 feature 여러개 traning data(6쌍) 이므로 행렬의 사고를 가져야 함"
   ]
  },
  {
   "cell_type": "markdown",
   "id": "058a7b8f",
   "metadata": {},
   "source": [
    "<table>\n",
    "    <tr>\n",
    "        <th>feature1</th>\n",
    "        <th>feature2</th>\n",
    "        <th>label</th>\n",
    "    </tr>\n",
    "    <tr>\n",
    "        <td>2</td>\n",
    "        <td>3</td>\n",
    "        <td>4</td>\n",
    "    </tr>\n",
    "    <tr>\n",
    "        <td>3</td>\n",
    "        <td>2</td>\n",
    "        <td>-11</td>\n",
    "    </tr>\n",
    "    <tr>\n",
    "        <td>1</td>\n",
    "        <td>2</td>\n",
    "        <td>3</td>\n",
    "    </tr>\n",
    "    <tr>\n",
    "        <td>-1</td>\n",
    "        <td>-2</td>\n",
    "        <td>-11</td>\n",
    "    </tr>\n",
    "    <tr>\n",
    "        <td>2</td>\n",
    "        <td>3</td>\n",
    "        <td>-5</td>\n",
    "    </tr>\n",
    "    <tr>\n",
    "        <td>3</td>\n",
    "        <td>4</td>\n",
    "        <td>-17</td>\n",
    "    </tr>\n",
    "</table>"
   ]
  },
  {
   "cell_type": "code",
   "execution_count": 19,
   "id": "bde64b96",
   "metadata": {
    "scrolled": false
   },
   "outputs": [
    {
     "name": "stdout",
     "output_type": "stream",
     "text": [
      "y_hat (6,) y_train: (6, 1)\n",
      "w_1: 2.65 w_2: 1.65 b_: -1.075 c: 82.5 오차확인: False\n",
      "================================\n",
      "y_hat (6,) y_train: (6, 1)\n",
      "w_1: 1.5000000027276033 w_2: 0.5000000027275926 b_: 1.9999999765067755 c: 1.0655666362070455e-16 오차확인: True\n",
      "================================\n",
      "y_hat (6,) y_train: (6, 1)\n",
      "w_1: 1.5000000000000457 w_2: 0.4999999999999684 b_: 1.9999999999999396 c: 6.938031661418799e-28 오차확인: True\n",
      "================================\n",
      "y_hat (6,) y_train: (6, 1)\n",
      "w_1: 1.5000000000000457 w_2: 0.4999999999999684 b_: 1.9999999999999396 c: 6.938031661418799e-28 오차확인: True\n",
      "================================\n",
      "y_hat (6,) y_train: (6, 1)\n",
      "w_1: 1.5000000000000457 w_2: 0.4999999999999684 b_: 1.9999999999999396 c: 6.938031661418799e-28 오차확인: True\n",
      "================================\n",
      "y_hat (6,) y_train: (6, 1)\n",
      "w_1: 1.5000000000000457 w_2: 0.4999999999999684 b_: 1.9999999999999396 c: 6.938031661418799e-28 오차확인: True\n",
      "================================\n",
      "y_hat (6,) y_train: (6, 1)\n",
      "w_1: 1.5000000000000457 w_2: 0.4999999999999684 b_: 1.9999999999999396 c: 6.938031661418799e-28 오차확인: True\n",
      "================================\n",
      "y_hat (6,) y_train: (6, 1)\n",
      "w_1: 1.5000000000000457 w_2: 0.4999999999999684 b_: 1.9999999999999396 c: 6.938031661418799e-28 오차확인: True\n",
      "================================\n",
      "y_hat (6,) y_train: (6, 1)\n",
      "w_1: 1.5000000000000457 w_2: 0.4999999999999684 b_: 1.9999999999999396 c: 6.938031661418799e-28 오차확인: True\n",
      "================================\n",
      "y_hat (6,) y_train: (6, 1)\n",
      "w_1: 1.5000000000000457 w_2: 0.4999999999999684 b_: 1.9999999999999396 c: 6.938031661418799e-28 오차확인: True\n",
      "================================\n"
     ]
    }
   ],
   "source": [
    "w_1 = 3\n",
    "w_2 = 2\n",
    "b_ = -1\n",
    "#초기값 weight(w1,w2,bias(b)의 초기값),learning rate -> hyper parameter\n",
    "alpha = 0.01 #학습률 learning rate, 크면 빠르게 수렴 global minimum에 도달하지 않을수도 있음\n",
    "\n",
    "for i in range(100000):\n",
    "    y_hat = w_1*x_train.T[0]+w_2*x_train.T[1]+b_\n",
    "    if i % 10000 == 0:\n",
    "        print('y_hat',y_hat.shape,'y_train:',y_train.shape)#  shape 이 일치하지 않음(1차원 벡터, 2차원 행렬)\n",
    "    n = len(x_train)\n",
    "    \n",
    "    #  미분\n",
    "    dJ_dw1 = -1/n * sum(x_train.T[0] * (y_train.ravel() - y_hat))#y_train.ravel() =>2차원을 1차원으로 변환\n",
    "    dJ_dw2 = -1/n * sum(x_train.T[1] * (y_train.ravel() - y_hat))\n",
    "    D_b = -1/n * sum(y_train.ravel() - y_hat)\n",
    "    \n",
    "    # 파라미터 갱신\n",
    "    w_1 = w_1 - alpha * dJ_dw1\n",
    "    w_2 = w_2 - alpha * dJ_dw2\n",
    "    b_ = b_ - alpha * D_b\n",
    "    \n",
    "    # 비용 함수 계산 수정\n",
    "    c_ = (1/n) * sum((y_train.ravel() - y_hat)**2)\n",
    "    \n",
    "    if i % 10000 == 0:\n",
    "        print('w_1:',w_1, 'w_2:',w_2, 'b_:',b_,'c:',c_,'오차확인:',abs(c_-0)<0.00001)\n",
    "        print(\"================================\")\n",
    "\n",
    "        "
   ]
  },
  {
   "cell_type": "code",
   "execution_count": 25,
   "id": "09f2caa4",
   "metadata": {
    "scrolled": true
   },
   "outputs": [
    {
     "name": "stdout",
     "output_type": "stream",
     "text": [
      "3.999999999999954 [4]\n",
      "5.999999999999968 [6]\n",
      "7.999999999999981 [8]\n",
      "9.999999999999996 [10]\n",
      "12.00000000000001 [12]\n",
      "14.000000000000023 [14]\n"
     ]
    }
   ],
   "source": [
    "for i,j in zip(x_train ,y_train):\n",
    "    print(i[0]* 1.5000000000000457 +i[1]* 0.4999999999999684 + 1.9999999999999396,j)"
   ]
  },
  {
   "cell_type": "code",
   "execution_count": 5,
   "id": "61883703",
   "metadata": {
    "scrolled": true
   },
   "outputs": [
    {
     "data": {
      "text/plain": [
       "[5.499999993088121,\n",
       " 6.499999993088112,\n",
       " 3.4999999892621676,\n",
       " -1.5000000222157053,\n",
       " 5.499999993088121,\n",
       " 7.499999996914076]"
      ]
     },
     "execution_count": 5,
     "metadata": {},
     "output_type": "execute_result"
    }
   ],
   "source": [
    "# 검증 \n",
    "[(i[0]* 1.500000001912972 +i[1]* 0.5000000019129821 + 0.9999999835232312) for i,j in zip(x_train ,y_train)]"
   ]
  },
  {
   "cell_type": "markdown",
   "id": "a62f7dff",
   "metadata": {},
   "source": [
    "<img>"
   ]
  }
 ],
 "metadata": {
  "kernelspec": {
   "display_name": "Python 3 (ipykernel)",
   "language": "python",
   "name": "python3"
  },
  "language_info": {
   "codemirror_mode": {
    "name": "ipython",
    "version": 3
   },
   "file_extension": ".py",
   "mimetype": "text/x-python",
   "name": "python",
   "nbconvert_exporter": "python",
   "pygments_lexer": "ipython3",
   "version": "3.10.9"
  }
 },
 "nbformat": 4,
 "nbformat_minor": 5
}
